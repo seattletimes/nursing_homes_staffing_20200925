{
 "cells": [
  {
   "cell_type": "markdown",
   "metadata": {},
   "source": [
    "# What this script does"
   ]
  },
  {
   "cell_type": "markdown",
   "metadata": {},
   "source": []
  },
  {
   "cell_type": "markdown",
   "metadata": {},
   "source": [
    "# I. SETTINGS"
   ]
  },
  {
   "cell_type": "code",
   "execution_count": 1,
   "metadata": {},
   "outputs": [],
   "source": [
    "import pandas as pd\n",
    "pd.set_option('display.max_colwidth', None)\n",
    "pd.set_option('display.max_columns', None)"
   ]
  },
  {
   "cell_type": "markdown",
   "metadata": {},
   "source": [
    "# II. DATA"
   ]
  },
  {
   "cell_type": "markdown",
   "metadata": {},
   "source": [
    "### Import"
   ]
  },
  {
   "cell_type": "code",
   "execution_count": 48,
   "metadata": {},
   "outputs": [],
   "source": [
    "# Deficiencies (from CMS database)\n",
    "# Penalties (scraped from the enforcement letter PDFs)\n",
    "df_cmp = pd.read_csv('../C_output_data/scraped_data_v2.csv', \n",
    "                              parse_dates=['letter_dt', 'survey_dt'])\n",
    "\n",
    "df_stop_ltrs = pd.read_csv('/Users/mvilla/Downloads/stop_placements2.csv')\n",
    "\n",
    "df_stop_ltrs = df_stop_ltrs.set_index('pdf_name')"
   ]
  },
  {
   "cell_type": "code",
   "execution_count": 49,
   "metadata": {},
   "outputs": [
    {
     "name": "stdout",
     "output_type": "stream",
     "text": [
      "59\n",
      "39\n"
     ]
    }
   ],
   "source": [
    "temp = df_cmp[['pdf_name','letter_dt']].drop_duplicates()\n",
    "temp = temp.set_index('pdf_name')\n",
    "\n",
    "\n",
    "df_stop_ltrs = df_stop_ltrs.join(temp, how='left')\n",
    "df_stop_ltrs = df_stop_ltrs.reset_index()\n",
    "print(len(df_stop_ltrs))\n",
    "\n",
    "df_stop_ltrs = df_stop_ltrs[df_stop_ltrs['letter_dt'] >= '2018-01-01'].reset_index(drop=True)\n",
    "print(len(df_stop_ltrs))"
   ]
  },
  {
   "cell_type": "code",
   "execution_count": 50,
   "metadata": {},
   "outputs": [
    {
     "data": {
      "text/html": [
       "<div>\n",
       "<style scoped>\n",
       "    .dataframe tbody tr th:only-of-type {\n",
       "        vertical-align: middle;\n",
       "    }\n",
       "\n",
       "    .dataframe tbody tr th {\n",
       "        vertical-align: top;\n",
       "    }\n",
       "\n",
       "    .dataframe thead th {\n",
       "        text-align: right;\n",
       "    }\n",
       "</style>\n",
       "<table border=\"1\" class=\"dataframe\">\n",
       "  <thead>\n",
       "    <tr style=\"text-align: right;\">\n",
       "      <th></th>\n",
       "      <th>pdf_name</th>\n",
       "      <th>folder</th>\n",
       "      <th>reviewer</th>\n",
       "      <th>letter_dt</th>\n",
       "    </tr>\n",
       "  </thead>\n",
       "  <tbody>\n",
       "    <tr>\n",
       "      <th>0</th>\n",
       "      <td>Alaska Gardens (K, HX Prior Fg, Prior G, Prior D, SUB, SP, CMP, CF) 1 17 19.pdf</td>\n",
       "      <td>NH_enforcement_letters_2020-03/</td>\n",
       "      <td>Manuel/</td>\n",
       "      <td>2019-02-01</td>\n",
       "    </tr>\n",
       "    <tr>\n",
       "      <th>1</th>\n",
       "      <td>Alderwood Park (Failed Post, CI, IJ R, SUB, Cont SP, Cond, CF, CMP) 1 4 18.pdf</td>\n",
       "      <td>NH_enforcement_letters_2020-03/</td>\n",
       "      <td>Manuel/</td>\n",
       "      <td>2018-03-22</td>\n",
       "    </tr>\n",
       "    <tr>\n",
       "      <th>2</th>\n",
       "      <td>Alderwood Park Health and Rehabilitation (G, CMP, Cont SP) 1 4 18.pdf</td>\n",
       "      <td>NH_enforcement_letters_2020-03/</td>\n",
       "      <td>Manuel/</td>\n",
       "      <td>2018-01-19</td>\n",
       "    </tr>\n",
       "    <tr>\n",
       "      <th>3</th>\n",
       "      <td>Alderwood Park Health and Rehabilitation (Hx, G, prior G, CMP, Cont SP) 1 25 18.pdf</td>\n",
       "      <td>NH_enforcement_letters_2020-03/</td>\n",
       "      <td>Manuel/</td>\n",
       "      <td>2018-02-07</td>\n",
       "    </tr>\n",
       "    <tr>\n",
       "      <th>4</th>\n",
       "      <td>Avamere Bellingham (Ij, R, Sp, Sub, CMP, CF) 2 10 20.pdf</td>\n",
       "      <td>NH_enforcement_letters_2020-03/</td>\n",
       "      <td>Manuel/</td>\n",
       "      <td>2020-02-25</td>\n",
       "    </tr>\n",
       "    <tr>\n",
       "      <th>5</th>\n",
       "      <td>Canterbury House (IJ, NOT, SP) 4 6 18.pdf</td>\n",
       "      <td>NH_enforcement_letters_2020-06-09/</td>\n",
       "      <td>Manuel/</td>\n",
       "      <td>2018-04-09</td>\n",
       "    </tr>\n",
       "    <tr>\n",
       "      <th>6</th>\n",
       "      <td>Canterbury House (IJ, R, SUB, SP, CF) 4 16 18.pdf</td>\n",
       "      <td>NH_enforcement_letters_2020-06-09/</td>\n",
       "      <td>Manuel/</td>\n",
       "      <td>2018-04-30</td>\n",
       "    </tr>\n",
       "    <tr>\n",
       "      <th>7</th>\n",
       "      <td>Careage of Whidbey (FP G, Lift SP Hx Sub H, Sub J, G, SP) 4 17 19.pdf</td>\n",
       "      <td>NH_enforcement_letters_2020-03/</td>\n",
       "      <td>Manuel/</td>\n",
       "      <td>2019-05-01</td>\n",
       "    </tr>\n",
       "    <tr>\n",
       "      <th>8</th>\n",
       "      <td>Careage of Whidbey (Sub H, Sub J, G, CMP, CF, SP) 2 14 19.pdf</td>\n",
       "      <td>NH_enforcement_letters_2020-03/</td>\n",
       "      <td>Manuel/</td>\n",
       "      <td>2019-03-01</td>\n",
       "    </tr>\n",
       "    <tr>\n",
       "      <th>9</th>\n",
       "      <td>Enumclaw Health and Rehab (Ij, R, FP, SP, CMP, CF, Cond) 4 3 20.pdf</td>\n",
       "      <td>NH_enforcement_letters_2020-06-09/</td>\n",
       "      <td>Manuel/</td>\n",
       "      <td>2020-04-08</td>\n",
       "    </tr>\n",
       "    <tr>\n",
       "      <th>10</th>\n",
       "      <td>Franklin Hills (5 OOC, J, SUB, SP, CF, G prior E, prior G, prior GG, CF, CMP) 4 12 18.pdf</td>\n",
       "      <td>NH_enforcement_letters_2020-03/</td>\n",
       "      <td>Manuel/</td>\n",
       "      <td>2019-04-19</td>\n",
       "    </tr>\n",
       "    <tr>\n",
       "      <th>11</th>\n",
       "      <td>Franklin Hills (Covid L, CMP, Cont cond, cont SP, hx prior F, CF) 8 7 20.pdf</td>\n",
       "      <td>NH_enforcement_letters_2020-09-08/</td>\n",
       "      <td>Manuel/</td>\n",
       "      <td>2020-08-20</td>\n",
       "    </tr>\n",
       "    <tr>\n",
       "      <th>12</th>\n",
       "      <td>Life Care of Kennewick (GG, CF, CMP, SUB, Cont SP) 4 12 18.pdf</td>\n",
       "      <td>NH_enforcement_letters_2020-03/</td>\n",
       "      <td>Mary/</td>\n",
       "      <td>2018-04-26</td>\n",
       "    </tr>\n",
       "    <tr>\n",
       "      <th>13</th>\n",
       "      <td>Linden Grove (IJ, R, Cont sp, Cont Cond, CF) 5 21 20.pdf</td>\n",
       "      <td>NH_enforcement_letters_2020-06-09/</td>\n",
       "      <td>Mary/</td>\n",
       "      <td>2020-05-27</td>\n",
       "    </tr>\n",
       "    <tr>\n",
       "      <th>14</th>\n",
       "      <td>Linden Grove Amended (IJ, R, Cont sp, Cont Cond, CF) 5 21 20.pdf</td>\n",
       "      <td>NH_enforcement_letters_2020-06-09/</td>\n",
       "      <td>Mary/</td>\n",
       "      <td>2020-05-28</td>\n",
       "    </tr>\n",
       "    <tr>\n",
       "      <th>15</th>\n",
       "      <td>Lynnwood Post Acute (Covid IJ, R, DPOC, CF. Cont Cond, Cont SP) 7 17 20.pdf</td>\n",
       "      <td>NH_enforcement_letters_2020-08-20/</td>\n",
       "      <td>Mary/</td>\n",
       "      <td>2020-07-29</td>\n",
       "    </tr>\n",
       "    <tr>\n",
       "      <th>16</th>\n",
       "      <td>Lynnwood Post Acute Amended (Covid IJ, R, DPOC, CF. Cont Cond, Cont SP) 7 17 20.pdf</td>\n",
       "      <td>NH_enforcement_letters_2020-08-20/</td>\n",
       "      <td>Mary/</td>\n",
       "      <td>2020-08-04</td>\n",
       "    </tr>\n",
       "    <tr>\n",
       "      <th>17</th>\n",
       "      <td>Paramount (FP, Prior IJ, N, SP, Hx prior GG) 11 8 19.pdf</td>\n",
       "      <td>NH_enforcement_letters_2020-03/</td>\n",
       "      <td>Mary/</td>\n",
       "      <td>2019-11-18</td>\n",
       "    </tr>\n",
       "    <tr>\n",
       "      <th>18</th>\n",
       "      <td>Paramount (Temp Manager, GG, CMP, SP) 9 24 19.pdf</td>\n",
       "      <td>NH_enforcement_letters_2020-03/</td>\n",
       "      <td>Mary/</td>\n",
       "      <td>2019-10-08</td>\n",
       "    </tr>\n",
       "    <tr>\n",
       "      <th>19</th>\n",
       "      <td>Park Ridge (IJ, R,  cont SP, cont cond, CF) 4 30 20.pdf</td>\n",
       "      <td>NH_enforcement_letters_2020-06-09/</td>\n",
       "      <td>Mary/</td>\n",
       "      <td>2020-05-13</td>\n",
       "    </tr>\n",
       "    <tr>\n",
       "      <th>20</th>\n",
       "      <td>Prestige Post Acute - Edmonds (Hx IJ, Prior IJ R, Cont SP, SUB, CMP, CF) 4 26 18.pdf</td>\n",
       "      <td>NH_enforcement_letters_2020-03/</td>\n",
       "      <td>Mary/</td>\n",
       "      <td>2018-05-10</td>\n",
       "    </tr>\n",
       "    <tr>\n",
       "      <th>21</th>\n",
       "      <td>Prestige Post Acute - Edmonds (IJ R, SP, SUB, CMP, CF) 4 5 18.pdf</td>\n",
       "      <td>NH_enforcement_letters_2020-03/</td>\n",
       "      <td>Mary/</td>\n",
       "      <td>2018-04-18</td>\n",
       "    </tr>\n",
       "    <tr>\n",
       "      <th>22</th>\n",
       "      <td>Prestige Post Acute Care - Edmonds (IJ, N, Cont SP) 4 18 18.pdf</td>\n",
       "      <td>NH_enforcement_letters_2020-03/</td>\n",
       "      <td>Mary/</td>\n",
       "      <td>2018-04-20</td>\n",
       "    </tr>\n",
       "    <tr>\n",
       "      <th>23</th>\n",
       "      <td>Queen Anne (IJ, R, SUB, CMP, CF) 10 09 2018.pdf</td>\n",
       "      <td>NH_enforcement_letters_2020-03/</td>\n",
       "      <td>Asia/</td>\n",
       "      <td>2018-10-22</td>\n",
       "    </tr>\n",
       "    <tr>\n",
       "      <th>24</th>\n",
       "      <td>Riverside Nursing and rehab (Hx IJ, R, Cont Sp, CF, CMP, prior D) 1 13 20.pdf</td>\n",
       "      <td>NH_enforcement_letters_2020-03/</td>\n",
       "      <td>Asia/</td>\n",
       "      <td>2020-01-27</td>\n",
       "    </tr>\n",
       "    <tr>\n",
       "      <th>25</th>\n",
       "      <td>St Francis of Bellingham (FP, D prior G, Lift SP) 6 10 20.pdf</td>\n",
       "      <td>NH_enforcement_letters_2020-08-20/</td>\n",
       "      <td>Asia/</td>\n",
       "      <td>2020-06-24</td>\n",
       "    </tr>\n",
       "    <tr>\n",
       "      <th>26</th>\n",
       "      <td>St Francis of Bellingham (Hx G, prior IJR, prior KR, prior G, CMP, CF, Cont SP) 12 21 18.pdf</td>\n",
       "      <td>NH_enforcement_letters_2020-03/</td>\n",
       "      <td>Asia/</td>\n",
       "      <td>2019-02-07</td>\n",
       "    </tr>\n",
       "    <tr>\n",
       "      <th>27</th>\n",
       "      <td>St Francis of Bellingham (Hx IJ, R, CONT SP, CMP, CF prior G) 12 04 18.pdf</td>\n",
       "      <td>NH_enforcement_letters_2020-03/</td>\n",
       "      <td>Asia/</td>\n",
       "      <td>2018-12-18</td>\n",
       "    </tr>\n",
       "    <tr>\n",
       "      <th>28</th>\n",
       "      <td>St Francis of Bellingham (IJ, R, SP, SUB, CF) 3 16 20.pdf</td>\n",
       "      <td>NH_enforcement_letters_2020-06-09/</td>\n",
       "      <td>Asia/</td>\n",
       "      <td>2020-03-30</td>\n",
       "    </tr>\n",
       "    <tr>\n",
       "      <th>29</th>\n",
       "      <td>St Francis of Bellingham (J, Hx IJ, R, CMP, CF, Cont SP) 12 21 18.pdf</td>\n",
       "      <td>NH_enforcement_letters_2020-03/</td>\n",
       "      <td>Asia/</td>\n",
       "      <td>2019-01-04</td>\n",
       "    </tr>\n",
       "    <tr>\n",
       "      <th>30</th>\n",
       "      <td>The Oaks at Forest Bay (IJ R. SP, CF, CMP) 1 25 18.pdf</td>\n",
       "      <td>NH_enforcement_letters_2020-03/</td>\n",
       "      <td>Asia/</td>\n",
       "      <td>2018-02-08</td>\n",
       "    </tr>\n",
       "    <tr>\n",
       "      <th>31</th>\n",
       "      <td>Univeristy Place (FP, CMP, CF, Cond) 2 13 20.pdf</td>\n",
       "      <td>NH_enforcement_letters_2020-03/</td>\n",
       "      <td>Asia/</td>\n",
       "      <td>2020-02-28</td>\n",
       "    </tr>\n",
       "    <tr>\n",
       "      <th>32</th>\n",
       "      <td>University Place Care Center (IJ, R, SP, SUB, CMP, CF) 2 5 20.pdf</td>\n",
       "      <td>NH_enforcement_letters_2020-03/</td>\n",
       "      <td>Asia/</td>\n",
       "      <td>2020-02-20</td>\n",
       "    </tr>\n",
       "    <tr>\n",
       "      <th>33</th>\n",
       "      <td>Vancouver Specialty and Rehab Care (Hx F prior F, OSFM, Lift SP, Lift Cond) 6 18 19.pdf</td>\n",
       "      <td>NH_enforcement_letters_2020-03/</td>\n",
       "      <td>Asia/</td>\n",
       "      <td>2019-06-28</td>\n",
       "    </tr>\n",
       "    <tr>\n",
       "      <th>34</th>\n",
       "      <td>Vancouver Specialty and Rehab Care (OSFM L, IJ, R, SP, COND, CMP, CF) 7 18 18.pdf</td>\n",
       "      <td>NH_enforcement_letters_2020-03/</td>\n",
       "      <td>Asia/</td>\n",
       "      <td>2018-08-01</td>\n",
       "    </tr>\n",
       "    <tr>\n",
       "      <th>35</th>\n",
       "      <td>View Ridge (Hx J, prior G, Ij OSFM, CF, CMP, Cont SP, Cond) 2 8 18.doc.pdf</td>\n",
       "      <td>NH_enforcement_letters_2020-03/</td>\n",
       "      <td>Asia/</td>\n",
       "      <td>2018-02-23</td>\n",
       "    </tr>\n",
       "    <tr>\n",
       "      <th>36</th>\n",
       "      <td>View Ridge (IJ, OSFM, SP, IJ, ) 1 30 18.pdf</td>\n",
       "      <td>NH_enforcement_letters_2020-03/</td>\n",
       "      <td>Asia/</td>\n",
       "      <td>2018-02-02</td>\n",
       "    </tr>\n",
       "    <tr>\n",
       "      <th>37</th>\n",
       "      <td>View Ridge (IJ, OSFM, SP, IJ, ) 2 5 18.pdf</td>\n",
       "      <td>NH_enforcement_letters_2020-03/</td>\n",
       "      <td>Asia/</td>\n",
       "      <td>2018-02-05</td>\n",
       "    </tr>\n",
       "    <tr>\n",
       "      <th>38</th>\n",
       "      <td>Washington Veterans Home Retsil (IJ, R, SUB, SP, CMP, CF) 3 21 19.pdf</td>\n",
       "      <td>NH_enforcement_letters_2020-03/</td>\n",
       "      <td>Asia/</td>\n",
       "      <td>2019-04-04</td>\n",
       "    </tr>\n",
       "  </tbody>\n",
       "</table>\n",
       "</div>"
      ],
      "text/plain": [
       "                                                                                        pdf_name  \\\n",
       "0                Alaska Gardens (K, HX Prior Fg, Prior G, Prior D, SUB, SP, CMP, CF) 1 17 19.pdf   \n",
       "1                 Alderwood Park (Failed Post, CI, IJ R, SUB, Cont SP, Cond, CF, CMP) 1 4 18.pdf   \n",
       "2                          Alderwood Park Health and Rehabilitation (G, CMP, Cont SP) 1 4 18.pdf   \n",
       "3            Alderwood Park Health and Rehabilitation (Hx, G, prior G, CMP, Cont SP) 1 25 18.pdf   \n",
       "4                                       Avamere Bellingham (Ij, R, Sp, Sub, CMP, CF) 2 10 20.pdf   \n",
       "5                                                      Canterbury House (IJ, NOT, SP) 4 6 18.pdf   \n",
       "6                                              Canterbury House (IJ, R, SUB, SP, CF) 4 16 18.pdf   \n",
       "7                          Careage of Whidbey (FP G, Lift SP Hx Sub H, Sub J, G, SP) 4 17 19.pdf   \n",
       "8                                  Careage of Whidbey (Sub H, Sub J, G, CMP, CF, SP) 2 14 19.pdf   \n",
       "9                            Enumclaw Health and Rehab (Ij, R, FP, SP, CMP, CF, Cond) 4 3 20.pdf   \n",
       "10     Franklin Hills (5 OOC, J, SUB, SP, CF, G prior E, prior G, prior GG, CF, CMP) 4 12 18.pdf   \n",
       "11                  Franklin Hills (Covid L, CMP, Cont cond, cont SP, hx prior F, CF) 8 7 20.pdf   \n",
       "12                                Life Care of Kennewick (GG, CF, CMP, SUB, Cont SP) 4 12 18.pdf   \n",
       "13                                      Linden Grove (IJ, R, Cont sp, Cont Cond, CF) 5 21 20.pdf   \n",
       "14                              Linden Grove Amended (IJ, R, Cont sp, Cont Cond, CF) 5 21 20.pdf   \n",
       "15                   Lynnwood Post Acute (Covid IJ, R, DPOC, CF. Cont Cond, Cont SP) 7 17 20.pdf   \n",
       "16           Lynnwood Post Acute Amended (Covid IJ, R, DPOC, CF. Cont Cond, Cont SP) 7 17 20.pdf   \n",
       "17                                      Paramount (FP, Prior IJ, N, SP, Hx prior GG) 11 8 19.pdf   \n",
       "18                                             Paramount (Temp Manager, GG, CMP, SP) 9 24 19.pdf   \n",
       "19                                       Park Ridge (IJ, R,  cont SP, cont cond, CF) 4 30 20.pdf   \n",
       "20          Prestige Post Acute - Edmonds (Hx IJ, Prior IJ R, Cont SP, SUB, CMP, CF) 4 26 18.pdf   \n",
       "21                             Prestige Post Acute - Edmonds (IJ R, SP, SUB, CMP, CF) 4 5 18.pdf   \n",
       "22                               Prestige Post Acute Care - Edmonds (IJ, N, Cont SP) 4 18 18.pdf   \n",
       "23                                               Queen Anne (IJ, R, SUB, CMP, CF) 10 09 2018.pdf   \n",
       "24                 Riverside Nursing and rehab (Hx IJ, R, Cont Sp, CF, CMP, prior D) 1 13 20.pdf   \n",
       "25                                 St Francis of Bellingham (FP, D prior G, Lift SP) 6 10 20.pdf   \n",
       "26  St Francis of Bellingham (Hx G, prior IJR, prior KR, prior G, CMP, CF, Cont SP) 12 21 18.pdf   \n",
       "27                    St Francis of Bellingham (Hx IJ, R, CONT SP, CMP, CF prior G) 12 04 18.pdf   \n",
       "28                                     St Francis of Bellingham (IJ, R, SP, SUB, CF) 3 16 20.pdf   \n",
       "29                         St Francis of Bellingham (J, Hx IJ, R, CMP, CF, Cont SP) 12 21 18.pdf   \n",
       "30                                        The Oaks at Forest Bay (IJ R. SP, CF, CMP) 1 25 18.pdf   \n",
       "31                                              Univeristy Place (FP, CMP, CF, Cond) 2 13 20.pdf   \n",
       "32                             University Place Care Center (IJ, R, SP, SUB, CMP, CF) 2 5 20.pdf   \n",
       "33       Vancouver Specialty and Rehab Care (Hx F prior F, OSFM, Lift SP, Lift Cond) 6 18 19.pdf   \n",
       "34             Vancouver Specialty and Rehab Care (OSFM L, IJ, R, SP, COND, CMP, CF) 7 18 18.pdf   \n",
       "35                    View Ridge (Hx J, prior G, Ij OSFM, CF, CMP, Cont SP, Cond) 2 8 18.doc.pdf   \n",
       "36                                                   View Ridge (IJ, OSFM, SP, IJ, ) 1 30 18.pdf   \n",
       "37                                                    View Ridge (IJ, OSFM, SP, IJ, ) 2 5 18.pdf   \n",
       "38                         Washington Veterans Home Retsil (IJ, R, SUB, SP, CMP, CF) 3 21 19.pdf   \n",
       "\n",
       "                                folder reviewer  letter_dt  \n",
       "0      NH_enforcement_letters_2020-03/  Manuel/ 2019-02-01  \n",
       "1      NH_enforcement_letters_2020-03/  Manuel/ 2018-03-22  \n",
       "2      NH_enforcement_letters_2020-03/  Manuel/ 2018-01-19  \n",
       "3      NH_enforcement_letters_2020-03/  Manuel/ 2018-02-07  \n",
       "4      NH_enforcement_letters_2020-03/  Manuel/ 2020-02-25  \n",
       "5   NH_enforcement_letters_2020-06-09/  Manuel/ 2018-04-09  \n",
       "6   NH_enforcement_letters_2020-06-09/  Manuel/ 2018-04-30  \n",
       "7      NH_enforcement_letters_2020-03/  Manuel/ 2019-05-01  \n",
       "8      NH_enforcement_letters_2020-03/  Manuel/ 2019-03-01  \n",
       "9   NH_enforcement_letters_2020-06-09/  Manuel/ 2020-04-08  \n",
       "10     NH_enforcement_letters_2020-03/  Manuel/ 2019-04-19  \n",
       "11  NH_enforcement_letters_2020-09-08/  Manuel/ 2020-08-20  \n",
       "12     NH_enforcement_letters_2020-03/    Mary/ 2018-04-26  \n",
       "13  NH_enforcement_letters_2020-06-09/    Mary/ 2020-05-27  \n",
       "14  NH_enforcement_letters_2020-06-09/    Mary/ 2020-05-28  \n",
       "15  NH_enforcement_letters_2020-08-20/    Mary/ 2020-07-29  \n",
       "16  NH_enforcement_letters_2020-08-20/    Mary/ 2020-08-04  \n",
       "17     NH_enforcement_letters_2020-03/    Mary/ 2019-11-18  \n",
       "18     NH_enforcement_letters_2020-03/    Mary/ 2019-10-08  \n",
       "19  NH_enforcement_letters_2020-06-09/    Mary/ 2020-05-13  \n",
       "20     NH_enforcement_letters_2020-03/    Mary/ 2018-05-10  \n",
       "21     NH_enforcement_letters_2020-03/    Mary/ 2018-04-18  \n",
       "22     NH_enforcement_letters_2020-03/    Mary/ 2018-04-20  \n",
       "23     NH_enforcement_letters_2020-03/    Asia/ 2018-10-22  \n",
       "24     NH_enforcement_letters_2020-03/    Asia/ 2020-01-27  \n",
       "25  NH_enforcement_letters_2020-08-20/    Asia/ 2020-06-24  \n",
       "26     NH_enforcement_letters_2020-03/    Asia/ 2019-02-07  \n",
       "27     NH_enforcement_letters_2020-03/    Asia/ 2018-12-18  \n",
       "28  NH_enforcement_letters_2020-06-09/    Asia/ 2020-03-30  \n",
       "29     NH_enforcement_letters_2020-03/    Asia/ 2019-01-04  \n",
       "30     NH_enforcement_letters_2020-03/    Asia/ 2018-02-08  \n",
       "31     NH_enforcement_letters_2020-03/    Asia/ 2020-02-28  \n",
       "32     NH_enforcement_letters_2020-03/    Asia/ 2020-02-20  \n",
       "33     NH_enforcement_letters_2020-03/    Asia/ 2019-06-28  \n",
       "34     NH_enforcement_letters_2020-03/    Asia/ 2018-08-01  \n",
       "35     NH_enforcement_letters_2020-03/    Asia/ 2018-02-23  \n",
       "36     NH_enforcement_letters_2020-03/    Asia/ 2018-02-02  \n",
       "37     NH_enforcement_letters_2020-03/    Asia/ 2018-02-05  \n",
       "38     NH_enforcement_letters_2020-03/    Asia/ 2019-04-04  "
      ]
     },
     "execution_count": 50,
     "metadata": {},
     "output_type": "execute_result"
    }
   ],
   "source": [
    "df_stop_ltrs"
   ]
  },
  {
   "cell_type": "code",
   "execution_count": null,
   "metadata": {},
   "outputs": [],
   "source": []
  },
  {
   "cell_type": "code",
   "execution_count": null,
   "metadata": {},
   "outputs": [],
   "source": []
  },
  {
   "cell_type": "code",
   "execution_count": null,
   "metadata": {},
   "outputs": [],
   "source": []
  },
  {
   "cell_type": "code",
   "execution_count": null,
   "metadata": {},
   "outputs": [],
   "source": []
  },
  {
   "cell_type": "code",
   "execution_count": 32,
   "metadata": {},
   "outputs": [
    {
     "data": {
      "text/plain": [
       "34"
      ]
     },
     "execution_count": 32,
     "metadata": {},
     "output_type": "execute_result"
    }
   ],
   "source": [
    "df_stop_ltrs['pdf_name'].isin(df_cmp_subset['pdf_name']).sum()"
   ]
  },
  {
   "cell_type": "code",
   "execution_count": null,
   "metadata": {},
   "outputs": [],
   "source": []
  },
  {
   "cell_type": "code",
   "execution_count": null,
   "metadata": {},
   "outputs": [],
   "source": []
  },
  {
   "cell_type": "code",
   "execution_count": null,
   "metadata": {},
   "outputs": [],
   "source": []
  },
  {
   "cell_type": "code",
   "execution_count": null,
   "metadata": {},
   "outputs": [],
   "source": []
  },
  {
   "cell_type": "code",
   "execution_count": null,
   "metadata": {},
   "outputs": [],
   "source": [
    "path = '/Volumes/files/COVID19/Manuel_RCF_Data/State_DSHS/ALTSA_reports/'\n",
    "\n",
    "for index, row in temp.iterrows():\n",
    "    copyfile(path + row['folder'] + row['pdf_name'],\n",
    "            path + 'STOP_PLACEMENT_LETTERS/' + row['reviewer'] + row['pdf_name'])"
   ]
  },
  {
   "cell_type": "code",
   "execution_count": null,
   "metadata": {},
   "outputs": [],
   "source": []
  },
  {
   "cell_type": "code",
   "execution_count": null,
   "metadata": {},
   "outputs": [],
   "source": []
  },
  {
   "cell_type": "markdown",
   "metadata": {},
   "source": [
    "### Create working copies"
   ]
  },
  {
   "cell_type": "code",
   "execution_count": null,
   "metadata": {},
   "outputs": [],
   "source": [
    "df_sod = df_sod_orig.copy()\n",
    "df_cmp = df_cmp_orig.copy()\n",
    "df_ob = df_ob_orig.copy()"
   ]
  },
  {
   "cell_type": "markdown",
   "metadata": {},
   "source": [
    "The HPRD dataframe and the outbreaks mapping table dataframe need a bit of extra work. We will process those datasets later."
   ]
  },
  {
   "cell_type": "markdown",
   "metadata": {},
   "source": [
    "### Facilities mapping table"
   ]
  },
  {
   "cell_type": "code",
   "execution_count": null,
   "metadata": {},
   "outputs": [],
   "source": [
    "df_fac_map = df_sod[['facility_id','facility_name']]\n",
    "df_fac_map = df_fac_map.drop_duplicates().set_index('facility_id')\n",
    "df_fac_map"
   ]
  },
  {
   "cell_type": "markdown",
   "metadata": {},
   "source": [
    "# III. The two aspects: HPRD & Staffing"
   ]
  },
  {
   "cell_type": "markdown",
   "metadata": {},
   "source": [
    "## III.1. Nurse staffing"
   ]
  },
  {
   "cell_type": "markdown",
   "metadata": {},
   "source": [
    "### Deficiencies"
   ]
  },
  {
   "cell_type": "markdown",
   "metadata": {},
   "source": [
    "From the [CMS federal tag list](https://www.cms.gov/Medicare/Provider-Enrollment-and-Certification/GuidanceforLawsAndRegulations/Downloads/List-of-Revised-FTags.pdf), we identified the federal tags that are related to staffing:"
   ]
  },
  {
   "cell_type": "code",
   "execution_count": null,
   "metadata": {},
   "outputs": [],
   "source": [
    "staff_tags = pd.DataFrame([['725', 'Sufficient Nursing Staff'],\n",
    "                           ['726', 'Competent Nursing Staff']],\n",
    "                          columns=['tag', 'tag_desc'])\n",
    "staff_tags"
   ]
  },
  {
   "cell_type": "code",
   "execution_count": null,
   "metadata": {},
   "outputs": [],
   "source": [
    "# Reduce to only staff-related deficiency tags\n",
    "df_sod_staff = df_sod[df_sod['tag'].isin(staff_tags['tag'])]\n",
    "\n",
    "# Add the tag descriptions\n",
    "df_sod_staff = df_sod_staff.join(staff_tags.set_index('tag'), on='tag', how='left')\n",
    "\n",
    "df_sod_staff = df_sod_staff.reset_index(drop=True)"
   ]
  },
  {
   "cell_type": "code",
   "execution_count": null,
   "metadata": {},
   "outputs": [],
   "source": [
    "print(df_sod_staff.shape)\n",
    "print(df_sod_staff['inspection_dt'].min())\n",
    "print(df_sod_staff['inspection_dt'].max())\n",
    "print('\\n')\n",
    "print(df_sod_staff['tag_desc'].value_counts(dropna=False))"
   ]
  },
  {
   "cell_type": "markdown",
   "metadata": {},
   "source": [
    "### Penalties ([388-97-1080](https://apps.leg.wa.gov/wac/default.aspx?cite=388-97-1080))"
   ]
  },
  {
   "cell_type": "code",
   "execution_count": null,
   "metadata": {},
   "outputs": [],
   "source": [
    "# Reduce df_cmp to only WACs related to direct care staffing\n",
    "df_cmp_1080 = df_cmp[df_cmp['wac_short']=='388-97-1080']\n",
    "df_cmp_1080 = df_cmp_1080.reset_index(drop=True)"
   ]
  },
  {
   "cell_type": "code",
   "execution_count": null,
   "metadata": {},
   "outputs": [],
   "source": [
    "print(df_cmp_1080.shape)\n",
    "print(df_cmp_1080['survey_dt'].min())\n",
    "print(df_cmp_1080['survey_dt'].max())"
   ]
  },
  {
   "cell_type": "markdown",
   "metadata": {},
   "source": [
    "The time frame for the penalties data is larger than the one or the deficiencies data. We need to syncronize them."
   ]
  },
  {
   "cell_type": "code",
   "execution_count": null,
   "metadata": {},
   "outputs": [],
   "source": [
    "start_dt = df_sod_staff['inspection_dt'].min()\n",
    "end_dt = df_sod_staff['inspection_dt'].max()\n",
    "\n",
    "df_cmp_1080 = df_cmp_1080[df_cmp_1080['survey_dt']>=start_dt]\n",
    "df_cmp_1080 = df_cmp_1080[df_cmp_1080['survey_dt']<=end_dt]"
   ]
  },
  {
   "cell_type": "code",
   "execution_count": null,
   "metadata": {},
   "outputs": [],
   "source": [
    "print(df_cmp_1080.shape)\n",
    "print(df_cmp_1080['survey_dt'].min())\n",
    "print(df_cmp_1080['survey_dt'].max())"
   ]
  },
  {
   "cell_type": "markdown",
   "metadata": {},
   "source": [
    "## III.2. HPRD"
   ]
  },
  {
   "cell_type": "markdown",
   "metadata": {},
   "source": [
    "### Deficiencies"
   ]
  },
  {
   "cell_type": "code",
   "execution_count": null,
   "metadata": {},
   "outputs": [],
   "source": [
    "df_hprd = df_hprd_orig.copy()\n",
    "\n",
    "# # Clean column names\n",
    "df_hprd.columns = df_hprd.columns.str.lower().str.replace(' ','_').str.replace('#','num').str.replace('_total', '')\n",
    "df_hprd.columns = df_hprd.columns.str.replace('_no_don_for_providers_>=61_beds','')\n",
    "\n",
    "# Create a proper quarter date variable\n",
    "df_hprd['year_q'] = pd.to_datetime(df_hprd['year'].astype(str) + 'Q' + df_hprd['quarter'].astype(str)) \n",
    "df_hprd['year_q'] = df_hprd['year_q'] + pd.offsets.QuarterEnd(0)\n",
    "\n",
    "# Data for 2020 is still incomplete, so we leave it out\n",
    "# df_hprd = df_hprd[df_hprd['year_q']>='2018-07-01']\n",
    "df_hprd = df_hprd[df_hprd['year_q']<='2019-12-31']\n",
    "\n",
    "# Drop unnecesary columns\n",
    "df_hprd = df_hprd.drop(['year','quarter','ln','aides','census','behav','num_of_beds','don_hprd'], axis=1)\n",
    "\n",
    "# Save the index to use later, for a consistency test\n",
    "i = df_hprd.index\n",
    "\n",
    "# Divide the datset into two: Before/after 2019-Q3 (The HPRD column changes after that date)\n",
    "df_hprd1 = df_hprd[df_hprd['year_q'] < '2019-09-30']\n",
    "df_hprd2 = df_hprd[df_hprd['year_q'] >= '2019-09-30']\n",
    "\n",
    "# In each dataset, leave only the appropriate HPRD column and rename it\n",
    "df_hprd1 = df_hprd1.drop(['hprd_q_(hb1564)'], axis=1)\n",
    "df_hprd1 = df_hprd1.rename(columns={'hprd_q':'hprd'})\n",
    "\n",
    "df_hprd2 = df_hprd2.drop(['hprd_q'], axis=1)\n",
    "df_hprd2 = df_hprd2.rename(columns={'hprd_q_(hb1564)':'hprd'})\n",
    "\n",
    "# Join back\n",
    "del(df_hprd)\n",
    "df_hprd = pd.concat([df_hprd1,df_hprd2])\n",
    "\n",
    "assert (df_hprd.index == i).all()\n",
    "\n",
    "# 'hprd' is a string series; convert to float\n",
    "df_hprd['hprd'] = df_hprd['hprd'].replace('x', np.nan)\n",
    "df_hprd['hprd'] = df_hprd['hprd'].astype(np.float64)"
   ]
  },
  {
   "cell_type": "markdown",
   "metadata": {},
   "source": [
    "### Penalties ([388-97-1090](https://apps.leg.wa.gov/wac/default.aspx?cite=388-97-1090))"
   ]
  },
  {
   "cell_type": "code",
   "execution_count": null,
   "metadata": {},
   "outputs": [],
   "source": [
    "print(df_cmp.shape)\n",
    "\n",
    "print(df_cmp['survey_dt'].min())\n",
    "print(df_cmp['survey_dt'].max())\n",
    "print('\\n')\n",
    "print(df_cmp['letter_dt'].min())\n",
    "print(df_cmp['letter_dt'].max())"
   ]
  },
  {
   "cell_type": "code",
   "execution_count": null,
   "metadata": {},
   "outputs": [],
   "source": [
    "# Reduce df_cmp to only WACs related to direct care hours\n",
    "df_cmp_1090 = df_cmp[df_cmp['wac_short']=='388-97-1090']\n",
    "\n",
    "# Reduce to dates that are inside 2018Q3-2019Q4\n",
    "df_cmp_1090 = df_cmp_1090[df_cmp_1090['survey_dt']>='2018-07-01']\n",
    "df_cmp_1090 = df_cmp_1090[df_cmp_1090['survey_dt']<='2019-12-31']\n",
    "\n",
    "df_cmp_1090 = df_cmp_1090.reset_index(drop=True)"
   ]
  },
  {
   "cell_type": "code",
   "execution_count": null,
   "metadata": {},
   "outputs": [],
   "source": [
    "print(df_cmp_1090.shape)\n",
    "\n",
    "print(df_cmp_1090['survey_dt'].min())\n",
    "print(df_cmp_1090['survey_dt'].max())\n",
    "print('\\n')\n",
    "print(df_cmp_1090['letter_dt'].min())\n",
    "print(df_cmp_1090['letter_dt'].max())"
   ]
  },
  {
   "cell_type": "markdown",
   "metadata": {},
   "source": [
    "# IV. ANALYSIS"
   ]
  },
  {
   "cell_type": "markdown",
   "metadata": {},
   "source": [
    " "
   ]
  },
  {
   "cell_type": "markdown",
   "metadata": {},
   "source": [
    "## IV.1. HPRD"
   ]
  },
  {
   "cell_type": "markdown",
   "metadata": {},
   "source": [
    "### Deficiencies"
   ]
  },
  {
   "cell_type": "markdown",
   "metadata": {},
   "source": [
    "We have data that shows how many hours per client per day each facility provided each quarter.\n",
    "\n",
    "First, let's find out the number of facilities that provided less than the required minimum number of hours each quarter."
   ]
  },
  {
   "cell_type": "code",
   "execution_count": null,
   "metadata": {},
   "outputs": [],
   "source": [
    "# Build a variable that identifies if a facility went below the minimum number of hours of service\n",
    "df_hprd['below_state'] =  df_hprd['hprd'] < 3.4\n",
    "df_hprd['below_fed'] =  df_hprd['hprd'] < 4.1"
   ]
  },
  {
   "cell_type": "code",
   "execution_count": null,
   "metadata": {},
   "outputs": [],
   "source": [
    "temp = df_hprd[['year_q', 'below_state']]\n",
    "temp = temp.groupby('year_q').sum()\n",
    "\n",
    "print('On average, each quarter', round(temp['below_state'].mean()),\n",
    "     'facilities provided less HPRD than the required STATE minimum.\\n')\n",
    "\n",
    "print('There were', df_hprd[df_hprd['below_state']]['vendor_num'].nunique(),\n",
    "     'individual facilities that fell below that minimum in at least one quarter.\\n')\n",
    "\n",
    "temp.to_csv('/Users/mvilla/Downloads/hprd_quarterly_deficiencies_state.csv')\n",
    "temp.plot(kind='bar', title='Number of facilities below 3.4 HPRD')"
   ]
  },
  {
   "cell_type": "code",
   "execution_count": null,
   "metadata": {},
   "outputs": [],
   "source": [
    "temp = df_hprd[['year_q', 'below_fed']]\n",
    "temp = temp.groupby('year_q').sum()\n",
    "\n",
    "print('On average, each quarter', round(temp['below_fed'].mean()),\n",
    "     'facilities provided less HPRD than the recommended FEDERAL minimum.\\n')\n",
    "\n",
    "print('There were', df_hprd[df_hprd['below_fed']]['vendor_num'].nunique(),\n",
    "     'individual facilities that fell below that minimum in at least one quarter.\\n')\n",
    "\n",
    "temp.to_csv('/Users/mvilla/Downloads/hprd_quarterly_deficiencies_fed.csv')\n",
    "\n",
    "temp.plot(kind='bar', title='Number of facilities below 4.1 HPRD')"
   ]
  },
  {
   "cell_type": "markdown",
   "metadata": {},
   "source": [
    "Where there any cases where hours were exactly at the minimum limit?"
   ]
  },
  {
   "cell_type": "code",
   "execution_count": null,
   "metadata": {},
   "outputs": [],
   "source": [
    "df_hprd[df_hprd['hprd'] == 3.4]"
   ]
  },
  {
   "cell_type": "markdown",
   "metadata": {},
   "source": [
    "### Penalties"
   ]
  },
  {
   "cell_type": "code",
   "execution_count": null,
   "metadata": {},
   "outputs": [],
   "source": [
    "print('Between', df_cmp_1090['letter_dt'].min(), 'and', df_cmp_1090['letter_dt'].max(),\n",
    "      '\\nthe DSHS fined', df_cmp_1090['manual_cms_number'].nunique(), 'facilities a total of $',\n",
    "      round(df_cmp_1090['cmp_item'].sum()/1e6,1),'MM',\n",
    "     'for deficiencies related to direct care hours')\n",
    "print('\\r')\n",
    "\n",
    "piv = df_cmp_1090.pivot_table(index='letter_dt', values='cmp_item', aggfunc='sum', fill_value = 0).resample('M').sum()\n",
    "piv.to_csv('/Users/mvilla/Downloads/penalties_timeline_1090.csv')\n",
    "piv.plot(kind='bar', \n",
    "         title='Penalties for Direct Service Hours Deficiencies (Total = $' + str(df_cmp_1090['cmp_item'].sum()) + ')')"
   ]
  },
  {
   "cell_type": "markdown",
   "metadata": {},
   "source": [
    "### Facilities"
   ]
  },
  {
   "cell_type": "code",
   "execution_count": null,
   "metadata": {},
   "outputs": [],
   "source": [
    "# Compute the total fine per facility federal number\n",
    "temp = df_cmp_1090[['manual_cms_number', 'cmp_item']]\n",
    "temp = temp.groupby(['manual_cms_number']).sum()\n",
    "temp = temp.sort_values('cmp_item', ascending=False)\n",
    "\n",
    "# Compute the number quarterly deficiencies per facility federal number\n",
    "df_hprd_facs = df_hprd[df_hprd['below_state']]\n",
    "df_hprd_facs = df_hprd_facs['federal_provider_number'].value_counts()\n",
    "df_hprd_facs = pd.DataFrame(df_hprd_facs)\n",
    "\n",
    "# Join both datasets\n",
    "df_hprd_facs = df_hprd_facs.join(temp, how='outer')\n",
    "\n",
    "# Add the names of the facilities and reorder the dataset\n",
    "df_hprd_facs = df_hprd_facs.join(df_fac_map, how='left')\n",
    "df_hprd_facs.columns = ['num_1090_def', 'cmp_1090', 'facility_name']\n",
    "df_hprd_facs = df_hprd_facs[['facility_name','num_1090_def', 'cmp_1090']]\n",
    "df_hprd_facs = df_hprd_facs.sort_values(['num_1090_def','cmp_1090'], ascending=False)\n",
    "\n",
    "# Consistency test\n",
    "print(df_hprd_facs['cmp_1090'].sum())\n",
    "assert round(df_hprd_facs['cmp_1090'].sum()) == round(df_cmp_1090['cmp_item'].sum())\n",
    "# df_hprd_facs.to_csv('/Users/mvilla/Downloads/df_hprd_facs.csv', index = False)\n",
    "\n",
    "df_hprd_facs"
   ]
  },
  {
   "cell_type": "markdown",
   "metadata": {},
   "source": [
    "## IV.2. Staffing"
   ]
  },
  {
   "cell_type": "markdown",
   "metadata": {},
   "source": [
    "### Deficiencies"
   ]
  },
  {
   "cell_type": "code",
   "execution_count": null,
   "metadata": {},
   "outputs": [],
   "source": [
    "temp = df_sod[(df_sod['inspection_dt'] >= df_sod_staff['inspection_dt'].min()) &\n",
    "              (df_sod['inspection_dt'] <= df_sod_staff['inspection_dt'].max())]\n",
    "print(temp['eventid'].nunique())\n",
    "print(temp['facility_id'].nunique())"
   ]
  },
  {
   "cell_type": "code",
   "execution_count": null,
   "metadata": {},
   "outputs": [],
   "source": [
    "print('Between', df_sod_staff['inspection_dt'].min(), \n",
    "      'and', df_sod_staff['inspection_dt'].max(),\n",
    "      '\\nthere were', len(df_sod_staff), 'CMS staff-related deficiencies found across', \n",
    "      df_sod_staff['facility_id'].nunique(), 'facilities.\\n')\n",
    "\n",
    "print(df_sod_staff['tag_desc'].value_counts(dropna=False))\n",
    "\n",
    "piv = df_sod_staff.pivot_table(index='inspection_dt', columns='tag_desc', values='facility_id', aggfunc='count', fill_value = 0).resample('M').sum()\n",
    "piv.to_csv('/Users/mvilla/Downloads/deficiencies_timeline_1080.csv')\n",
    "piv.plot(title='Number of Monthly Staff-Related Deficiencies (Total ='+str(len(df_sod_staff))+')')"
   ]
  },
  {
   "cell_type": "markdown",
   "metadata": {},
   "source": [
    "### Penalties"
   ]
  },
  {
   "cell_type": "code",
   "execution_count": null,
   "metadata": {},
   "outputs": [],
   "source": [
    "print('Between', df_cmp_1080['survey_dt'].min(), 'and', df_cmp_1080['survey_dt'].max(),\n",
    "      '\\nthe DSHS fined', df_cmp_1080['manual_cms_number'].nunique(), 'facilities a total of',\n",
    "      df_cmp_1080['cmp_item'].sum(),\n",
    "     'for deficiencies related to nursing services, which include staffing.')\n",
    "print('\\r')\n",
    "\n",
    "piv = df_cmp_1080.pivot_table(index='letter_dt', values='cmp_item', aggfunc='sum', fill_value = 0).resample('M').sum()\n",
    "piv.to_csv('/Users/mvilla/Downloads/penalties_timeline_1080.csv')\n",
    "piv.plot(kind='bar', \n",
    "         title='Penalties for Direct Service Hours Deficiencies (Total = $' + str(df_cmp_1080['cmp_item'].sum()) + ')')\n",
    "\n"
   ]
  },
  {
   "cell_type": "code",
   "execution_count": null,
   "metadata": {},
   "outputs": [],
   "source": [
    "df_cmp_1080.groupby(['wac_long']).sum()"
   ]
  },
  {
   "cell_type": "code",
   "execution_count": null,
   "metadata": {},
   "outputs": [],
   "source": [
    "temp = df_cmp_1080[df_cmp_1080['letter_dt'] >= '2018-01-01']\n",
    "temp = temp[~temp['cmp_item'].isna()][['facility_name', 'letter_dt', 'cmp_item']]\n",
    "temp.sort_values(['facility_name', 'letter_dt'])"
   ]
  },
  {
   "cell_type": "markdown",
   "metadata": {},
   "source": [
    "### Facilities"
   ]
  },
  {
   "cell_type": "code",
   "execution_count": null,
   "metadata": {},
   "outputs": [],
   "source": [
    "# Total 1080 fines per facility federal number\n",
    "temp_cmp = df_cmp_1080[df_cmp_1080['survey_dt'] >= '2018-01-01']\n",
    "temp_cmp = temp_cmp[['manual_cms_number','cmp_item']]\n",
    "temp_cmp = temp_cmp.groupby(['manual_cms_number']).sum()\n",
    "temp_cmp = temp_cmp.reset_index()\n",
    "temp_cmp = temp_cmp.set_index('manual_cms_number')\n",
    "\n",
    "# Total number of deficiencies per facility federal number\n",
    "temp_deficiencies = df_sod_staff['facility_id'].value_counts(dropna=False)\n",
    "temp_deficiencies = pd.DataFrame(temp_deficiencies)\n",
    "temp_deficiencies.columns = ['num_deficiencies']\n",
    "\n",
    "# Joining both dataframes\n",
    "df_staff_facs = temp_deficiencies.join(temp_cmp, how='outer')\n",
    "df_staff_facs = df_staff_facs.join(df_fac_map, how='left')\n",
    "df_staff_facs = df_staff_facs.sort_values(['num_deficiencies'], ascending=False)\n",
    "df_staff_facs = df_staff_facs.sort_values(['cmp_item'], ascending=False)\n",
    "df_staff_facs = df_staff_facs[['facility_name','num_deficiencies','cmp_item']]\n",
    "df_staff_facs = df_staff_facs.sort_values(['num_deficiencies'], ascending=False)\n",
    "# df_staff_facs.to_csv('/Users/mvilla/Downloads/df_staffing_facs.csv', index = False)\n",
    "\n",
    "df_staff_facs.head(30)"
   ]
  },
  {
   "cell_type": "markdown",
   "metadata": {},
   "source": [
    "Confirm if any of the facilities mentioned in the article were fined during the period 2018Q3-2019Q4"
   ]
  },
  {
   "cell_type": "code",
   "execution_count": null,
   "metadata": {},
   "outputs": [],
   "source": [
    "mentioned_homes = 'everet|genesis|oaks|marysville'"
   ]
  },
  {
   "cell_type": "code",
   "execution_count": null,
   "metadata": {},
   "outputs": [],
   "source": [
    "df_staff_facs[df_staff_facs['facility_name'].str.lower().str.contains(mentioned_homes)]"
   ]
  },
  {
   "cell_type": "code",
   "execution_count": null,
   "metadata": {},
   "outputs": [],
   "source": [
    "df_cmp_1080['facility_name'].str.lower().str.contains(mentioned_homes).any()"
   ]
  },
  {
   "cell_type": "code",
   "execution_count": null,
   "metadata": {},
   "outputs": [],
   "source": [
    "df_cmp_1090['facility_name'].str.lower().str.contains(mentioned_homes).any()"
   ]
  },
  {
   "cell_type": "code",
   "execution_count": null,
   "metadata": {},
   "outputs": [],
   "source": [
    "df_staff_facs[~df_staff_facs['cmp_item'].isna()]"
   ]
  },
  {
   "cell_type": "markdown",
   "metadata": {},
   "source": [
    "# IV. Outbreaks"
   ]
  },
  {
   "cell_type": "code",
   "execution_count": null,
   "metadata": {},
   "outputs": [],
   "source": [
    "df_ob[df_ob['federal_num'].isna()]"
   ]
  },
  {
   "cell_type": "code",
   "execution_count": null,
   "metadata": {},
   "outputs": [],
   "source": [
    "df_ob = df_ob.set_index(['federal_num'])\n",
    "df_ob"
   ]
  },
  {
   "cell_type": "code",
   "execution_count": null,
   "metadata": {},
   "outputs": [],
   "source": [
    "staff_v_ob = df_staff_facs.join(df_ob, how='outer', lsuffix='_staff', rsuffix='_out')\n",
    "staff_v_ob.to_csv('/Users/mvilla/Downloads/oubtreaks_vs_1080.csv')\n",
    "staff_v_ob"
   ]
  },
  {
   "cell_type": "code",
   "execution_count": null,
   "metadata": {},
   "outputs": [],
   "source": [
    "hprd_v_ob = df_hprd_facs.join(df_ob, how='outer', lsuffix='_staff', rsuffix='_out')\n",
    "hprd_v_ob.to_csv('/Users/mvilla/Downloads/oubtreaks_vs_1090.csv')\n",
    "hprd_v_ob"
   ]
  },
  {
   "cell_type": "code",
   "execution_count": null,
   "metadata": {},
   "outputs": [],
   "source": []
  },
  {
   "cell_type": "code",
   "execution_count": null,
   "metadata": {},
   "outputs": [],
   "source": []
  },
  {
   "cell_type": "code",
   "execution_count": null,
   "metadata": {},
   "outputs": [],
   "source": []
  },
  {
   "cell_type": "code",
   "execution_count": null,
   "metadata": {},
   "outputs": [],
   "source": [
    "df_medicaid = pd.read_excel('/Users/mvilla/Downloads/Oct 19-March 20 DSHS Rug Report.xlsx',\n",
    "                              sheet_name='Sheet2', header=0, usecols='A:H')\n"
   ]
  },
  {
   "cell_type": "code",
   "execution_count": null,
   "metadata": {},
   "outputs": [],
   "source": [
    "df_medicaid[['MedicadeResidents','CaseRate','DeathRate']].corr()"
   ]
  },
  {
   "cell_type": "code",
   "execution_count": null,
   "metadata": {},
   "outputs": [],
   "source": []
  },
  {
   "cell_type": "code",
   "execution_count": null,
   "metadata": {},
   "outputs": [],
   "source": []
  },
  {
   "cell_type": "code",
   "execution_count": null,
   "metadata": {},
   "outputs": [],
   "source": []
  },
  {
   "cell_type": "code",
   "execution_count": null,
   "metadata": {},
   "outputs": [],
   "source": []
  },
  {
   "cell_type": "code",
   "execution_count": null,
   "metadata": {},
   "outputs": [],
   "source": [
    "temp = df_sod_staff[['facility_name','inspection_dt','severity_code']]\n",
    "temp.to_csv('/Users/mvilla/Downloads/penalties_staffing.csv', index=False)"
   ]
  },
  {
   "cell_type": "code",
   "execution_count": null,
   "metadata": {},
   "outputs": [],
   "source": []
  },
  {
   "cell_type": "code",
   "execution_count": null,
   "metadata": {},
   "outputs": [],
   "source": [
    "temp = pd.concat([df_cmp_1080, df_cmp_1090], axis=0)\n",
    "temp = temp[['facility_name', 'letter_dt','wac_short','finding_code','cmp_item']]\n",
    "\n",
    "print(temp[temp['wac_short']=='388-97-1080']['cmp_item'].sum())\n",
    "print(temp[temp['wac_short']=='388-97-1090']['cmp_item'].sum())\n",
    "\n",
    "temp.to_csv('/Users/mvilla/Downloads/penalties.csv', index=False)"
   ]
  }
 ],
 "metadata": {
  "kernelspec": {
   "display_name": "Python 3",
   "language": "python",
   "name": "python3"
  },
  "language_info": {
   "codemirror_mode": {
    "name": "ipython",
    "version": 3
   },
   "file_extension": ".py",
   "mimetype": "text/x-python",
   "name": "python",
   "nbconvert_exporter": "python",
   "pygments_lexer": "ipython3",
   "version": "3.7.7"
  }
 },
 "nbformat": 4,
 "nbformat_minor": 4
}
