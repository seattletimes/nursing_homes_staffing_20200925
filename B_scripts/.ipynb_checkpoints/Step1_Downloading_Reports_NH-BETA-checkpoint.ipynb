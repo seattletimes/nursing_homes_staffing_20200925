{
 "cells": [
  {
   "cell_type": "markdown",
   "metadata": {},
   "source": [
    "# A. Settings"
   ]
  },
  {
   "cell_type": "code",
   "execution_count": 1,
   "metadata": {},
   "outputs": [],
   "source": [
    "import pandas as pd\n",
    "import requests\n",
    "import bs4\n",
    "import re\n",
    "import time\n",
    "from os import listdir\n",
    "from PyPDF2 import PdfFileReader"
   ]
  },
  {
   "cell_type": "code",
   "execution_count": 2,
   "metadata": {},
   "outputs": [],
   "source": [
    "path = '/Users/mvilla/Documents/repos/covid19_rcf_20200313_big_data/NH/'"
   ]
  },
  {
   "cell_type": "markdown",
   "metadata": {},
   "source": [
    "# B. Metadata file"
   ]
  },
  {
   "cell_type": "markdown",
   "metadata": {},
   "source": [
    "The Department of Social and Health Services's [Nursing Home Facilities Locator](https://fortress.wa.gov/dshs/adsaapps/lookup/NHPubLookup.aspx) provides a CSV file that contails the metadata of all the available PDF reports for **nursing home faciliites**, including the URLs where the are saved down, and therefore where we can download them from.\n",
    "\n",
    "We have already downloaded this file. It is saved down as *source_data/NHF_Listings.csv*"
   ]
  },
  {
   "cell_type": "code",
   "execution_count": 3,
   "metadata": {},
   "outputs": [],
   "source": [
    "# Pull the original data\n",
    "df_orig = pd.read_csv(path + 'NHF_Listing_BETA.csv')\n",
    "\n",
    "# Create a workable copy of the DF\n",
    "df = df_orig.copy()\n",
    "df.columns = df.columns.str.strip().str.lower().str.replace('\\s', '_')"
   ]
  },
  {
   "cell_type": "markdown",
   "metadata": {},
   "source": [
    "## Getting to know the metadata file"
   ]
  },
  {
   "cell_type": "code",
   "execution_count": 4,
   "metadata": {},
   "outputs": [
    {
     "data": {
      "text/html": [
       "<div>\n",
       "<style scoped>\n",
       "    .dataframe tbody tr th:only-of-type {\n",
       "        vertical-align: middle;\n",
       "    }\n",
       "\n",
       "    .dataframe tbody tr th {\n",
       "        vertical-align: top;\n",
       "    }\n",
       "\n",
       "    .dataframe thead th {\n",
       "        text-align: right;\n",
       "    }\n",
       "</style>\n",
       "<table border=\"1\" class=\"dataframe\">\n",
       "  <thead>\n",
       "    <tr style=\"text-align: right;\">\n",
       "      <th></th>\n",
       "      <th>nf_location_num</th>\n",
       "      <th>nf_loc_region_cde</th>\n",
       "      <th>nf_loc_street_address</th>\n",
       "      <th>nf_loc_city</th>\n",
       "      <th>nf_loc_zip_cde</th>\n",
       "      <th>nf_loc_phone_num</th>\n",
       "      <th>nf_loc_fax_num</th>\n",
       "      <th>nf_mailing_address</th>\n",
       "      <th>nf_mailing_city</th>\n",
       "      <th>nf_mailing_state</th>\n",
       "      <th>...</th>\n",
       "      <th>nf_ssps</th>\n",
       "      <th>rcsunit</th>\n",
       "      <th>total_beds_nf_bed_count</th>\n",
       "      <th>xviii_beds_nf_bed_count</th>\n",
       "      <th>xix_beds_nf_bed_count</th>\n",
       "      <th>t1819_beds_nf_bed_count</th>\n",
       "      <th>fain_id</th>\n",
       "      <th>nf_bed_type_desc</th>\n",
       "      <th>has_reports?</th>\n",
       "      <th>reports_location</th>\n",
       "    </tr>\n",
       "  </thead>\n",
       "  <tbody>\n",
       "    <tr>\n",
       "      <th>0</th>\n",
       "      <td>40990</td>\n",
       "      <td>3</td>\n",
       "      <td>2811 NE 139TH ST</td>\n",
       "      <td>VANCOUVER</td>\n",
       "      <td>986862724</td>\n",
       "      <td>3605745247</td>\n",
       "      <td>3605749126</td>\n",
       "      <td>2811 NE 139TH ST</td>\n",
       "      <td>VANCOUVER</td>\n",
       "      <td>WA</td>\n",
       "      <td>...</td>\n",
       "      <td>NaN</td>\n",
       "      <td>C</td>\n",
       "      <td>120</td>\n",
       "      <td>NaN</td>\n",
       "      <td>NaN</td>\n",
       "      <td>120</td>\n",
       "      <td>45544</td>\n",
       "      <td>Title 18/19</td>\n",
       "      <td>Yes</td>\n",
       "      <td>https://fortress.wa.gov/dshs/adsaapps/lookup/N...</td>\n",
       "    </tr>\n",
       "    <tr>\n",
       "      <th>1</th>\n",
       "      <td>35900</td>\n",
       "      <td>2</td>\n",
       "      <td>555 16th Ave</td>\n",
       "      <td>Seattle</td>\n",
       "      <td>98122</td>\n",
       "      <td>2063248200</td>\n",
       "      <td>2067098457</td>\n",
       "      <td>555 16th Ave</td>\n",
       "      <td>Seattle</td>\n",
       "      <td>WA</td>\n",
       "      <td>...</td>\n",
       "      <td>NaN</td>\n",
       "      <td>H</td>\n",
       "      <td>103</td>\n",
       "      <td>0.0</td>\n",
       "      <td>0.0</td>\n",
       "      <td>103</td>\n",
       "      <td>45975</td>\n",
       "      <td>Title 18/19</td>\n",
       "      <td>Yes</td>\n",
       "      <td>https://fortress.wa.gov/dshs/adsaapps/lookup/N...</td>\n",
       "    </tr>\n",
       "    <tr>\n",
       "      <th>2</th>\n",
       "      <td>40040</td>\n",
       "      <td>3</td>\n",
       "      <td>3309 45th Street Ct</td>\n",
       "      <td>Gig Harbor</td>\n",
       "      <td>98335</td>\n",
       "      <td>2538588688</td>\n",
       "      <td>2538588683</td>\n",
       "      <td>3309 45th Street Ct</td>\n",
       "      <td>Gig Harbor</td>\n",
       "      <td>WA</td>\n",
       "      <td>...</td>\n",
       "      <td>NaN</td>\n",
       "      <td>B</td>\n",
       "      <td>120</td>\n",
       "      <td>NaN</td>\n",
       "      <td>NaN</td>\n",
       "      <td>120</td>\n",
       "      <td>45542</td>\n",
       "      <td>Title 18/19</td>\n",
       "      <td>Yes</td>\n",
       "      <td>https://fortress.wa.gov/dshs/adsaapps/lookup/N...</td>\n",
       "    </tr>\n",
       "  </tbody>\n",
       "</table>\n",
       "<p>3 rows × 32 columns</p>\n",
       "</div>"
      ],
      "text/plain": [
       "   nf_location_num  nf_loc_region_cde nf_loc_street_address nf_loc_city  \\\n",
       "0            40990                  3      2811 NE 139TH ST   VANCOUVER   \n",
       "1            35900                  2          555 16th Ave     Seattle   \n",
       "2            40040                  3   3309 45th Street Ct  Gig Harbor   \n",
       "\n",
       "   nf_loc_zip_cde  nf_loc_phone_num  nf_loc_fax_num   nf_mailing_address  \\\n",
       "0       986862724        3605745247      3605749126     2811 NE 139TH ST   \n",
       "1           98122        2063248200      2067098457         555 16th Ave   \n",
       "2           98335        2538588688      2538588683  3309 45th Street Ct   \n",
       "\n",
       "  nf_mailing_city nf_mailing_state  ...  nf_ssps rcsunit  \\\n",
       "0       VANCOUVER               WA  ...      NaN       C   \n",
       "1         Seattle               WA  ...      NaN       H   \n",
       "2      Gig Harbor               WA  ...      NaN       B   \n",
       "\n",
       "   total_beds_nf_bed_count  xviii_beds_nf_bed_count xix_beds_nf_bed_count  \\\n",
       "0                      120                      NaN                   NaN   \n",
       "1                      103                      0.0                   0.0   \n",
       "2                      120                      NaN                   NaN   \n",
       "\n",
       "  t1819_beds_nf_bed_count fain_id nf_bed_type_desc has_reports?  \\\n",
       "0                     120   45544      Title 18/19          Yes   \n",
       "1                     103   45975      Title 18/19          Yes   \n",
       "2                     120   45542      Title 18/19          Yes   \n",
       "\n",
       "                                    reports_location  \n",
       "0  https://fortress.wa.gov/dshs/adsaapps/lookup/N...  \n",
       "1  https://fortress.wa.gov/dshs/adsaapps/lookup/N...  \n",
       "2  https://fortress.wa.gov/dshs/adsaapps/lookup/N...  \n",
       "\n",
       "[3 rows x 32 columns]"
      ]
     },
     "execution_count": 4,
     "metadata": {},
     "output_type": "execute_result"
    }
   ],
   "source": [
    "df.head()"
   ]
  },
  {
   "cell_type": "markdown",
   "metadata": {},
   "source": [
    "### What field do we use to ID facilities?"
   ]
  },
  {
   "cell_type": "code",
   "execution_count": 5,
   "metadata": {},
   "outputs": [
    {
     "name": "stdout",
     "output_type": "stream",
     "text": [
      "Number of rows = 3\n",
      "Number of unique nf_location_num = 3\n",
      "Number of unique fain_id = 3\n",
      "Number of unique nf_name = 3\n"
     ]
    }
   ],
   "source": [
    "num_rows_orig = len(df) # We will use this value for consistency tests later.\n",
    "\n",
    "print('Number of rows =', num_rows_orig)\n",
    "print('Number of unique nf_location_num =', df['nf_location_num'].nunique())\n",
    "print('Number of unique fain_id =', df['fain_id'].nunique())\n",
    "print('Number of unique nf_name =', df['nf_name'].nunique())"
   ]
  },
  {
   "cell_type": "markdown",
   "metadata": {},
   "source": [
    "It seems there are various variables uniquely identify each facility. We will use **fain_id** as the unique ID fore each facility."
   ]
  },
  {
   "cell_type": "markdown",
   "metadata": {},
   "source": [
    "### Subsetting: Only facilities that have reports"
   ]
  },
  {
   "cell_type": "markdown",
   "metadata": {},
   "source": [
    "How many facilities have reports and how many don't?"
   ]
  },
  {
   "cell_type": "code",
   "execution_count": 6,
   "metadata": {},
   "outputs": [
    {
     "data": {
      "text/plain": [
       "Yes    3\n",
       "Name: has_reports?, dtype: int64"
      ]
     },
     "execution_count": 6,
     "metadata": {},
     "output_type": "execute_result"
    }
   ],
   "source": [
    "df['has_reports?'].value_counts(dropna=False)"
   ]
  },
  {
   "cell_type": "code",
   "execution_count": 7,
   "metadata": {},
   "outputs": [
    {
     "data": {
      "text/plain": [
       "Yes    1.0\n",
       "Name: has_reports?, dtype: float64"
      ]
     },
     "execution_count": 7,
     "metadata": {},
     "output_type": "execute_result"
    }
   ],
   "source": [
    "df['has_reports?'].value_counts(dropna=False, normalize=True)"
   ]
  },
  {
   "cell_type": "markdown",
   "metadata": {},
   "source": [
    "So there are **208** unique nursing home facilities, out of which **201** (**97%**) have reports.\n",
    "\n",
    "Let's break down the dataframe, based on whether a facility has reports or not."
   ]
  },
  {
   "cell_type": "code",
   "execution_count": 8,
   "metadata": {},
   "outputs": [],
   "source": [
    "# Make a DF for the facilities with no reports\n",
    "df_no_reports = df[df['has_reports?'] == 'No']\n",
    "df_no_reports = df_no_reports.reset_index(drop=True)\n",
    "df_no_reports\n",
    "\n",
    "# Filter out from dd_fac those facilities with no reports\n",
    "df = df[df['has_reports?'] == 'Yes']\n",
    "df = df.reset_index(drop=True)"
   ]
  },
  {
   "cell_type": "markdown",
   "metadata": {},
   "source": [
    "### Consistency test"
   ]
  },
  {
   "cell_type": "code",
   "execution_count": 9,
   "metadata": {},
   "outputs": [],
   "source": [
    "# Confirm that the facilities marked as having no reports show no query link\n",
    "# assert df_no_reports['reports_location'].str.strip().all() == ''\n",
    "\n",
    "# Confirm no rows were lost during the dataframe split\n",
    "assert len(df) + len(df_no_reports) == num_rows_orig"
   ]
  },
  {
   "cell_type": "code",
   "execution_count": 10,
   "metadata": {},
   "outputs": [
    {
     "data": {
      "text/html": [
       "<div>\n",
       "<style scoped>\n",
       "    .dataframe tbody tr th:only-of-type {\n",
       "        vertical-align: middle;\n",
       "    }\n",
       "\n",
       "    .dataframe tbody tr th {\n",
       "        vertical-align: top;\n",
       "    }\n",
       "\n",
       "    .dataframe thead th {\n",
       "        text-align: right;\n",
       "    }\n",
       "</style>\n",
       "<table border=\"1\" class=\"dataframe\">\n",
       "  <thead>\n",
       "    <tr style=\"text-align: right;\">\n",
       "      <th></th>\n",
       "      <th>nf_location_num</th>\n",
       "      <th>nf_loc_region_cde</th>\n",
       "      <th>nf_loc_street_address</th>\n",
       "      <th>nf_loc_city</th>\n",
       "      <th>nf_loc_zip_cde</th>\n",
       "      <th>nf_loc_phone_num</th>\n",
       "      <th>nf_loc_fax_num</th>\n",
       "      <th>nf_mailing_address</th>\n",
       "      <th>nf_mailing_city</th>\n",
       "      <th>nf_mailing_state</th>\n",
       "      <th>...</th>\n",
       "      <th>nf_ssps</th>\n",
       "      <th>rcsunit</th>\n",
       "      <th>total_beds_nf_bed_count</th>\n",
       "      <th>xviii_beds_nf_bed_count</th>\n",
       "      <th>xix_beds_nf_bed_count</th>\n",
       "      <th>t1819_beds_nf_bed_count</th>\n",
       "      <th>fain_id</th>\n",
       "      <th>nf_bed_type_desc</th>\n",
       "      <th>has_reports?</th>\n",
       "      <th>reports_location</th>\n",
       "    </tr>\n",
       "  </thead>\n",
       "  <tbody>\n",
       "    <tr>\n",
       "      <th>0</th>\n",
       "      <td>40990</td>\n",
       "      <td>3</td>\n",
       "      <td>2811 NE 139TH ST</td>\n",
       "      <td>VANCOUVER</td>\n",
       "      <td>986862724</td>\n",
       "      <td>3605745247</td>\n",
       "      <td>3605749126</td>\n",
       "      <td>2811 NE 139TH ST</td>\n",
       "      <td>VANCOUVER</td>\n",
       "      <td>WA</td>\n",
       "      <td>...</td>\n",
       "      <td>NaN</td>\n",
       "      <td>C</td>\n",
       "      <td>120</td>\n",
       "      <td>NaN</td>\n",
       "      <td>NaN</td>\n",
       "      <td>120</td>\n",
       "      <td>45544</td>\n",
       "      <td>Title 18/19</td>\n",
       "      <td>Yes</td>\n",
       "      <td>https://fortress.wa.gov/dshs/adsaapps/lookup/N...</td>\n",
       "    </tr>\n",
       "    <tr>\n",
       "      <th>1</th>\n",
       "      <td>35900</td>\n",
       "      <td>2</td>\n",
       "      <td>555 16th Ave</td>\n",
       "      <td>Seattle</td>\n",
       "      <td>98122</td>\n",
       "      <td>2063248200</td>\n",
       "      <td>2067098457</td>\n",
       "      <td>555 16th Ave</td>\n",
       "      <td>Seattle</td>\n",
       "      <td>WA</td>\n",
       "      <td>...</td>\n",
       "      <td>NaN</td>\n",
       "      <td>H</td>\n",
       "      <td>103</td>\n",
       "      <td>0.0</td>\n",
       "      <td>0.0</td>\n",
       "      <td>103</td>\n",
       "      <td>45975</td>\n",
       "      <td>Title 18/19</td>\n",
       "      <td>Yes</td>\n",
       "      <td>https://fortress.wa.gov/dshs/adsaapps/lookup/N...</td>\n",
       "    </tr>\n",
       "    <tr>\n",
       "      <th>2</th>\n",
       "      <td>40040</td>\n",
       "      <td>3</td>\n",
       "      <td>3309 45th Street Ct</td>\n",
       "      <td>Gig Harbor</td>\n",
       "      <td>98335</td>\n",
       "      <td>2538588688</td>\n",
       "      <td>2538588683</td>\n",
       "      <td>3309 45th Street Ct</td>\n",
       "      <td>Gig Harbor</td>\n",
       "      <td>WA</td>\n",
       "      <td>...</td>\n",
       "      <td>NaN</td>\n",
       "      <td>B</td>\n",
       "      <td>120</td>\n",
       "      <td>NaN</td>\n",
       "      <td>NaN</td>\n",
       "      <td>120</td>\n",
       "      <td>45542</td>\n",
       "      <td>Title 18/19</td>\n",
       "      <td>Yes</td>\n",
       "      <td>https://fortress.wa.gov/dshs/adsaapps/lookup/N...</td>\n",
       "    </tr>\n",
       "  </tbody>\n",
       "</table>\n",
       "<p>3 rows × 32 columns</p>\n",
       "</div>"
      ],
      "text/plain": [
       "   nf_location_num  nf_loc_region_cde nf_loc_street_address nf_loc_city  \\\n",
       "0            40990                  3      2811 NE 139TH ST   VANCOUVER   \n",
       "1            35900                  2          555 16th Ave     Seattle   \n",
       "2            40040                  3   3309 45th Street Ct  Gig Harbor   \n",
       "\n",
       "   nf_loc_zip_cde  nf_loc_phone_num  nf_loc_fax_num   nf_mailing_address  \\\n",
       "0       986862724        3605745247      3605749126     2811 NE 139TH ST   \n",
       "1           98122        2063248200      2067098457         555 16th Ave   \n",
       "2           98335        2538588688      2538588683  3309 45th Street Ct   \n",
       "\n",
       "  nf_mailing_city nf_mailing_state  ...  nf_ssps rcsunit  \\\n",
       "0       VANCOUVER               WA  ...      NaN       C   \n",
       "1         Seattle               WA  ...      NaN       H   \n",
       "2      Gig Harbor               WA  ...      NaN       B   \n",
       "\n",
       "   total_beds_nf_bed_count  xviii_beds_nf_bed_count xix_beds_nf_bed_count  \\\n",
       "0                      120                      NaN                   NaN   \n",
       "1                      103                      0.0                   0.0   \n",
       "2                      120                      NaN                   NaN   \n",
       "\n",
       "  t1819_beds_nf_bed_count fain_id nf_bed_type_desc has_reports?  \\\n",
       "0                     120   45544      Title 18/19          Yes   \n",
       "1                     103   45975      Title 18/19          Yes   \n",
       "2                     120   45542      Title 18/19          Yes   \n",
       "\n",
       "                                    reports_location  \n",
       "0  https://fortress.wa.gov/dshs/adsaapps/lookup/N...  \n",
       "1  https://fortress.wa.gov/dshs/adsaapps/lookup/N...  \n",
       "2  https://fortress.wa.gov/dshs/adsaapps/lookup/N...  \n",
       "\n",
       "[3 rows x 32 columns]"
      ]
     },
     "execution_count": 10,
     "metadata": {},
     "output_type": "execute_result"
    }
   ],
   "source": [
    "df"
   ]
  },
  {
   "cell_type": "markdown",
   "metadata": {},
   "source": [
    "# C. Downloading nursing home reports"
   ]
  },
  {
   "cell_type": "code",
   "execution_count": 11,
   "metadata": {},
   "outputs": [],
   "source": [
    "# As we dowload each report, we will save some of its metadata in this new DF:\n",
    "df_reports = pd.DataFrame(columns = ['fain_id', 'nf_name', 'pdf_name', 'rep_type', 'rep_date', 'download_record'])\n",
    "\n",
    "\n",
    "pdf_downld_path = path + 'PDFs/'\n",
    "\n",
    "# Each iteration of this first loop correspond to a single facility\n",
    "for index, row in df.iterrows():\n",
    "\n",
    "    # Send a URL request to the site that contains all the links to each of the reports for a single facility.\n",
    "    page = requests.get(row['reports_location'])\n",
    "    soup = bs4.BeautifulSoup(page.text, 'html.parser')\n",
    "    # The list of links to each of the reports is contained it a 'div' table with id='content_results'\n",
    "    table = soup.find('div', {\"id\": \"content_results\"})\n",
    "    # The following is the list of all the elements that contain the URLs to the PDFs\n",
    "    ls_li = table.find_all('li')\n",
    "\n",
    "    # Each iteration of this second loop corresponds to a single PDF report (from a single facility)\n",
    "    for li in ls_li:\n",
    "\n",
    "        # Send the request for the PDF report\n",
    "        pdf_url = li.find('a').get('href')\n",
    "        pdf = requests.get('https://fortress.wa.gov' + pdf_url)\n",
    "        \n",
    "        # Obtain some metadata from the report\n",
    "        pdf_name = pdf_url.split(\"/\")[-1]\n",
    "        rep_type = re.search('\\d{2}\\/\\d{4}\\s-\\s(.*)$', li.find('a').contents[0]).groups()[0]\n",
    "        rep_date = re.search('(\\d{2}\\/\\d{4})', li.find('a').contents[0]).groups()[0]\n",
    "\n",
    "        # We will not download fire inspection reports this time.\n",
    "        if 'fire' not in rep_type.lower():\n",
    "            # Save down the PDF\n",
    "            open(pdf_downld_path + pdf_name, 'wb').write(pdf.content)\n",
    "            # Save the report's metadata in 'df_reports'\n",
    "            new_record = {'fain_id':row['fain_id'], \n",
    "                          'nf_name':row['nf_name'], \n",
    "                          'pdf_name':pdf_name, \n",
    "                          'rep_type':rep_type, \n",
    "                          'rep_date':rep_date, \n",
    "                          'download_record':time.ctime()}\n",
    "            df_reports = df_reports.append(new_record, ignore_index=True)\n",
    "            del(new_record)\n",
    "        del(pdf_url, pdf, pdf_name, rep_type, rep_date)\n",
    "        time.sleep(1)\n",
    "\n",
    "    del(page, soup, table, ls_li)"
   ]
  },
  {
   "cell_type": "code",
   "execution_count": 12,
   "metadata": {},
   "outputs": [],
   "source": [
    "df_reports.to_csv('/Users/mvilla/Documents/repos/covid19_rcf_20200313_big_data/NH/metadata_BETA.csv', index=False)"
   ]
  },
  {
   "cell_type": "code",
   "execution_count": null,
   "metadata": {},
   "outputs": [],
   "source": []
  }
 ],
 "metadata": {
  "kernelspec": {
   "display_name": "Python 3",
   "language": "python",
   "name": "python3"
  },
  "language_info": {
   "codemirror_mode": {
    "name": "ipython",
    "version": 3
   },
   "file_extension": ".py",
   "mimetype": "text/x-python",
   "name": "python",
   "nbconvert_exporter": "python",
   "pygments_lexer": "ipython3",
   "version": "3.7.7"
  }
 },
 "nbformat": 4,
 "nbformat_minor": 4
}
