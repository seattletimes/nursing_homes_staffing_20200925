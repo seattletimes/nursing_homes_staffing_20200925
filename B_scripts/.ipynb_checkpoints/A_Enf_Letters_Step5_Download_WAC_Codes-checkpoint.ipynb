{
 "cells": [
  {
   "cell_type": "markdown",
   "metadata": {},
   "source": [
    "# What this script does"
   ]
  },
  {
   "cell_type": "markdown",
   "metadata": {},
   "source": [
    "The data we scraped from the enforcement letters include the [Washington Administrative Codes (WAC)](https://apps.leg.wa.gov/wac/default.aspx?cite=388-97) that the surveyed nursing homes were found to be out of compliance with.\n",
    "\n",
    "In this script, we add the details of each of those codes."
   ]
  },
  {
   "cell_type": "markdown",
   "metadata": {},
   "source": [
    "# I. Settings"
   ]
  },
  {
   "cell_type": "code",
   "execution_count": 1,
   "metadata": {},
   "outputs": [],
   "source": [
    "import pandas as pd\n",
    "import requests\n",
    "import bs4\n",
    "import numpy as np\n",
    "import re\n",
    "import time"
   ]
  },
  {
   "cell_type": "code",
   "execution_count": 2,
   "metadata": {},
   "outputs": [],
   "source": [
    "output_path = '../C_output_data/'"
   ]
  },
  {
   "cell_type": "markdown",
   "metadata": {},
   "source": [
    "# II. Hieararchy"
   ]
  },
  {
   "cell_type": "markdown",
   "metadata": {},
   "source": [
    "## TITLE AREA\n",
    "## Title\n",
    "### SUBCHAPTER\n",
    "### Chapter\n",
    "#### Section"
   ]
  },
  {
   "cell_type": "markdown",
   "metadata": {},
   "source": [
    "# III. Scraping fest"
   ]
  },
  {
   "cell_type": "markdown",
   "metadata": {},
   "source": [
    "## III.1. Title 338"
   ]
  },
  {
   "cell_type": "code",
   "execution_count": 3,
   "metadata": {},
   "outputs": [],
   "source": [
    "# Send a URL request to the site that contains all the Title 388 chapters\n",
    "page = requests.get('https://apps.leg.wa.gov/wac/default.aspx?cite=388')\n",
    "soup = bs4.BeautifulSoup(page.text, 'html.parser')\n",
    "\n",
    "# The list of links to each of the reports is contained it a 'div' table with id='content_results'\n",
    "table = soup.find('table')\n",
    "ls_tr = table.find_all('tr')"
   ]
  },
  {
   "cell_type": "code",
   "execution_count": 4,
   "metadata": {},
   "outputs": [],
   "source": [
    "# As we dowload all reports from all facilities, we will save some of their metadata in this new DF:\n",
    "df_t338 = pd.DataFrame(columns = ['area', 'ttl_chp', 'ttl_chp_desc', 'ttl_chp_link'])\n",
    "\n",
    "for tr in ls_tr:\n",
    "    if tr.find('td', {'colspan':'2'}):\n",
    "        new_record = {'area':tr.find('td').text,\n",
    "                      'ttl_chp':np.nan,\n",
    "                      'ttl_chp_link':np.nan,\n",
    "                      'ttl_chp_desc':np.nan}\n",
    "    else:\n",
    "        new_record = {'area':np.nan,\n",
    "                      'ttl_chp':tr.find_all('td')[0].text,\n",
    "                      'ttl_chp_link':tr.find_all('td')[0].find('a').get('href'),\n",
    "                      'ttl_chp_desc':tr.find_all('td')[1].text}\n",
    "    df_t338 = df_t338.append(new_record, ignore_index=True)\n",
    "    del(new_record)\n",
    "\n",
    "df_t338['area'] = df_t338['area'].fillna(method='ffill')\n",
    "\n",
    "df_t338.dropna(axis=0, how='any', inplace=True)\n",
    "df_t338.reset_index(drop=True, inplace=True)"
   ]
  },
  {
   "cell_type": "code",
   "execution_count": 5,
   "metadata": {},
   "outputs": [
    {
     "data": {
      "text/html": [
       "<div>\n",
       "<style scoped>\n",
       "    .dataframe tbody tr th:only-of-type {\n",
       "        vertical-align: middle;\n",
       "    }\n",
       "\n",
       "    .dataframe tbody tr th {\n",
       "        vertical-align: top;\n",
       "    }\n",
       "\n",
       "    .dataframe thead th {\n",
       "        text-align: right;\n",
       "    }\n",
       "</style>\n",
       "<table border=\"1\" class=\"dataframe\">\n",
       "  <thead>\n",
       "    <tr style=\"text-align: right;\">\n",
       "      <th></th>\n",
       "      <th>area</th>\n",
       "      <th>ttl_chp</th>\n",
       "      <th>ttl_chp_desc</th>\n",
       "      <th>ttl_chp_link</th>\n",
       "    </tr>\n",
       "  </thead>\n",
       "  <tbody>\n",
       "    <tr>\n",
       "      <th>0</th>\n",
       "      <td>GENERAL</td>\n",
       "      <td>388-01</td>\n",
       "      <td>DSHS organization/disclosure of public records.</td>\n",
       "      <td>default.aspx?cite=388-01</td>\n",
       "    </tr>\n",
       "    <tr>\n",
       "      <th>1</th>\n",
       "      <td>GENERAL</td>\n",
       "      <td>388-02</td>\n",
       "      <td>DSHS hearing rules.</td>\n",
       "      <td>default.aspx?cite=388-02</td>\n",
       "    </tr>\n",
       "    <tr>\n",
       "      <th>2</th>\n",
       "      <td>GENERAL</td>\n",
       "      <td>388-03</td>\n",
       "      <td>Certification of DSHS spoken language interpre...</td>\n",
       "      <td>default.aspx?cite=388-03</td>\n",
       "    </tr>\n",
       "    <tr>\n",
       "      <th>3</th>\n",
       "      <td>GENERAL</td>\n",
       "      <td>388-04</td>\n",
       "      <td>Protection of human research subjects.</td>\n",
       "      <td>default.aspx?cite=388-04</td>\n",
       "    </tr>\n",
       "    <tr>\n",
       "      <th>4</th>\n",
       "      <td>GENERAL</td>\n",
       "      <td>388-05</td>\n",
       "      <td>Contractor billing requirements—General.</td>\n",
       "      <td>default.aspx?cite=388-05</td>\n",
       "    </tr>\n",
       "    <tr>\n",
       "      <th>...</th>\n",
       "      <td>...</td>\n",
       "      <td>...</td>\n",
       "      <td>...</td>\n",
       "      <td>...</td>\n",
       "    </tr>\n",
       "    <tr>\n",
       "      <th>105</th>\n",
       "      <td>SPECIAL COMMITMENT CENTER</td>\n",
       "      <td>388-880</td>\n",
       "      <td>Special commitment—Sexually violent predators.</td>\n",
       "      <td>default.aspx?cite=388-880</td>\n",
       "    </tr>\n",
       "    <tr>\n",
       "      <th>106</th>\n",
       "      <td>SPECIAL COMMITMENT CENTER</td>\n",
       "      <td>388-881</td>\n",
       "      <td>Sexual predator program—External oversight.</td>\n",
       "      <td>default.aspx?cite=388-881</td>\n",
       "    </tr>\n",
       "    <tr>\n",
       "      <th>107</th>\n",
       "      <td>SPECIAL COMMITMENT CENTER</td>\n",
       "      <td>388-885</td>\n",
       "      <td>Civil commitment cost reimbursement.</td>\n",
       "      <td>default.aspx?cite=388-885</td>\n",
       "    </tr>\n",
       "    <tr>\n",
       "      <th>108</th>\n",
       "      <td>VOCATIONAL REHABILITATION</td>\n",
       "      <td>388-891A</td>\n",
       "      <td>Vocational rehabilitation services for individ...</td>\n",
       "      <td>default.aspx?cite=388-891A</td>\n",
       "    </tr>\n",
       "    <tr>\n",
       "      <th>109</th>\n",
       "      <td>VOCATIONAL REHABILITATION</td>\n",
       "      <td>388-892</td>\n",
       "      <td>Purchase of services—Selection criteria—DVR vo...</td>\n",
       "      <td>default.aspx?cite=388-892</td>\n",
       "    </tr>\n",
       "  </tbody>\n",
       "</table>\n",
       "<p>110 rows × 4 columns</p>\n",
       "</div>"
      ],
      "text/plain": [
       "                          area    ttl_chp  \\\n",
       "0                      GENERAL     388-01   \n",
       "1                      GENERAL     388-02   \n",
       "2                      GENERAL     388-03   \n",
       "3                      GENERAL     388-04   \n",
       "4                      GENERAL     388-05   \n",
       "..                         ...        ...   \n",
       "105  SPECIAL COMMITMENT CENTER    388-880   \n",
       "106  SPECIAL COMMITMENT CENTER    388-881   \n",
       "107  SPECIAL COMMITMENT CENTER    388-885   \n",
       "108  VOCATIONAL REHABILITATION   388-891A   \n",
       "109  VOCATIONAL REHABILITATION    388-892   \n",
       "\n",
       "                                          ttl_chp_desc  \\\n",
       "0      DSHS organization/disclosure of public records.   \n",
       "1                                  DSHS hearing rules.   \n",
       "2    Certification of DSHS spoken language interpre...   \n",
       "3              Protection of human research subjects.    \n",
       "4             Contractor billing requirements—General.   \n",
       "..                                                 ...   \n",
       "105     Special commitment—Sexually violent predators.   \n",
       "106        Sexual predator program—External oversight.   \n",
       "107               Civil commitment cost reimbursement.   \n",
       "108  Vocational rehabilitation services for individ...   \n",
       "109  Purchase of services—Selection criteria—DVR vo...   \n",
       "\n",
       "                   ttl_chp_link  \n",
       "0      default.aspx?cite=388-01  \n",
       "1      default.aspx?cite=388-02  \n",
       "2      default.aspx?cite=388-03  \n",
       "3      default.aspx?cite=388-04  \n",
       "4      default.aspx?cite=388-05  \n",
       "..                          ...  \n",
       "105   default.aspx?cite=388-880  \n",
       "106   default.aspx?cite=388-881  \n",
       "107   default.aspx?cite=388-885  \n",
       "108  default.aspx?cite=388-891A  \n",
       "109   default.aspx?cite=388-892  \n",
       "\n",
       "[110 rows x 4 columns]"
      ]
     },
     "execution_count": 5,
     "metadata": {},
     "output_type": "execute_result"
    }
   ],
   "source": [
    "df_t338"
   ]
  },
  {
   "cell_type": "markdown",
   "metadata": {},
   "source": [
    "## III.2. Title 338 Chapter 97"
   ]
  },
  {
   "cell_type": "code",
   "execution_count": 6,
   "metadata": {},
   "outputs": [],
   "source": [
    "# Send a URL request to the site that contains all the Title 388 chapters\n",
    "del(page, soup)\n",
    "page = requests.get('https://apps.leg.wa.gov/wac/default.aspx?cite=388-97')\n",
    "soup = bs4.BeautifulSoup(page.text, 'html.parser')\n",
    "\n",
    "# The list of links to each of the reports is contained it a 'div' table with id='content_results'\n",
    "table = soup.find('table')\n",
    "ls_tr = table.find_all('tr')"
   ]
  },
  {
   "cell_type": "code",
   "execution_count": 7,
   "metadata": {},
   "outputs": [],
   "source": [
    "# As we dowload all reports from all facilities, we will save some of their metadata in this new DF:\n",
    "df_t338c97 = pd.DataFrame(columns = ['sub_chp_num', 'sub_chp_name', 'section',\n",
    "                                      'ttl_chp_sec', 'ttl_chp_sec_desc'])\n",
    "\n",
    "for tr in ls_tr:\n",
    "\n",
    "    if tr.find('td', {'colspan':'3'}):\n",
    "        \n",
    "        if len(tr.find_all('div')) == 3:\n",
    "            new_record = {'sub_chp_num':tr.find_all('div')[0].text,\n",
    "                          'sub_chp_name':tr.find_all('div')[1].text,\n",
    "                          'section':tr.find_all('div')[2].text,\n",
    "                          'ttl_chp_sec':np.nan,\n",
    "                          'ttl_chp_sec_desc':np.nan}\n",
    "            \n",
    "        elif len(tr.find_all('div')) == 2:\n",
    "            new_record = {'sub_chp_num':tr.find_all('div')[0].text,\n",
    "                          'sub_chp_name':tr.find_all('div')[1].text,\n",
    "                          'section':np.nan,\n",
    "                          'ttl_chp_sec':np.nan,\n",
    "                          'ttl_chp_sec_desc':np.nan}\n",
    "            \n",
    "        elif len(tr.find_all('div')) == 1:\n",
    "            new_record = {'sub_chp_num':np.nan,\n",
    "                          'sub_chp_name':np.nan,\n",
    "                          'section':tr.find_all('div')[0].text,\n",
    "                          'ttl_chp_sec':np.nan,\n",
    "                          'ttl_chp_sec_desc':np.nan}\n",
    "            \n",
    "    else:\n",
    "        \n",
    "        new_record = {'sub_chp_num':np.nan,\n",
    "                      'sub_chp_name':np.nan,\n",
    "                      'section':np.nan,\n",
    "                      'ttl_chp_sec':tr.find_all('td')[1].text,\n",
    "                      'ttl_chp_sec_desc':tr.find_all('td')[2].text}\n",
    "\n",
    "    df_t338c97 = df_t338c97.append(new_record, ignore_index=True)\n",
    "\n",
    "df_t338c97['sub_chp_num'] = df_t338c97['sub_chp_num'].fillna(method='ffill')\n",
    "df_t338c97['sub_chp_name'] = df_t338c97['sub_chp_name'].fillna(method='ffill')\n",
    "df_t338c97['section'] = df_t338c97['section'].fillna(method='ffill')\n",
    "\n",
    "df_t338c97 = df_t338c97[~df_t338c97.isna().any(axis=1)]\n",
    "df_t338c97.reset_index(drop=True, inplace=True)"
   ]
  },
  {
   "cell_type": "code",
   "execution_count": 8,
   "metadata": {},
   "outputs": [
    {
     "data": {
      "text/html": [
       "<div>\n",
       "<style scoped>\n",
       "    .dataframe tbody tr th:only-of-type {\n",
       "        vertical-align: middle;\n",
       "    }\n",
       "\n",
       "    .dataframe tbody tr th {\n",
       "        vertical-align: top;\n",
       "    }\n",
       "\n",
       "    .dataframe thead th {\n",
       "        text-align: right;\n",
       "    }\n",
       "</style>\n",
       "<table border=\"1\" class=\"dataframe\">\n",
       "  <thead>\n",
       "    <tr style=\"text-align: right;\">\n",
       "      <th></th>\n",
       "      <th>sub_chp_num</th>\n",
       "      <th>sub_chp_name</th>\n",
       "      <th>section</th>\n",
       "      <th>ttl_chp_sec</th>\n",
       "      <th>ttl_chp_sec_desc</th>\n",
       "    </tr>\n",
       "  </thead>\n",
       "  <tbody>\n",
       "    <tr>\n",
       "      <th>0</th>\n",
       "      <td>SUBCHAPTER I</td>\n",
       "      <td>RESIDENT RIGHTS, CARE AND RELATED SERVICES</td>\n",
       "      <td>Definitions</td>\n",
       "      <td>388-97-0001</td>\n",
       "      <td>Definitions.</td>\n",
       "    </tr>\n",
       "    <tr>\n",
       "      <th>1</th>\n",
       "      <td>SUBCHAPTER I</td>\n",
       "      <td>RESIDENT RIGHTS, CARE AND RELATED SERVICES</td>\n",
       "      <td>Admission, Transfer and Discharge</td>\n",
       "      <td>388-97-0020</td>\n",
       "      <td>Nursing facility care.</td>\n",
       "    </tr>\n",
       "    <tr>\n",
       "      <th>2</th>\n",
       "      <td>SUBCHAPTER I</td>\n",
       "      <td>RESIDENT RIGHTS, CARE AND RELATED SERVICES</td>\n",
       "      <td>Admission, Transfer and Discharge</td>\n",
       "      <td>388-97-0040</td>\n",
       "      <td>Discrimination prohibited.</td>\n",
       "    </tr>\n",
       "    <tr>\n",
       "      <th>3</th>\n",
       "      <td>SUBCHAPTER I</td>\n",
       "      <td>RESIDENT RIGHTS, CARE AND RELATED SERVICES</td>\n",
       "      <td>Admission, Transfer and Discharge</td>\n",
       "      <td>388-97-0060</td>\n",
       "      <td>Nursing facility admission and payment require...</td>\n",
       "    </tr>\n",
       "    <tr>\n",
       "      <th>4</th>\n",
       "      <td>SUBCHAPTER I</td>\n",
       "      <td>RESIDENT RIGHTS, CARE AND RELATED SERVICES</td>\n",
       "      <td>Admission, Transfer and Discharge</td>\n",
       "      <td>388-97-0080</td>\n",
       "      <td>Discharge planning.</td>\n",
       "    </tr>\n",
       "    <tr>\n",
       "      <th>...</th>\n",
       "      <td>...</td>\n",
       "      <td>...</td>\n",
       "      <td>...</td>\n",
       "      <td>...</td>\n",
       "      <td>...</td>\n",
       "    </tr>\n",
       "    <tr>\n",
       "      <th>237</th>\n",
       "      <td>SUBCHAPTER IV</td>\n",
       "      <td>NURSING HOME LICENSURE PROGRAM ADMINISTRATION</td>\n",
       "      <td>Licensed Bed Capacity, Relocation of Residents...</td>\n",
       "      <td>388-97-4640</td>\n",
       "      <td>Receivership.</td>\n",
       "    </tr>\n",
       "    <tr>\n",
       "      <th>238</th>\n",
       "      <td>SUBCHAPTER IV</td>\n",
       "      <td>NURSING HOME LICENSURE PROGRAM ADMINISTRATION</td>\n",
       "      <td>Licensed Bed Capacity, Relocation of Residents...</td>\n",
       "      <td>388-97-4660</td>\n",
       "      <td>Temporary managers and receivers—Application.</td>\n",
       "    </tr>\n",
       "    <tr>\n",
       "      <th>239</th>\n",
       "      <td>SUBCHAPTER IV</td>\n",
       "      <td>NURSING HOME LICENSURE PROGRAM ADMINISTRATION</td>\n",
       "      <td>Licensed Bed Capacity, Relocation of Residents...</td>\n",
       "      <td>388-97-4680</td>\n",
       "      <td>Temporary managers and receivers—Consideration...</td>\n",
       "    </tr>\n",
       "    <tr>\n",
       "      <th>240</th>\n",
       "      <td>SUBCHAPTER IV</td>\n",
       "      <td>NURSING HOME LICENSURE PROGRAM ADMINISTRATION</td>\n",
       "      <td>Licensed Bed Capacity, Relocation of Residents...</td>\n",
       "      <td>388-97-4700</td>\n",
       "      <td>Duties and powers of temporary manager and rec...</td>\n",
       "    </tr>\n",
       "    <tr>\n",
       "      <th>241</th>\n",
       "      <td>SUBCHAPTER IV</td>\n",
       "      <td>NURSING HOME LICENSURE PROGRAM ADMINISTRATION</td>\n",
       "      <td>Licensed Bed Capacity, Relocation of Residents...</td>\n",
       "      <td>388-97-4720</td>\n",
       "      <td>Termination of temporary management and receiv...</td>\n",
       "    </tr>\n",
       "  </tbody>\n",
       "</table>\n",
       "<p>242 rows × 5 columns</p>\n",
       "</div>"
      ],
      "text/plain": [
       "       sub_chp_num                                   sub_chp_name  \\\n",
       "0     SUBCHAPTER I     RESIDENT RIGHTS, CARE AND RELATED SERVICES   \n",
       "1     SUBCHAPTER I     RESIDENT RIGHTS, CARE AND RELATED SERVICES   \n",
       "2     SUBCHAPTER I     RESIDENT RIGHTS, CARE AND RELATED SERVICES   \n",
       "3     SUBCHAPTER I     RESIDENT RIGHTS, CARE AND RELATED SERVICES   \n",
       "4     SUBCHAPTER I     RESIDENT RIGHTS, CARE AND RELATED SERVICES   \n",
       "..             ...                                            ...   \n",
       "237  SUBCHAPTER IV  NURSING HOME LICENSURE PROGRAM ADMINISTRATION   \n",
       "238  SUBCHAPTER IV  NURSING HOME LICENSURE PROGRAM ADMINISTRATION   \n",
       "239  SUBCHAPTER IV  NURSING HOME LICENSURE PROGRAM ADMINISTRATION   \n",
       "240  SUBCHAPTER IV  NURSING HOME LICENSURE PROGRAM ADMINISTRATION   \n",
       "241  SUBCHAPTER IV  NURSING HOME LICENSURE PROGRAM ADMINISTRATION   \n",
       "\n",
       "                                               section  ttl_chp_sec  \\\n",
       "0                                          Definitions  388-97-0001   \n",
       "1                    Admission, Transfer and Discharge  388-97-0020   \n",
       "2                    Admission, Transfer and Discharge  388-97-0040   \n",
       "3                    Admission, Transfer and Discharge  388-97-0060   \n",
       "4                    Admission, Transfer and Discharge  388-97-0080   \n",
       "..                                                 ...          ...   \n",
       "237  Licensed Bed Capacity, Relocation of Residents...  388-97-4640   \n",
       "238  Licensed Bed Capacity, Relocation of Residents...  388-97-4660   \n",
       "239  Licensed Bed Capacity, Relocation of Residents...  388-97-4680   \n",
       "240  Licensed Bed Capacity, Relocation of Residents...  388-97-4700   \n",
       "241  Licensed Bed Capacity, Relocation of Residents...  388-97-4720   \n",
       "\n",
       "                                      ttl_chp_sec_desc  \n",
       "0                                         Definitions.  \n",
       "1                               Nursing facility care.  \n",
       "2                           Discrimination prohibited.  \n",
       "3    Nursing facility admission and payment require...  \n",
       "4                                  Discharge planning.  \n",
       "..                                                 ...  \n",
       "237                                      Receivership.  \n",
       "238      Temporary managers and receivers—Application.  \n",
       "239  Temporary managers and receivers—Consideration...  \n",
       "240  Duties and powers of temporary manager and rec...  \n",
       "241  Termination of temporary management and receiv...  \n",
       "\n",
       "[242 rows x 5 columns]"
      ]
     },
     "execution_count": 8,
     "metadata": {},
     "output_type": "execute_result"
    }
   ],
   "source": [
    "df_t338c97"
   ]
  },
  {
   "cell_type": "code",
   "execution_count": 9,
   "metadata": {},
   "outputs": [
    {
     "data": {
      "text/plain": [
       "SUBCHAPTER II     105\n",
       "SUBCHAPTER I      103\n",
       "SUBCHAPTER IV      21\n",
       "SUBCHAPTER III     13\n",
       "Name: sub_chp_num, dtype: int64"
      ]
     },
     "execution_count": 9,
     "metadata": {},
     "output_type": "execute_result"
    }
   ],
   "source": [
    "df_t338c97['sub_chp_num'].value_counts(dropna=False)"
   ]
  },
  {
   "cell_type": "code",
   "execution_count": 10,
   "metadata": {},
   "outputs": [
    {
     "data": {
      "text/plain": [
       "PHYSICAL ENVIRONMENT                             105\n",
       "RESIDENT RIGHTS, CARE AND RELATED SERVICES       103\n",
       "NURSING HOME LICENSURE PROGRAM ADMINISTRATION     21\n",
       "NURSING HOME LICENSE                              13\n",
       "Name: sub_chp_name, dtype: int64"
      ]
     },
     "execution_count": 10,
     "metadata": {},
     "output_type": "execute_result"
    }
   ],
   "source": [
    "df_t338c97['sub_chp_name'].value_counts(dropna=False)"
   ]
  },
  {
   "cell_type": "code",
   "execution_count": 11,
   "metadata": {},
   "outputs": [
    {
     "data": {
      "text/plain": [
       "Resident Rights                                                                         35\n",
       "Licensed Bed Capacity, Relocation of Residents and License Relinquishment               24\n",
       "Infection Control                                                                       14\n",
       "Administration                                                                          13\n",
       "Nursing Services                                                                        10\n",
       "General                                                                                  9\n",
       "General Design Requirements in New Construction                                          9\n",
       "Resident Care Unit                                                                       9\n",
       "Resident Room Equipment                                                                  9\n",
       "Lighting and Electrical                                                                  8\n",
       "Admission, Transfer and Discharge                                                        8\n",
       "Dementia Care Unit                                                                       7\n",
       "Quality of Life                                                                          7\n",
       "Administration and Public Areas in New Construction                                      6\n",
       "New Construction Documents                                                               6\n",
       "Resident Rooms                                                                           6\n",
       "Plumbing and Fixtures in New Construction                                                5\n",
       "Codes and Standards in New Construction                                                  4\n",
       "Preadmission Screening and Resident Review (PASRR) in Medicaid Certified Facilities.     4\n",
       "Initial License Application                                                              4\n",
       "Safety                                                                                   4\n",
       "Storage                                                                                  3\n",
       "Resident Toilet and Bathing Facilities                                                   3\n",
       "Heating, Ventilation, and Air Conditioning Systems in New Construction                   3\n",
       "Miscellaneous Services                                                                   3\n",
       "Water Supply                                                                             3\n",
       "Resident Assessment and Plan of Care                                                     3\n",
       "Department Review of License Applications and Appeals                                    3\n",
       "Pools and Pharmacies in New Construction                                                 2\n",
       "Visiting, Private, and Outdoor Recreation Space and Walkways in New Construction         2\n",
       "Pest Control and Sewage and Waste Disposal                                               2\n",
       "Management Agreements and Changes of Ownership                                           2\n",
       "Specialized and Outpatient Rehabilitation                                                2\n",
       "Specialized Habilitative and Rehabilitative Services                                     2\n",
       "Laundry Services                                                                         1\n",
       "Dining, Dayrooms, and Resident Activity Areas                                            1\n",
       "License Renewal                                                                          1\n",
       "Definitions                                                                              1\n",
       "Quality of Care                                                                          1\n",
       "Intermediate Care Facilities for the Mentally Retarded                                   1\n",
       "Food Services Areas                                                                      1\n",
       "Physician Services                                                                       1\n",
       "Name: section, dtype: int64"
      ]
     },
     "execution_count": 11,
     "metadata": {},
     "output_type": "execute_result"
    }
   ],
   "source": [
    "df_t338c97['section'].value_counts(dropna=False)"
   ]
  },
  {
   "cell_type": "code",
   "execution_count": 12,
   "metadata": {},
   "outputs": [],
   "source": [
    "# Consistency test\n",
    "assert len(df_t338c97) == df_t338c97['ttl_chp_sec_desc'].nunique()"
   ]
  },
  {
   "cell_type": "markdown",
   "metadata": {},
   "source": [
    "# Export"
   ]
  },
  {
   "cell_type": "code",
   "execution_count": 13,
   "metadata": {},
   "outputs": [],
   "source": [
    "df_t338.to_csv(output_path + 'wac_codes_title338.csv', index=False)\n",
    "df_t338c97.to_csv(output_path + 'wac_codes_df_t338c97.csv', index=False)"
   ]
  }
 ],
 "metadata": {
  "kernelspec": {
   "display_name": "Python 3",
   "language": "python",
   "name": "python3"
  },
  "language_info": {
   "codemirror_mode": {
    "name": "ipython",
    "version": 3
   },
   "file_extension": ".py",
   "mimetype": "text/x-python",
   "name": "python",
   "nbconvert_exporter": "python",
   "pygments_lexer": "ipython3",
   "version": "3.7.7"
  }
 },
 "nbformat": 4,
 "nbformat_minor": 4
}
