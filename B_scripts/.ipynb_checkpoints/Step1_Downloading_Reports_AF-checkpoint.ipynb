{
 "cells": [
  {
   "cell_type": "markdown",
   "metadata": {},
   "source": [
    "# I. Settings"
   ]
  },
  {
   "cell_type": "code",
   "execution_count": 1,
   "metadata": {},
   "outputs": [],
   "source": [
    "import pandas as pd\n",
    "import requests\n",
    "import bs4\n",
    "import re\n",
    "import time\n",
    "from os import listdir\n",
    "from PyPDF2 import PdfFileReader"
   ]
  },
  {
   "cell_type": "markdown",
   "metadata": {},
   "source": [
    "# II. Metadata file"
   ]
  },
  {
   "cell_type": "markdown",
   "metadata": {},
   "source": [
    "The Department of Social and Health Services's [adult family home locator](https://fortress.wa.gov/dshs/adsaapps/lookup/afhpublookup.aspx) provides a CSV file that contails the metadata of all the available PDF reports for **adult family homes**, including the URLs where the are saved down, and therefore where we can download them from.\n",
    "\n",
    "We have already downloaded this file. It is saved down in the *source_data* folder structure.\n"
   ]
  },
  {
   "cell_type": "code",
   "execution_count": 2,
   "metadata": {},
   "outputs": [],
   "source": [
    "# Pull the original data\n",
    "df_orig = pd.read_csv('../source_data/Listings/AFH_Listing.csv')\n",
    "\n",
    "# Create a workable copy of the DF\n",
    "df = df_orig.copy()\n",
    "\n",
    "# Standardize the column names\n",
    "col_names = []\n",
    "for col_name in df.columns:\n",
    "    col_name = re.sub(r'(\\w)([A-Z])', r'\\1_\\2', col_name).lower()\n",
    "    col_name = re.sub('\\s|__', '_', col_name)\n",
    "    col_names.append(col_name)\n",
    "\n",
    "df.columns = col_names"
   ]
  },
  {
   "cell_type": "markdown",
   "metadata": {},
   "source": [
    "## Getting to know the metadata file"
   ]
  },
  {
   "cell_type": "code",
   "execution_count": 3,
   "metadata": {},
   "outputs": [
    {
     "data": {
      "text/html": [
       "<div>\n",
       "<style scoped>\n",
       "    .dataframe tbody tr th:only-of-type {\n",
       "        vertical-align: middle;\n",
       "    }\n",
       "\n",
       "    .dataframe tbody tr th {\n",
       "        vertical-align: top;\n",
       "    }\n",
       "\n",
       "    .dataframe thead th {\n",
       "        text-align: right;\n",
       "    }\n",
       "</style>\n",
       "<table border=\"1\" class=\"dataframe\">\n",
       "  <thead>\n",
       "    <tr style=\"text-align: right;\">\n",
       "      <th></th>\n",
       "      <th>speciality</th>\n",
       "      <th>contract</th>\n",
       "      <th>license_number</th>\n",
       "      <th>location_number</th>\n",
       "      <th>fac_instance_id</th>\n",
       "      <th>facility_type</th>\n",
       "      <th>facility_name</th>\n",
       "      <th>facility_status</th>\n",
       "      <th>location_address</th>\n",
       "      <th>location_city</th>\n",
       "      <th>...</th>\n",
       "      <th>contract_code</th>\n",
       "      <th>facility_po_c</th>\n",
       "      <th>licensed_bed_count</th>\n",
       "      <th>license_expiration_date</th>\n",
       "      <th>check_complete_date</th>\n",
       "      <th>check_type</th>\n",
       "      <th>disclosure_of_services</th>\n",
       "      <th>has_reports?</th>\n",
       "      <th>reports_location</th>\n",
       "      <th>unnamed:_31</th>\n",
       "    </tr>\n",
       "  </thead>\n",
       "  <tbody>\n",
       "    <tr>\n",
       "      <th>0</th>\n",
       "      <td>Mental Health, Dementia, Developmental Disabil...</td>\n",
       "      <td>Specialized Behavior Support, Expanded Communi...</td>\n",
       "      <td>103302</td>\n",
       "      <td>40001033</td>\n",
       "      <td>32310</td>\n",
       "      <td>AF</td>\n",
       "      <td>LA COUNTRY CARE</td>\n",
       "      <td>OP</td>\n",
       "      <td>2073 W BENCH RD</td>\n",
       "      <td>OTHELLO</td>\n",
       "      <td>...</td>\n",
       "      <td>1080XS-12 , 1080XS-12 , 1080XS-12</td>\n",
       "      <td>Quezada, Guadalupe A.</td>\n",
       "      <td>6</td>\n",
       "      <td>NaN</td>\n",
       "      <td>NaN</td>\n",
       "      <td>NaN</td>\n",
       "      <td>https://fortress.wa.gov/dshs/adsaapps/lookup/A...</td>\n",
       "      <td>Yes</td>\n",
       "      <td>https://fortress.wa.gov/dshs/adsaapps/lookup/A...</td>\n",
       "      <td>NaN</td>\n",
       "    </tr>\n",
       "    <tr>\n",
       "      <th>1</th>\n",
       "      <td>Mental Health, Dementia, Developmental Disabil...</td>\n",
       "      <td>Specialized Behavior Support, Expanded Communi...</td>\n",
       "      <td>754222</td>\n",
       "      <td>40009324</td>\n",
       "      <td>45660</td>\n",
       "      <td>AF</td>\n",
       "      <td>Othello Senior Care LLC</td>\n",
       "      <td>OP</td>\n",
       "      <td>520 E Rose Dr</td>\n",
       "      <td>Othello</td>\n",
       "      <td>...</td>\n",
       "      <td>1080XS-12 , 1080XS-12 , 1080XS-12</td>\n",
       "      <td>Mendoza, Maria</td>\n",
       "      <td>6</td>\n",
       "      <td>NaN</td>\n",
       "      <td>NaN</td>\n",
       "      <td>NaN</td>\n",
       "      <td>https://fortress.wa.gov/dshs/adsaapps/lookup/A...</td>\n",
       "      <td>No</td>\n",
       "      <td></td>\n",
       "      <td>NaN</td>\n",
       "    </tr>\n",
       "    <tr>\n",
       "      <th>2</th>\n",
       "      <td>Mental Health, Dementia, Developmental Disabil...</td>\n",
       "      <td>Specialized Behavior Support, Expanded Communi...</td>\n",
       "      <td>753550</td>\n",
       "      <td>40009857</td>\n",
       "      <td>44689</td>\n",
       "      <td>AF</td>\n",
       "      <td>Serenity Adult Family Home LLC</td>\n",
       "      <td>OP</td>\n",
       "      <td>1120 S Shady Lane</td>\n",
       "      <td>Othello</td>\n",
       "      <td>...</td>\n",
       "      <td>1080XS-12 , 1080XS-12 , 1080XS-12</td>\n",
       "      <td>Gonzalez, Maria D.</td>\n",
       "      <td>6</td>\n",
       "      <td>NaN</td>\n",
       "      <td>NaN</td>\n",
       "      <td>NaN</td>\n",
       "      <td>https://fortress.wa.gov/dshs/adsaapps/lookup/A...</td>\n",
       "      <td>Yes</td>\n",
       "      <td>https://fortress.wa.gov/dshs/adsaapps/lookup/A...</td>\n",
       "      <td>NaN</td>\n",
       "    </tr>\n",
       "    <tr>\n",
       "      <th>3</th>\n",
       "      <td>Mental Health, Dementia, Developmental Disabil...</td>\n",
       "      <td>Adult Family Home</td>\n",
       "      <td>750240</td>\n",
       "      <td>40005179</td>\n",
       "      <td>39027</td>\n",
       "      <td>AF</td>\n",
       "      <td>THE VILLAGE</td>\n",
       "      <td>OP</td>\n",
       "      <td>2075 W BENCH RD</td>\n",
       "      <td>OTHELLO</td>\n",
       "      <td>...</td>\n",
       "      <td>1080XS-12</td>\n",
       "      <td>GARZA, DIANA</td>\n",
       "      <td>6</td>\n",
       "      <td>NaN</td>\n",
       "      <td>NaN</td>\n",
       "      <td>NaN</td>\n",
       "      <td>https://fortress.wa.gov/dshs/adsaapps/lookup/A...</td>\n",
       "      <td>Yes</td>\n",
       "      <td>https://fortress.wa.gov/dshs/adsaapps/lookup/A...</td>\n",
       "      <td>NaN</td>\n",
       "    </tr>\n",
       "    <tr>\n",
       "      <th>4</th>\n",
       "      <td>Mental Health, Dementia, Developmental Disabil...</td>\n",
       "      <td>Private Duty Nursing, Expanded Community Servi...</td>\n",
       "      <td>378700</td>\n",
       "      <td>40003787</td>\n",
       "      <td>35510</td>\n",
       "      <td>AF</td>\n",
       "      <td>WEEPING RIDGE ESTATE AFH INC</td>\n",
       "      <td>OP</td>\n",
       "      <td>2455 W BENCH RD</td>\n",
       "      <td>OTHELLO</td>\n",
       "      <td>...</td>\n",
       "      <td>1080XS-12 , 1080XS-12 , 1080XS-12</td>\n",
       "      <td>Rodriguez, Israel</td>\n",
       "      <td>6</td>\n",
       "      <td>NaN</td>\n",
       "      <td>NaN</td>\n",
       "      <td>NaN</td>\n",
       "      <td>https://fortress.wa.gov/dshs/adsaapps/lookup/A...</td>\n",
       "      <td>Yes</td>\n",
       "      <td>https://fortress.wa.gov/dshs/adsaapps/lookup/A...</td>\n",
       "      <td>NaN</td>\n",
       "    </tr>\n",
       "  </tbody>\n",
       "</table>\n",
       "<p>5 rows × 32 columns</p>\n",
       "</div>"
      ],
      "text/plain": [
       "                                          speciality  \\\n",
       "0  Mental Health, Dementia, Developmental Disabil...   \n",
       "1  Mental Health, Dementia, Developmental Disabil...   \n",
       "2  Mental Health, Dementia, Developmental Disabil...   \n",
       "3  Mental Health, Dementia, Developmental Disabil...   \n",
       "4  Mental Health, Dementia, Developmental Disabil...   \n",
       "\n",
       "                                            contract  license_number  \\\n",
       "0  Specialized Behavior Support, Expanded Communi...          103302   \n",
       "1  Specialized Behavior Support, Expanded Communi...          754222   \n",
       "2  Specialized Behavior Support, Expanded Communi...          753550   \n",
       "3                                  Adult Family Home          750240   \n",
       "4  Private Duty Nursing, Expanded Community Servi...          378700   \n",
       "\n",
       "   location_number  fac_instance_id facility_type  \\\n",
       "0         40001033            32310          AF     \n",
       "1         40009324            45660          AF     \n",
       "2         40009857            44689          AF     \n",
       "3         40005179            39027          AF     \n",
       "4         40003787            35510          AF     \n",
       "\n",
       "                    facility_name facility_status   location_address  \\\n",
       "0                 LA COUNTRY CARE          OP        2073 W BENCH RD   \n",
       "1         Othello Senior Care LLC          OP          520 E Rose Dr   \n",
       "2  Serenity Adult Family Home LLC          OP      1120 S Shady Lane   \n",
       "3                     THE VILLAGE          OP        2075 W BENCH RD   \n",
       "4    WEEPING RIDGE ESTATE AFH INC          OP        2455 W BENCH RD   \n",
       "\n",
       "  location_city  ...                       contract_code  \\\n",
       "0       OTHELLO  ...  1080XS-12 , 1080XS-12 , 1080XS-12    \n",
       "1       Othello  ...  1080XS-12 , 1080XS-12 , 1080XS-12    \n",
       "2       Othello  ...  1080XS-12 , 1080XS-12 , 1080XS-12    \n",
       "3       OTHELLO  ...                          1080XS-12    \n",
       "4       OTHELLO  ...  1080XS-12 , 1080XS-12 , 1080XS-12    \n",
       "\n",
       "            facility_po_c licensed_bed_count license_expiration_date  \\\n",
       "0  Quezada, Guadalupe A.                   6                     NaN   \n",
       "1         Mendoza, Maria                   6                     NaN   \n",
       "2     Gonzalez, Maria D.                   6                     NaN   \n",
       "3           GARZA, DIANA                   6                     NaN   \n",
       "4      Rodriguez, Israel                   6                     NaN   \n",
       "\n",
       "  check_complete_date check_type  \\\n",
       "0                 NaN        NaN   \n",
       "1                 NaN        NaN   \n",
       "2                 NaN        NaN   \n",
       "3                 NaN        NaN   \n",
       "4                 NaN        NaN   \n",
       "\n",
       "                              disclosure_of_services has_reports?  \\\n",
       "0  https://fortress.wa.gov/dshs/adsaapps/lookup/A...          Yes   \n",
       "1  https://fortress.wa.gov/dshs/adsaapps/lookup/A...           No   \n",
       "2  https://fortress.wa.gov/dshs/adsaapps/lookup/A...          Yes   \n",
       "3  https://fortress.wa.gov/dshs/adsaapps/lookup/A...          Yes   \n",
       "4  https://fortress.wa.gov/dshs/adsaapps/lookup/A...          Yes   \n",
       "\n",
       "                                    reports_location unnamed:_31  \n",
       "0  https://fortress.wa.gov/dshs/adsaapps/lookup/A...         NaN  \n",
       "1                                                            NaN  \n",
       "2  https://fortress.wa.gov/dshs/adsaapps/lookup/A...         NaN  \n",
       "3  https://fortress.wa.gov/dshs/adsaapps/lookup/A...         NaN  \n",
       "4  https://fortress.wa.gov/dshs/adsaapps/lookup/A...         NaN  \n",
       "\n",
       "[5 rows x 32 columns]"
      ]
     },
     "execution_count": 3,
     "metadata": {},
     "output_type": "execute_result"
    }
   ],
   "source": [
    "df.head()"
   ]
  },
  {
   "cell_type": "markdown",
   "metadata": {},
   "source": [
    "### What field do we use to ID facilities?"
   ]
  },
  {
   "cell_type": "code",
   "execution_count": 4,
   "metadata": {},
   "outputs": [
    {
     "name": "stdout",
     "output_type": "stream",
     "text": [
      "Number of rows = 3170\n",
      "Number of unique facility_name = 3076\n",
      "Number of unique fac_instance_id = 3170\n",
      "Number of unique license_number = 3170\n",
      "Number of unique location_number = 3170\n"
     ]
    }
   ],
   "source": [
    "num_rows_orig = len(df) # We will use this value for consistency tests later.\n",
    "\n",
    "print('Number of rows =', len(df))\n",
    "print('Number of unique facility_name =', df['facility_name'].nunique())\n",
    "print('Number of unique fac_instance_id =', df['fac_instance_id'].nunique())\n",
    "print('Number of unique license_number =', df['license_number'].nunique())\n",
    "print('Number of unique location_number =', df['location_number'].nunique())"
   ]
  },
  {
   "cell_type": "markdown",
   "metadata": {},
   "source": [
    "It seems there are various variables uniquely identify each facility. We will use **fac_instance_id** as the unique ID fore each facility."
   ]
  },
  {
   "cell_type": "markdown",
   "metadata": {},
   "source": [
    "### Subsetting: Only facilities that have reports"
   ]
  },
  {
   "cell_type": "markdown",
   "metadata": {},
   "source": [
    "How many facilities have reports and how many don't?"
   ]
  },
  {
   "cell_type": "code",
   "execution_count": 5,
   "metadata": {},
   "outputs": [
    {
     "data": {
      "text/plain": [
       "Yes    2646\n",
       "No      524\n",
       "Name: has_reports?, dtype: int64"
      ]
     },
     "execution_count": 5,
     "metadata": {},
     "output_type": "execute_result"
    }
   ],
   "source": [
    "df['has_reports?'].value_counts(dropna=False)"
   ]
  },
  {
   "cell_type": "code",
   "execution_count": 6,
   "metadata": {},
   "outputs": [
    {
     "data": {
      "text/plain": [
       "Yes    0.8347\n",
       "No     0.1653\n",
       "Name: has_reports?, dtype: float64"
      ]
     },
     "execution_count": 6,
     "metadata": {},
     "output_type": "execute_result"
    }
   ],
   "source": [
    "df['has_reports?'].value_counts(dropna=False, normalize=True)"
   ]
  },
  {
   "cell_type": "markdown",
   "metadata": {},
   "source": [
    "So there are **3,170** unique assisted living facilities, out of which **2,646**—**83%**—have reports.\n",
    "\n",
    "Let's break down the dataframe, based on whether a facility has reports or not."
   ]
  },
  {
   "cell_type": "code",
   "execution_count": 7,
   "metadata": {},
   "outputs": [],
   "source": [
    "# Make a DF for the facilities with no reports\n",
    "df_no_reports = df[df['has_reports?'] == 'No']\n",
    "df_no_reports = df_no_reports.reset_index(drop=True)\n",
    "df_no_reports\n",
    "\n",
    "# Filter out from dd_fac those facilities with no reports\n",
    "df = df[df['has_reports?'] == 'Yes']\n",
    "df = df.reset_index(drop=True)"
   ]
  },
  {
   "cell_type": "markdown",
   "metadata": {},
   "source": [
    "### Consistency test"
   ]
  },
  {
   "cell_type": "code",
   "execution_count": 8,
   "metadata": {},
   "outputs": [],
   "source": [
    "# Confirm that the facilities marked as having no reports show no query link\n",
    "assert df_no_reports['reports_location'].str.strip().all() == ''\n",
    "\n",
    "# Confirm no rows were lost during the dataframe split\n",
    "assert len(df) + len(df_no_reports) == num_rows_orig"
   ]
  },
  {
   "cell_type": "markdown",
   "metadata": {},
   "source": [
    "# III. Downloading the reports"
   ]
  },
  {
   "cell_type": "code",
   "execution_count": null,
   "metadata": {
    "scrolled": false
   },
   "outputs": [],
   "source": [
    "# As we dowload each report, we will save some of its metadata in this new DF:\n",
    "df_reports = pd.DataFrame(columns = ['facility_name', 'fac_instance_id', 'location_number', 'license_number',\n",
    "                                         'contract', 'pdf_name', 'rep_type', 'rep_date', 'download_record'])\n",
    "\n",
    "pdf_downld_path = '/Volumes/files/COVID19/DSHS_Facility_Reports_Manuel/reports_pdfs/AF_4644/'\n",
    "\n",
    "# Each iteration of this first loop correspond to a single facility\n",
    "for index, row in df.iterrows():\n",
    "\n",
    "    # Send a URL request to the site that contains all the links to each of the reports for a single facility.\n",
    "    page = requests.get(row['reports_location'])\n",
    "    soup = bs4.BeautifulSoup(page.text, 'html.parser')\n",
    "    # The list of links to each of the reports is contained it a 'div' table with id='content_results'\n",
    "    table = soup.find('div', {\"id\": \"content_results\"})\n",
    "    # The following is the list of all the elements that contain the URLs to the PDFs\n",
    "    ls_li = table.find_all('li')\n",
    "\n",
    "    # Each iteration of this second loop corresponds to a single PDF report (from a single facility)\n",
    "    for li in ls_li:\n",
    "\n",
    "        # Send the request for the PDF report\n",
    "        pdf_url = li.find('a').get('href')\n",
    "        pdf = requests.get('https://fortress.wa.gov' + pdf_url)\n",
    "        \n",
    "        # Obtain some metadata from the report\n",
    "        pdf_name = pdf_url.split(\"/\")[-1]\n",
    "        rep_type = re.search('\\d{2}\\/\\d{4}\\s-\\s(.*)$', li.find('a').contents[0]).groups()[0]\n",
    "        rep_date = re.search('(\\d{2}\\/\\d{4})', li.find('a').contents[0]).groups()[0]\n",
    "\n",
    "        # We will not download fire inspection reports this time.\n",
    "        if 'fire' not in rep_type.lower():\n",
    "            # Save down the PDF and name it using 'pdf_name_new' \n",
    "            open(pdf_downld_path + pdf_name, 'wb').write(pdf.content)\n",
    "            # Save the report's metadata in 'df_reports'\n",
    "            new_record = {'facility_name':row['facility_name'], \n",
    "                          'fac_instance_id':row['fac_instance_id'], \n",
    "                          'location_number':row['location_number'], \n",
    "                          'license_number':row['license_number'], \n",
    "                          'contract':row['contract'],\n",
    "                          'pdf_name':pdf_name, \n",
    "                          'rep_type':rep_type, \n",
    "                          'rep_date':rep_date, \n",
    "                          'download_record':time.ctime()}\n",
    "            df_reports = df_reports.append(new_record, ignore_index=True)\n",
    "            del(new_record)\n",
    "        del(pdf_url, pdf, pdf_name, rep_type, rep_date)\n",
    "        time.sleep(3)\n",
    "\n",
    "    del(page, soup, table, ls_li)"
   ]
  },
  {
   "cell_type": "code",
   "execution_count": null,
   "metadata": {},
   "outputs": [],
   "source": [
    "df_reports.to_csv('../output_data/reports_metadata/reports_metadata_afh.csv', index=False)"
   ]
  }
 ],
 "metadata": {
  "kernelspec": {
   "display_name": "Python 3",
   "language": "python",
   "name": "python3"
  },
  "language_info": {
   "codemirror_mode": {
    "name": "ipython",
    "version": 3
   },
   "file_extension": ".py",
   "mimetype": "text/x-python",
   "name": "python",
   "nbconvert_exporter": "python",
   "pygments_lexer": "ipython3",
   "version": "3.7.7"
  }
 },
 "nbformat": 4,
 "nbformat_minor": 4
}
