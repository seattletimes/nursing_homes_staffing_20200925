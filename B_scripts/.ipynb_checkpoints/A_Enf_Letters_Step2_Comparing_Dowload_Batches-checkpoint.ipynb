{
 "cells": [
  {
   "cell_type": "markdown",
   "metadata": {},
   "source": [
    "# What this script does"
   ]
  },
  {
   "cell_type": "markdown",
   "metadata": {},
   "source": [
    "Each month, there is a process carried out with the publishd enfocement letters:\n",
    "\n",
    "1. As we explained in the previous script, the enforcement letters issued during earliest month of the previous 3 years are dumped, and those issued during the latest one are added. \n",
    "1. Letters issued to nursing homes that closed down for business are also dumped.\n",
    "1. Letters issued to nursing homes that started going through an ownership change are temporarily dumped and then reposted under the new ownership.\n",
    "\n",
    "In this scrip, we run some tests to compare the sets of letters we obtained in each of the downloads we did during the last few months, to make sure we have no duplicates or that we are missing letters."
   ]
  },
  {
   "cell_type": "markdown",
   "metadata": {},
   "source": [
    "# SETTINGS"
   ]
  },
  {
   "cell_type": "code",
   "execution_count": 1,
   "metadata": {},
   "outputs": [],
   "source": [
    "import pandas as pd\n",
    "from os import listdir"
   ]
  },
  {
   "cell_type": "markdown",
   "metadata": {},
   "source": [
    "# LIST OF ENFORCEMENT LETTERS"
   ]
  },
  {
   "cell_type": "code",
   "execution_count": 2,
   "metadata": {},
   "outputs": [],
   "source": [
    "path = '/Volumes/files/COVID19/Manuel_RCF_Data/State_DSHS/ALTSA_reports/'\n",
    "\n",
    "batch_03 = listdir(path + 'NH_enforcement_letters_2020-03')\n",
    "batch_0609 = listdir(path + 'NH_enforcement_letters_2020-06-09')\n",
    "batch_0624 = listdir(path + 'NH_enforcement_letters_2020-06-24')\n",
    "batch_0716 = listdir(path + 'NH_enforcement_letters_2020-07-16')\n",
    "batch_0820 = listdir(path + 'NH_enforcement_letters_2020-08-20')\n",
    "batch_0908 = listdir(path + 'NH_enforcement_letters_2020-09-08')\n",
    "\n",
    "all_letters = set(batch_03).union(set(batch_0609)).union(set(batch_0624)).union(set(batch_0716)).union(set(batch_0820)).union(set(batch_0908))\n",
    "all_letters = set(all_letters)"
   ]
  },
  {
   "cell_type": "code",
   "execution_count": 3,
   "metadata": {},
   "outputs": [
    {
     "name": "stdout",
     "output_type": "stream",
     "text": [
      "859\n",
      "826\n",
      "834\n",
      "792\n",
      "785\n",
      "771\n",
      "974\n"
     ]
    }
   ],
   "source": [
    "print(len(batch_03))\n",
    "print(len(batch_0609))\n",
    "print(len(batch_0624))\n",
    "print(len(batch_0716))\n",
    "print(len(batch_0820))\n",
    "print(len(batch_0908))\n",
    "print(len(all_letters))"
   ]
  },
  {
   "cell_type": "markdown",
   "metadata": {},
   "source": [
    "Let's look at the PDF files that were purged from the locator site between the download we made on March and the one we made in June 9. Looking at the dates embedded in their names, almost all of them appear to be from between March and May of 2017. This is consistent with what the DSHS told us: That anything older than 3 years is purged out of the site each month."
   ]
  },
  {
   "cell_type": "code",
   "execution_count": 4,
   "metadata": {},
   "outputs": [
    {
     "data": {
      "text/plain": [
       "{'Alderwood Park Health and Rehabilitation (GG CMP) April 17.pdf',\n",
       " 'Avalon Care Center Northpointe (Hx D prior E) 5 17.pdf',\n",
       " 'Ballard Center (Hx D prior G) 4 17.pdf',\n",
       " 'Bayview Manor (MDS E, CMP) 5 17.pdf',\n",
       " 'Beacon Hill (MDS E, CMP) 5 17.pdf',\n",
       " 'Bremerton Health and Rehab (GG, CMP, CF) 3 17.pdf',\n",
       " 'Burien Nursing and Rehab (G, CMP, CF) 3 17.pdf',\n",
       " 'Careage of Whidbey (GG, CMP, CF) 5 17.pdf',\n",
       " 'Christian Health Care Center (GG, CMP, CF) 4 17.pdf',\n",
       " 'Colonial Vista (G, CMP, CF) 3 17.pdf',\n",
       " 'Columbia Lutheran Home (G, CMP, CF) 5 17.pdf',\n",
       " 'Columbia Lutheran Home (Hx G prior G, CMP, CF) 5 17.pdf',\n",
       " 'Covenant Shores (K, SUB, CMP, CF ) 4 17.doc.pdf',\n",
       " 'Crestwood HRD quarterly fining 5 17.pdf',\n",
       " 'Cristwood Nursing (H, CMP, CF) 4 17.pdf',\n",
       " 'Discovery Health (IJ Removed, SUB, CF).pdf',\n",
       " 'Discovery Health (amended IJ Removed, SUB, CF) 5 17.pdf',\n",
       " 'Emerald Care (GG, CMP, CF) 3 17.pdf',\n",
       " 'Emerald Hills (GG, CMP, CF, Sub) 3 17.pdf',\n",
       " 'Enumclaw Health & Rehab HRD quarterly fining 5 17 .pdf',\n",
       " 'Everett Center (Hx D prior E) 2 17.pdf',\n",
       " 'Fir Lane  BIC - Lift Amended SP 3 17.pdf',\n",
       " 'Fir Lane  BIC - Lift SP 3 17.pdf',\n",
       " 'Fir Lane (IJ, NR) 3 17.pdf',\n",
       " 'Fir Lane Health and Rehab (IJ, R, CMP, CF) 4 17.pdf',\n",
       " 'Forest Ridge Health and Rehab (Past non complaince GG, CF, CMP) 3 16.pdf',\n",
       " 'Forest Ridge Health and rehab (Hx D, prior G, IJ non) 4 17.pdf',\n",
       " 'Franklin Hills (Hx Ltr D prior G) 4 17.pdf',\n",
       " 'Franklin Hills Health and Rehab (GG, CMP, CF) 3 16.pdf',\n",
       " 'Grays Harbor (GG, CMP, CF) 3 17.pdf',\n",
       " 'Hallmark Manor (Amended IJ, Not R, Sp) 4 17.pdf',\n",
       " 'Hallmark Manor BIC lift SP 4 17.pdf',\n",
       " 'Josephine Sunset (Lift SP cont OOC) 3 17.pdf',\n",
       " 'Josephine Sunset Home (Hx Ltr G prior K, Cont SP) 2 17.pdf',\n",
       " 'Kin On Health Care (Hx E rior G) 3 17.pdf',\n",
       " 'Kin On Health Care Ctr (G, CMP, CF) 3 17.pdf',\n",
       " 'Kindred  - Lakewood (IJ, R, SUB, CMP, CF) 5 17.pdf',\n",
       " 'Kindred Nursing Arden (3OOC K, WAC Hx D, prior J, Cond, CF) 5 17.pdf',\n",
       " 'Kindred Nursing Arden (Hx D, prior J) 3 17.pdf',\n",
       " 'Kindred Nursing Arden (WAC Hx D, prior J, Cond, CF) 4 17.pdf',\n",
       " 'Kindred-Arden (IJ R, Sun, CMP, CF) 3 17.pdf',\n",
       " 'Life Care of Kennewick (Hx G, prior G, CMP, CF) 3 17.pdf',\n",
       " 'Life Care of Mount Vernon (Hx, D prior G) 3 17.pdf',\n",
       " 'Linden Grove (G, CMP, CF) 9 21 17.pdf',\n",
       " 'Mission Healthcare (IJ, R, Sub, CMP) 5 17.pdf',\n",
       " 'Montesano (G, CMP, CF) 3 17.pdf',\n",
       " 'Montesano (GG, CMP, CF 3 17 17 SOD ) 3 17.pdf',\n",
       " 'Mountain View Care Center (G, CMP, CF) 4 17.pdf',\n",
       " 'Mountian View Rehab (Hx E prior G) 5 17.pdf',\n",
       " 'Olympia Transitional Care (Hx G prior GG, CF, CMP) 3 17.pdf',\n",
       " 'Paramount (2nd Failed post E, prior E, prior IJ) 5 17.pdf',\n",
       " 'Paramount (BIC - Lift Cond, SP) 5 17.pdf',\n",
       " 'Paramount (Failed post E, prior IJ) 3 17.pdf',\n",
       " 'Prestige - Centralia (GG, CMP, CF) 3 17.pdf',\n",
       " 'Prestige Care - Clarkston (Hx D prior E, CMP) 3 17.pdf',\n",
       " 'Prestige Care - Pinewood Terrace (GG, CMP, CF) 5 17.pdf',\n",
       " 'Prestige Care- Pinewood Terrace (Hx GG, cont OOC E prior G).pdf',\n",
       " 'Prestige Post Acute Care - Edmonds (Failed Post E, Hx D prior G) 3 17.pdf',\n",
       " 'Prestige Post Acute Care - Edmonds (G, prior Failed Post E, Hx D prior G) 5 17.pdf',\n",
       " 'Providence Mother Joseph (Hx D prior G) 5 17.pdf',\n",
       " 'Providence Mother Joseph Amended (G, CMP, CF) 4 17.pdf',\n",
       " 'Providence St Joseph Care Center (3OOC Hx G, prior IJ, R, SUB, CMP Cont cond, Prior E) 4 17.pdf',\n",
       " 'Providence St Joseph Care Center (BIC - Lift Cond) 5 17.pdf',\n",
       " 'Providence St Joseph Care Center (IJ, R, SUB, CMP Cont cond) 3 17.pdf',\n",
       " 'Puget Sound (GG, CMP, CF) 3 17.pdf',\n",
       " 'Puget Sound (Hx G prior GG, CMP, CF) 5 17.pdf',\n",
       " 'Regency Harmony House (Hx D prior D) 4 17.pdf',\n",
       " 'Regency North Bend (GG, CMP, CF) 4 17.pdf',\n",
       " 'Regency North Bend HRD quarterly fining 5 17.pdf',\n",
       " 'Regency Omak (G, CMP, CF) 4 17.pdf',\n",
       " 'Richmond Beach Rehab (GG, CMP, CF) 5 17.pdf',\n",
       " 'Richmond Beach rehab (GG, CMP, CF) 4 17.pdf',\n",
       " 'Riverside (GG, CMP, CF) 4 17.pdf',\n",
       " 'Riverview (Hx E prior D) 10 11 19.pdf',\n",
       " 'Riverview Care Center (GG, CMP, CF) 8 17.pdf',\n",
       " 'Riverview Care Center (Hx G prior D) 5 17.pdf',\n",
       " 'Sequim Health and Rehab (Level G CMP,CF) 3 17.pdf',\n",
       " 'Shoreline Health and Rehab (G, CMP, CF) 5 17.pdf',\n",
       " 'Shuksan Health and Rehab (IJ, R Sub, CF) 3 17.pdf',\n",
       " 'Skilled Nursing By Wesley Homes (Hx D prior D) 5 174.pdf',\n",
       " 'Snohomish Health and Rehab (GG, CMP, CF) 4 17.pdf',\n",
       " 'Sunrise View Convalescent Center (Hx E prior D) 3 17.rtf.pdf',\n",
       " 'Sunrise View Convalescent Center Amended (Hx D prior D) 3 17.rtf.pdf',\n",
       " 'Sunshine Gardens (G, CMP, CF) 3 17.rtf.pdf',\n",
       " 'Victory (Hx G prior G, CF) 5 17.pdf',\n",
       " 'Victory Health and Rehab (G, CMP, CF) 3 16.pdf',\n",
       " 'WA Center for Comp Rehab (GG, CMP, CF) 7 17.pdf',\n",
       " 'WA Center for Comp Rehab (GG, CMP, CF) 9 14 17.pdf',\n",
       " 'WA Center for Comp Rehab (L, CMP, CF) 6 3 19.pdf',\n",
       " 'WA Soldiers Home - Orting (Amended IJ, NR) 4 17.pdf',\n",
       " 'WA Soldiers Home - Orting (IJ R, CMP) 3 17.pdf',\n",
       " 'WA Soldiers Home - Orting (IJ, N) 3 17.pdf',\n",
       " 'Wa Soldiers Home Orting - 3 OOC Directed POC, Hx J, prior K, prior K 5 17.pdf',\n",
       " 'Wa Soldiers Home Orting - Directed POC, Hx K, prior K 4 17.pdf',\n",
       " 'Warm Beach (4OOC, FP, E prior E, prior H) 2 17.pdf',\n",
       " 'Warm Beach (Amended Failed Post, Hx E prior H) 2 17.pdf',\n",
       " 'Willow Springs (Hx D, prior D, CF) 4 17.pdf',\n",
       " 'Yakima Valley School (3OOC G, Hx G, prior G, prior OSFM F) 5 17.pdf',\n",
       " 'Yakima Valley School (Hx G, prior G, prior OSFM F) 5 17.pdf',\n",
       " 'Yakima Valley School (Hx G, prior OSFM F) 5 17.pdf'}"
      ]
     },
     "execution_count": 4,
     "metadata": {},
     "output_type": "execute_result"
    }
   ],
   "source": [
    "set(batch_03).difference(set(batch_0609))"
   ]
  },
  {
   "cell_type": "markdown",
   "metadata": {},
   "source": [
    "In theory, then, anything that was in the second download batch that was not in the first one should be letters that were issued after the date of the first download.\n",
    "\n",
    "Indeed, we find letters dated from March~May of 2020. But! There are also letters that are from prevoius months, even years, that were not there in the first batch.\n",
    "\n",
    "According to the DSHS, whenever a nursing home goes through a ownership change, their old letters are purged out and then reposted, showing the new ownership. So in theory, all those \"old\" letters that suddenly show up in the second batch should correspond to NHs that changed owners.\n",
    "\n",
    "A visual inspection of the dates in the PDF titles of the list below suggests that the NHs that recently went through a ownership change were:\n",
    "\n",
    "- Americana\n",
    "- Canterbury House\n",
    "- Seattle Medical Post Acute\n",
    "- Shelton Health and Rehab\n",
    "- Linden Grove\n",
    "- Manor Care Salmon Creek\n",
    "- Manor Care Spokane\n",
    "- Manor Care Lynnwood"
   ]
  },
  {
   "cell_type": "code",
   "execution_count": 5,
   "metadata": {},
   "outputs": [
    {
     "data": {
      "text/plain": [
       "{'Aldercrest Health and Rehab (Hx DCH CF, E prior E) 3 17 20.pdf',\n",
       " 'Americana (GG, CMP, CF) 7 31 18.pdf',\n",
       " 'Americana (Hx GG, prior GG, CF, CMP) 5 25 18.rtf.pdf',\n",
       " 'Americana Health and Rehab (GG, CMP CF) 5 9 18.pdf',\n",
       " 'Americana Health and Rehab (GG, CMP, CF,) 6 17.pdf',\n",
       " 'Americana Health and Rehab (Hx DCH, prior LSC) 11 26 19.pdf',\n",
       " 'Avamere Bellingham (Lift Sp, BIC) 3 23 20.pdf',\n",
       " 'Avamere Rehab of Cascade Park (G, CMP, CF) 3 9 20.pdf',\n",
       " 'Ballard Center (Hx , GG, CMP, CF, prior D) 2 26 20.pdf',\n",
       " 'Ballard Center (Lift SP, Cond) 5 15 20.pdf',\n",
       " 'Benson Heights (IJ, R, CMP, SUB, CMP, CF) 3 4 20.pdf',\n",
       " 'Bethany at Pacific (G, CMP, CF) 4 21 20.pdf',\n",
       " 'Bremerton (2nd FP, WAC only, CF) 3 12 20.pdf',\n",
       " 'Bremerton Health and Rehab (G, CMP, CF) 3 20 20.pdf',\n",
       " 'Canterbury House (D prior D) 9 18 18.pdf',\n",
       " 'Canterbury House (GG, CMP, CF) 11 13 17.pdf',\n",
       " 'Canterbury House (IJ, NOT, SP) 4 6 18.pdf',\n",
       " 'Canterbury House (IJ, R, SUB, SP, CF) 4 16 18.pdf',\n",
       " 'Cheney Care Center (3OOC D prior G prior D, CMP) 2 20 20.pdf',\n",
       " 'Corwin Center at Emerald Heights (G, CMP, CF) 4 1 20.pdf',\n",
       " 'Crestwood Health and Rehab (DCH) 4 14 20.pdf',\n",
       " 'Enumclaw Health and Rehab (IJ, R, CMP, Sub, CF) 3 4 20.pdf',\n",
       " 'Enumclaw Health and Rehab (Ij, R, FP, SP, CMP, CF, Cond) 4 3 20.pdf',\n",
       " 'Fir Lane (3OOC, G, DCH, prior F, prior IJ, Cond) 2 28 20.pdf',\n",
       " 'Fir Lane (Lift Sp, Cont Cond, still OOC) 5 8 20.pdf',\n",
       " 'Franke Tobey Jones (FP, CF) 3 6 20.pdf',\n",
       " 'Franklin Hills Health and Rehab (GG, CMP, CF) 2 28 20.pdf',\n",
       " 'Lea Hill (Hx D prior F) 4 13 20.pdf',\n",
       " 'Life Care of Mount Vernon (Hx D prior G) 4 1 20.pdf',\n",
       " 'Life Care of Richland (Hx D prior GG) 3 4 20.pdf',\n",
       " 'Linden Grove (IJ, R, Cont sp, Cont Cond, CF) 5 21 20.pdf',\n",
       " 'Linden Grove Amended (IJ, R, Cont sp, Cont Cond, CF) 5 21 20.pdf',\n",
       " 'Manor Care Lynnwood (Hx E prior D) 3 2 20.pdf',\n",
       " 'Manor Care Tacoma (GG, CMP, CF) 4 13 20.pdf',\n",
       " 'Park Ridge (IJ, R,  cont SP, cont cond, CF) 4 30 20.pdf',\n",
       " 'Prestige Care - Parkside (G, CMP, CF) 3 5 20.pdf',\n",
       " 'Providence Mother Joseph (D prior D) 2 28 20.pdf',\n",
       " 'Renton Nursing and Rehab (4OOC, D prior F prior G prior G) 2 25 20.pdf',\n",
       " 'Richmond Beach Rehab (Hx D prior F) 1 21 20.pdf',\n",
       " 'Richmond Beach Rehab (Hx F prior D prior F) 4 13 20.pdf',\n",
       " 'Riverside Nursing (DCH) 5 21 20.pdf',\n",
       " 'Seattle Medical (IJ, R, CF, Lift SP) 5 24 18.pdf',\n",
       " 'Seattle Medical Posr Acute (Hx G prior H, CF, CMP) 3 27 19.pdf',\n",
       " 'Seattle Medical Post Acute (GG, CMP, CF) 12 27 18.pdf',\n",
       " 'Seattle Medical Post Acute (H, SUB, CMP, CF) 3 13 19.pdf',\n",
       " 'Seattle Medical Post Acute Care (G, CMP, CF) 1 8 18.pdf',\n",
       " 'Seattle Medical Post Acute Care (Hx G, prior F, CF, CMP) 3 2 18.pdf',\n",
       " 'Shelton Health and Rehab (3OOC Hx G, prior G, prior GG, CMP, CF) 4 27 18.pdf',\n",
       " 'Shelton Health and Rehab (4OOC Hx E, prior G, prior G, prior GG, CMP, CF) 5 23 18.pdf',\n",
       " 'Shelton Health and Rehab (G, CMP, CF) 1 4 19.pdf',\n",
       " 'Shelton Health and Rehab (GG, CMP, CF) 11 19 19.pdf',\n",
       " 'Shelton Health and Rehab (GG, CMP, CF) 3 2 18.pdf',\n",
       " 'Shelton Health and Rehab (GG, CMP, CF) 4 24 19.pdf',\n",
       " 'Shelton Health and Rehab (GG, CMP, CF) 7 16 19.pdf',\n",
       " 'Shelton Health and Rehab (GG, CMP, CF) 7 17.pdf',\n",
       " 'Shelton Health and Rehab (HX G, prior GG, CMP, CF) 3 16 18.pdf',\n",
       " 'Shelton Health and Rehab (Hx D prior E) 3 7 19.pdf',\n",
       " 'Shelton Health and Rehab (Hx G, prior G, CMP, CF) 5 9 19.pdf',\n",
       " 'Snohomish Health and Rehab (3OOC D Prior D prior G) 3 9 20.pdf',\n",
       " 'St Francis of Bellingham (IJ, R, SP, SUB, CF) 3 16 20.pdf',\n",
       " 'Stafford Healthcare at Belmont (Hx E prior D) 2 14 20.pdf',\n",
       " 'Stafford Healthcare at Ridgemont (G, CMP, CF) 4 28 20.pdf',\n",
       " 'Toppenish Nursing (G, CMP, CF) 3 10 20.pdf',\n",
       " 'University Place (Lift SP, Cond, BIC) 3 10 20.pdf',\n",
       " 'View Ridge (Hx G prior FP, CF, CMP) 2 28 20.pdf',\n",
       " 'WA Center for Comp Rehab (Hx E prior E) 2 10 20 .pdf',\n",
       " 'Whitman Health and Rehab (Hx D prior D) 3 23 20.pdf'}"
      ]
     },
     "execution_count": 5,
     "metadata": {},
     "output_type": "execute_result"
    }
   ],
   "source": [
    "set(batch_0609).difference(set(batch_03))"
   ]
  },
  {
   "cell_type": "code",
   "execution_count": 6,
   "metadata": {},
   "outputs": [
    {
     "data": {
      "text/plain": [
       "{'Linden Grove (G, CMP, CF) 9 21 17.pdf',\n",
       " 'Manor Care - Spokane (Hx GG, prior D, CMP, CF) 8 5 19.pdf',\n",
       " 'Manor Care Lynnwood (3OOC D prior E prior D) 8 8 19.pdf',\n",
       " 'Manor Care Lynnwood (Hx E prior D) 7 29 19.pdf',\n",
       " 'Manor Care Lynnwood (Hx G prior D, CF, CMP) 10 20 19.pdf',\n",
       " 'Manor Care Salmon Creek (G. CMP, CF) 2 12 19.pdf',\n",
       " 'Manor Care Spokane (Hx D prior D) 1 31 19.pdf',\n",
       " 'Manorcare Heath Services Salmon Creek (Hx D prior E) 2 21 19.pdf'}"
      ]
     },
     "execution_count": 6,
     "metadata": {},
     "output_type": "execute_result"
    }
   ],
   "source": [
    "set(batch_0624).difference(set(batch_0609))"
   ]
  },
  {
   "cell_type": "code",
   "execution_count": 7,
   "metadata": {},
   "outputs": [
    {
     "data": {
      "text/plain": [
       "{'Foss Home and Village (BIC, Lift SP) 10 26 18.pdf',\n",
       " 'Linden Grove (G, CMP, CF) 9 21 17.pdf',\n",
       " 'Manor Care - Gig Harbor (Lift SP, BIC) 11 8 18.pdf',\n",
       " 'Manor Care - Spokane (Hx GG, prior D, CMP, CF) 8 5 19.pdf',\n",
       " 'Manor Care Lynnwood (3OOC D prior E prior D) 8 8 19.pdf',\n",
       " 'Manor Care Lynnwood (Hx E prior D) 7 29 19.pdf',\n",
       " 'Manor Care Lynnwood (Hx G prior D, CF, CMP) 10 20 19.pdf',\n",
       " 'Manor Care Salmon Creek (G. CMP, CF) 2 12 19.pdf',\n",
       " 'Manor Care Spokane (Hx D prior D) 1 31 19.pdf',\n",
       " 'Manorcare Heath Services Salmon Creek (Hx D prior E) 2 21 19.pdf',\n",
       " 'Pacific Care (Lift SP, Still OOC) 10 18 18.pdf',\n",
       " 'Park Ridge Care Center (Lift SP, BIC) 6 11 20.pdf',\n",
       " 'Queen Anne Healthcare (Lift SP, BIC) 10 24 18.pdf',\n",
       " 'WA Center for Comp Rehab (GG, CMP, CF) 7 17.pdf',\n",
       " 'WA Center for Comp Rehab (GG, CMP, CF) 9 14 17.pdf',\n",
       " 'WA Center for Comp Rehab (L, CMP, CF) 6 3 19.pdf'}"
      ]
     },
     "execution_count": 7,
     "metadata": {},
     "output_type": "execute_result"
    }
   ],
   "source": [
    "set(batch_0716).difference(set(batch_0609))"
   ]
  },
  {
   "cell_type": "code",
   "execution_count": 8,
   "metadata": {},
   "outputs": [
    {
     "data": {
      "text/plain": [
       "{'Benson Heights Amended (IJ, R, CMP, SUB, CMP, CF, DCH) 3 4 20.pdf',\n",
       " 'Cashmere Care Center (Covid D, DPOC) 7 16 20.pdf',\n",
       " 'Columbia Lutheran Home (Covid) 6 26 20.pdf',\n",
       " 'Colville Tribal Convalescent Center (COVID F) 07 30 2020.pdf',\n",
       " 'Crestwood Health and Rehab (DCH) 7 10 20.pdf',\n",
       " 'Linden Grove (Lift Sp, BIC) 6 24 20.pdf',\n",
       " 'Lynnwood Post Acute (Covid IJ, R, DPOC, CF. Cont Cond, Cont SP) 7 17 20.pdf',\n",
       " 'Lynnwood Post Acute (IJ DPOC notice) 7 17 20.pdf',\n",
       " 'Lynnwood Post Acute (IJ, Pend, NR, SP, Cond) 7 1 20.pdf',\n",
       " 'Lynnwood Post Acute Amended (Covid IJ, R, DPOC, CF. Cont Cond, Cont SP) 7 17 20.pdf',\n",
       " 'Montesano Health and Rehab (DCH) 7 8 20.pdf',\n",
       " 'North Auburn health (IJ, R, CMP, Sub, CF) 6 17 20.pdf',\n",
       " 'Prestige Care - Burlington (IJ, R, CMP, CF)7 24 20 .pdf',\n",
       " 'Prestige Post Acute-Edmonds (DPOC, F, 45 day DDPNA) 8 3 20.pdf',\n",
       " 'Regency Olympia (G, CMP, CF) 7 13 20.pdf',\n",
       " 'Renton Nursing and Rehab (Covid) 7 1 20.pdf',\n",
       " 'Seattle Medical (Covid) 6 26 20.pdf',\n",
       " 'Spokane Veterans Home (Covid CI) 6 30 20.pdf',\n",
       " 'St Francis of Bellingham (FP, D prior G, Lift SP) 6 10 20.pdf',\n",
       " 'Stafford Des Moines (G, CMP, CF) 7 27 20.pdf',\n",
       " 'University Place (G, CMP, CF) 5 29 20.pdf',\n",
       " 'View Ridge (3OOC  prior G prior FP, CF, CMP) 6 5 20.pdf',\n",
       " 'View Ridge (6OOC D, prior G prior FP, CF, CMP) 8 5 20.pdf',\n",
       " 'Wesley Homes (Hx GG, prior D, CF, CMP, CF) 7 9 20.pdf'}"
      ]
     },
     "execution_count": 8,
     "metadata": {},
     "output_type": "execute_result"
    }
   ],
   "source": [
    "set(batch_0820).difference(set(batch_0716))"
   ]
  },
  {
   "cell_type": "code",
   "execution_count": 9,
   "metadata": {},
   "outputs": [
    {
     "data": {
      "text/plain": [
       "{'Advanced Post Acute (G, CMP, CF) 8 7 20.pdf',\n",
       " 'Avalon Care Center (Level G - Rec Fed CMP ) 7 31 20.pdf',\n",
       " 'Crescent Health Care (Covid F) 8 17 20.pdf',\n",
       " 'Franklin Hills (Covid L, CMP, Cont cond, cont SP, hx prior F, CF) 8 7 20.pdf',\n",
       " 'Franklin Hills Notice of DPOC.pdf',\n",
       " 'Lynnwod Post Acute (Hx D, prior IJ civil fine).pdf',\n",
       " 'Mira Vista (3 OOC Covid E prior G prior D, CMP) 8 5 20.pdf',\n",
       " 'Prestige Post Acute - Centralia (GG, CF, CMP) 8 18 20.pdf',\n",
       " 'Prestige Post Acute-Edmonds Amended (DPOC, F, 45 day DDPNA) 8 3 20.pdf',\n",
       " 'Providence Mount St Vincent (K, DPOC, CMP, CF) 8 4 20.pdf',\n",
       " 'WA Care Center (HX E, DPOC, prior D) 8 7 20.pdf',\n",
       " 'Wesley Homes (Hx Covid E prior G, prior D) 8 18 20.pdf'}"
      ]
     },
     "execution_count": 9,
     "metadata": {},
     "output_type": "execute_result"
    }
   ],
   "source": [
    "set(batch_0908).difference(set(batch_0820))"
   ]
  },
  {
   "cell_type": "code",
   "execution_count": null,
   "metadata": {},
   "outputs": [],
   "source": []
  }
 ],
 "metadata": {
  "kernelspec": {
   "display_name": "Python 3",
   "language": "python",
   "name": "python3"
  },
  "language_info": {
   "codemirror_mode": {
    "name": "ipython",
    "version": 3
   },
   "file_extension": ".py",
   "mimetype": "text/x-python",
   "name": "python",
   "nbconvert_exporter": "python",
   "pygments_lexer": "ipython3",
   "version": "3.7.7"
  }
 },
 "nbformat": 4,
 "nbformat_minor": 4
}
