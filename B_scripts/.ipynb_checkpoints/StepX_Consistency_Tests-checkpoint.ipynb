{
 "cells": [
  {
   "cell_type": "markdown",
   "metadata": {},
   "source": [
    "# SETTINGS"
   ]
  },
  {
   "cell_type": "code",
   "execution_count": 1,
   "metadata": {},
   "outputs": [],
   "source": [
    "import pandas as pd\n",
    "from sodapy import Socrata\n",
    "import re"
   ]
  },
  {
   "cell_type": "markdown",
   "metadata": {},
   "source": [
    "# IMPORT DATA"
   ]
  },
  {
   "cell_type": "markdown",
   "metadata": {},
   "source": [
    "### DSHS Data"
   ]
  },
  {
   "cell_type": "code",
   "execution_count": 2,
   "metadata": {},
   "outputs": [],
   "source": [
    "# Original listings: CSV file directly downloaded from the ALTSA site.\n",
    "df_listing = pd.read_csv('../A_source_data/Listings/NHF_Listing.csv', dtype='str')\n",
    "df_listing.columns = df_listing.columns.str.strip().str.lower().str.replace('\\s', '_')\n",
    "\n",
    "# Metadata of results: Data scraped from the ALTSA website each time a PDF was dowloaded\n",
    "df_meta = pd.read_csv('../C_output_data/reports_metadata/reports_metadata_nhf.csv', dtype='str')\n",
    "df_meta.columns = df_meta.columns.str.strip().str.lower().str.replace('\\s', '_')\n",
    "\n",
    "# Reports contents: Data scraped from enforcement letters\n",
    "df_pdfs = pd.read_csv('../C_output_data/reports_contents/nhf_enforcement_letters.csv',\n",
    "                     parse_dates=['report_date'])"
   ]
  },
  {
   "cell_type": "code",
   "execution_count": 3,
   "metadata": {},
   "outputs": [
    {
     "data": {
      "text/plain": [
       "Investigation                         1359\n",
       "Enforcement Letter                     859\n",
       "Inspection                             584\n",
       "Informal Dispute Resolution Letter     406\n",
       "Registered Nurse Exception Letter      132\n",
       "Name: rep_type, dtype: int64"
      ]
     },
     "execution_count": 3,
     "metadata": {},
     "output_type": "execute_result"
    }
   ],
   "source": [
    "df_meta['rep_type'].value_counts(dropna=False)"
   ]
  },
  {
   "cell_type": "code",
   "execution_count": 4,
   "metadata": {},
   "outputs": [],
   "source": [
    "ii_meta = df_meta[df_meta['rep_type'].isin(['Investigation', 'Inspection'])]\n",
    "ii_meta = ii_meta['pdf_name'].unique()\n",
    "\n",
    "letters_meta = df_meta[df_meta['rep_type'].isin(['Enforcement Letter'])]\n",
    "letters_meta = letters_meta['pdf_name'].unique()\n",
    "\n",
    "letters_pdf = df_pdfs['pdf_name'].unique()"
   ]
  },
  {
   "cell_type": "code",
   "execution_count": 5,
   "metadata": {},
   "outputs": [
    {
     "name": "stdout",
     "output_type": "stream",
     "text": [
      "859\n"
     ]
    }
   ],
   "source": [
    "assert len(letters_meta) == len(letters_pdf)\n",
    "\n",
    "assert set(letters_meta).intersection(letters_pdf) == set(letters_meta)\n",
    "assert set(letters_pdf).intersection(letters_meta) == set(letters_pdf)\n",
    "\n",
    "print(len(letters_meta))"
   ]
  },
  {
   "cell_type": "code",
   "execution_count": null,
   "metadata": {},
   "outputs": [],
   "source": []
  },
  {
   "cell_type": "code",
   "execution_count": null,
   "metadata": {},
   "outputs": [],
   "source": []
  },
  {
   "cell_type": "code",
   "execution_count": 41,
   "metadata": {},
   "outputs": [
    {
     "name": "stdout",
     "output_type": "stream",
     "text": [
      "Number or providers with inspections/investigations  = 198\n",
      "Number or providers with enforcement letters = 182\n",
      "Number or providers with both type of reports  = 179\n"
     ]
    }
   ],
   "source": [
    "providers_ii = df_meta[df_meta['pdf_name'].isin(ii_meta)]\n",
    "providers_ii = providers_ii['fain_id'].unique()\n",
    "\n",
    "providers_letters = df_meta[df_meta['pdf_name'].isin(letters_meta)]\n",
    "providers_letters = providers_letters['fain_id'].unique()\n",
    "\n",
    "print('Number or providers with inspections/investigations  =', len(providers_ii))\n",
    "print('Number or providers with enforcement letters =',len(providers_letters))\n",
    "\n",
    "print('Number or providers with both type of reports  =',len(set(providers_ii).intersection(providers_letters)))"
   ]
  },
  {
   "cell_type": "code",
   "execution_count": 36,
   "metadata": {},
   "outputs": [
    {
     "data": {
      "text/html": [
       "<div>\n",
       "<style scoped>\n",
       "    .dataframe tbody tr th:only-of-type {\n",
       "        vertical-align: middle;\n",
       "    }\n",
       "\n",
       "    .dataframe tbody tr th {\n",
       "        vertical-align: top;\n",
       "    }\n",
       "\n",
       "    .dataframe thead th {\n",
       "        text-align: right;\n",
       "    }\n",
       "</style>\n",
       "<table border=\"1\" class=\"dataframe\">\n",
       "  <thead>\n",
       "    <tr style=\"text-align: right;\">\n",
       "      <th></th>\n",
       "      <th>fain_id</th>\n",
       "      <th>nf_name</th>\n",
       "      <th>pdf_name</th>\n",
       "      <th>rep_type</th>\n",
       "      <th>rep_date</th>\n",
       "      <th>download_record</th>\n",
       "    </tr>\n",
       "  </thead>\n",
       "  <tbody>\n",
       "    <tr>\n",
       "      <th>334</th>\n",
       "      <td>45544</td>\n",
       "      <td>Manor Care Health Services - Salmon Creek</td>\n",
       "      <td>Manor Care - Salmon Creek (GG, CMP, CF) 12 17 ...</td>\n",
       "      <td>Enforcement Letter</td>\n",
       "      <td>Dec-19</td>\n",
       "      <td>Tue Mar 17 15:36:11 2020</td>\n",
       "    </tr>\n",
       "    <tr>\n",
       "      <th>1224</th>\n",
       "      <td>45975</td>\n",
       "      <td>Seattle Medical Post Acute Care</td>\n",
       "      <td>Seattle Medical Post Acute (GG, CMP, CF) 2 10 ...</td>\n",
       "      <td>Enforcement Letter</td>\n",
       "      <td>Feb-20</td>\n",
       "      <td>Tue Mar 17 16:15:24 2020</td>\n",
       "    </tr>\n",
       "    <tr>\n",
       "      <th>1754</th>\n",
       "      <td>45542</td>\n",
       "      <td>Manor Care Health Services (Gig Harbor)</td>\n",
       "      <td>Manor Care Gig Harbor (FP, E prior E) 11 27 19...</td>\n",
       "      <td>Enforcement Letter</td>\n",
       "      <td>Dec-19</td>\n",
       "      <td>Tue Mar 17 16:40:16 2020</td>\n",
       "    </tr>\n",
       "  </tbody>\n",
       "</table>\n",
       "</div>"
      ],
      "text/plain": [
       "     fain_id                                    nf_name  \\\n",
       "334    45544  Manor Care Health Services - Salmon Creek   \n",
       "1224   45975            Seattle Medical Post Acute Care   \n",
       "1754   45542    Manor Care Health Services (Gig Harbor)   \n",
       "\n",
       "                                               pdf_name            rep_type  \\\n",
       "334   Manor Care - Salmon Creek (GG, CMP, CF) 12 17 ...  Enforcement Letter   \n",
       "1224  Seattle Medical Post Acute (GG, CMP, CF) 2 10 ...  Enforcement Letter   \n",
       "1754  Manor Care Gig Harbor (FP, E prior E) 11 27 19...  Enforcement Letter   \n",
       "\n",
       "     rep_date           download_record  \n",
       "334    Dec-19  Tue Mar 17 15:36:11 2020  \n",
       "1224   Feb-20  Tue Mar 17 16:15:24 2020  \n",
       "1754   Dec-19  Tue Mar 17 16:40:16 2020  "
      ]
     },
     "execution_count": 36,
     "metadata": {},
     "output_type": "execute_result"
    }
   ],
   "source": [
    "df_orphans = df_meta[df_meta['fain_id'].isin(set(providers_letters).difference(providers_ii))]\n",
    "df_orphans"
   ]
  },
  {
   "cell_type": "code",
   "execution_count": 38,
   "metadata": {},
   "outputs": [
    {
     "data": {
      "text/plain": [
       "5000.0"
      ]
     },
     "execution_count": 38,
     "metadata": {},
     "output_type": "execute_result"
    }
   ],
   "source": [
    "df_pdfs[df_pdfs['pdf_name'].isin(df_orphans['pdf_name'])]['mulct_agg'].sum()"
   ]
  },
  {
   "cell_type": "code",
   "execution_count": null,
   "metadata": {},
   "outputs": [],
   "source": []
  }
 ],
 "metadata": {
  "kernelspec": {
   "display_name": "Python 3",
   "language": "python",
   "name": "python3"
  },
  "language_info": {
   "codemirror_mode": {
    "name": "ipython",
    "version": 3
   },
   "file_extension": ".py",
   "mimetype": "text/x-python",
   "name": "python",
   "nbconvert_exporter": "python",
   "pygments_lexer": "ipython3",
   "version": "3.7.7"
  }
 },
 "nbformat": 4,
 "nbformat_minor": 4
}
