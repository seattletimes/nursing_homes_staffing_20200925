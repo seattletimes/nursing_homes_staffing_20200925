{
 "cells": [
  {
   "cell_type": "markdown",
   "metadata": {},
   "source": [
    "# TO DO"
   ]
  },
  {
   "cell_type": "markdown",
   "metadata": {},
   "source": [
    "# Settings"
   ]
  },
  {
   "cell_type": "markdown",
   "metadata": {},
   "source": [
    "### Packages"
   ]
  },
  {
   "cell_type": "code",
   "execution_count": 1,
   "metadata": {},
   "outputs": [],
   "source": [
    "import pdfplumber\n",
    "import pandas as pd\n",
    "import numpy as np\n",
    "import re\n",
    "import pprint\n",
    "from decimal import Decimal\n",
    "\n",
    "pd.set_option('display.max_colwidth', None)"
   ]
  },
  {
   "cell_type": "markdown",
   "metadata": {},
   "source": [
    "### Global variables"
   ]
  },
  {
   "cell_type": "code",
   "execution_count": 2,
   "metadata": {},
   "outputs": [],
   "source": [
    "# Path to all the adult family reports (enforcement letters and others)\n",
    "path = '/Volumes/files/COVID19/DSHS_Facility_Reports_Manuel/reports_pdfs/AF_4644/'\n",
    "\n",
    "# Create a list of all the adult family enforcement letters.\n",
    "enf_ltrs = pd.read_csv('../C_output_data/reports_metadata/reports_metadata_afh.csv')\n",
    "enf_ltrs = enf_ltrs[enf_ltrs['rep_type']=='Enforcement Letter']\n",
    "enf_ltrs = enf_ltrs['pdf_name'].unique()\n",
    "enf_ltrs = pd.Series(enf_ltrs).sort_values().reset_index(drop=True)"
   ]
  },
  {
   "cell_type": "code",
   "execution_count": 3,
   "metadata": {},
   "outputs": [
    {
     "name": "stdout",
     "output_type": "stream",
     "text": [
      "There are 787 enforcement letters for adult family facilities\n"
     ]
    }
   ],
   "source": [
    "print('There are', len(enf_ltrs), 'enforcement letters for adult family facilities')"
   ]
  }
 ],
 "metadata": {
  "kernelspec": {
   "display_name": "Python 3",
   "language": "python",
   "name": "python3"
  },
  "language_info": {
   "codemirror_mode": {
    "name": "ipython",
    "version": 3
   },
   "file_extension": ".py",
   "mimetype": "text/x-python",
   "name": "python",
   "nbconvert_exporter": "python",
   "pygments_lexer": "ipython3",
   "version": "3.7.7"
  }
 },
 "nbformat": 4,
 "nbformat_minor": 4
}
