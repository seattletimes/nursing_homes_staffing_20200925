{
 "cells": [
  {
   "cell_type": "markdown",
   "metadata": {},
   "source": [
    "# What this script does"
   ]
  },
  {
   "cell_type": "markdown",
   "metadata": {},
   "source": [
    "First we obtained the **enforcement letters PDFs**, scraped their contents and organized those contents into a dataframe.\n",
    "\n",
    "Next, we dowloaded the **CMS** data on deficiencies.\n",
    "\n",
    "While the CMS data was an structured dataset from the beginnig, the scraped data from the enforcement letters still needs some cleaning and standarization. For example, we could not obtain the a facility's federal number from several enforcement letters, either because it was not present int the letter or because it contained typos.\n",
    "\n",
    "In this script, we carry out the cleaning of the data scraped from the enforcement letters."
   ]
  },
  {
   "cell_type": "markdown",
   "metadata": {},
   "source": [
    "# I. Settings"
   ]
  },
  {
   "cell_type": "code",
   "execution_count": 1,
   "metadata": {},
   "outputs": [],
   "source": [
    "import pandas as pd\n",
    "pd.set_option('display.max_colwidth', None)"
   ]
  },
  {
   "cell_type": "markdown",
   "metadata": {},
   "source": [
    "# II. Importing data"
   ]
  },
  {
   "cell_type": "markdown",
   "metadata": {},
   "source": [
    "#### Import"
   ]
  },
  {
   "cell_type": "code",
   "execution_count": 2,
   "metadata": {},
   "outputs": [],
   "source": [
    "# Penalties (scraped from the enforcement letter PDFs)\n",
    "df_letters_orig = pd.read_csv('../C_output_data/scraped_data.csv', \n",
    "                              parse_dates=['letter_dt', 'survey_dt'])\n",
    "# Deficiencies (from CMS database)\n",
    "df_sod_wa_orig = pd.read_csv('../C_output_data/sod_wa.csv', \n",
    "                             dtype='object', parse_dates=['inspection_dt'])"
   ]
  },
  {
   "cell_type": "markdown",
   "metadata": {},
   "source": [
    "#### Working copies"
   ]
  },
  {
   "cell_type": "code",
   "execution_count": 3,
   "metadata": {},
   "outputs": [],
   "source": [
    "# Working copies\n",
    "df_sod_wa = df_sod_wa_orig.copy()\n",
    "df_letters = df_letters_orig.copy()"
   ]
  },
  {
   "cell_type": "code",
   "execution_count": 4,
   "metadata": {},
   "outputs": [
    {
     "name": "stdout",
     "output_type": "stream",
     "text": [
      "(4958, 25)\n"
     ]
    },
    {
     "data": {
      "text/plain": [
       "pdf_name           1035\n",
       "page                  8\n",
       "image_based           2\n",
       "letter_dt           578\n",
       "survey_dt           577\n",
       "survey_type         111\n",
       "vendor_num          248\n",
       "fed_num             217\n",
       "aem_num             701\n",
       "action               56\n",
       "fed_enforcement       2\n",
       "nc_hist               2\n",
       "epoc                  2\n",
       "state_rem             2\n",
       "appeal_rights         2\n",
       "finding_code          9\n",
       "finding_desc         50\n",
       "wac_long            145\n",
       "wac_short            46\n",
       "subchp_num            3\n",
       "subchp_name           3\n",
       "section              15\n",
       "section_desc         41\n",
       "cmp_item             40\n",
       "cmp_agg              66\n",
       "dtype: int64"
      ]
     },
     "execution_count": 4,
     "metadata": {},
     "output_type": "execute_result"
    }
   ],
   "source": [
    "print(df_letters.shape)\n",
    "df_letters.nunique()"
   ]
  },
  {
   "cell_type": "code",
   "execution_count": 5,
   "metadata": {},
   "outputs": [
    {
     "name": "stdout",
     "output_type": "stream",
     "text": [
      "(11915, 12)\n"
     ]
    },
    {
     "data": {
      "text/plain": [
       "facility_name      225\n",
       "facility_id        224\n",
       "eventid           2075\n",
       "inspection_dt      742\n",
       "tag                290\n",
       "tag_group_num       20\n",
       "tag_group_name      20\n",
       "tag_old_new          2\n",
       "severity_code       11\n",
       "severity_desc       11\n",
       "complaint            2\n",
       "standard             2\n",
       "dtype: int64"
      ]
     },
     "execution_count": 5,
     "metadata": {},
     "output_type": "execute_result"
    }
   ],
   "source": [
    "print(df_sod_wa.shape)\n",
    "df_sod_wa.nunique()"
   ]
  },
  {
   "cell_type": "markdown",
   "metadata": {},
   "source": [
    "# III. Enforcement letter data: Fixing non-matching federal numbers"
   ]
  },
  {
   "cell_type": "markdown",
   "metadata": {},
   "source": [
    "Each enforcement letter issued to a facility included that facility federal number. Those numbers are how we link the enfocement letters with the CMS database. However, not all of them could be scraped, either because they were missinng or because they had typos.\n",
    "\n",
    "In this section, we will fix the records scraped from the enforcement letters whose facility federal number are corrupted.\n",
    "\n",
    "To start, let's find out which are those federal numbers contained in *df_letters* that are not found in the CMS dataset."
   ]
  },
  {
   "cell_type": "markdown",
   "metadata": {},
   "source": [
    "### Identify the faulty federal numbers in *df_letters*"
   ]
  },
  {
   "cell_type": "code",
   "execution_count": 6,
   "metadata": {},
   "outputs": [
    {
     "name": "stdout",
     "output_type": "stream",
     "text": [
      "There are 22 federal numbers contained in 89 enforcement letters that are not found in CMS.\n"
     ]
    }
   ],
   "source": [
    "# Find the fed number from the letters (and their corresponding PDF names) that don't show up in the CMS data\n",
    "not_in_cms = set(df_letters['fed_num']).difference(set(df_sod_wa['facility_id']))\n",
    "not_in_cms = df_letters[df_letters['fed_num'].isin(not_in_cms)]\n",
    "not_in_cms = not_in_cms[['fed_num', 'pdf_name']].drop_duplicates()\n",
    "not_in_cms = not_in_cms.sort_values(['pdf_name', 'fed_num']).reset_index(drop=True)\n",
    "\n",
    "print('There are', not_in_cms['fed_num'].nunique(dropna=False), 'federal numbers contained in', \n",
    "      not_in_cms['pdf_name'].nunique(dropna=False), 'enforcement letters that are not found in CMS.')"
   ]
  },
  {
   "cell_type": "code",
   "execution_count": 7,
   "metadata": {},
   "outputs": [
    {
     "data": {
      "text/html": [
       "<div>\n",
       "<style scoped>\n",
       "    .dataframe tbody tr th:only-of-type {\n",
       "        vertical-align: middle;\n",
       "    }\n",
       "\n",
       "    .dataframe tbody tr th {\n",
       "        vertical-align: top;\n",
       "    }\n",
       "\n",
       "    .dataframe thead th {\n",
       "        text-align: right;\n",
       "    }\n",
       "</style>\n",
       "<table border=\"1\" class=\"dataframe\">\n",
       "  <thead>\n",
       "    <tr style=\"text-align: right;\">\n",
       "      <th></th>\n",
       "      <th>fed_num</th>\n",
       "      <th>pdf_name</th>\n",
       "    </tr>\n",
       "  </thead>\n",
       "  <tbody>\n",
       "    <tr>\n",
       "      <th>0</th>\n",
       "      <td>NaN</td>\n",
       "      <td>Alaska Gardens (Lift SP, BIC) 2 14 19.pdf</td>\n",
       "    </tr>\n",
       "    <tr>\n",
       "      <th>1</th>\n",
       "      <td>NaN</td>\n",
       "      <td>Alderwood Park (BIC - Lift SP) 5 9 18 .pdf</td>\n",
       "    </tr>\n",
       "    <tr>\n",
       "      <th>2</th>\n",
       "      <td>505X255</td>\n",
       "      <td>Avalon Care Center - Othello (G, CMP, CF) 5 3 19.pdf</td>\n",
       "    </tr>\n",
       "    <tr>\n",
       "      <th>3</th>\n",
       "      <td>NaN</td>\n",
       "      <td>Avamere Bellingham (Lift Sp, BIC) 3 23 20.pdf</td>\n",
       "    </tr>\n",
       "    <tr>\n",
       "      <th>4</th>\n",
       "      <td>Fed# 505223</td>\n",
       "      <td>Avamere Bellingham SFF removal 6 17.pdf</td>\n",
       "    </tr>\n",
       "    <tr>\n",
       "      <th>...</th>\n",
       "      <td>...</td>\n",
       "      <td>...</td>\n",
       "    </tr>\n",
       "    <tr>\n",
       "      <th>84</th>\n",
       "      <td>505XXX</td>\n",
       "      <td>Victory Health and Rehab (G, CMP, CF) 3 16.pdf</td>\n",
       "    </tr>\n",
       "    <tr>\n",
       "      <th>85</th>\n",
       "      <td>NaN</td>\n",
       "      <td>View Ridge (BIC, Lift SP, Cond) 3 13 2018.pdf</td>\n",
       "    </tr>\n",
       "    <tr>\n",
       "      <th>86</th>\n",
       "      <td>505XXX</td>\n",
       "      <td>View Ridge (IJ, OSFM, SP, IJ, ) 1 30 18.pdf</td>\n",
       "    </tr>\n",
       "    <tr>\n",
       "      <th>87</th>\n",
       "      <td>X505349</td>\n",
       "      <td>Willapa Harbor (IJ, SUB, CMP, CF) 6 17.pdf</td>\n",
       "    </tr>\n",
       "    <tr>\n",
       "      <th>88</th>\n",
       "      <td>NaN</td>\n",
       "      <td>Willapa_Harbor_Health_and_Rehab_February_14_2017_last_letter.pdf</td>\n",
       "    </tr>\n",
       "  </tbody>\n",
       "</table>\n",
       "<p>89 rows × 2 columns</p>\n",
       "</div>"
      ],
      "text/plain": [
       "        fed_num  \\\n",
       "0           NaN   \n",
       "1           NaN   \n",
       "2       505X255   \n",
       "3           NaN   \n",
       "4   Fed# 505223   \n",
       "..          ...   \n",
       "84       505XXX   \n",
       "85          NaN   \n",
       "86       505XXX   \n",
       "87      X505349   \n",
       "88          NaN   \n",
       "\n",
       "                                                            pdf_name  \n",
       "0                          Alaska Gardens (Lift SP, BIC) 2 14 19.pdf  \n",
       "1                         Alderwood Park (BIC - Lift SP) 5 9 18 .pdf  \n",
       "2               Avalon Care Center - Othello (G, CMP, CF) 5 3 19.pdf  \n",
       "3                      Avamere Bellingham (Lift Sp, BIC) 3 23 20.pdf  \n",
       "4                            Avamere Bellingham SFF removal 6 17.pdf  \n",
       "..                                                               ...  \n",
       "84                    Victory Health and Rehab (G, CMP, CF) 3 16.pdf  \n",
       "85                     View Ridge (BIC, Lift SP, Cond) 3 13 2018.pdf  \n",
       "86                       View Ridge (IJ, OSFM, SP, IJ, ) 1 30 18.pdf  \n",
       "87                        Willapa Harbor (IJ, SUB, CMP, CF) 6 17.pdf  \n",
       "88  Willapa_Harbor_Health_and_Rehab_February_14_2017_last_letter.pdf  \n",
       "\n",
       "[89 rows x 2 columns]"
      ]
     },
     "execution_count": 7,
     "metadata": {},
     "output_type": "execute_result"
    }
   ],
   "source": [
    "not_in_cms"
   ]
  },
  {
   "cell_type": "markdown",
   "metadata": {},
   "source": [
    "Let's look at those non-matching federal numbers."
   ]
  },
  {
   "cell_type": "code",
   "execution_count": 8,
   "metadata": {
    "scrolled": false
   },
   "outputs": [
    {
     "name": "stdout",
     "output_type": "stream",
     "text": [
      "22\n"
     ]
    },
    {
     "data": {
      "text/plain": [
       "{'50098',\n",
       " '50230',\n",
       " '505502',\n",
       " '505A174',\n",
       " '505A260',\n",
       " '505X114',\n",
       " '505X255',\n",
       " '505X276',\n",
       " '505X283',\n",
       " '505X311',\n",
       " '505X319',\n",
       " '505X331',\n",
       " '505X339',\n",
       " '505X344',\n",
       " '505X379',\n",
       " '505X395',\n",
       " '505X470',\n",
       " '505XX',\n",
       " '505XXX',\n",
       " 'Fed# 505223',\n",
       " 'X505349',\n",
       " nan}"
      ]
     },
     "execution_count": 8,
     "metadata": {},
     "output_type": "execute_result"
    }
   ],
   "source": [
    "print(len(set(not_in_cms['fed_num'])))\n",
    "set(not_in_cms['fed_num'])"
   ]
  },
  {
   "cell_type": "markdown",
   "metadata": {},
   "source": [
    "- Some of them are clearlly wrong—they either have the letter 'X' emebbed in them, have too few digits.\n",
    "- The few that have all the full 6 digits, and no 'X' letters, re probably are misspelled, since they were not found in the CMS data——i.e., they likely don't exist.\n",
    "- The 'NaN' values indicate cases where the enforcement letter did not include a federal number.\n",
    "\n",
    "So we will have to manually map the correct federal numbers of the corresponding PDFs, listed below."
   ]
  },
  {
   "cell_type": "code",
   "execution_count": 9,
   "metadata": {
    "scrolled": false
   },
   "outputs": [
    {
     "name": "stdout",
     "output_type": "stream",
     "text": [
      "89\n"
     ]
    },
    {
     "data": {
      "text/plain": [
       "{'Alaska Gardens (Lift SP, BIC) 2 14 19.pdf',\n",
       " 'Alderwood Park (BIC - Lift SP) 5 9 18 .pdf',\n",
       " 'Avalon Care Center - Othello (G, CMP, CF) 5 3 19.pdf',\n",
       " 'Avamere Bellingham (Lift Sp, BIC) 3 23 20.pdf',\n",
       " 'Avamere Bellingham SFF removal 6 17.pdf',\n",
       " 'Ballard Center (Lift SP, BIC) 12 20 17.pdf',\n",
       " 'Ballard Center (Lift SP, Cond) 5 15 20.pdf',\n",
       " 'Ballard Center (Lift SP, Still OOC) 12 28 18.pdf',\n",
       " 'Bremerton_Convalescent_and_Rehabilitation_Center_January_20_2017_letter_3.pdf',\n",
       " 'Brookfield Cascadia (Hx D prior G, prior G) 2 28 19.pdf',\n",
       " 'Brookfield Cascadia (Lift SP, BIC) 5 22 18.pdf',\n",
       " 'Canterbury House (D prior D) 9 18 18.pdf',\n",
       " 'Cashmere Care Center (G, CMP, CF) 5 25 18.pdf',\n",
       " 'Columbia Lutheran Home (G, CMP, CF) 5 17.pdf',\n",
       " 'Cristwood Nursing and Rehab (GG, CMP, CF) 6 21 18.pdf',\n",
       " 'Delta Rehab (IJ, R, SUB, CMP, CF) 6 14 18.pdf',\n",
       " 'Emerald Hills (GG, CMP, CF, Sub) 3 17.pdf',\n",
       " 'Emerald Hills BIC 6 17.pdf',\n",
       " 'Emerald_Hills_Rehabilitation_March_10_2017_letter_10.pdf',\n",
       " 'Fidalgo (BIC, Cond remain) 10 11 19.pdf',\n",
       " 'Fidalgo (GG, CMP, CF) 7 11 18.pdf',\n",
       " 'Fir Lane  BIC - Lift Amended SP 3 17.pdf',\n",
       " 'Fir Lane  BIC - Lift SP 3 17.pdf',\n",
       " 'Fir Lane (Lift Sp, Cont Cond, still OOC) 5 8 20.pdf',\n",
       " 'Fir Lane Health and Rehab (IJ, R, CMP, CF) 4 17.pdf',\n",
       " 'Fircrest School Pat N (Hx E, prior D) 6 28 18.pdf',\n",
       " 'Forks Community Hospital (G, CMP) 1 28 19.pdf',\n",
       " 'Foss Home and Village (BIC, Lift SP) 10 26 18.pdf',\n",
       " 'Foss Home and Village (Reduce CF-settelment) 8 12 19.pdf',\n",
       " 'Franke Tobey Jones (FP, CF) 3 6 20.pdf',\n",
       " 'Franklin Hills (Lift Sp, BIC) 8 17.pdf',\n",
       " 'Franklin Hills Notice of DPOC.pdf',\n",
       " 'Frontier Rehab (Hx D prior D) 1 10 19.pdf',\n",
       " 'Frontier Rehab (Hx D prior E) 11 1 19.pdf',\n",
       " 'Garden Village (Health BIC, LSC OOC) 8 27 19.pdf',\n",
       " 'Gardens on University (GG, CMP, CF) 12 11 17.pdf',\n",
       " 'Good Samaritian Society - Stafholt (3OOC, G, prior G, prior D) 6 7 19.pdf',\n",
       " 'Hallmark Manor BIC lift SP 4 17.pdf',\n",
       " 'Heartwood Extended Health Care (amended-rescind CF)1 3 19.pdf',\n",
       " 'Heartwood Extended Health Care (rescind CF).pdf',\n",
       " 'Josephine Sunset (Lift SP cont OOC) 3 17.pdf',\n",
       " 'Josephine_Sunset_Home_March_3_2017_letter_16.pdf',\n",
       " 'Kindred Arden (BIC Lift SP) 6 17.pdf',\n",
       " 'Life Care of Kennewick (BIC-Lift SP) 5 31 2018.pdf',\n",
       " 'Linden Grove (Lift Sp, BIC) 6 24 20.pdf',\n",
       " 'Lynnwood Post Acute (IJ DPOC notice) 7 17 20.pdf',\n",
       " 'Lynnwood Post Acute (IJ, Pend, NR, SP, Cond) 7 1 20.pdf',\n",
       " 'Manor Care - Gig Harbor (Lift SP, BIC) 11 8 18.pdf',\n",
       " 'Manor Care - Salmon Creek (GG, CMP, CF) 12 17 19.pdf',\n",
       " 'Manor Care Lynnwood (Hx E prior D) 7 29 19.pdf',\n",
       " 'Montesano (G, CMP, CF) 3 17.pdf',\n",
       " 'Montesano (GG, CMP, CF 3 17 17 SOD ) 3 17.pdf',\n",
       " 'Montesano_Health_and_Rehabilitation_March_7_2017_letter_30.pdf',\n",
       " 'North_Central_Care_and_Rehabilitation_February_8_2017_letter_32.pdf',\n",
       " 'Pacific Care (Lift SP, Still OOC) 10 18 18.pdf',\n",
       " 'Pacific_Specialty_and_Rehabilitative_Care_January_23_2017_letter_34.pdf',\n",
       " 'Paramount (BIC - Lift Cond) 5 30 18.pdf',\n",
       " 'Paramount (BIC - Lift Cond, SP) 5 17.pdf',\n",
       " 'Park Ridge Care Center (Lift SP, BIC) 6 11 20.pdf',\n",
       " 'Prestige Care - Clarkston (Hx D prior E, CMP) 3 17.pdf',\n",
       " 'Prestige Care and Rehab - Burlington (G, CMP, CF) 6 17.pdf',\n",
       " 'Prestige Post Acute Care - Edmonds (Lift SP, BIC) 5 24 18.pdf',\n",
       " 'Providence St Joseph Care Center (BIC - Lift Cond) 5 17.pdf',\n",
       " 'Queen Anne Healthcare (Lift SP, BIC) 10 24 18.pdf',\n",
       " 'Regency North Bend (BIC, Lift SP) 12 15 17.pdf',\n",
       " 'Regency North Bend (Direct Care hours, CF) 1 8 18.pdf',\n",
       " 'Royal Park (GG, CMP, CF) 09 22 17.pdf',\n",
       " 'Saint Anne Nursing and Rehab (Lift SP, BIC) 3 18 19.pdf',\n",
       " 'Seattle Medical Post Acute Care (Hx G, prior F, CF, CMP) 3 2 18.pdf',\n",
       " 'Shoreline (Lift SP, Still OOC) 11 21 17.pdf',\n",
       " 'Shuksan Healthcare (3OOC, G, CF, CMP, prior D, prior L) 10 31 19.pdf',\n",
       " 'Shuksan Healthcare (4OOC, D prior G, CF, CMP, prior D, prior L) 11 14 19.pdf',\n",
       " 'Snohomish Health and Rehab (GG, CMP, CF) 4 17.pdf',\n",
       " 'Snohomish Health and Rehab (HX D prior G) 1 21 20.pdf',\n",
       " 'St Francis of Bellingham (FP, D prior G, Lift SP) 6 10 20.pdf',\n",
       " 'St Francis of Bellingham (Lift SP, BIC) 3 5 18.pdf',\n",
       " 'Tacoma Lutheran (Withdraw citation) 1 30 19.pdf',\n",
       " 'Tacoma Nursing and Rehab (2nd FP, WAC only) 1 15 20.pdf',\n",
       " 'Tacoma Nursing and Rehab (FP, WAC only) 12 06 19.pdf',\n",
       " 'The Gardens on Univeristy (Hx G, CMP, CF, prior D) 6 19 18.pdf',\n",
       " 'The Oaks at Forest Bay (Lift SP Cond) 10 18 19.pdf',\n",
       " 'The Oaks at Forest Bay (Lift SP, Still OOC) 3 8 17.pdf',\n",
       " 'University Place (Lift SP, Cond, BIC) 3 10 20.pdf',\n",
       " 'University Place Rehab Center (Rescinded CF) Jan 18.pdf',\n",
       " 'Victory Health and Rehab (G, CMP, CF) 3 16.pdf',\n",
       " 'View Ridge (BIC, Lift SP, Cond) 3 13 2018.pdf',\n",
       " 'View Ridge (IJ, OSFM, SP, IJ, ) 1 30 18.pdf',\n",
       " 'Willapa Harbor (IJ, SUB, CMP, CF) 6 17.pdf',\n",
       " 'Willapa_Harbor_Health_and_Rehab_February_14_2017_last_letter.pdf'}"
      ]
     },
     "execution_count": 9,
     "metadata": {},
     "output_type": "execute_result"
    }
   ],
   "source": [
    "print(len(set(not_in_cms['pdf_name'])))\n",
    "set(not_in_cms['pdf_name'])"
   ]
  },
  {
   "cell_type": "markdown",
   "metadata": {},
   "source": [
    "### Build a mapping table for faulty missing CMS numbers"
   ]
  },
  {
   "cell_type": "markdown",
   "metadata": {},
   "source": [
    "The following mapping was done manually, based on a visual matching beween the names of the facilities in the PDF titles and similar names in the CMS data."
   ]
  },
  {
   "cell_type": "code",
   "execution_count": 10,
   "metadata": {},
   "outputs": [],
   "source": [
    "lost_map = [['Alaska Gardens (Lift SP, BIC) 2 14 19.pdf', '505483'],\n",
    "            ['Alderwood Park (BIC - Lift SP) 5 9 18 .pdf', '505092'],\n",
    "            ['Avalon Care Center - Othello (G, CMP, CF) 5 3 19.pdf', '505255'],\n",
    "            ['Avamere Bellingham (Lift Sp, BIC) 3 23 20.pdf', '505223'],\n",
    "            ['Avamere Bellingham SFF removal 6 17.pdf', '505223'],\n",
    "            ['Ballard Center (Lift SP, BIC) 12 20 17.pdf', '505042'],\n",
    "            ['Ballard Center (Lift SP, Cond) 5 15 20.pdf', '505042'],\n",
    "            ['Ballard Center (Lift SP, Still OOC) 12 28 18.pdf', '505042'],\n",
    "            ['Bremerton_Convalescent_and_Rehabilitation_Center_January_20_2017_letter_3.pdf', '505123'],\n",
    "            ['Brookfield Cascadia (Hx D prior G, prior G) 2 28 19.pdf', '505331'],\n",
    "            ['Brookfield Cascadia (Lift SP, BIC) 5 22 18.pdf', '505331'],\n",
    "            ['Canterbury House (D prior D) 9 18 18.pdf', '505344'],\n",
    "            ['Cashmere Care Center (G, CMP, CF) 5 25 18.pdf', '505151'],\n",
    "            ['Columbia Lutheran Home (G, CMP, CF) 5 17.pdf', '505470'],\n",
    "            ['Delta Rehab (IJ, R, SUB, CMP, CF) 6 14 18.pdf', '505467'],\n",
    "            ['Fir Lane  BIC - Lift Amended SP 3 17.pdf', '505230'],\n",
    "            ['Fir Lane  BIC - Lift SP 3 17.pdf', '505230'],\n",
    "            ['Fir Lane (Lift Sp, Cont Cond, still OOC) 5 8 20.pdf', '505230'],\n",
    "            ['Fir Lane Health and Rehab (IJ, R, CMP, CF) 4 17.pdf', '505230'],\n",
    "            ['Fircrest School Pat N (Hx E, prior D) 6 28 18.pdf', '50A260'],\n",
    "            ['Forks Community Hospital (G, CMP) 1 28 19.pdf', '50A174'],\n",
    "            ['Foss Home and Village (BIC, Lift SP) 10 26 18.pdf', '505416'],\n",
    "            ['Foss Home and Village (Reduce CF-settelment) 8 12 19.pdf', '505416'],\n",
    "            ['Franklin Hills (Lift Sp, BIC) 8 17.pdf', '505024'],\n",
    "            ['Frontier Rehab (Hx D prior D) 1 10 19.pdf', '505276'],\n",
    "            ['Frontier Rehab (Hx D prior E) 11 1 19.pdf', '505276'],\n",
    "            ['Garden Village (Health BIC, LSC OOC) 8 27 19.pdf', '505010'],\n",
    "            ['Gardens on University (GG, CMP, CF) 12 11 17.pdf', '505114'],\n",
    "            ['Good Samaritian Society - Stafholt (3OOC, G, prior G, prior D) 6 7 19.pdf', '505395'],\n",
    "            ['Hallmark Manor BIC lift SP 4 17.pdf', '505313'],\n",
    "            ['Hearthstone (G, CMP, CF) 1 12 18.pdf', '505027'],\n",
    "            ['Heartwood Extended Health Care (amended-rescind CF)1 3 19.pdf', '505326'],\n",
    "            ['Heartwood Extended Health Care (rescind CF).pdf', '505326'],\n",
    "            ['Life Care of Kennewick (BIC-Lift SP) 5 31 2018.pdf', '505080'],\n",
    "            ['Linden Grove (Lift Sp, BIC) 6 24 20.pdf', '505485'],\n",
    "            ['Lynnwood Post Acute (IJ DPOC notice) 7 17 20.pdf', '505434'],\n",
    "            ['Lynnwood Post Acute (IJ, Pend, NR, SP, Cond) 7 1 20.pdf', '505434'],            \n",
    "            ['Manor Care Lynnwood (Hx E prior D) 7 29 19.pdf', '505319'],\n",
    "            ['Manor Care - Salmon Creek (GG, CMP, CF) 12 17 19.pdf', '505522'],\n",
    "            ['Manor Care - Gig Harbor (Lift SP, BIC) 11 8 18.pdf', '505436'],\n",
    "            ['Montesano_Health_and_Rehabilitation_March_7_2017_letter_30.pdf', '505503'],\n",
    "            ['Montesano (G, CMP, CF) 3 17.pdf', '505503'],\n",
    "            ['Montesano (GG, CMP, CF 3 17 17 SOD ) 3 17.pdf', '505503'],\n",
    "            ['North_Central_Care_and_Rehabilitation_February_8_2017_letter_32.pdf', '505441'],\n",
    "            ['Pacific Care (Lift SP, Still OOC) 10 18 18.pdf', '505081'],\n",
    "            ['Paramount (BIC - Lift Cond, SP) 5 17.pdf', '505511'],\n",
    "            ['Paramount (BIC - Lift Cond) 5 30 18.pdf', '505511'],\n",
    "            ['Park Ridge Care Center (Lift SP, BIC) 6 11 20.pdf', '505009'],\n",
    "            ['Park Shore (FP, Hx prior G, cmp, CF) 9 20 2018.pdf', '505493'],\n",
    "            ['Park Shore (G, CMP, CF) 7 2 18.pdf', '505493'],\n",
    "            ['Prestige Care - Clarkston (Hx D prior E, CMP) 3 17.pdf', '505283'],\n",
    "            ['Prestige Care and Rehab - Burlington (G, CMP, CF) 6 17.pdf', '505378'],\n",
    "            ['Prestige Post Acute Care - Edmonds (Lift SP, BIC) 5 24 18.pdf', '505527'],\n",
    "            ['Providence St Joseph Care Center (BIC - Lift Cond) 5 17.pdf', '505414'],\n",
    "            ['Queen Anne Healthcare (Lift SP, BIC) 10 24 18.pdf', '505204'],\n",
    "            ['Regency North Bend (BIC, Lift SP) 12 15 17.pdf', '505339'],\n",
    "            ['Regency North Bend (Direct Care hours, CF) 1 8 18.pdf', '505339'],\n",
    "            ['Royal Park (GG, CMP, CF) 09 22 17.pdf', '505379'],\n",
    "            ['Saint Anne Nursing and Rehab (Lift SP, BIC) 3 18 19.pdf', '505417'],            \n",
    "            ['Seattle Medical Post Acute Care (Hx G, prior F, CF, CMP) 3 2 18.pdf', '505311'],\n",
    "            ['Shoreline (Lift SP, Still OOC) 11 21 17.pdf', '505262'],\n",
    "            ['Shuksan Healthcare (3OOC, G, CF, CMP, prior D, prior L) 10 31 19.pdf', '505098'],\n",
    "            ['Shuksan Healthcare (4OOC, D prior G, CF, CMP, prior D, prior L) 11 14 19.pdf', '505098'],\n",
    "            ['Snohomish Health and Rehab (GG, CMP, CF) 4 17.pdf', '505338'],\n",
    "            ['Snohomish Health and Rehab (HX D prior G) 1 21 20.pdf', '505338'],\n",
    "            ['St Francis of Bellingham (Lift SP, BIC) 3 5 18.pdf', '505296'],\n",
    "            ['St Francis of Bellingham (FP, D prior G, Lift SP) 6 10 20.pdf', '505296'],\n",
    "            ['Tacoma Lutheran (Withdraw citation) 1 30 19.pdf', '505435'],\n",
    "            ['Tacoma Nursing and Rehab (2nd FP, WAC only) 1 15 20.pdf', '505154'],\n",
    "            ['Tacoma Nursing and Rehab (FP, WAC only) 12 06 19.pdf', '505154'],\n",
    "            ['The Gardens on Univeristy (Hx G, CMP, CF, prior D) 6 19 18.pdf', '505114'],\n",
    "            ['The Oaks at Forest Bay (Lift SP Cond) 10 18 19.pdf', '505214'],\n",
    "            ['The Oaks at Forest Bay (Lift SP, Still OOC) 3 8 17.pdf', '505214'],\n",
    "            ['University Place (Lift SP, Cond, BIC) 3 10 20.pdf', '505473'],\n",
    "            ['University Place Rehab Center (Rescinded CF) Jan 18.pdf', '505473'],\n",
    "            ['View Ridge (BIC, Lift SP, Cond) 3 13 2018.pdf', '505362'],\n",
    "            ['View Ridge (IJ, OSFM, SP, IJ, ) 1 30 18.pdf', '505362'],\n",
    "            ['Willapa Harbor (IJ, SUB, CMP, CF) 6 17.pdf', '505349'],\n",
    "            ['Willapa_Harbor_Health_and_Rehab_February_14_2017_last_letter.pdf', '505349'],\n",
    "           ]\n",
    "\n",
    "lost_map = pd.DataFrame(lost_map, columns=['pdf_name', 'manual_cms_number'])\n",
    "\n",
    "# Consistency test: Are all these PDFs present in df_letters?\n",
    "assert lost_map['pdf_name'].isin(df_letters['pdf_name']).all()"
   ]
  },
  {
   "cell_type": "markdown",
   "metadata": {},
   "source": [
    "Let's run a visual test, comparing the facility names embedded in each PDF's title with the facility names that the mapping above matches with the CMS data."
   ]
  },
  {
   "cell_type": "code",
   "execution_count": 11,
   "metadata": {},
   "outputs": [],
   "source": [
    "df_test = not_in_cms.join(lost_map.set_index('pdf_name'), on='pdf_name', how='inner').reset_index(drop=True)\n",
    "df_test = df_test.join(df_sod_wa.set_index('facility_id'), on='manual_cms_number', how='left')\n",
    "df_test = df_test[['pdf_name', 'facility_name']].drop_duplicates().reset_index(drop=True)\n",
    "\n",
    "# df_test.to_csv('/Users/mvilla/Downloads/cms_mapping_TRASHABLE.csv', index=False)\n",
    "del(df_test)"
   ]
  },
  {
   "cell_type": "markdown",
   "metadata": {},
   "source": [
    "A visual survey confirmed that all the facility names that came out from the mapping were consistent with the PDF names.\n",
    "\n",
    "How many non-matching PDFs do we still have?"
   ]
  },
  {
   "cell_type": "code",
   "execution_count": 12,
   "metadata": {},
   "outputs": [
    {
     "name": "stdout",
     "output_type": "stream",
     "text": [
      "There are still 13 enforcement letters whose facility numbers/names we could not find\n"
     ]
    },
    {
     "data": {
      "text/plain": [
       "{'Cristwood Nursing and Rehab (GG, CMP, CF) 6 21 18.pdf',\n",
       " 'Emerald Hills (GG, CMP, CF, Sub) 3 17.pdf',\n",
       " 'Emerald Hills BIC 6 17.pdf',\n",
       " 'Emerald_Hills_Rehabilitation_March_10_2017_letter_10.pdf',\n",
       " 'Fidalgo (BIC, Cond remain) 10 11 19.pdf',\n",
       " 'Fidalgo (GG, CMP, CF) 7 11 18.pdf',\n",
       " 'Franke Tobey Jones (FP, CF) 3 6 20.pdf',\n",
       " 'Franklin Hills Notice of DPOC.pdf',\n",
       " 'Josephine Sunset (Lift SP cont OOC) 3 17.pdf',\n",
       " 'Josephine_Sunset_Home_March_3_2017_letter_16.pdf',\n",
       " 'Kindred Arden (BIC Lift SP) 6 17.pdf',\n",
       " 'Pacific_Specialty_and_Rehabilitative_Care_January_23_2017_letter_34.pdf',\n",
       " 'Victory Health and Rehab (G, CMP, CF) 3 16.pdf'}"
      ]
     },
     "execution_count": 12,
     "metadata": {},
     "output_type": "execute_result"
    }
   ],
   "source": [
    "not_in_cms_still = set(not_in_cms['pdf_name']).difference(set(lost_map['pdf_name']))\n",
    "\n",
    "print('There are still', len(not_in_cms_still), 'enforcement letters whose facility numbers/names we could not find')\n",
    "not_in_cms_still"
   ]
  },
  {
   "cell_type": "markdown",
   "metadata": {},
   "source": [
    "### Mapping the missing federal numers in *df_letters*"
   ]
  },
  {
   "cell_type": "markdown",
   "metadata": {},
   "source": [
    "First, let's reduce *df_letters* by eliminating columns we don't need."
   ]
  },
  {
   "cell_type": "code",
   "execution_count": 13,
   "metadata": {},
   "outputs": [
    {
     "name": "stdout",
     "output_type": "stream",
     "text": [
      "(4958, 25)\n",
      "(4666, 18)\n"
     ]
    }
   ],
   "source": [
    "print(df_letters.shape)\n",
    "\n",
    "drop_cols = ['page', 'image_based', 'vendor_num','finding_desc', \n",
    "             'subchp_num', 'subchp_name', 'section_desc']\n",
    "df_letters = df_letters.drop(drop_cols, axis=1).drop_duplicates().reset_index(drop=True)\n",
    "\n",
    "print(df_letters.shape)"
   ]
  },
  {
   "cell_type": "markdown",
   "metadata": {},
   "source": [
    "Split *df_letters* in two DFs, according to whether a pdf name has a valid federal number or not."
   ]
  },
  {
   "cell_type": "code",
   "execution_count": 14,
   "metadata": {},
   "outputs": [
    {
     "name": "stdout",
     "output_type": "stream",
     "text": [
      "(194, 18)\n",
      "(4472, 18)\n"
     ]
    }
   ],
   "source": [
    "df_letters_lost = pd.DataFrame(df_letters[df_letters['pdf_name'].isin(lost_map['pdf_name'])])\n",
    "df_letters_present = pd.DataFrame(df_letters[~df_letters['pdf_name'].isin(lost_map['pdf_name'])])\n",
    "\n",
    "print(df_letters_lost.shape)\n",
    "print(df_letters_present.shape)\n",
    "\n",
    "# Consistency tests\n",
    "assert len(set(df_letters_lost.index).intersection(set(df_letters_present.index))) == 0\n",
    "assert set(df_letters_lost.index).union(set(df_letters_present.index)) == set(df_letters.index)"
   ]
  },
  {
   "cell_type": "markdown",
   "metadata": {},
   "source": [
    "In both dataframes, add a new column that will contain updated federal numbers."
   ]
  },
  {
   "cell_type": "code",
   "execution_count": 15,
   "metadata": {},
   "outputs": [],
   "source": [
    "# The fed numbers in df_letters_present are all valid ones, so the new column is just a copy of 'fed_num'\n",
    "df_letters_present['manual_cms_number'] = df_letters_present['fed_num']\n",
    "\n",
    "# For df_letters_lost, the new column will result from joining with lost_map\n",
    "df_letters_lost = df_letters_lost.join(lost_map.set_index('pdf_name'), on='pdf_name', how='left')"
   ]
  },
  {
   "cell_type": "markdown",
   "metadata": {},
   "source": [
    "Concatenate both DFs back together."
   ]
  },
  {
   "cell_type": "code",
   "execution_count": 16,
   "metadata": {},
   "outputs": [],
   "source": [
    "df_letters_old = df_letters\n",
    "\n",
    "del(df_letters)\n",
    "df_letters = pd.concat([df_letters_present, df_letters_lost])\n",
    "df_letters = df_letters.sort_index()\n",
    "\n",
    "# Consistency test\n",
    "assert (df_letters.index == df_letters_old.index).all()\n",
    "\n",
    "# We don't need 'fed_num' column any more. (And we never really needed 'aem_num' either)\n",
    "df_letters = df_letters.drop(['fed_num', 'aem_num'], axis=1)\n",
    "\n",
    "# Eliminate obsolete DFs\n",
    "del(df_letters_old, df_letters_lost, df_letters_present)"
   ]
  },
  {
   "cell_type": "markdown",
   "metadata": {},
   "source": [
    "### Add facility names to *df_letters*"
   ]
  },
  {
   "cell_type": "markdown",
   "metadata": {},
   "source": [
    "Now that we have (most) of the CMS numbers available in *df_letters*, let's map in the facility names."
   ]
  },
  {
   "cell_type": "code",
   "execution_count": 17,
   "metadata": {},
   "outputs": [],
   "source": [
    "temp = df_sod_wa[['facility_id', 'facility_name']].drop_duplicates()\n",
    "df_letters = df_letters.join(temp.set_index('facility_id'), on='manual_cms_number', how='left')\n",
    "del(temp)"
   ]
  },
  {
   "cell_type": "markdown",
   "metadata": {},
   "source": [
    "Reorder columns"
   ]
  },
  {
   "cell_type": "code",
   "execution_count": 18,
   "metadata": {},
   "outputs": [],
   "source": [
    "df_letters = df_letters[['pdf_name', 'manual_cms_number', 'facility_name', 'letter_dt', 'survey_dt', 'survey_type',\n",
    "                         'wac_short', 'wac_long','section', 'cmp_item', 'cmp_agg',\n",
    "                         'finding_code', 'action', 'fed_enforcement', 'nc_hist', 'epoc', 'state_rem', 'appeal_rights']]"
   ]
  },
  {
   "cell_type": "code",
   "execution_count": 19,
   "metadata": {},
   "outputs": [
    {
     "data": {
      "text/html": [
       "<div>\n",
       "<style scoped>\n",
       "    .dataframe tbody tr th:only-of-type {\n",
       "        vertical-align: middle;\n",
       "    }\n",
       "\n",
       "    .dataframe tbody tr th {\n",
       "        vertical-align: top;\n",
       "    }\n",
       "\n",
       "    .dataframe thead th {\n",
       "        text-align: right;\n",
       "    }\n",
       "</style>\n",
       "<table border=\"1\" class=\"dataframe\">\n",
       "  <thead>\n",
       "    <tr style=\"text-align: right;\">\n",
       "      <th></th>\n",
       "      <th>pdf_name</th>\n",
       "      <th>manual_cms_number</th>\n",
       "      <th>facility_name</th>\n",
       "      <th>letter_dt</th>\n",
       "      <th>survey_dt</th>\n",
       "      <th>survey_type</th>\n",
       "      <th>wac_short</th>\n",
       "      <th>wac_long</th>\n",
       "      <th>section</th>\n",
       "      <th>cmp_item</th>\n",
       "      <th>cmp_agg</th>\n",
       "      <th>finding_code</th>\n",
       "      <th>action</th>\n",
       "      <th>fed_enforcement</th>\n",
       "      <th>nc_hist</th>\n",
       "      <th>epoc</th>\n",
       "      <th>state_rem</th>\n",
       "      <th>appeal_rights</th>\n",
       "    </tr>\n",
       "  </thead>\n",
       "  <tbody>\n",
       "    <tr>\n",
       "      <th>0</th>\n",
       "      <td>Advance Post Acute (G, CMP, CF) 4 6 18.pdf</td>\n",
       "      <td>505355</td>\n",
       "      <td>ADVANCED POST ACUTE</td>\n",
       "      <td>2018-04-12</td>\n",
       "      <td>2018-04-06</td>\n",
       "      <td>unannounced complaint investigation</td>\n",
       "      <td>NaN</td>\n",
       "      <td>NaN</td>\n",
       "      <td>NaN</td>\n",
       "      <td>NaN</td>\n",
       "      <td>NaN</td>\n",
       "      <td>G</td>\n",
       "      <td>IMPOSITION OF CIVIL FINES</td>\n",
       "      <td>False</td>\n",
       "      <td>False</td>\n",
       "      <td>True</td>\n",
       "      <td>False</td>\n",
       "      <td>False</td>\n",
       "    </tr>\n",
       "    <tr>\n",
       "      <th>1</th>\n",
       "      <td>Advance Post Acute (G, CMP, CF) 4 6 18.pdf</td>\n",
       "      <td>505355</td>\n",
       "      <td>ADVANCED POST ACUTE</td>\n",
       "      <td>2018-04-12</td>\n",
       "      <td>2018-04-06</td>\n",
       "      <td>unannounced complaint investigation</td>\n",
       "      <td>388-97-1060</td>\n",
       "      <td>388-97-1060(3)(g)</td>\n",
       "      <td>Quality of Care</td>\n",
       "      <td>1000.0</td>\n",
       "      <td>NaN</td>\n",
       "      <td>NaN</td>\n",
       "      <td>IMPOSITION OF CIVIL FINES</td>\n",
       "      <td>False</td>\n",
       "      <td>False</td>\n",
       "      <td>False</td>\n",
       "      <td>True</td>\n",
       "      <td>False</td>\n",
       "    </tr>\n",
       "    <tr>\n",
       "      <th>2</th>\n",
       "      <td>Advance Post Acute (G, CMP, CF) 4 6 18.pdf</td>\n",
       "      <td>505355</td>\n",
       "      <td>ADVANCED POST ACUTE</td>\n",
       "      <td>2018-04-12</td>\n",
       "      <td>2018-04-06</td>\n",
       "      <td>unannounced complaint investigation</td>\n",
       "      <td>NaN</td>\n",
       "      <td>NaN</td>\n",
       "      <td>NaN</td>\n",
       "      <td>NaN</td>\n",
       "      <td>NaN</td>\n",
       "      <td>NaN</td>\n",
       "      <td>IMPOSITION OF CIVIL FINES</td>\n",
       "      <td>False</td>\n",
       "      <td>False</td>\n",
       "      <td>False</td>\n",
       "      <td>False</td>\n",
       "      <td>True</td>\n",
       "    </tr>\n",
       "    <tr>\n",
       "      <th>3</th>\n",
       "      <td>Advance Post Acute (G, CMP, CF) 4 6 18.pdf</td>\n",
       "      <td>505355</td>\n",
       "      <td>ADVANCED POST ACUTE</td>\n",
       "      <td>2018-04-12</td>\n",
       "      <td>2018-04-06</td>\n",
       "      <td>unannounced complaint investigation</td>\n",
       "      <td>NaN</td>\n",
       "      <td>NaN</td>\n",
       "      <td>NaN</td>\n",
       "      <td>NaN</td>\n",
       "      <td>1000.0</td>\n",
       "      <td>NaN</td>\n",
       "      <td>IMPOSITION OF CIVIL FINES</td>\n",
       "      <td>False</td>\n",
       "      <td>False</td>\n",
       "      <td>False</td>\n",
       "      <td>False</td>\n",
       "      <td>False</td>\n",
       "    </tr>\n",
       "    <tr>\n",
       "      <th>4</th>\n",
       "      <td>Advance Post Acute (G, CMP, CF) 4 6 18.pdf</td>\n",
       "      <td>505355</td>\n",
       "      <td>ADVANCED POST ACUTE</td>\n",
       "      <td>2018-04-12</td>\n",
       "      <td>2018-04-06</td>\n",
       "      <td>unannounced complaint investigation</td>\n",
       "      <td>NaN</td>\n",
       "      <td>NaN</td>\n",
       "      <td>NaN</td>\n",
       "      <td>NaN</td>\n",
       "      <td>NaN</td>\n",
       "      <td>NaN</td>\n",
       "      <td>IMPOSITION OF CIVIL FINES</td>\n",
       "      <td>False</td>\n",
       "      <td>False</td>\n",
       "      <td>False</td>\n",
       "      <td>False</td>\n",
       "      <td>False</td>\n",
       "    </tr>\n",
       "    <tr>\n",
       "      <th>...</th>\n",
       "      <td>...</td>\n",
       "      <td>...</td>\n",
       "      <td>...</td>\n",
       "      <td>...</td>\n",
       "      <td>...</td>\n",
       "      <td>...</td>\n",
       "      <td>...</td>\n",
       "      <td>...</td>\n",
       "      <td>...</td>\n",
       "      <td>...</td>\n",
       "      <td>...</td>\n",
       "      <td>...</td>\n",
       "      <td>...</td>\n",
       "      <td>...</td>\n",
       "      <td>...</td>\n",
       "      <td>...</td>\n",
       "      <td>...</td>\n",
       "      <td>...</td>\n",
       "    </tr>\n",
       "    <tr>\n",
       "      <th>4661</th>\n",
       "      <td>Willapa_Harbor_Health_and_Rehab_February_3_2017_letter_59.pdf</td>\n",
       "      <td>505349</td>\n",
       "      <td>WILLAPA HARBOR HEALTH AND REHAB</td>\n",
       "      <td>2017-02-03</td>\n",
       "      <td>2017-01-31</td>\n",
       "      <td>complaint investigation and partial extended survey</td>\n",
       "      <td>388-97-0640</td>\n",
       "      <td>388-97-0640(5)(6)(a)</td>\n",
       "      <td>Resident Rights</td>\n",
       "      <td>3000.0</td>\n",
       "      <td>NaN</td>\n",
       "      <td>NaN</td>\n",
       "      <td>NaN</td>\n",
       "      <td>False</td>\n",
       "      <td>False</td>\n",
       "      <td>False</td>\n",
       "      <td>False</td>\n",
       "      <td>True</td>\n",
       "    </tr>\n",
       "    <tr>\n",
       "      <th>4662</th>\n",
       "      <td>Willapa_Harbor_Health_and_Rehab_February_3_2017_letter_59.pdf</td>\n",
       "      <td>505349</td>\n",
       "      <td>WILLAPA HARBOR HEALTH AND REHAB</td>\n",
       "      <td>2017-02-03</td>\n",
       "      <td>2017-01-31</td>\n",
       "      <td>complaint investigation and partial extended survey</td>\n",
       "      <td>388-97-0640</td>\n",
       "      <td>388-97-0640(2)(a)(b)</td>\n",
       "      <td>Resident Rights</td>\n",
       "      <td>3000.0</td>\n",
       "      <td>NaN</td>\n",
       "      <td>NaN</td>\n",
       "      <td>NaN</td>\n",
       "      <td>False</td>\n",
       "      <td>False</td>\n",
       "      <td>False</td>\n",
       "      <td>False</td>\n",
       "      <td>True</td>\n",
       "    </tr>\n",
       "    <tr>\n",
       "      <th>4663</th>\n",
       "      <td>Willapa_Harbor_Health_and_Rehab_February_3_2017_letter_59.pdf</td>\n",
       "      <td>505349</td>\n",
       "      <td>WILLAPA HARBOR HEALTH AND REHAB</td>\n",
       "      <td>2017-02-03</td>\n",
       "      <td>2017-01-31</td>\n",
       "      <td>complaint investigation and partial extended survey</td>\n",
       "      <td>388-97-1060</td>\n",
       "      <td>388-97-1060(3)(b)</td>\n",
       "      <td>Quality of Care</td>\n",
       "      <td>1000.0</td>\n",
       "      <td>NaN</td>\n",
       "      <td>NaN</td>\n",
       "      <td>NaN</td>\n",
       "      <td>False</td>\n",
       "      <td>False</td>\n",
       "      <td>False</td>\n",
       "      <td>False</td>\n",
       "      <td>True</td>\n",
       "    </tr>\n",
       "    <tr>\n",
       "      <th>4664</th>\n",
       "      <td>Willapa_Harbor_Health_and_Rehab_February_3_2017_letter_59.pdf</td>\n",
       "      <td>505349</td>\n",
       "      <td>WILLAPA HARBOR HEALTH AND REHAB</td>\n",
       "      <td>2017-02-03</td>\n",
       "      <td>2017-01-31</td>\n",
       "      <td>complaint investigation and partial extended survey</td>\n",
       "      <td>388-97-1620</td>\n",
       "      <td>388-97-1620(1)</td>\n",
       "      <td>Administration</td>\n",
       "      <td>3000.0</td>\n",
       "      <td>NaN</td>\n",
       "      <td>NaN</td>\n",
       "      <td>NaN</td>\n",
       "      <td>False</td>\n",
       "      <td>False</td>\n",
       "      <td>False</td>\n",
       "      <td>False</td>\n",
       "      <td>True</td>\n",
       "    </tr>\n",
       "    <tr>\n",
       "      <th>4665</th>\n",
       "      <td>Willapa_Harbor_Health_and_Rehab_February_3_2017_letter_59.pdf</td>\n",
       "      <td>505349</td>\n",
       "      <td>WILLAPA HARBOR HEALTH AND REHAB</td>\n",
       "      <td>2017-02-03</td>\n",
       "      <td>2017-01-31</td>\n",
       "      <td>complaint investigation and partial extended survey</td>\n",
       "      <td>NaN</td>\n",
       "      <td>NaN</td>\n",
       "      <td>NaN</td>\n",
       "      <td>NaN</td>\n",
       "      <td>13000.0</td>\n",
       "      <td>NaN</td>\n",
       "      <td>NaN</td>\n",
       "      <td>False</td>\n",
       "      <td>False</td>\n",
       "      <td>False</td>\n",
       "      <td>False</td>\n",
       "      <td>False</td>\n",
       "    </tr>\n",
       "  </tbody>\n",
       "</table>\n",
       "<p>4699 rows × 18 columns</p>\n",
       "</div>"
      ],
      "text/plain": [
       "                                                           pdf_name  \\\n",
       "0                        Advance Post Acute (G, CMP, CF) 4 6 18.pdf   \n",
       "1                        Advance Post Acute (G, CMP, CF) 4 6 18.pdf   \n",
       "2                        Advance Post Acute (G, CMP, CF) 4 6 18.pdf   \n",
       "3                        Advance Post Acute (G, CMP, CF) 4 6 18.pdf   \n",
       "4                        Advance Post Acute (G, CMP, CF) 4 6 18.pdf   \n",
       "...                                                             ...   \n",
       "4661  Willapa_Harbor_Health_and_Rehab_February_3_2017_letter_59.pdf   \n",
       "4662  Willapa_Harbor_Health_and_Rehab_February_3_2017_letter_59.pdf   \n",
       "4663  Willapa_Harbor_Health_and_Rehab_February_3_2017_letter_59.pdf   \n",
       "4664  Willapa_Harbor_Health_and_Rehab_February_3_2017_letter_59.pdf   \n",
       "4665  Willapa_Harbor_Health_and_Rehab_February_3_2017_letter_59.pdf   \n",
       "\n",
       "     manual_cms_number                    facility_name  letter_dt  survey_dt  \\\n",
       "0               505355              ADVANCED POST ACUTE 2018-04-12 2018-04-06   \n",
       "1               505355              ADVANCED POST ACUTE 2018-04-12 2018-04-06   \n",
       "2               505355              ADVANCED POST ACUTE 2018-04-12 2018-04-06   \n",
       "3               505355              ADVANCED POST ACUTE 2018-04-12 2018-04-06   \n",
       "4               505355              ADVANCED POST ACUTE 2018-04-12 2018-04-06   \n",
       "...                ...                              ...        ...        ...   \n",
       "4661            505349  WILLAPA HARBOR HEALTH AND REHAB 2017-02-03 2017-01-31   \n",
       "4662            505349  WILLAPA HARBOR HEALTH AND REHAB 2017-02-03 2017-01-31   \n",
       "4663            505349  WILLAPA HARBOR HEALTH AND REHAB 2017-02-03 2017-01-31   \n",
       "4664            505349  WILLAPA HARBOR HEALTH AND REHAB 2017-02-03 2017-01-31   \n",
       "4665            505349  WILLAPA HARBOR HEALTH AND REHAB 2017-02-03 2017-01-31   \n",
       "\n",
       "                                               survey_type    wac_short  \\\n",
       "0                     unannounced complaint investigation           NaN   \n",
       "1                     unannounced complaint investigation   388-97-1060   \n",
       "2                     unannounced complaint investigation           NaN   \n",
       "3                     unannounced complaint investigation           NaN   \n",
       "4                     unannounced complaint investigation           NaN   \n",
       "...                                                    ...          ...   \n",
       "4661  complaint investigation and partial extended survey   388-97-0640   \n",
       "4662  complaint investigation and partial extended survey   388-97-0640   \n",
       "4663  complaint investigation and partial extended survey   388-97-1060   \n",
       "4664  complaint investigation and partial extended survey   388-97-1620   \n",
       "4665  complaint investigation and partial extended survey           NaN   \n",
       "\n",
       "                  wac_long          section  cmp_item  cmp_agg finding_code  \\\n",
       "0                      NaN              NaN       NaN      NaN            G   \n",
       "1        388-97-1060(3)(g)  Quality of Care    1000.0      NaN          NaN   \n",
       "2                      NaN              NaN       NaN      NaN          NaN   \n",
       "3                      NaN              NaN       NaN   1000.0          NaN   \n",
       "4                      NaN              NaN       NaN      NaN          NaN   \n",
       "...                    ...              ...       ...      ...          ...   \n",
       "4661  388-97-0640(5)(6)(a)  Resident Rights    3000.0      NaN          NaN   \n",
       "4662  388-97-0640(2)(a)(b)  Resident Rights    3000.0      NaN          NaN   \n",
       "4663     388-97-1060(3)(b)  Quality of Care    1000.0      NaN          NaN   \n",
       "4664        388-97-1620(1)   Administration    3000.0      NaN          NaN   \n",
       "4665                   NaN              NaN       NaN  13000.0          NaN   \n",
       "\n",
       "                         action fed_enforcement nc_hist   epoc state_rem  \\\n",
       "0     IMPOSITION OF CIVIL FINES           False   False   True     False   \n",
       "1     IMPOSITION OF CIVIL FINES           False   False  False      True   \n",
       "2     IMPOSITION OF CIVIL FINES           False   False  False     False   \n",
       "3     IMPOSITION OF CIVIL FINES           False   False  False     False   \n",
       "4     IMPOSITION OF CIVIL FINES           False   False  False     False   \n",
       "...                         ...             ...     ...    ...       ...   \n",
       "4661                        NaN           False   False  False     False   \n",
       "4662                        NaN           False   False  False     False   \n",
       "4663                        NaN           False   False  False     False   \n",
       "4664                        NaN           False   False  False     False   \n",
       "4665                        NaN           False   False  False     False   \n",
       "\n",
       "     appeal_rights  \n",
       "0            False  \n",
       "1            False  \n",
       "2             True  \n",
       "3            False  \n",
       "4            False  \n",
       "...            ...  \n",
       "4661          True  \n",
       "4662          True  \n",
       "4663          True  \n",
       "4664          True  \n",
       "4665         False  \n",
       "\n",
       "[4699 rows x 18 columns]"
      ]
     },
     "execution_count": 19,
     "metadata": {},
     "output_type": "execute_result"
    }
   ],
   "source": [
    "df_letters"
   ]
  },
  {
   "cell_type": "markdown",
   "metadata": {},
   "source": [
    "# IV. Comparing periods covered in both dataframes"
   ]
  },
  {
   "cell_type": "markdown",
   "metadata": {},
   "source": [
    "Do both dataframes cover the same period?"
   ]
  },
  {
   "cell_type": "code",
   "execution_count": 20,
   "metadata": {},
   "outputs": [
    {
     "name": "stdout",
     "output_type": "stream",
     "text": [
      "Period covered by the deficiencies data:\n",
      "2017-01-03 00:00:00\n",
      "2020-03-03 00:00:00\n",
      "\n",
      "\n",
      "Period covered by the enforcement letters:\n",
      "2016-01-20 00:00:00\n",
      "2020-08-18 00:00:00\n"
     ]
    }
   ],
   "source": [
    "print('Period covered by the deficiencies data:')\n",
    "print(df_sod_wa['inspection_dt'].min())\n",
    "print(df_sod_wa['inspection_dt'].max())\n",
    "print('\\n')\n",
    "\n",
    "print('Period covered by the enforcement letters:')\n",
    "print(df_letters['survey_dt'].min())\n",
    "print(df_letters['survey_dt'].max())"
   ]
  },
  {
   "cell_type": "markdown",
   "metadata": {},
   "source": [
    "Enforcement letters start earlier and end later than deficiencies. Something to keep in mind in the next few scripts, when we do the analysis."
   ]
  },
  {
   "cell_type": "markdown",
   "metadata": {},
   "source": [
    "# IV. EXPORT"
   ]
  },
  {
   "cell_type": "code",
   "execution_count": 21,
   "metadata": {},
   "outputs": [],
   "source": [
    "# Updated scraped data\n",
    "df_letters.to_csv('../C_output_data/scraped_data_v2.csv', index=False)"
   ]
  }
 ],
 "metadata": {
  "kernelspec": {
   "display_name": "Python 3",
   "language": "python",
   "name": "python3"
  },
  "language_info": {
   "codemirror_mode": {
    "name": "ipython",
    "version": 3
   },
   "file_extension": ".py",
   "mimetype": "text/x-python",
   "name": "python",
   "nbconvert_exporter": "python",
   "pygments_lexer": "ipython3",
   "version": "3.7.7"
  }
 },
 "nbformat": 4,
 "nbformat_minor": 4
}
