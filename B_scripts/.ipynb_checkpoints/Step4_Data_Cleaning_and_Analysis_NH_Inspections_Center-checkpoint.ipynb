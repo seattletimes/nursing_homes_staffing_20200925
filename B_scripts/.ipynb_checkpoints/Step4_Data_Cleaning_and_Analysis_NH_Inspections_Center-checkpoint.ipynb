{
 "cells": [
  {
   "cell_type": "markdown",
   "metadata": {},
   "source": [
    "# Settings"
   ]
  },
  {
   "cell_type": "code",
   "execution_count": 1,
   "metadata": {},
   "outputs": [],
   "source": [
    "import pandas as pd\n",
    "import numpy as np\n",
    "from pprint import pprint"
   ]
  },
  {
   "cell_type": "code",
   "execution_count": 2,
   "metadata": {},
   "outputs": [],
   "source": [
    "output_path = '../output_data/wac_codes/'"
   ]
  },
  {
   "cell_type": "markdown",
   "metadata": {},
   "source": [
    "# Original data"
   ]
  },
  {
   "cell_type": "code",
   "execution_count": 3,
   "metadata": {},
   "outputs": [],
   "source": [
    "df_orig = pd.read_csv('../output_data/reports_contents/nhf_inspections_contents_center.csv')\n",
    "\n",
    "df = df_orig.copy()\n",
    "total_reports = df['pdf_name'].nunique()"
   ]
  },
  {
   "cell_type": "code",
   "execution_count": 4,
   "metadata": {},
   "outputs": [
    {
     "name": "stdout",
     "output_type": "stream",
     "text": [
      "We start with 29474 records. Inisde those records, there are 584 unique pdf names.\n"
     ]
    }
   ],
   "source": [
    "print('We start with', len(df), 'records. Inisde those records, there are', df['pdf_name'].nunique(), 'unique pdf names.')"
   ]
  },
  {
   "cell_type": "code",
   "execution_count": 5,
   "metadata": {},
   "outputs": [
    {
     "data": {
      "text/html": [
       "<div>\n",
       "<style scoped>\n",
       "    .dataframe tbody tr th:only-of-type {\n",
       "        vertical-align: middle;\n",
       "    }\n",
       "\n",
       "    .dataframe tbody tr th {\n",
       "        vertical-align: top;\n",
       "    }\n",
       "\n",
       "    .dataframe thead th {\n",
       "        text-align: right;\n",
       "    }\n",
       "</style>\n",
       "<table border=\"1\" class=\"dataframe\">\n",
       "  <thead>\n",
       "    <tr style=\"text-align: right;\">\n",
       "      <th></th>\n",
       "      <th>pdf_name</th>\n",
       "      <th>page</th>\n",
       "      <th>num_tables</th>\n",
       "      <th>num_rows</th>\n",
       "      <th>num_cells_row3</th>\n",
       "      <th>tag_list</th>\n",
       "      <th>deficiency_tag</th>\n",
       "      <th>deficiency_text</th>\n",
       "      <th>correction_tag</th>\n",
       "      <th>correction_text</th>\n",
       "      <th>completion_date</th>\n",
       "    </tr>\n",
       "  </thead>\n",
       "  <tbody>\n",
       "    <tr>\n",
       "      <th>0</th>\n",
       "      <td>ARLINGTON HEALTH AND REHABILITATION YOGA12.pdf</td>\n",
       "      <td>1</td>\n",
       "      <td>0</td>\n",
       "      <td>NaN</td>\n",
       "      <td>NaN</td>\n",
       "      <td>NaN</td>\n",
       "      <td>NaN</td>\n",
       "      <td>NaN</td>\n",
       "      <td>NaN</td>\n",
       "      <td>NaN</td>\n",
       "      <td>NaN</td>\n",
       "    </tr>\n",
       "    <tr>\n",
       "      <th>1</th>\n",
       "      <td>ARLINGTON HEALTH AND REHABILITATION YOGA12.pdf</td>\n",
       "      <td>2</td>\n",
       "      <td>0</td>\n",
       "      <td>NaN</td>\n",
       "      <td>NaN</td>\n",
       "      <td>NaN</td>\n",
       "      <td>NaN</td>\n",
       "      <td>NaN</td>\n",
       "      <td>NaN</td>\n",
       "      <td>NaN</td>\n",
       "      <td>NaN</td>\n",
       "    </tr>\n",
       "    <tr>\n",
       "      <th>2</th>\n",
       "      <td>ARLINGTON HEALTH AND REHABILITATION YOGA12.pdf</td>\n",
       "      <td>3</td>\n",
       "      <td>1</td>\n",
       "      <td>4.0</td>\n",
       "      <td>5.0</td>\n",
       "      <td>['{L 000}']</td>\n",
       "      <td>{L 000}\\nState Form 2</td>\n",
       "      <td>WAC - Initial Comments\\nNote:  According to RC...</td>\n",
       "      <td>{L 000}</td>\n",
       "      <td></td>\n",
       "      <td>NaN</td>\n",
       "    </tr>\n",
       "    <tr>\n",
       "      <th>3</th>\n",
       "      <td>AVALON CARE CENTER - PULLMAN COMM11.pdf</td>\n",
       "      <td>1</td>\n",
       "      <td>1</td>\n",
       "      <td>4.0</td>\n",
       "      <td>5.0</td>\n",
       "      <td>['F 000', 'NATURE']</td>\n",
       "      <td>LABORATORY</td>\n",
       "      <td>Y DIRECTOR'S OR PROVIDER/SUPPLIER REPRESENTATI...</td>\n",
       "      <td>NATURE</td>\n",
       "      <td>TITLE</td>\n",
       "      <td>(X6) DATE</td>\n",
       "    </tr>\n",
       "    <tr>\n",
       "      <th>4</th>\n",
       "      <td>AVALON HEALTH &amp; REHABILITATION CENTER - PASCO ...</td>\n",
       "      <td>1</td>\n",
       "      <td>0</td>\n",
       "      <td>NaN</td>\n",
       "      <td>NaN</td>\n",
       "      <td>NaN</td>\n",
       "      <td>NaN</td>\n",
       "      <td>NaN</td>\n",
       "      <td>NaN</td>\n",
       "      <td>NaN</td>\n",
       "      <td>NaN</td>\n",
       "    </tr>\n",
       "  </tbody>\n",
       "</table>\n",
       "</div>"
      ],
      "text/plain": [
       "                                            pdf_name  page  num_tables  \\\n",
       "0     ARLINGTON HEALTH AND REHABILITATION YOGA12.pdf     1           0   \n",
       "1     ARLINGTON HEALTH AND REHABILITATION YOGA12.pdf     2           0   \n",
       "2     ARLINGTON HEALTH AND REHABILITATION YOGA12.pdf     3           1   \n",
       "3            AVALON CARE CENTER - PULLMAN COMM11.pdf     1           1   \n",
       "4  AVALON HEALTH & REHABILITATION CENTER - PASCO ...     1           0   \n",
       "\n",
       "   num_rows  num_cells_row3             tag_list         deficiency_tag  \\\n",
       "0       NaN             NaN                  NaN                    NaN   \n",
       "1       NaN             NaN                  NaN                    NaN   \n",
       "2       4.0             5.0          ['{L 000}']  {L 000}\\nState Form 2   \n",
       "3       4.0             5.0  ['F 000', 'NATURE']             LABORATORY   \n",
       "4       NaN             NaN                  NaN                    NaN   \n",
       "\n",
       "                                     deficiency_text correction_tag  \\\n",
       "0                                                NaN            NaN   \n",
       "1                                                NaN            NaN   \n",
       "2  WAC - Initial Comments\\nNote:  According to RC...        {L 000}   \n",
       "3  Y DIRECTOR'S OR PROVIDER/SUPPLIER REPRESENTATI...         NATURE   \n",
       "4                                                NaN            NaN   \n",
       "\n",
       "  correction_text completion_date  \n",
       "0             NaN             NaN  \n",
       "1             NaN             NaN  \n",
       "2                             NaN  \n",
       "3           TITLE       (X6) DATE  \n",
       "4             NaN             NaN  "
      ]
     },
     "execution_count": 5,
     "metadata": {},
     "output_type": "execute_result"
    }
   ],
   "source": [
    "df.head()"
   ]
  },
  {
   "cell_type": "code",
   "execution_count": 6,
   "metadata": {},
   "outputs": [
    {
     "data": {
      "text/html": [
       "<div>\n",
       "<style scoped>\n",
       "    .dataframe tbody tr th:only-of-type {\n",
       "        vertical-align: middle;\n",
       "    }\n",
       "\n",
       "    .dataframe tbody tr th {\n",
       "        vertical-align: top;\n",
       "    }\n",
       "\n",
       "    .dataframe thead th {\n",
       "        text-align: right;\n",
       "    }\n",
       "</style>\n",
       "<table border=\"1\" class=\"dataframe\">\n",
       "  <thead>\n",
       "    <tr style=\"text-align: right;\">\n",
       "      <th></th>\n",
       "      <th>pdf_name</th>\n",
       "      <th>page</th>\n",
       "      <th>num_tables</th>\n",
       "      <th>num_rows</th>\n",
       "      <th>num_cells_row3</th>\n",
       "      <th>tag_list</th>\n",
       "      <th>deficiency_tag</th>\n",
       "      <th>deficiency_text</th>\n",
       "      <th>correction_tag</th>\n",
       "      <th>correction_text</th>\n",
       "      <th>completion_date</th>\n",
       "    </tr>\n",
       "  </thead>\n",
       "  <tbody>\n",
       "    <tr>\n",
       "      <th>29469</th>\n",
       "      <td>r willow springs care and rehab survey 4-5-201...</td>\n",
       "      <td>24</td>\n",
       "      <td>0</td>\n",
       "      <td>NaN</td>\n",
       "      <td>NaN</td>\n",
       "      <td>NaN</td>\n",
       "      <td>NaN</td>\n",
       "      <td>NaN</td>\n",
       "      <td>NaN</td>\n",
       "      <td>NaN</td>\n",
       "      <td>NaN</td>\n",
       "    </tr>\n",
       "    <tr>\n",
       "      <th>29470</th>\n",
       "      <td>r willow springs care and rehab survey 4-5-201...</td>\n",
       "      <td>25</td>\n",
       "      <td>0</td>\n",
       "      <td>NaN</td>\n",
       "      <td>NaN</td>\n",
       "      <td>NaN</td>\n",
       "      <td>NaN</td>\n",
       "      <td>NaN</td>\n",
       "      <td>NaN</td>\n",
       "      <td>NaN</td>\n",
       "      <td>NaN</td>\n",
       "    </tr>\n",
       "    <tr>\n",
       "      <th>29471</th>\n",
       "      <td>r willow springs care and rehab survey 4-5-201...</td>\n",
       "      <td>26</td>\n",
       "      <td>0</td>\n",
       "      <td>NaN</td>\n",
       "      <td>NaN</td>\n",
       "      <td>NaN</td>\n",
       "      <td>NaN</td>\n",
       "      <td>NaN</td>\n",
       "      <td>NaN</td>\n",
       "      <td>NaN</td>\n",
       "      <td>NaN</td>\n",
       "    </tr>\n",
       "    <tr>\n",
       "      <th>29472</th>\n",
       "      <td>r willow springs care and rehab survey 4-5-201...</td>\n",
       "      <td>27</td>\n",
       "      <td>0</td>\n",
       "      <td>NaN</td>\n",
       "      <td>NaN</td>\n",
       "      <td>NaN</td>\n",
       "      <td>NaN</td>\n",
       "      <td>NaN</td>\n",
       "      <td>NaN</td>\n",
       "      <td>NaN</td>\n",
       "      <td>NaN</td>\n",
       "    </tr>\n",
       "    <tr>\n",
       "      <th>29473</th>\n",
       "      <td>r willow springs care and rehab survey 4-5-201...</td>\n",
       "      <td>28</td>\n",
       "      <td>0</td>\n",
       "      <td>NaN</td>\n",
       "      <td>NaN</td>\n",
       "      <td>NaN</td>\n",
       "      <td>NaN</td>\n",
       "      <td>NaN</td>\n",
       "      <td>NaN</td>\n",
       "      <td>NaN</td>\n",
       "      <td>NaN</td>\n",
       "    </tr>\n",
       "  </tbody>\n",
       "</table>\n",
       "</div>"
      ],
      "text/plain": [
       "                                                pdf_name  page  num_tables  \\\n",
       "29469  r willow springs care and rehab survey 4-5-201...    24           0   \n",
       "29470  r willow springs care and rehab survey 4-5-201...    25           0   \n",
       "29471  r willow springs care and rehab survey 4-5-201...    26           0   \n",
       "29472  r willow springs care and rehab survey 4-5-201...    27           0   \n",
       "29473  r willow springs care and rehab survey 4-5-201...    28           0   \n",
       "\n",
       "       num_rows  num_cells_row3 tag_list deficiency_tag deficiency_text  \\\n",
       "29469       NaN             NaN      NaN            NaN             NaN   \n",
       "29470       NaN             NaN      NaN            NaN             NaN   \n",
       "29471       NaN             NaN      NaN            NaN             NaN   \n",
       "29472       NaN             NaN      NaN            NaN             NaN   \n",
       "29473       NaN             NaN      NaN            NaN             NaN   \n",
       "\n",
       "      correction_tag correction_text completion_date  \n",
       "29469            NaN             NaN             NaN  \n",
       "29470            NaN             NaN             NaN  \n",
       "29471            NaN             NaN             NaN  \n",
       "29472            NaN             NaN             NaN  \n",
       "29473            NaN             NaN             NaN  "
      ]
     },
     "execution_count": 6,
     "metadata": {},
     "output_type": "execute_result"
    }
   ],
   "source": [
    "df.tail()"
   ]
  },
  {
   "cell_type": "markdown",
   "metadata": {},
   "source": [
    "# Reducing"
   ]
  },
  {
   "cell_type": "markdown",
   "metadata": {},
   "source": [
    "## Records with *num_tables* == 0"
   ]
  },
  {
   "cell_type": "code",
   "execution_count": 7,
   "metadata": {},
   "outputs": [
    {
     "data": {
      "text/plain": [
       "0    15057\n",
       "1    14417\n",
       "Name: num_tables, dtype: int64"
      ]
     },
     "execution_count": 7,
     "metadata": {},
     "output_type": "execute_result"
    }
   ],
   "source": [
    "df['num_tables'].value_counts(dropna=False)"
   ]
  },
  {
   "cell_type": "markdown",
   "metadata": {},
   "source": [
    "Let's confirm that records where 'num_tables' == 0 are nothing but noise."
   ]
  },
  {
   "cell_type": "code",
   "execution_count": 8,
   "metadata": {},
   "outputs": [
    {
     "name": "stdout",
     "output_type": "stream",
     "text": [
      "15057\n"
     ]
    },
    {
     "data": {
      "text/plain": [
       "num_rows           True\n",
       "num_cells_row3     True\n",
       "tag_list           True\n",
       "deficiency_tag     True\n",
       "deficiency_text    True\n",
       "correction_tag     True\n",
       "correction_text    True\n",
       "completion_date    True\n",
       "dtype: bool"
      ]
     },
     "execution_count": 8,
     "metadata": {},
     "output_type": "execute_result"
    }
   ],
   "source": [
    "df_noise = df[df['num_tables']==0]\n",
    "df_noise = df_noise.drop(columns=['pdf_name', 'num_tables', 'page'])\n",
    "\n",
    "print(len(df_noise))\n",
    "df_noise.isna().all()"
   ]
  },
  {
   "cell_type": "markdown",
   "metadata": {},
   "source": [
    "Indeed they are. Away with them."
   ]
  },
  {
   "cell_type": "code",
   "execution_count": 9,
   "metadata": {},
   "outputs": [],
   "source": [
    "del(df_noise)\n",
    "df = df[df['num_tables']>0]"
   ]
  },
  {
   "cell_type": "markdown",
   "metadata": {},
   "source": [
    "## Eliminating obsolete fields"
   ]
  },
  {
   "cell_type": "markdown",
   "metadata": {},
   "source": [
    "### *num_tables* & *num_rows*"
   ]
  },
  {
   "cell_type": "markdown",
   "metadata": {},
   "source": [
    "Let's see if *num_tables* and *num_rows* have any useful information left in them. Otherwise, we can drop them."
   ]
  },
  {
   "cell_type": "code",
   "execution_count": 10,
   "metadata": {},
   "outputs": [],
   "source": [
    "assert (df['num_tables'] == 1).all()\n",
    "assert (df['num_rows'] == 4).all()"
   ]
  },
  {
   "cell_type": "markdown",
   "metadata": {},
   "source": [
    "Indeed, they are no longer useful. Away!"
   ]
  },
  {
   "cell_type": "code",
   "execution_count": 11,
   "metadata": {},
   "outputs": [],
   "source": [
    "df.drop(columns=['num_tables', 'num_rows'], inplace=True)"
   ]
  },
  {
   "cell_type": "markdown",
   "metadata": {},
   "source": [
    "Now lets see if we can also eliminate *num_cells_row3*:"
   ]
  },
  {
   "cell_type": "markdown",
   "metadata": {},
   "source": [
    "### *num_cells_row3*"
   ]
  },
  {
   "cell_type": "code",
   "execution_count": 12,
   "metadata": {},
   "outputs": [
    {
     "data": {
      "text/plain": [
       "5.0    14411\n",
       "2.0        6\n",
       "Name: num_cells_row3, dtype: int64"
      ]
     },
     "execution_count": 12,
     "metadata": {},
     "output_type": "execute_result"
    }
   ],
   "source": [
    "df['num_cells_row3'].value_counts(dropna=False)"
   ]
  },
  {
   "cell_type": "markdown",
   "metadata": {},
   "source": [
    "Let's see the six cases where *num_cells_row3* == 2:"
   ]
  },
  {
   "cell_type": "code",
   "execution_count": 13,
   "metadata": {},
   "outputs": [
    {
     "data": {
      "text/html": [
       "<div>\n",
       "<style scoped>\n",
       "    .dataframe tbody tr th:only-of-type {\n",
       "        vertical-align: middle;\n",
       "    }\n",
       "\n",
       "    .dataframe tbody tr th {\n",
       "        vertical-align: top;\n",
       "    }\n",
       "\n",
       "    .dataframe thead th {\n",
       "        text-align: right;\n",
       "    }\n",
       "</style>\n",
       "<table border=\"1\" class=\"dataframe\">\n",
       "  <thead>\n",
       "    <tr style=\"text-align: right;\">\n",
       "      <th></th>\n",
       "      <th>pdf_name</th>\n",
       "      <th>page</th>\n",
       "      <th>num_cells_row3</th>\n",
       "      <th>tag_list</th>\n",
       "      <th>deficiency_tag</th>\n",
       "      <th>deficiency_text</th>\n",
       "      <th>correction_tag</th>\n",
       "      <th>correction_text</th>\n",
       "      <th>completion_date</th>\n",
       "    </tr>\n",
       "  </thead>\n",
       "  <tbody>\n",
       "    <tr>\n",
       "      <th>1903</th>\n",
       "      <td>R Aldercrest Health &amp; Rehab Center complaint 0...</td>\n",
       "      <td>111</td>\n",
       "      <td>2.0</td>\n",
       "      <td>[' F 585']</td>\n",
       "      <td>F 585</td>\n",
       "      <td>Grievances\\nCFR(s): 483.10(j)(1)-(4)\\n§483.10(...</td>\n",
       "      <td>NaN</td>\n",
       "      <td>NaN</td>\n",
       "      <td>NaN</td>\n",
       "    </tr>\n",
       "    <tr>\n",
       "      <th>1904</th>\n",
       "      <td>R Aldercrest Health &amp; Rehab Center complaint 0...</td>\n",
       "      <td>112</td>\n",
       "      <td>2.0</td>\n",
       "      <td>[' F 585']</td>\n",
       "      <td>F 585</td>\n",
       "      <td>Continued From Page 1\\nresidents' rights is co...</td>\n",
       "      <td>NaN</td>\n",
       "      <td>NaN</td>\n",
       "      <td>NaN</td>\n",
       "    </tr>\n",
       "    <tr>\n",
       "      <th>2560</th>\n",
       "      <td>R Avalon Care Center - Pullman survey L2D611 7...</td>\n",
       "      <td>69</td>\n",
       "      <td>2.0</td>\n",
       "      <td>[' F 661']</td>\n",
       "      <td>F 661</td>\n",
       "      <td>Discharge Summary\\nCFR(s): 483.21(c)(2)(i)-(iv...</td>\n",
       "      <td>NaN</td>\n",
       "      <td>NaN</td>\n",
       "      <td>NaN</td>\n",
       "    </tr>\n",
       "    <tr>\n",
       "      <th>2561</th>\n",
       "      <td>R Avalon Care Center - Pullman survey L2D611 7...</td>\n",
       "      <td>70</td>\n",
       "      <td>2.0</td>\n",
       "      <td>[' F 661']</td>\n",
       "      <td>F 661</td>\n",
       "      <td>Continued From Page 1\\nReference (WAC) 388-97/...</td>\n",
       "      <td>NaN</td>\n",
       "      <td>NaN</td>\n",
       "      <td>NaN</td>\n",
       "    </tr>\n",
       "    <tr>\n",
       "      <th>2609</th>\n",
       "      <td>R Avalon Care Center- Othello LLC PD8D11 Inspe...</td>\n",
       "      <td>48</td>\n",
       "      <td>2.0</td>\n",
       "      <td>[' F 645']</td>\n",
       "      <td>F 645</td>\n",
       "      <td>PASARR Screening for MD &amp; ID\\nCFR(s): 483.20(k...</td>\n",
       "      <td>NaN</td>\n",
       "      <td>NaN</td>\n",
       "      <td>NaN</td>\n",
       "    </tr>\n",
       "    <tr>\n",
       "      <th>2610</th>\n",
       "      <td>R Avalon Care Center- Othello LLC PD8D11 Inspe...</td>\n",
       "      <td>49</td>\n",
       "      <td>2.0</td>\n",
       "      <td>[' F 645']</td>\n",
       "      <td>F 645</td>\n",
       "      <td>Continued From Page 1\\nhealth needs. Findings ...</td>\n",
       "      <td>NaN</td>\n",
       "      <td>NaN</td>\n",
       "      <td>NaN</td>\n",
       "    </tr>\n",
       "  </tbody>\n",
       "</table>\n",
       "</div>"
      ],
      "text/plain": [
       "                                               pdf_name  page  num_cells_row3  \\\n",
       "1903  R Aldercrest Health & Rehab Center complaint 0...   111             2.0   \n",
       "1904  R Aldercrest Health & Rehab Center complaint 0...   112             2.0   \n",
       "2560  R Avalon Care Center - Pullman survey L2D611 7...    69             2.0   \n",
       "2561  R Avalon Care Center - Pullman survey L2D611 7...    70             2.0   \n",
       "2609  R Avalon Care Center- Othello LLC PD8D11 Inspe...    48             2.0   \n",
       "2610  R Avalon Care Center- Othello LLC PD8D11 Inspe...    49             2.0   \n",
       "\n",
       "        tag_list deficiency_tag  \\\n",
       "1903  [' F 585']          F 585   \n",
       "1904  [' F 585']          F 585   \n",
       "2560  [' F 661']          F 661   \n",
       "2561  [' F 661']          F 661   \n",
       "2609  [' F 645']          F 645   \n",
       "2610  [' F 645']          F 645   \n",
       "\n",
       "                                        deficiency_text correction_tag  \\\n",
       "1903  Grievances\\nCFR(s): 483.10(j)(1)-(4)\\n§483.10(...            NaN   \n",
       "1904  Continued From Page 1\\nresidents' rights is co...            NaN   \n",
       "2560  Discharge Summary\\nCFR(s): 483.21(c)(2)(i)-(iv...            NaN   \n",
       "2561  Continued From Page 1\\nReference (WAC) 388-97/...            NaN   \n",
       "2609  PASARR Screening for MD & ID\\nCFR(s): 483.20(k...            NaN   \n",
       "2610  Continued From Page 1\\nhealth needs. Findings ...            NaN   \n",
       "\n",
       "     correction_text completion_date  \n",
       "1903             NaN             NaN  \n",
       "1904             NaN             NaN  \n",
       "2560             NaN             NaN  \n",
       "2561             NaN             NaN  \n",
       "2609             NaN             NaN  \n",
       "2610             NaN             NaN  "
      ]
     },
     "execution_count": 13,
     "metadata": {},
     "output_type": "execute_result"
    }
   ],
   "source": [
    "df[df['num_cells_row3'] == 2]"
   ]
  },
  {
   "cell_type": "markdown",
   "metadata": {},
   "source": [
    "As expected, in those cases we simply did not have any data for *correction_tag*, *correction_text* and *completion_date*. The variable is not useful anymore."
   ]
  },
  {
   "cell_type": "code",
   "execution_count": 14,
   "metadata": {},
   "outputs": [],
   "source": [
    "df.drop(columns=['num_cells_row3'], inplace=True)"
   ]
  },
  {
   "cell_type": "markdown",
   "metadata": {},
   "source": [
    "### Our slimmed-down DF:"
   ]
  },
  {
   "cell_type": "code",
   "execution_count": 15,
   "metadata": {},
   "outputs": [
    {
     "name": "stdout",
     "output_type": "stream",
     "text": [
      "(14417, 8)\n",
      "We now have 14417 records and 342 unique pdf names.\n",
      "This means we managed to extract infromation from 59 % of the 584 inspection reports for nursing home facilities.\n"
     ]
    }
   ],
   "source": [
    "print(df.shape)\n",
    "print('We now have', len(df), 'records and', df['pdf_name'].nunique(), 'unique pdf names.')\n",
    "print('This means we managed to extract infromation from', round(df['pdf_name'].nunique()/total_reports*100),'% of the', total_reports, 'inspection reports for nursing home facilities.')"
   ]
  },
  {
   "cell_type": "code",
   "execution_count": 16,
   "metadata": {},
   "outputs": [
    {
     "data": {
      "text/html": [
       "<div>\n",
       "<style scoped>\n",
       "    .dataframe tbody tr th:only-of-type {\n",
       "        vertical-align: middle;\n",
       "    }\n",
       "\n",
       "    .dataframe tbody tr th {\n",
       "        vertical-align: top;\n",
       "    }\n",
       "\n",
       "    .dataframe thead th {\n",
       "        text-align: right;\n",
       "    }\n",
       "</style>\n",
       "<table border=\"1\" class=\"dataframe\">\n",
       "  <thead>\n",
       "    <tr style=\"text-align: right;\">\n",
       "      <th></th>\n",
       "      <th>pdf_name</th>\n",
       "      <th>page</th>\n",
       "      <th>tag_list</th>\n",
       "      <th>deficiency_tag</th>\n",
       "      <th>deficiency_text</th>\n",
       "      <th>correction_tag</th>\n",
       "      <th>correction_text</th>\n",
       "      <th>completion_date</th>\n",
       "    </tr>\n",
       "  </thead>\n",
       "  <tbody>\n",
       "    <tr>\n",
       "      <th>2</th>\n",
       "      <td>ARLINGTON HEALTH AND REHABILITATION YOGA12.pdf</td>\n",
       "      <td>3</td>\n",
       "      <td>['{L 000}']</td>\n",
       "      <td>{L 000}\\nState Form 2</td>\n",
       "      <td>WAC - Initial Comments\\nNote:  According to RC...</td>\n",
       "      <td>{L 000}</td>\n",
       "      <td></td>\n",
       "      <td>NaN</td>\n",
       "    </tr>\n",
       "    <tr>\n",
       "      <th>3</th>\n",
       "      <td>AVALON CARE CENTER - PULLMAN COMM11.pdf</td>\n",
       "      <td>1</td>\n",
       "      <td>['F 000', 'NATURE']</td>\n",
       "      <td>LABORATORY</td>\n",
       "      <td>Y DIRECTOR'S OR PROVIDER/SUPPLIER REPRESENTATI...</td>\n",
       "      <td>NATURE</td>\n",
       "      <td>TITLE</td>\n",
       "      <td>(X6) DATE</td>\n",
       "    </tr>\n",
       "    <tr>\n",
       "      <th>5</th>\n",
       "      <td>AVALON HEALTH &amp; REHABILITATION CENTER - PASCO ...</td>\n",
       "      <td>2</td>\n",
       "      <td>['{F 000}', 'NATURE']</td>\n",
       "      <td>LABORATORY</td>\n",
       "      <td>Y DIRECTOR'S OR PROVIDER/SUPPLIER REPRESENTATI...</td>\n",
       "      <td>NATURE</td>\n",
       "      <td>TITLE</td>\n",
       "      <td>(X6) DATE</td>\n",
       "    </tr>\n",
       "    <tr>\n",
       "      <th>6</th>\n",
       "      <td>AVAMERE OLYMPIC REHABILITATION OF SEQUIM JX6T1...</td>\n",
       "      <td>1</td>\n",
       "      <td>['F 000', 'NATURE']</td>\n",
       "      <td>LABORATORY</td>\n",
       "      <td>Y DIRECTOR'S OR PROVIDER/SUPPLIER REPRESENTATI...</td>\n",
       "      <td>NATURE</td>\n",
       "      <td>TITLE</td>\n",
       "      <td>(X6) DATE</td>\n",
       "    </tr>\n",
       "    <tr>\n",
       "      <th>8</th>\n",
       "      <td>AVAMERE TRANSITIONAL CARE OF PUGET SOUND M9QP1...</td>\n",
       "      <td>2</td>\n",
       "      <td>['{E 000}', '{F 000}', 'NATURE']</td>\n",
       "      <td>LABORATORY</td>\n",
       "      <td>Y DIRECTOR'S OR PROVIDER/SUPPLIER REPRESENTATI...</td>\n",
       "      <td>NATURE</td>\n",
       "      <td>TITLE</td>\n",
       "      <td>(X6) DATE</td>\n",
       "    </tr>\n",
       "  </tbody>\n",
       "</table>\n",
       "</div>"
      ],
      "text/plain": [
       "                                            pdf_name  page  \\\n",
       "2     ARLINGTON HEALTH AND REHABILITATION YOGA12.pdf     3   \n",
       "3            AVALON CARE CENTER - PULLMAN COMM11.pdf     1   \n",
       "5  AVALON HEALTH & REHABILITATION CENTER - PASCO ...     2   \n",
       "6  AVAMERE OLYMPIC REHABILITATION OF SEQUIM JX6T1...     1   \n",
       "8  AVAMERE TRANSITIONAL CARE OF PUGET SOUND M9QP1...     2   \n",
       "\n",
       "                           tag_list         deficiency_tag  \\\n",
       "2                       ['{L 000}']  {L 000}\\nState Form 2   \n",
       "3               ['F 000', 'NATURE']             LABORATORY   \n",
       "5             ['{F 000}', 'NATURE']             LABORATORY   \n",
       "6               ['F 000', 'NATURE']             LABORATORY   \n",
       "8  ['{E 000}', '{F 000}', 'NATURE']             LABORATORY   \n",
       "\n",
       "                                     deficiency_text correction_tag  \\\n",
       "2  WAC - Initial Comments\\nNote:  According to RC...        {L 000}   \n",
       "3  Y DIRECTOR'S OR PROVIDER/SUPPLIER REPRESENTATI...         NATURE   \n",
       "5  Y DIRECTOR'S OR PROVIDER/SUPPLIER REPRESENTATI...         NATURE   \n",
       "6  Y DIRECTOR'S OR PROVIDER/SUPPLIER REPRESENTATI...         NATURE   \n",
       "8  Y DIRECTOR'S OR PROVIDER/SUPPLIER REPRESENTATI...         NATURE   \n",
       "\n",
       "  correction_text completion_date  \n",
       "2                             NaN  \n",
       "3           TITLE       (X6) DATE  \n",
       "5           TITLE       (X6) DATE  \n",
       "6           TITLE       (X6) DATE  \n",
       "8           TITLE       (X6) DATE  "
      ]
     },
     "execution_count": 16,
     "metadata": {},
     "output_type": "execute_result"
    }
   ],
   "source": [
    "df.head()"
   ]
  },
  {
   "cell_type": "code",
   "execution_count": 17,
   "metadata": {},
   "outputs": [
    {
     "data": {
      "text/html": [
       "<div>\n",
       "<style scoped>\n",
       "    .dataframe tbody tr th:only-of-type {\n",
       "        vertical-align: middle;\n",
       "    }\n",
       "\n",
       "    .dataframe tbody tr th {\n",
       "        vertical-align: top;\n",
       "    }\n",
       "\n",
       "    .dataframe thead th {\n",
       "        text-align: right;\n",
       "    }\n",
       "</style>\n",
       "<table border=\"1\" class=\"dataframe\">\n",
       "  <thead>\n",
       "    <tr style=\"text-align: right;\">\n",
       "      <th></th>\n",
       "      <th>pdf_name</th>\n",
       "      <th>page</th>\n",
       "      <th>tag_list</th>\n",
       "      <th>deficiency_tag</th>\n",
       "      <th>deficiency_text</th>\n",
       "      <th>correction_tag</th>\n",
       "      <th>correction_text</th>\n",
       "      <th>completion_date</th>\n",
       "    </tr>\n",
       "  </thead>\n",
       "  <tbody>\n",
       "    <tr>\n",
       "      <th>28340</th>\n",
       "      <td>WESLEY HOMES HEALTH CENTER I5XT12.pdf</td>\n",
       "      <td>3</td>\n",
       "      <td>['{L 000}']</td>\n",
       "      <td>{L 000}\\nState Form 2</td>\n",
       "      <td>WAC - Initial Comments\\nNote:  According to RC...</td>\n",
       "      <td>{L 000}</td>\n",
       "      <td></td>\n",
       "      <td>NaN</td>\n",
       "    </tr>\n",
       "    <tr>\n",
       "      <th>28432</th>\n",
       "      <td>r avamere bellingham healthcare and rehab - su...</td>\n",
       "      <td>53</td>\n",
       "      <td>['L1080']</td>\n",
       "      <td>L1080</td>\n",
       "      <td>WAC 388-97-1080 Nursing Services\\n(1) The nurs...</td>\n",
       "      <td>L1080</td>\n",
       "      <td>NaN</td>\n",
       "      <td>4/21/17</td>\n",
       "    </tr>\n",
       "    <tr>\n",
       "      <th>28433</th>\n",
       "      <td>r avamere bellingham healthcare and rehab - su...</td>\n",
       "      <td>54</td>\n",
       "      <td>['L1080']</td>\n",
       "      <td>L1080</td>\n",
       "      <td>Continued From page 1\\nnursing home's geograph...</td>\n",
       "      <td>L1080</td>\n",
       "      <td>NaN</td>\n",
       "      <td>NaN</td>\n",
       "    </tr>\n",
       "    <tr>\n",
       "      <th>28434</th>\n",
       "      <td>r avamere bellingham healthcare and rehab - su...</td>\n",
       "      <td>55</td>\n",
       "      <td>['L1080', 'L1380']</td>\n",
       "      <td>L1380</td>\n",
       "      <td>WAC 388-97-1380 Tuberculosis - Testing \\nRequi...</td>\n",
       "      <td>L1380</td>\n",
       "      <td>NaN</td>\n",
       "      <td>4/21/17</td>\n",
       "    </tr>\n",
       "    <tr>\n",
       "      <th>28435</th>\n",
       "      <td>r avamere bellingham healthcare and rehab - su...</td>\n",
       "      <td>56</td>\n",
       "      <td>['L1380']</td>\n",
       "      <td>L1380</td>\n",
       "      <td>Continued From page 3\\ntesting within three da...</td>\n",
       "      <td>L1380</td>\n",
       "      <td>An audit was completed to ensure all \\nemploye...</td>\n",
       "      <td>NaN</td>\n",
       "    </tr>\n",
       "  </tbody>\n",
       "</table>\n",
       "</div>"
      ],
      "text/plain": [
       "                                                pdf_name  page  \\\n",
       "28340              WESLEY HOMES HEALTH CENTER I5XT12.pdf     3   \n",
       "28432  r avamere bellingham healthcare and rehab - su...    53   \n",
       "28433  r avamere bellingham healthcare and rehab - su...    54   \n",
       "28434  r avamere bellingham healthcare and rehab - su...    55   \n",
       "28435  r avamere bellingham healthcare and rehab - su...    56   \n",
       "\n",
       "                 tag_list         deficiency_tag  \\\n",
       "28340         ['{L 000}']  {L 000}\\nState Form 2   \n",
       "28432           ['L1080']                  L1080   \n",
       "28433           ['L1080']                  L1080   \n",
       "28434  ['L1080', 'L1380']                  L1380   \n",
       "28435           ['L1380']                  L1380   \n",
       "\n",
       "                                         deficiency_text correction_tag  \\\n",
       "28340  WAC - Initial Comments\\nNote:  According to RC...        {L 000}   \n",
       "28432  WAC 388-97-1080 Nursing Services\\n(1) The nurs...          L1080   \n",
       "28433  Continued From page 1\\nnursing home's geograph...          L1080   \n",
       "28434  WAC 388-97-1380 Tuberculosis - Testing \\nRequi...          L1380   \n",
       "28435  Continued From page 3\\ntesting within three da...          L1380   \n",
       "\n",
       "                                         correction_text completion_date  \n",
       "28340                                                                NaN  \n",
       "28432                                                NaN         4/21/17  \n",
       "28433                                                NaN             NaN  \n",
       "28434                                                NaN         4/21/17  \n",
       "28435  An audit was completed to ensure all \\nemploye...             NaN  "
      ]
     },
     "execution_count": 17,
     "metadata": {},
     "output_type": "execute_result"
    }
   ],
   "source": [
    "df.tail()"
   ]
  },
  {
   "cell_type": "markdown",
   "metadata": {},
   "source": [
    "# WAC codes"
   ]
  },
  {
   "cell_type": "markdown",
   "metadata": {},
   "source": [
    "The field *deficiency_text* contains, among a lot of information, the codes from **WA State Legislature Title 338, Chapter 97 (Nursing Homes)** that were found to be defficient in the facility in question. We want to identify whenever such a code is mentioned in that field and scrap it out."
   ]
  },
  {
   "cell_type": "code",
   "execution_count": 18,
   "metadata": {},
   "outputs": [],
   "source": [
    "# Isolate the 'deficiency_text' series and index it using the 'pdf_name' series\n",
    "df_wac = df['deficiency_text']\n",
    "df_wac.index = df['pdf_name']\n",
    "\n",
    "# Using regex, extract from the indexed series all occurrences WAC codes.\n",
    "# Note: This will turn the series into a dataframe\n",
    "df_wac = df_wac.str.extractall('(WAC\\s?\\d+-\\d+-\\d+)')\n",
    "df_wac = df_wac.reset_index().drop(columns=['match'])\n",
    "df_wac.columns = ['pdf_name', 'wac']"
   ]
  },
  {
   "cell_type": "code",
   "execution_count": 19,
   "metadata": {},
   "outputs": [
    {
     "data": {
      "text/html": [
       "<div>\n",
       "<style scoped>\n",
       "    .dataframe tbody tr th:only-of-type {\n",
       "        vertical-align: middle;\n",
       "    }\n",
       "\n",
       "    .dataframe tbody tr th {\n",
       "        vertical-align: top;\n",
       "    }\n",
       "\n",
       "    .dataframe thead th {\n",
       "        text-align: right;\n",
       "    }\n",
       "</style>\n",
       "<table border=\"1\" class=\"dataframe\">\n",
       "  <thead>\n",
       "    <tr style=\"text-align: right;\">\n",
       "      <th></th>\n",
       "      <th>pdf_name</th>\n",
       "      <th>wac</th>\n",
       "    </tr>\n",
       "  </thead>\n",
       "  <tbody>\n",
       "    <tr>\n",
       "      <th>0</th>\n",
       "      <td>R  St. Francis of Bellingham Survey QMTV11 12-...</td>\n",
       "      <td>WAC 388-97-0640</td>\n",
       "    </tr>\n",
       "    <tr>\n",
       "      <th>1</th>\n",
       "      <td>R  St. Francis of Bellingham Survey QMTV11 12-...</td>\n",
       "      <td>WAC 388-97-1000</td>\n",
       "    </tr>\n",
       "    <tr>\n",
       "      <th>2</th>\n",
       "      <td>R  St. Francis of Bellingham Survey QMTV11 12-...</td>\n",
       "      <td>WAC 388-97-1060</td>\n",
       "    </tr>\n",
       "    <tr>\n",
       "      <th>3</th>\n",
       "      <td>R  St. Francis of Bellingham Survey QMTV11 12-...</td>\n",
       "      <td>WAC 388-97-1060</td>\n",
       "    </tr>\n",
       "    <tr>\n",
       "      <th>4</th>\n",
       "      <td>R  St. Francis of Bellingham Survey QMTV11 12-...</td>\n",
       "      <td>WAC 388-97-1620</td>\n",
       "    </tr>\n",
       "    <tr>\n",
       "      <th>5</th>\n",
       "      <td>R  St. Francis of Bellingham Survey QMTV11 12-...</td>\n",
       "      <td>WAC 388-97-1620</td>\n",
       "    </tr>\n",
       "    <tr>\n",
       "      <th>6</th>\n",
       "      <td>R  St. Francis of Bellingham Survey QMTV11 12-...</td>\n",
       "      <td>WAC 388-97-0640</td>\n",
       "    </tr>\n",
       "    <tr>\n",
       "      <th>7</th>\n",
       "      <td>R  St. Francis of Bellingham Survey QMTV11 12-...</td>\n",
       "      <td>WAC 388-97-1680</td>\n",
       "    </tr>\n",
       "    <tr>\n",
       "      <th>8</th>\n",
       "      <td>R  St. Francis of Bellingham Survey QMTV11 12-...</td>\n",
       "      <td>WAC 388-97-1080</td>\n",
       "    </tr>\n",
       "    <tr>\n",
       "      <th>9</th>\n",
       "      <td>R ALASKA GARDENS HEALTH AND REHABILITATION FKJ...</td>\n",
       "      <td>WAC 388-97-1060</td>\n",
       "    </tr>\n",
       "  </tbody>\n",
       "</table>\n",
       "</div>"
      ],
      "text/plain": [
       "                                            pdf_name              wac\n",
       "0  R  St. Francis of Bellingham Survey QMTV11 12-...  WAC 388-97-0640\n",
       "1  R  St. Francis of Bellingham Survey QMTV11 12-...  WAC 388-97-1000\n",
       "2  R  St. Francis of Bellingham Survey QMTV11 12-...  WAC 388-97-1060\n",
       "3  R  St. Francis of Bellingham Survey QMTV11 12-...  WAC 388-97-1060\n",
       "4  R  St. Francis of Bellingham Survey QMTV11 12-...  WAC 388-97-1620\n",
       "5  R  St. Francis of Bellingham Survey QMTV11 12-...  WAC 388-97-1620\n",
       "6  R  St. Francis of Bellingham Survey QMTV11 12-...  WAC 388-97-0640\n",
       "7  R  St. Francis of Bellingham Survey QMTV11 12-...  WAC 388-97-1680\n",
       "8  R  St. Francis of Bellingham Survey QMTV11 12-...  WAC 388-97-1080\n",
       "9  R ALASKA GARDENS HEALTH AND REHABILITATION FKJ...  WAC 388-97-1060"
      ]
     },
     "execution_count": 19,
     "metadata": {},
     "output_type": "execute_result"
    }
   ],
   "source": [
    "df_wac.head(10)"
   ]
  },
  {
   "cell_type": "code",
   "execution_count": 20,
   "metadata": {},
   "outputs": [
    {
     "data": {
      "text/html": [
       "<div>\n",
       "<style scoped>\n",
       "    .dataframe tbody tr th:only-of-type {\n",
       "        vertical-align: middle;\n",
       "    }\n",
       "\n",
       "    .dataframe tbody tr th {\n",
       "        vertical-align: top;\n",
       "    }\n",
       "\n",
       "    .dataframe thead th {\n",
       "        text-align: right;\n",
       "    }\n",
       "</style>\n",
       "<table border=\"1\" class=\"dataframe\">\n",
       "  <thead>\n",
       "    <tr style=\"text-align: right;\">\n",
       "      <th></th>\n",
       "      <th>pdf_name</th>\n",
       "      <th>wac</th>\n",
       "    </tr>\n",
       "  </thead>\n",
       "  <tbody>\n",
       "    <tr>\n",
       "      <th>953</th>\n",
       "      <td>R brookfield health and rehab of cascadia or4u...</td>\n",
       "      <td>WAC 388-97-1480</td>\n",
       "    </tr>\n",
       "    <tr>\n",
       "      <th>954</th>\n",
       "      <td>R highland health and rehabilitation c21j11 su...</td>\n",
       "      <td>WAC 388-97-0080</td>\n",
       "    </tr>\n",
       "    <tr>\n",
       "      <th>955</th>\n",
       "      <td>R highland health and rehabilitation c21j11 su...</td>\n",
       "      <td>WAC 388-97-1060</td>\n",
       "    </tr>\n",
       "    <tr>\n",
       "      <th>956</th>\n",
       "      <td>R highland health and rehabilitation c21j11 su...</td>\n",
       "      <td>WAC 388-97-1260</td>\n",
       "    </tr>\n",
       "    <tr>\n",
       "      <th>957</th>\n",
       "      <td>R highland health and rehabilitation c21j11 su...</td>\n",
       "      <td>WAC 388-97-1020</td>\n",
       "    </tr>\n",
       "    <tr>\n",
       "      <th>958</th>\n",
       "      <td>R highland health and rehabilitation c21j11 su...</td>\n",
       "      <td>WAC 388-97-0260</td>\n",
       "    </tr>\n",
       "    <tr>\n",
       "      <th>959</th>\n",
       "      <td>R highland health and rehabilitation c21j11 su...</td>\n",
       "      <td>WAC 388-97-1480</td>\n",
       "    </tr>\n",
       "    <tr>\n",
       "      <th>960</th>\n",
       "      <td>r avamere bellingham healthcare and rehab - su...</td>\n",
       "      <td>WAC 388-97-1080</td>\n",
       "    </tr>\n",
       "    <tr>\n",
       "      <th>961</th>\n",
       "      <td>r avamere bellingham healthcare and rehab - su...</td>\n",
       "      <td>WAC 388-97-1380</td>\n",
       "    </tr>\n",
       "    <tr>\n",
       "      <th>962</th>\n",
       "      <td>r avamere bellingham healthcare and rehab - su...</td>\n",
       "      <td>WAC 388-97-1360</td>\n",
       "    </tr>\n",
       "  </tbody>\n",
       "</table>\n",
       "</div>"
      ],
      "text/plain": [
       "                                              pdf_name              wac\n",
       "953  R brookfield health and rehab of cascadia or4u...  WAC 388-97-1480\n",
       "954  R highland health and rehabilitation c21j11 su...  WAC 388-97-0080\n",
       "955  R highland health and rehabilitation c21j11 su...  WAC 388-97-1060\n",
       "956  R highland health and rehabilitation c21j11 su...  WAC 388-97-1260\n",
       "957  R highland health and rehabilitation c21j11 su...  WAC 388-97-1020\n",
       "958  R highland health and rehabilitation c21j11 su...  WAC 388-97-0260\n",
       "959  R highland health and rehabilitation c21j11 su...  WAC 388-97-1480\n",
       "960  r avamere bellingham healthcare and rehab - su...  WAC 388-97-1080\n",
       "961  r avamere bellingham healthcare and rehab - su...  WAC 388-97-1380\n",
       "962  r avamere bellingham healthcare and rehab - su...  WAC 388-97-1360"
      ]
     },
     "execution_count": 20,
     "metadata": {},
     "output_type": "execute_result"
    }
   ],
   "source": [
    "df_wac.tail(10)"
   ]
  },
  {
   "cell_type": "markdown",
   "metadata": {},
   "source": [
    "## Add WAC metadata"
   ]
  },
  {
   "cell_type": "markdown",
   "metadata": {},
   "source": [
    "In another script, we scrape the [site from the WA State Legislature that contains the description of the coded corresponding to Title 338, Chapter 97 (Nursing Homes)](https://apps.leg.wa.gov/wac/default.aspx?cite=388-97). We now add that information to our data frame."
   ]
  },
  {
   "cell_type": "code",
   "execution_count": 21,
   "metadata": {},
   "outputs": [],
   "source": [
    "df_temp = pd.read_csv(output_path + 'wac_codes_df_t338c97.csv')\n",
    "df_temp['ttl_chp_sec'] = 'WAC ' + df_temp['ttl_chp_sec']"
   ]
  },
  {
   "cell_type": "code",
   "execution_count": 22,
   "metadata": {},
   "outputs": [
    {
     "data": {
      "text/html": [
       "<div>\n",
       "<style scoped>\n",
       "    .dataframe tbody tr th:only-of-type {\n",
       "        vertical-align: middle;\n",
       "    }\n",
       "\n",
       "    .dataframe tbody tr th {\n",
       "        vertical-align: top;\n",
       "    }\n",
       "\n",
       "    .dataframe thead th {\n",
       "        text-align: right;\n",
       "    }\n",
       "</style>\n",
       "<table border=\"1\" class=\"dataframe\">\n",
       "  <thead>\n",
       "    <tr style=\"text-align: right;\">\n",
       "      <th></th>\n",
       "      <th>sub_chp_num</th>\n",
       "      <th>sub_chp_name</th>\n",
       "      <th>section</th>\n",
       "      <th>ttl_chp_sec</th>\n",
       "      <th>ttl_chp_sec_desc</th>\n",
       "    </tr>\n",
       "  </thead>\n",
       "  <tbody>\n",
       "    <tr>\n",
       "      <th>0</th>\n",
       "      <td>SUBCHAPTER I</td>\n",
       "      <td>RESIDENT RIGHTS, CARE AND RELATED SERVICES</td>\n",
       "      <td>Definitions</td>\n",
       "      <td>WAC 388-97-0001</td>\n",
       "      <td>Definitions.</td>\n",
       "    </tr>\n",
       "    <tr>\n",
       "      <th>1</th>\n",
       "      <td>SUBCHAPTER I</td>\n",
       "      <td>RESIDENT RIGHTS, CARE AND RELATED SERVICES</td>\n",
       "      <td>Admission, Transfer and Discharge</td>\n",
       "      <td>WAC 388-97-0020</td>\n",
       "      <td>Nursing facility care.</td>\n",
       "    </tr>\n",
       "    <tr>\n",
       "      <th>2</th>\n",
       "      <td>SUBCHAPTER I</td>\n",
       "      <td>RESIDENT RIGHTS, CARE AND RELATED SERVICES</td>\n",
       "      <td>Admission, Transfer and Discharge</td>\n",
       "      <td>WAC 388-97-0040</td>\n",
       "      <td>Discrimination prohibited.</td>\n",
       "    </tr>\n",
       "    <tr>\n",
       "      <th>3</th>\n",
       "      <td>SUBCHAPTER I</td>\n",
       "      <td>RESIDENT RIGHTS, CARE AND RELATED SERVICES</td>\n",
       "      <td>Admission, Transfer and Discharge</td>\n",
       "      <td>WAC 388-97-0060</td>\n",
       "      <td>Nursing facility admission and payment require...</td>\n",
       "    </tr>\n",
       "    <tr>\n",
       "      <th>4</th>\n",
       "      <td>SUBCHAPTER I</td>\n",
       "      <td>RESIDENT RIGHTS, CARE AND RELATED SERVICES</td>\n",
       "      <td>Admission, Transfer and Discharge</td>\n",
       "      <td>WAC 388-97-0080</td>\n",
       "      <td>Discharge planning.</td>\n",
       "    </tr>\n",
       "  </tbody>\n",
       "</table>\n",
       "</div>"
      ],
      "text/plain": [
       "    sub_chp_num                                sub_chp_name  \\\n",
       "0  SUBCHAPTER I  RESIDENT RIGHTS, CARE AND RELATED SERVICES   \n",
       "1  SUBCHAPTER I  RESIDENT RIGHTS, CARE AND RELATED SERVICES   \n",
       "2  SUBCHAPTER I  RESIDENT RIGHTS, CARE AND RELATED SERVICES   \n",
       "3  SUBCHAPTER I  RESIDENT RIGHTS, CARE AND RELATED SERVICES   \n",
       "4  SUBCHAPTER I  RESIDENT RIGHTS, CARE AND RELATED SERVICES   \n",
       "\n",
       "                             section      ttl_chp_sec  \\\n",
       "0                        Definitions  WAC 388-97-0001   \n",
       "1  Admission, Transfer and Discharge  WAC 388-97-0020   \n",
       "2  Admission, Transfer and Discharge  WAC 388-97-0040   \n",
       "3  Admission, Transfer and Discharge  WAC 388-97-0060   \n",
       "4  Admission, Transfer and Discharge  WAC 388-97-0080   \n",
       "\n",
       "                                    ttl_chp_sec_desc  \n",
       "0                                       Definitions.  \n",
       "1                             Nursing facility care.  \n",
       "2                         Discrimination prohibited.  \n",
       "3  Nursing facility admission and payment require...  \n",
       "4                                Discharge planning.  "
      ]
     },
     "execution_count": 22,
     "metadata": {},
     "output_type": "execute_result"
    }
   ],
   "source": [
    "df_temp.head()"
   ]
  },
  {
   "cell_type": "code",
   "execution_count": 23,
   "metadata": {},
   "outputs": [],
   "source": [
    "df_wac = df_wac.join(df_temp.set_index('ttl_chp_sec'), \n",
    "                     how='left', on='wac')"
   ]
  },
  {
   "cell_type": "code",
   "execution_count": 24,
   "metadata": {},
   "outputs": [
    {
     "data": {
      "text/html": [
       "<div>\n",
       "<style scoped>\n",
       "    .dataframe tbody tr th:only-of-type {\n",
       "        vertical-align: middle;\n",
       "    }\n",
       "\n",
       "    .dataframe tbody tr th {\n",
       "        vertical-align: top;\n",
       "    }\n",
       "\n",
       "    .dataframe thead th {\n",
       "        text-align: right;\n",
       "    }\n",
       "</style>\n",
       "<table border=\"1\" class=\"dataframe\">\n",
       "  <thead>\n",
       "    <tr style=\"text-align: right;\">\n",
       "      <th></th>\n",
       "      <th>pdf_name</th>\n",
       "      <th>wac</th>\n",
       "      <th>sub_chp_num</th>\n",
       "      <th>sub_chp_name</th>\n",
       "      <th>section</th>\n",
       "      <th>ttl_chp_sec_desc</th>\n",
       "    </tr>\n",
       "  </thead>\n",
       "  <tbody>\n",
       "    <tr>\n",
       "      <th>0</th>\n",
       "      <td>R  St. Francis of Bellingham Survey QMTV11 12-...</td>\n",
       "      <td>WAC 388-97-0640</td>\n",
       "      <td>SUBCHAPTER I</td>\n",
       "      <td>RESIDENT RIGHTS, CARE AND RELATED SERVICES</td>\n",
       "      <td>Resident Rights</td>\n",
       "      <td>Prevention of abuse.</td>\n",
       "    </tr>\n",
       "    <tr>\n",
       "      <th>1</th>\n",
       "      <td>R  St. Francis of Bellingham Survey QMTV11 12-...</td>\n",
       "      <td>WAC 388-97-1000</td>\n",
       "      <td>SUBCHAPTER I</td>\n",
       "      <td>RESIDENT RIGHTS, CARE AND RELATED SERVICES</td>\n",
       "      <td>Resident Assessment and Plan of Care</td>\n",
       "      <td>Resident assessment.</td>\n",
       "    </tr>\n",
       "    <tr>\n",
       "      <th>2</th>\n",
       "      <td>R  St. Francis of Bellingham Survey QMTV11 12-...</td>\n",
       "      <td>WAC 388-97-1060</td>\n",
       "      <td>SUBCHAPTER I</td>\n",
       "      <td>RESIDENT RIGHTS, CARE AND RELATED SERVICES</td>\n",
       "      <td>Quality of Care</td>\n",
       "      <td>Quality of care.</td>\n",
       "    </tr>\n",
       "    <tr>\n",
       "      <th>3</th>\n",
       "      <td>R  St. Francis of Bellingham Survey QMTV11 12-...</td>\n",
       "      <td>WAC 388-97-1060</td>\n",
       "      <td>SUBCHAPTER I</td>\n",
       "      <td>RESIDENT RIGHTS, CARE AND RELATED SERVICES</td>\n",
       "      <td>Quality of Care</td>\n",
       "      <td>Quality of care.</td>\n",
       "    </tr>\n",
       "    <tr>\n",
       "      <th>4</th>\n",
       "      <td>R  St. Francis of Bellingham Survey QMTV11 12-...</td>\n",
       "      <td>WAC 388-97-1620</td>\n",
       "      <td>SUBCHAPTER I</td>\n",
       "      <td>RESIDENT RIGHTS, CARE AND RELATED SERVICES</td>\n",
       "      <td>Administration</td>\n",
       "      <td>General administration.</td>\n",
       "    </tr>\n",
       "  </tbody>\n",
       "</table>\n",
       "</div>"
      ],
      "text/plain": [
       "                                            pdf_name              wac  \\\n",
       "0  R  St. Francis of Bellingham Survey QMTV11 12-...  WAC 388-97-0640   \n",
       "1  R  St. Francis of Bellingham Survey QMTV11 12-...  WAC 388-97-1000   \n",
       "2  R  St. Francis of Bellingham Survey QMTV11 12-...  WAC 388-97-1060   \n",
       "3  R  St. Francis of Bellingham Survey QMTV11 12-...  WAC 388-97-1060   \n",
       "4  R  St. Francis of Bellingham Survey QMTV11 12-...  WAC 388-97-1620   \n",
       "\n",
       "    sub_chp_num                                sub_chp_name  \\\n",
       "0  SUBCHAPTER I  RESIDENT RIGHTS, CARE AND RELATED SERVICES   \n",
       "1  SUBCHAPTER I  RESIDENT RIGHTS, CARE AND RELATED SERVICES   \n",
       "2  SUBCHAPTER I  RESIDENT RIGHTS, CARE AND RELATED SERVICES   \n",
       "3  SUBCHAPTER I  RESIDENT RIGHTS, CARE AND RELATED SERVICES   \n",
       "4  SUBCHAPTER I  RESIDENT RIGHTS, CARE AND RELATED SERVICES   \n",
       "\n",
       "                                section         ttl_chp_sec_desc  \n",
       "0                       Resident Rights     Prevention of abuse.  \n",
       "1  Resident Assessment and Plan of Care     Resident assessment.  \n",
       "2                       Quality of Care         Quality of care.  \n",
       "3                       Quality of Care         Quality of care.  \n",
       "4                        Administration  General administration.  "
      ]
     },
     "execution_count": 24,
     "metadata": {},
     "output_type": "execute_result"
    }
   ],
   "source": [
    "df_wac.head()"
   ]
  },
  {
   "cell_type": "code",
   "execution_count": 25,
   "metadata": {},
   "outputs": [
    {
     "name": "stdout",
     "output_type": "stream",
     "text": [
      "963\n"
     ]
    },
    {
     "data": {
      "text/plain": [
       "Infection Control                                                                       190\n",
       "Quality of Care                                                                         166\n",
       "Administration                                                                          128\n",
       "Nursing Services                                                                        122\n",
       "Resident Rights                                                                          88\n",
       "Resident Assessment and Plan of Care                                                     64\n",
       "Quality of Life                                                                          54\n",
       "Specialized Habilitative and Rehabilitative Services                                     35\n",
       "Admission, Transfer and Discharge                                                        27\n",
       "NaN                                                                                      22\n",
       "Preadmission Screening and Resident Review (PASRR) in Medicaid Certified Facilities.     18\n",
       "Resident Care Unit                                                                        8\n",
       "General                                                                                   7\n",
       "Miscellaneous Services                                                                    6\n",
       "Dementia Care Unit                                                                        5\n",
       "Physician Services                                                                        3\n",
       "Licensed Bed Capacity, Relocation of Residents and License Relinquishment                 3\n",
       "Safety                                                                                    3\n",
       "Dining, Dayrooms, and Resident Activity Areas                                             2\n",
       "Management Agreements and Changes of Ownership                                            2\n",
       "New Construction Documents                                                                2\n",
       "Resident Rooms                                                                            2\n",
       "Lighting and Electrical                                                                   1\n",
       "Definitions                                                                               1\n",
       "Resident Room Equipment                                                                   1\n",
       "Pest Control and Sewage and Waste Disposal                                                1\n",
       "Food Services Areas                                                                       1\n",
       "Resident Toilet and Bathing Facilities                                                    1\n",
       "Name: section, dtype: int64"
      ]
     },
     "execution_count": 25,
     "metadata": {},
     "output_type": "execute_result"
    }
   ],
   "source": [
    "print(df_wac['section'].value_counts(dropna=False).sum())\n",
    "df_wac['section'].value_counts(dropna=False)"
   ]
  },
  {
   "cell_type": "markdown",
   "metadata": {},
   "source": [
    "## Add report metadata"
   ]
  },
  {
   "cell_type": "code",
   "execution_count": 26,
   "metadata": {},
   "outputs": [],
   "source": [
    "del(df_temp)\n",
    "df_temp = pd.read_csv('../output_data/reports_metadata/reports_metadata_nhf.csv')"
   ]
  },
  {
   "cell_type": "code",
   "execution_count": 27,
   "metadata": {},
   "outputs": [
    {
     "data": {
      "text/html": [
       "<div>\n",
       "<style scoped>\n",
       "    .dataframe tbody tr th:only-of-type {\n",
       "        vertical-align: middle;\n",
       "    }\n",
       "\n",
       "    .dataframe tbody tr th {\n",
       "        vertical-align: top;\n",
       "    }\n",
       "\n",
       "    .dataframe thead th {\n",
       "        text-align: right;\n",
       "    }\n",
       "</style>\n",
       "<table border=\"1\" class=\"dataframe\">\n",
       "  <thead>\n",
       "    <tr style=\"text-align: right;\">\n",
       "      <th></th>\n",
       "      <th>fain_id</th>\n",
       "      <th>nf_name</th>\n",
       "      <th>pdf_name</th>\n",
       "      <th>rep_type</th>\n",
       "      <th>rep_date</th>\n",
       "      <th>download_record</th>\n",
       "    </tr>\n",
       "  </thead>\n",
       "  <tbody>\n",
       "    <tr>\n",
       "      <th>0</th>\n",
       "      <td>43484</td>\n",
       "      <td>AVALON CARE CENTER - OTHELLO, LLC</td>\n",
       "      <td>Avalon Care Center - Othello (G, CMP, CF) 5 3 ...</td>\n",
       "      <td>Enforcement Letter</td>\n",
       "      <td>May-19</td>\n",
       "      <td>Tue Mar 17 15:24:14 2020</td>\n",
       "    </tr>\n",
       "    <tr>\n",
       "      <th>1</th>\n",
       "      <td>43484</td>\n",
       "      <td>AVALON CARE CENTER - OTHELLO, LLC</td>\n",
       "      <td>Avalon Care Center - Othello (Hx E, prior D) 8...</td>\n",
       "      <td>Enforcement Letter</td>\n",
       "      <td>Aug-18</td>\n",
       "      <td>Tue Mar 17 15:24:15 2020</td>\n",
       "    </tr>\n",
       "    <tr>\n",
       "      <th>2</th>\n",
       "      <td>43484</td>\n",
       "      <td>AVALON CARE CENTER - OTHELLO, LLC</td>\n",
       "      <td>R Avalon Care Center- Othello LLC PD8D11 Inspe...</td>\n",
       "      <td>Inspection</td>\n",
       "      <td>Jun-19</td>\n",
       "      <td>Tue Mar 17 15:24:22 2020</td>\n",
       "    </tr>\n",
       "    <tr>\n",
       "      <th>3</th>\n",
       "      <td>43484</td>\n",
       "      <td>AVALON CARE CENTER - OTHELLO, LLC</td>\n",
       "      <td>R Avalon Care Center - Othello LLC complaint H...</td>\n",
       "      <td>Inspection</td>\n",
       "      <td>Sep-18</td>\n",
       "      <td>Tue Mar 17 15:24:25 2020</td>\n",
       "    </tr>\n",
       "    <tr>\n",
       "      <th>4</th>\n",
       "      <td>43484</td>\n",
       "      <td>AVALON CARE CENTER - OTHELLO, LLC</td>\n",
       "      <td>R avalon care center - othello llc i1ye11 surv...</td>\n",
       "      <td>Inspection</td>\n",
       "      <td>Sep-17</td>\n",
       "      <td>Tue Mar 17 15:24:29 2020</td>\n",
       "    </tr>\n",
       "    <tr>\n",
       "      <th>...</th>\n",
       "      <td>...</td>\n",
       "      <td>...</td>\n",
       "      <td>...</td>\n",
       "      <td>...</td>\n",
       "      <td>...</td>\n",
       "      <td>...</td>\n",
       "    </tr>\n",
       "    <tr>\n",
       "      <th>3335</th>\n",
       "      <td>43608</td>\n",
       "      <td>YAKIMA VALLEY SCHOOL</td>\n",
       "      <td>R Yakima Valley School CI 11-16-2017 - tj.pdf</td>\n",
       "      <td>Investigation</td>\n",
       "      <td>Nov-17</td>\n",
       "      <td>Tue Mar 17 17:41:33 2020</td>\n",
       "    </tr>\n",
       "    <tr>\n",
       "      <th>3336</th>\n",
       "      <td>43608</td>\n",
       "      <td>YAKIMA VALLEY SCHOOL</td>\n",
       "      <td>YAKIMA VALLEY SCHOOL KHMJ12.pdf</td>\n",
       "      <td>Investigation</td>\n",
       "      <td>Jun-17</td>\n",
       "      <td>Tue Mar 17 17:41:35 2020</td>\n",
       "    </tr>\n",
       "    <tr>\n",
       "      <th>3337</th>\n",
       "      <td>43608</td>\n",
       "      <td>YAKIMA VALLEY SCHOOL</td>\n",
       "      <td>YAKIMA VALLEY SCHOOL OSMX12.pdf</td>\n",
       "      <td>Investigation</td>\n",
       "      <td>Jun-17</td>\n",
       "      <td>Tue Mar 17 17:41:36 2020</td>\n",
       "    </tr>\n",
       "    <tr>\n",
       "      <th>3338</th>\n",
       "      <td>43608</td>\n",
       "      <td>YAKIMA VALLEY SCHOOL</td>\n",
       "      <td>r yakima valley school complaint 5-12-2017.pdf</td>\n",
       "      <td>Investigation</td>\n",
       "      <td>May-17</td>\n",
       "      <td>Tue Mar 17 17:41:38 2020</td>\n",
       "    </tr>\n",
       "    <tr>\n",
       "      <th>3339</th>\n",
       "      <td>43608</td>\n",
       "      <td>YAKIMA VALLEY SCHOOL</td>\n",
       "      <td>R YAKIMA VALLEY SCHOOL Complaint 05-04-2017 - ...</td>\n",
       "      <td>Investigation</td>\n",
       "      <td>May-17</td>\n",
       "      <td>Tue Mar 17 17:41:46 2020</td>\n",
       "    </tr>\n",
       "  </tbody>\n",
       "</table>\n",
       "<p>3340 rows × 6 columns</p>\n",
       "</div>"
      ],
      "text/plain": [
       "      fain_id                            nf_name  \\\n",
       "0       43484  AVALON CARE CENTER - OTHELLO, LLC   \n",
       "1       43484  AVALON CARE CENTER - OTHELLO, LLC   \n",
       "2       43484  AVALON CARE CENTER - OTHELLO, LLC   \n",
       "3       43484  AVALON CARE CENTER - OTHELLO, LLC   \n",
       "4       43484  AVALON CARE CENTER - OTHELLO, LLC   \n",
       "...       ...                                ...   \n",
       "3335    43608               YAKIMA VALLEY SCHOOL   \n",
       "3336    43608               YAKIMA VALLEY SCHOOL   \n",
       "3337    43608               YAKIMA VALLEY SCHOOL   \n",
       "3338    43608               YAKIMA VALLEY SCHOOL   \n",
       "3339    43608               YAKIMA VALLEY SCHOOL   \n",
       "\n",
       "                                               pdf_name            rep_type  \\\n",
       "0     Avalon Care Center - Othello (G, CMP, CF) 5 3 ...  Enforcement Letter   \n",
       "1     Avalon Care Center - Othello (Hx E, prior D) 8...  Enforcement Letter   \n",
       "2     R Avalon Care Center- Othello LLC PD8D11 Inspe...          Inspection   \n",
       "3     R Avalon Care Center - Othello LLC complaint H...          Inspection   \n",
       "4     R avalon care center - othello llc i1ye11 surv...          Inspection   \n",
       "...                                                 ...                 ...   \n",
       "3335      R Yakima Valley School CI 11-16-2017 - tj.pdf       Investigation   \n",
       "3336                    YAKIMA VALLEY SCHOOL KHMJ12.pdf       Investigation   \n",
       "3337                    YAKIMA VALLEY SCHOOL OSMX12.pdf       Investigation   \n",
       "3338     r yakima valley school complaint 5-12-2017.pdf       Investigation   \n",
       "3339  R YAKIMA VALLEY SCHOOL Complaint 05-04-2017 - ...       Investigation   \n",
       "\n",
       "     rep_date           download_record  \n",
       "0      May-19  Tue Mar 17 15:24:14 2020  \n",
       "1      Aug-18  Tue Mar 17 15:24:15 2020  \n",
       "2      Jun-19  Tue Mar 17 15:24:22 2020  \n",
       "3      Sep-18  Tue Mar 17 15:24:25 2020  \n",
       "4      Sep-17  Tue Mar 17 15:24:29 2020  \n",
       "...       ...                       ...  \n",
       "3335   Nov-17  Tue Mar 17 17:41:33 2020  \n",
       "3336   Jun-17  Tue Mar 17 17:41:35 2020  \n",
       "3337   Jun-17  Tue Mar 17 17:41:36 2020  \n",
       "3338   May-17  Tue Mar 17 17:41:38 2020  \n",
       "3339   May-17  Tue Mar 17 17:41:46 2020  \n",
       "\n",
       "[3340 rows x 6 columns]"
      ]
     },
     "execution_count": 27,
     "metadata": {},
     "output_type": "execute_result"
    }
   ],
   "source": [
    "df_temp"
   ]
  },
  {
   "cell_type": "code",
   "execution_count": 28,
   "metadata": {},
   "outputs": [],
   "source": [
    "df_wac = df_wac.join(df_temp.set_index('pdf_name'), \n",
    "                     how='left', on='pdf_name')"
   ]
  },
  {
   "cell_type": "code",
   "execution_count": 29,
   "metadata": {},
   "outputs": [
    {
     "name": "stdout",
     "output_type": "stream",
     "text": [
      "963\n"
     ]
    },
    {
     "data": {
      "text/plain": [
       "Infection Control                                                                       190\n",
       "Quality of Care                                                                         166\n",
       "Administration                                                                          128\n",
       "Nursing Services                                                                        122\n",
       "Resident Rights                                                                          88\n",
       "Resident Assessment and Plan of Care                                                     64\n",
       "Quality of Life                                                                          54\n",
       "Specialized Habilitative and Rehabilitative Services                                     35\n",
       "Admission, Transfer and Discharge                                                        27\n",
       "NaN                                                                                      22\n",
       "Preadmission Screening and Resident Review (PASRR) in Medicaid Certified Facilities.     18\n",
       "Resident Care Unit                                                                        8\n",
       "General                                                                                   7\n",
       "Miscellaneous Services                                                                    6\n",
       "Dementia Care Unit                                                                        5\n",
       "Physician Services                                                                        3\n",
       "Licensed Bed Capacity, Relocation of Residents and License Relinquishment                 3\n",
       "Safety                                                                                    3\n",
       "Dining, Dayrooms, and Resident Activity Areas                                             2\n",
       "Management Agreements and Changes of Ownership                                            2\n",
       "New Construction Documents                                                                2\n",
       "Resident Rooms                                                                            2\n",
       "Lighting and Electrical                                                                   1\n",
       "Definitions                                                                               1\n",
       "Resident Room Equipment                                                                   1\n",
       "Pest Control and Sewage and Waste Disposal                                                1\n",
       "Food Services Areas                                                                       1\n",
       "Resident Toilet and Bathing Facilities                                                    1\n",
       "Name: section, dtype: int64"
      ]
     },
     "execution_count": 29,
     "metadata": {},
     "output_type": "execute_result"
    }
   ],
   "source": [
    "print(df_wac['section'].value_counts(dropna=False).sum())\n",
    "df_wac['section'].value_counts(dropna=False)"
   ]
  },
  {
   "cell_type": "code",
   "execution_count": 32,
   "metadata": {},
   "outputs": [],
   "source": [
    "del(df_temp)\n",
    "df_temp = df_wac[df_wac['section'] == 'Infection Control']"
   ]
  },
  {
   "cell_type": "code",
   "execution_count": 51,
   "metadata": {},
   "outputs": [
    {
     "name": "stdout",
     "output_type": "stream",
     "text": [
      "190\n",
      "100\n"
     ]
    },
    {
     "data": {
      "text/plain": [
       "Tacoma Nursing and Rehabilitation Center              10\n",
       "FRANKE TOBEY JONES                                     6\n",
       "Alaska Gardens Health and Rehabilitation Center        4\n",
       "Regency Olympia Rehabilitation And Nursing Center      4\n",
       "AVALON CARE CENTER - OTHELLO, LLC                      4\n",
       "WOODLAND CONVALESCENT CENTER                           4\n",
       "Advanced Post Acute                                    4\n",
       "LIFE CARE CENTER OF RICHLAND                           4\n",
       "BEACON HILL REHABILITATION                             3\n",
       "Vancouver Specialty and Rehabilitative Care            3\n",
       "AVAMERE OLYMPIC REHABILITATION OF SEQUIM               3\n",
       "PACIFIC CARE AND REHABILITATION                        3\n",
       "Sequim Health & Rehabilitation Center                  3\n",
       "COLVILLE TRIBAL CONVALESCENT CENTER                    3\n",
       "Good Samaritan Society - Stafholt                      3\n",
       "PUYALLUP NURSING AND REHABILITATION CENTER             3\n",
       "Manor Care Health Services (Tacoma)                    3\n",
       "PROVIDENCE MARIANWOOD                                  3\n",
       "SHARON CARE CENTER                                     3\n",
       "GRAYS HARBOR HEALTH & REHABILITATION CENTER            3\n",
       "Forest Ridge Health & Rehabilitation Center            3\n",
       "Riverside Nursing & Rehabilitation Center              3\n",
       "Bainbridge Island Health and Rehabilitation Center     2\n",
       "The Oaks at Lakewood                                   2\n",
       "Sunshine Health & Rehab                                2\n",
       "EMERALD CARE                                           2\n",
       "GOOD SAMARITAN HEALTH CARE CENTER                      2\n",
       "BRIARWOOD AT TIMBER RIDGE                              2\n",
       "Soundview Rehabilitation and Health Care Inc           2\n",
       "HEARTWOOD EXTENDED HEALTH CARE                         2\n",
       "Name: nf_name, dtype: int64"
      ]
     },
     "execution_count": 51,
     "metadata": {},
     "output_type": "execute_result"
    }
   ],
   "source": [
    "print(df_temp['nf_name'].value_counts(dropna=False).sum())\n",
    "print(df_temp['nf_name'].nunique())\n",
    "df_temp['nf_name'].value_counts(dropna=False).head(30)"
   ]
  },
  {
   "cell_type": "code",
   "execution_count": 50,
   "metadata": {},
   "outputs": [],
   "source": [
    "pd.DataFrame(df_temp['nf_name'].value_counts(dropna=False)).to_csv('../output_data/infection_control_violations_by_facility.csv')"
   ]
  },
  {
   "cell_type": "code",
   "execution_count": null,
   "metadata": {},
   "outputs": [],
   "source": []
  }
 ],
 "metadata": {
  "kernelspec": {
   "display_name": "Python 3",
   "language": "python",
   "name": "python3"
  },
  "language_info": {
   "codemirror_mode": {
    "name": "ipython",
    "version": 3
   },
   "file_extension": ".py",
   "mimetype": "text/x-python",
   "name": "python",
   "nbconvert_exporter": "python",
   "pygments_lexer": "ipython3",
   "version": "3.7.7"
  }
 },
 "nbformat": 4,
 "nbformat_minor": 4
}
