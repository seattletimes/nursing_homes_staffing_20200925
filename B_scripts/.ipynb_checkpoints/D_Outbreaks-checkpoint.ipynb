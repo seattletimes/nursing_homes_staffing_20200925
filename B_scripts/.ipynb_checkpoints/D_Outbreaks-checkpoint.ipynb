{
 "cells": [
  {
   "cell_type": "markdown",
   "metadata": {},
   "source": [
    "# What this script does"
   ]
  },
  {
   "cell_type": "markdown",
   "metadata": {},
   "source": [
    "Process the data on COVID cases and deaths by facility."
   ]
  },
  {
   "cell_type": "markdown",
   "metadata": {},
   "source": [
    "# I. Settings"
   ]
  },
  {
   "cell_type": "code",
   "execution_count": 1,
   "metadata": {},
   "outputs": [],
   "source": [
    "import pandas as pd\n",
    "pd.set_option('display.max_colwidth', None)\n",
    "pd.set_option('display.max_columns', None)"
   ]
  },
  {
   "cell_type": "markdown",
   "metadata": {},
   "source": [
    "# II. Data"
   ]
  },
  {
   "cell_type": "markdown",
   "metadata": {},
   "source": [
    "### Import"
   ]
  },
  {
   "cell_type": "code",
   "execution_count": 2,
   "metadata": {},
   "outputs": [],
   "source": [
    "df_ob_orig = pd.read_excel('../A_source_data/DSHS/2020-9-15--Nursing Home Outbreaks By Facility.xlsx',\n",
    "                                  sheet_name='Prioritization_Input_Full_2020_',\n",
    "                                  header=0, usecols='A:F')\n",
    "\n",
    "df_ob_map_orig = pd.read_csv('../A_source_data/DSHS/outbreaks_mapping_table.csv')"
   ]
  },
  {
   "cell_type": "markdown",
   "metadata": {},
   "source": [
    "### Process"
   ]
  },
  {
   "cell_type": "markdown",
   "metadata": {},
   "source": [
    "Outbreaks dataset"
   ]
  },
  {
   "cell_type": "code",
   "execution_count": 3,
   "metadata": {},
   "outputs": [],
   "source": [
    "# Create working copies\n",
    "df_ob = df_ob_orig.copy()\n",
    "df_ob_map = df_ob_map_orig.copy()\n",
    "\n",
    "# Reduce\n",
    "df_ob = df_ob[df_ob['Facility_Type']=='NF']\n",
    "df_ob = df_ob.drop(['Facility_Type','License_Number'], axis=1).reset_index(drop=True)\n",
    "# Rename columns\n",
    "df_ob.columns = ['facility_name','beds','cases','deaths']\n",
    "# New variables\n",
    "df_ob['link'] = df_ob['facility_name'].str.lower().str.strip()\n",
    "df_ob['case_rate'] = df_ob['cases']/df_ob['beds']\n",
    "df_ob['death_rate'] = df_ob['deaths']/df_ob['beds']\n",
    "# Set link\n",
    "df_ob = df_ob.set_index(['link'])"
   ]
  },
  {
   "cell_type": "markdown",
   "metadata": {},
   "source": [
    "Mapping table (It inserts the facility federal numbers)"
   ]
  },
  {
   "cell_type": "code",
   "execution_count": 4,
   "metadata": {},
   "outputs": [],
   "source": [
    "df_ob_map = df_ob_map.set_index(['link'])"
   ]
  },
  {
   "cell_type": "markdown",
   "metadata": {},
   "source": [
    "Join"
   ]
  },
  {
   "cell_type": "code",
   "execution_count": 5,
   "metadata": {},
   "outputs": [
    {
     "data": {
      "text/html": [
       "<div>\n",
       "<style scoped>\n",
       "    .dataframe tbody tr th:only-of-type {\n",
       "        vertical-align: middle;\n",
       "    }\n",
       "\n",
       "    .dataframe tbody tr th {\n",
       "        vertical-align: top;\n",
       "    }\n",
       "\n",
       "    .dataframe thead th {\n",
       "        text-align: right;\n",
       "    }\n",
       "</style>\n",
       "<table border=\"1\" class=\"dataframe\">\n",
       "  <thead>\n",
       "    <tr style=\"text-align: right;\">\n",
       "      <th></th>\n",
       "      <th>federal_num</th>\n",
       "      <th>facility_name</th>\n",
       "      <th>beds</th>\n",
       "      <th>cases</th>\n",
       "      <th>deaths</th>\n",
       "      <th>case_rate</th>\n",
       "      <th>death_rate</th>\n",
       "    </tr>\n",
       "  </thead>\n",
       "  <tbody>\n",
       "    <tr>\n",
       "      <th>0</th>\n",
       "      <td>505098</td>\n",
       "      <td>Shuksan Rehabilitation And Health Care</td>\n",
       "      <td>52</td>\n",
       "      <td>74</td>\n",
       "      <td>15</td>\n",
       "      <td>1.423077</td>\n",
       "      <td>0.288462</td>\n",
       "    </tr>\n",
       "    <tr>\n",
       "      <th>1</th>\n",
       "      <td>505263</td>\n",
       "      <td>Prestige Post-Acute And Rehab Center - Kittitas</td>\n",
       "      <td>74</td>\n",
       "      <td>102</td>\n",
       "      <td>15</td>\n",
       "      <td>1.378378</td>\n",
       "      <td>0.202703</td>\n",
       "    </tr>\n",
       "    <tr>\n",
       "      <th>2</th>\n",
       "      <td>505463</td>\n",
       "      <td>Sunrise View Convalescent Center</td>\n",
       "      <td>59</td>\n",
       "      <td>79</td>\n",
       "      <td>15</td>\n",
       "      <td>1.338983</td>\n",
       "      <td>0.254237</td>\n",
       "    </tr>\n",
       "    <tr>\n",
       "      <th>3</th>\n",
       "      <td>505265</td>\n",
       "      <td>Emerald Care</td>\n",
       "      <td>82</td>\n",
       "      <td>99</td>\n",
       "      <td>5</td>\n",
       "      <td>1.207317</td>\n",
       "      <td>0.060976</td>\n",
       "    </tr>\n",
       "    <tr>\n",
       "      <th>4</th>\n",
       "      <td>505010</td>\n",
       "      <td>Garden Village</td>\n",
       "      <td>101</td>\n",
       "      <td>119</td>\n",
       "      <td>16</td>\n",
       "      <td>1.178218</td>\n",
       "      <td>0.158416</td>\n",
       "    </tr>\n",
       "    <tr>\n",
       "      <th>...</th>\n",
       "      <td>...</td>\n",
       "      <td>...</td>\n",
       "      <td>...</td>\n",
       "      <td>...</td>\n",
       "      <td>...</td>\n",
       "      <td>...</td>\n",
       "      <td>...</td>\n",
       "    </tr>\n",
       "    <tr>\n",
       "      <th>204</th>\n",
       "      <td>505531</td>\n",
       "      <td>Heron'S Key</td>\n",
       "      <td>30</td>\n",
       "      <td>0</td>\n",
       "      <td>0</td>\n",
       "      <td>0.000000</td>\n",
       "      <td>0.000000</td>\n",
       "    </tr>\n",
       "    <tr>\n",
       "      <th>205</th>\n",
       "      <td>50A263</td>\n",
       "      <td>Lakeland Village Nursing Facility</td>\n",
       "      <td>93</td>\n",
       "      <td>0</td>\n",
       "      <td>0</td>\n",
       "      <td>0.000000</td>\n",
       "      <td>0.000000</td>\n",
       "    </tr>\n",
       "    <tr>\n",
       "      <th>206</th>\n",
       "      <td>505306</td>\n",
       "      <td>Life Care Center Of Port Townsend</td>\n",
       "      <td>94</td>\n",
       "      <td>0</td>\n",
       "      <td>0</td>\n",
       "      <td>0.000000</td>\n",
       "      <td>0.000000</td>\n",
       "    </tr>\n",
       "    <tr>\n",
       "      <th>207</th>\n",
       "      <td>505525</td>\n",
       "      <td>Manor Care Health Services - Lacey</td>\n",
       "      <td>120</td>\n",
       "      <td>0</td>\n",
       "      <td>0</td>\n",
       "      <td>0.000000</td>\n",
       "      <td>0.000000</td>\n",
       "    </tr>\n",
       "    <tr>\n",
       "      <th>208</th>\n",
       "      <td>50A261</td>\n",
       "      <td>Yakima Valley School</td>\n",
       "      <td>160</td>\n",
       "      <td>0</td>\n",
       "      <td>0</td>\n",
       "      <td>0.000000</td>\n",
       "      <td>0.000000</td>\n",
       "    </tr>\n",
       "  </tbody>\n",
       "</table>\n",
       "<p>209 rows × 7 columns</p>\n",
       "</div>"
      ],
      "text/plain": [
       "    federal_num                                    facility_name  beds  cases  \\\n",
       "0        505098           Shuksan Rehabilitation And Health Care    52     74   \n",
       "1        505263  Prestige Post-Acute And Rehab Center - Kittitas    74    102   \n",
       "2        505463                 Sunrise View Convalescent Center    59     79   \n",
       "3        505265                                     Emerald Care    82     99   \n",
       "4        505010                                   Garden Village   101    119   \n",
       "..          ...                                              ...   ...    ...   \n",
       "204      505531                                      Heron'S Key    30      0   \n",
       "205      50A263                Lakeland Village Nursing Facility    93      0   \n",
       "206      505306                Life Care Center Of Port Townsend    94      0   \n",
       "207      505525               Manor Care Health Services - Lacey   120      0   \n",
       "208      50A261                             Yakima Valley School   160      0   \n",
       "\n",
       "     deaths  case_rate  death_rate  \n",
       "0        15   1.423077    0.288462  \n",
       "1        15   1.378378    0.202703  \n",
       "2        15   1.338983    0.254237  \n",
       "3         5   1.207317    0.060976  \n",
       "4        16   1.178218    0.158416  \n",
       "..      ...        ...         ...  \n",
       "204       0   0.000000    0.000000  \n",
       "205       0   0.000000    0.000000  \n",
       "206       0   0.000000    0.000000  \n",
       "207       0   0.000000    0.000000  \n",
       "208       0   0.000000    0.000000  \n",
       "\n",
       "[209 rows x 7 columns]"
      ]
     },
     "execution_count": 5,
     "metadata": {},
     "output_type": "execute_result"
    }
   ],
   "source": [
    "df_ob = df_ob.join(df_ob_map, how='left')\n",
    "df_ob = df_ob.sort_values(['case_rate'], ascending=False)\n",
    "df_ob = df_ob.reset_index(drop=True)\n",
    "\n",
    "# Rearange columns\n",
    "cols = list(df_ob.columns)\n",
    "cols = [cols[-1]] + cols[:-1]\n",
    "df_ob = df_ob[cols]\n",
    "df_ob"
   ]
  },
  {
   "cell_type": "code",
   "execution_count": 6,
   "metadata": {},
   "outputs": [],
   "source": [
    "df_ob.to_csv('../C_output_data/outbreaks.csv', index=False)"
   ]
  }
 ],
 "metadata": {
  "kernelspec": {
   "display_name": "Python 3",
   "language": "python",
   "name": "python3"
  },
  "language_info": {
   "codemirror_mode": {
    "name": "ipython",
    "version": 3
   },
   "file_extension": ".py",
   "mimetype": "text/x-python",
   "name": "python",
   "nbconvert_exporter": "python",
   "pygments_lexer": "ipython3",
   "version": "3.7.7"
  }
 },
 "nbformat": 4,
 "nbformat_minor": 4
}
