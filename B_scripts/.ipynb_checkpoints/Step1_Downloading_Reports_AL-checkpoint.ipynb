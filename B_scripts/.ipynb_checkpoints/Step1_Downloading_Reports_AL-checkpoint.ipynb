{
 "cells": [
  {
   "cell_type": "markdown",
   "metadata": {},
   "source": [
    "# 1. Settings"
   ]
  },
  {
   "cell_type": "code",
   "execution_count": 1,
   "metadata": {},
   "outputs": [],
   "source": [
    "import pandas as pd\n",
    "import requests\n",
    "import bs4\n",
    "import re\n",
    "import time\n",
    "from os import listdir\n",
    "from PyPDF2 import PdfFileReader"
   ]
  },
  {
   "cell_type": "markdown",
   "metadata": {},
   "source": [
    "# 2. Metadata file"
   ]
  },
  {
   "cell_type": "markdown",
   "metadata": {},
   "source": [
    "The Department of Social and Health Services's [assisted living facilities locator](https://fortress.wa.gov/dshs/adsaapps/lookup/bhpublookup.aspx) provides a CSV file that contails the metadata of all the available PDF reports for **assisted living faciliites**, including the URLs where the are saved down, and therefore where we can download them from.\n",
    "\n",
    "We have already downloaded this file. It is saved down as *source_data/ALF_Listings.csv*"
   ]
  },
  {
   "cell_type": "code",
   "execution_count": 2,
   "metadata": {},
   "outputs": [],
   "source": [
    "# Pull the original data\n",
    "df_orig = pd.read_csv('../source_data/Listings/ALF_Listings.csv')\n",
    "\n",
    "# Create a workable copy of the DF\n",
    "df = df_orig.copy()\n",
    "\n",
    "# Standardize the column names\n",
    "col_names = []\n",
    "for col_name in df.columns:\n",
    "    col_name = re.sub(r'(\\w)([A-Z])', r'\\1_\\2', col_name).lower()\n",
    "    col_name = re.sub('\\s|__', '_', col_name)\n",
    "    col_names.append(col_name)\n",
    "\n",
    "df.columns = col_names"
   ]
  },
  {
   "cell_type": "markdown",
   "metadata": {},
   "source": [
    "## Getting to know the metadata file"
   ]
  },
  {
   "cell_type": "code",
   "execution_count": 3,
   "metadata": {},
   "outputs": [
    {
     "data": {
      "text/html": [
       "<div>\n",
       "<style scoped>\n",
       "    .dataframe tbody tr th:only-of-type {\n",
       "        vertical-align: middle;\n",
       "    }\n",
       "\n",
       "    .dataframe tbody tr th {\n",
       "        vertical-align: top;\n",
       "    }\n",
       "\n",
       "    .dataframe thead th {\n",
       "        text-align: right;\n",
       "    }\n",
       "</style>\n",
       "<table border=\"1\" class=\"dataframe\">\n",
       "  <thead>\n",
       "    <tr style=\"text-align: right;\">\n",
       "      <th></th>\n",
       "      <th>speciality</th>\n",
       "      <th>contract</th>\n",
       "      <th>check_type</th>\n",
       "      <th>license_number</th>\n",
       "      <th>location_number</th>\n",
       "      <th>fac_instance_id</th>\n",
       "      <th>facility_type</th>\n",
       "      <th>facility_name</th>\n",
       "      <th>facility_status</th>\n",
       "      <th>location_address</th>\n",
       "      <th>...</th>\n",
       "      <th>speciality_code</th>\n",
       "      <th>contract_code</th>\n",
       "      <th>facility_po_c</th>\n",
       "      <th>licensed_bed_count</th>\n",
       "      <th>license_expiration_date</th>\n",
       "      <th>check_complete_date</th>\n",
       "      <th>check_type</th>\n",
       "      <th>has_reports?</th>\n",
       "      <th>reports_location</th>\n",
       "      <th>unnamed:_31</th>\n",
       "    </tr>\n",
       "  </thead>\n",
       "  <tbody>\n",
       "    <tr>\n",
       "      <th>0</th>\n",
       "      <td>None</td>\n",
       "      <td>Assisted Living SOW</td>\n",
       "      <td>NaN</td>\n",
       "      <td>2334</td>\n",
       "      <td>60008896</td>\n",
       "      <td>43697</td>\n",
       "      <td>BH</td>\n",
       "      <td>COVENTRY HOUSE</td>\n",
       "      <td>OP</td>\n",
       "      <td>430 N 2nd Ave</td>\n",
       "      <td>...</td>\n",
       "      <td>NaN</td>\n",
       "      <td>1002XP-12</td>\n",
       "      <td>Montemayor, Sarah H.</td>\n",
       "      <td>55</td>\n",
       "      <td>3/31/2021 12:00:00 AM</td>\n",
       "      <td>NaN</td>\n",
       "      <td>NaN</td>\n",
       "      <td>Yes</td>\n",
       "      <td>https://fortress.wa.gov/dshs/adsaapps/lookup/B...</td>\n",
       "      <td>NaN</td>\n",
       "    </tr>\n",
       "    <tr>\n",
       "      <th>1</th>\n",
       "      <td>None</td>\n",
       "      <td>Assisted Living SOW</td>\n",
       "      <td>NaN</td>\n",
       "      <td>1713</td>\n",
       "      <td>60001105</td>\n",
       "      <td>30864</td>\n",
       "      <td>BH</td>\n",
       "      <td>ROSE GARDEN ESTATES</td>\n",
       "      <td>OP</td>\n",
       "      <td>406 S Cascade St</td>\n",
       "      <td>...</td>\n",
       "      <td>NaN</td>\n",
       "      <td>1002XP-12</td>\n",
       "      <td>Semingson, Alice</td>\n",
       "      <td>26</td>\n",
       "      <td>4/30/2020 12:00:00 AM</td>\n",
       "      <td>NaN</td>\n",
       "      <td>NaN</td>\n",
       "      <td>Yes</td>\n",
       "      <td>https://fortress.wa.gov/dshs/adsaapps/lookup/B...</td>\n",
       "      <td>NaN</td>\n",
       "    </tr>\n",
       "    <tr>\n",
       "      <th>2</th>\n",
       "      <td>None</td>\n",
       "      <td>Enhanced Adult Res Care and Ex Comm Svcs</td>\n",
       "      <td>NaN</td>\n",
       "      <td>2039</td>\n",
       "      <td>60009516</td>\n",
       "      <td>39377</td>\n",
       "      <td>BH</td>\n",
       "      <td>AVALON PROGRESSIVE CARE LLC</td>\n",
       "      <td>OP</td>\n",
       "      <td>1937 2ND AVE</td>\n",
       "      <td>...</td>\n",
       "      <td>NaN</td>\n",
       "      <td>1036XP-12</td>\n",
       "      <td>Galles, Carol A.</td>\n",
       "      <td>12</td>\n",
       "      <td>7/31/2020 12:00:00 AM</td>\n",
       "      <td>NaN</td>\n",
       "      <td>NaN</td>\n",
       "      <td>Yes</td>\n",
       "      <td>https://fortress.wa.gov/dshs/adsaapps/lookup/B...</td>\n",
       "      <td>NaN</td>\n",
       "    </tr>\n",
       "    <tr>\n",
       "      <th>3</th>\n",
       "      <td>None</td>\n",
       "      <td>Enhanced Adult Residential Care, Assisted Livi...</td>\n",
       "      <td>NaN</td>\n",
       "      <td>2022</td>\n",
       "      <td>60000693</td>\n",
       "      <td>40054</td>\n",
       "      <td>BH</td>\n",
       "      <td>EVERGREEN ESTATES RETIREMENT &amp; ASSISTED LIVING...</td>\n",
       "      <td>OP</td>\n",
       "      <td>1215 Evergreen Ct</td>\n",
       "      <td>...</td>\n",
       "      <td>NaN</td>\n",
       "      <td>1006XP-12 , 1002XP-12 , 1007XP-12</td>\n",
       "      <td>Camerlo, Peter A.</td>\n",
       "      <td>46</td>\n",
       "      <td>9/30/2020 12:00:00 AM</td>\n",
       "      <td>NaN</td>\n",
       "      <td>NaN</td>\n",
       "      <td>Yes</td>\n",
       "      <td>https://fortress.wa.gov/dshs/adsaapps/lookup/B...</td>\n",
       "      <td>NaN</td>\n",
       "    </tr>\n",
       "    <tr>\n",
       "      <th>4</th>\n",
       "      <td>None</td>\n",
       "      <td>Assisted Living Facility (ALF)</td>\n",
       "      <td>NaN</td>\n",
       "      <td>2154</td>\n",
       "      <td>60008773</td>\n",
       "      <td>41832</td>\n",
       "      <td>BH</td>\n",
       "      <td>Amber Hills</td>\n",
       "      <td>OP</td>\n",
       "      <td>125 N Wamba Rd</td>\n",
       "      <td>...</td>\n",
       "      <td>NaN</td>\n",
       "      <td>1002XP-12</td>\n",
       "      <td>McDaniel, Thomas</td>\n",
       "      <td>44</td>\n",
       "      <td>11/30/2020 12:00:00 AM</td>\n",
       "      <td>NaN</td>\n",
       "      <td>NaN</td>\n",
       "      <td>Yes</td>\n",
       "      <td>https://fortress.wa.gov/dshs/adsaapps/lookup/B...</td>\n",
       "      <td>NaN</td>\n",
       "    </tr>\n",
       "  </tbody>\n",
       "</table>\n",
       "<p>5 rows × 32 columns</p>\n",
       "</div>"
      ],
      "text/plain": [
       "  speciality                                           contract check_type  \\\n",
       "0       None                                Assisted Living SOW        NaN   \n",
       "1       None                                Assisted Living SOW        NaN   \n",
       "2       None           Enhanced Adult Res Care and Ex Comm Svcs        NaN   \n",
       "3       None  Enhanced Adult Residential Care, Assisted Livi...        NaN   \n",
       "4       None                     Assisted Living Facility (ALF)        NaN   \n",
       "\n",
       "   license_number  location_number  fac_instance_id facility_type  \\\n",
       "0            2334         60008896            43697          BH     \n",
       "1            1713         60001105            30864          BH     \n",
       "2            2039         60009516            39377          BH     \n",
       "3            2022         60000693            40054          BH     \n",
       "4            2154         60008773            41832          BH     \n",
       "\n",
       "                                       facility_name facility_status  \\\n",
       "0                                     COVENTRY HOUSE          OP       \n",
       "1                                ROSE GARDEN ESTATES          OP       \n",
       "2                        AVALON PROGRESSIVE CARE LLC          OP       \n",
       "3  EVERGREEN ESTATES RETIREMENT & ASSISTED LIVING...          OP       \n",
       "4                                        Amber Hills          OP       \n",
       "\n",
       "    location_address  ... speciality_code                       contract_code  \\\n",
       "0      430 N 2nd Ave  ...             NaN                          1002XP-12    \n",
       "1   406 S Cascade St  ...             NaN                          1002XP-12    \n",
       "2       1937 2ND AVE  ...             NaN                          1036XP-12    \n",
       "3  1215 Evergreen Ct  ...             NaN  1006XP-12 , 1002XP-12 , 1007XP-12    \n",
       "4     125 N Wamba Rd  ...             NaN                          1002XP-12    \n",
       "\n",
       "           facility_po_c licensed_bed_count license_expiration_date  \\\n",
       "0  Montemayor, Sarah H.                  55   3/31/2021 12:00:00 AM   \n",
       "1      Semingson, Alice                  26   4/30/2020 12:00:00 AM   \n",
       "2      Galles, Carol A.                  12   7/31/2020 12:00:00 AM   \n",
       "3     Camerlo, Peter A.                  46   9/30/2020 12:00:00 AM   \n",
       "4      McDaniel, Thomas                  44  11/30/2020 12:00:00 AM   \n",
       "\n",
       "  check_complete_date check_type has_reports?  \\\n",
       "0                 NaN        NaN          Yes   \n",
       "1                 NaN        NaN          Yes   \n",
       "2                 NaN        NaN          Yes   \n",
       "3                 NaN        NaN          Yes   \n",
       "4                 NaN        NaN          Yes   \n",
       "\n",
       "                                    reports_location unnamed:_31  \n",
       "0  https://fortress.wa.gov/dshs/adsaapps/lookup/B...         NaN  \n",
       "1  https://fortress.wa.gov/dshs/adsaapps/lookup/B...         NaN  \n",
       "2  https://fortress.wa.gov/dshs/adsaapps/lookup/B...         NaN  \n",
       "3  https://fortress.wa.gov/dshs/adsaapps/lookup/B...         NaN  \n",
       "4  https://fortress.wa.gov/dshs/adsaapps/lookup/B...         NaN  \n",
       "\n",
       "[5 rows x 32 columns]"
      ]
     },
     "execution_count": 3,
     "metadata": {},
     "output_type": "execute_result"
    }
   ],
   "source": [
    "df.head()"
   ]
  },
  {
   "cell_type": "markdown",
   "metadata": {},
   "source": [
    "### What field do we use to ID facilities?"
   ]
  },
  {
   "cell_type": "code",
   "execution_count": 4,
   "metadata": {},
   "outputs": [
    {
     "name": "stdout",
     "output_type": "stream",
     "text": [
      "Number of rows = 536\n",
      "Number of unique facility_name = 531\n",
      "Number of unique fac_instance_id = 536\n",
      "Number of unique license_number = 536\n",
      "Number of unique location_number = 536\n"
     ]
    }
   ],
   "source": [
    "num_rows_orig = len(df)\n",
    "\n",
    "print('Number of rows =', num_rows_orig)\n",
    "print('Number of unique facility_name =', df['facility_name'].nunique())\n",
    "print('Number of unique fac_instance_id =', df['fac_instance_id'].nunique())\n",
    "print('Number of unique license_number =', df['license_number'].nunique())\n",
    "print('Number of unique location_number =', df['location_number'].nunique())"
   ]
  },
  {
   "cell_type": "markdown",
   "metadata": {},
   "source": [
    "It seems there are various variables uniquely identify each facility. We will use **fac_instance_id** as the unique ID fore each facility."
   ]
  },
  {
   "cell_type": "markdown",
   "metadata": {},
   "source": [
    "### Subsetting: Only facilities that have reports"
   ]
  },
  {
   "cell_type": "markdown",
   "metadata": {},
   "source": [
    "See how many facilities have reports and how many don't"
   ]
  },
  {
   "cell_type": "code",
   "execution_count": 5,
   "metadata": {},
   "outputs": [
    {
     "data": {
      "text/plain": [
       "Yes    507\n",
       "No      29\n",
       "Name: has_reports?, dtype: int64"
      ]
     },
     "execution_count": 5,
     "metadata": {},
     "output_type": "execute_result"
    }
   ],
   "source": [
    "df['has_reports?'].value_counts(dropna=False)"
   ]
  },
  {
   "cell_type": "code",
   "execution_count": 6,
   "metadata": {},
   "outputs": [
    {
     "data": {
      "text/plain": [
       "Yes    0.945896\n",
       "No     0.054104\n",
       "Name: has_reports?, dtype: float64"
      ]
     },
     "execution_count": 6,
     "metadata": {},
     "output_type": "execute_result"
    }
   ],
   "source": [
    "df['has_reports?'].value_counts(dropna=False, normalize=True)"
   ]
  },
  {
   "cell_type": "markdown",
   "metadata": {},
   "source": [
    "So there are **536** unique assisted living facilities, and **507** (**95%**) of them have reports.\n",
    "\n",
    "Let's break down the dataframe, based on whether a facility has reports or not."
   ]
  },
  {
   "cell_type": "code",
   "execution_count": 7,
   "metadata": {},
   "outputs": [],
   "source": [
    "# Make a DF for the facilities with no reports\n",
    "df_no_reports = df[df['has_reports?'] == 'No']\n",
    "df_no_reports = df_no_reports.reset_index(drop=True)\n",
    "df_no_reports\n",
    "\n",
    "# Filter out from dd_fac those facilities with no reports\n",
    "df = df[df['has_reports?'] == 'Yes']\n",
    "df = df.reset_index(drop=True)"
   ]
  },
  {
   "cell_type": "markdown",
   "metadata": {},
   "source": [
    "### Consistency test"
   ]
  },
  {
   "cell_type": "code",
   "execution_count": 8,
   "metadata": {},
   "outputs": [],
   "source": [
    "# Confirm that the facilities marked as having no reports show no query link\n",
    "assert df_no_reports['reports_location'].str.strip().all() == ''\n",
    "\n",
    "# Confirm no rows were lost during the dataframe split\n",
    "assert len(df) + len(df_no_reports) == num_rows_orig"
   ]
  },
  {
   "cell_type": "markdown",
   "metadata": {},
   "source": [
    "# 3. Downloading the reports"
   ]
  },
  {
   "cell_type": "code",
   "execution_count": null,
   "metadata": {},
   "outputs": [],
   "source": [
    "# As we dowload each report, we will save some of its metadata in this new DF:\n",
    "df_reports = pd.DataFrame(columns = ['facility_name', 'fac_instance_id', 'location_number', 'license_number',\n",
    "                                         'contract', 'pdf_name', 'rep_type', 'rep_date', 'download_record'])\n",
    "\n",
    "pdf_downld_path = '/Volumes/files/COVID19/DSHS_Facility_Reports_Manuel/reports_pdfs/AL_2431/'\n",
    "\n",
    "# Each iteration of this first loop correspond to a single facility\n",
    "for index, row in df.iterrows():\n",
    "\n",
    "    # Send a URL request to the site that contains all the links to each of the reports for a single facility.\n",
    "    page = requests.get(row['reports_location'])\n",
    "    soup = bs4.BeautifulSoup(page.text, 'html.parser')\n",
    "    # The list of links to each of the reports is contained it a 'div' table with id='content_results'\n",
    "    table = soup.find('div', {\"id\": \"content_results\"})\n",
    "    # The following is the list of all the elements that contain the URLs to the PDFs\n",
    "    ls_li = table.find_all('li')\n",
    "\n",
    "    # Each iteration of this second loop corresponds to a single PDF report (from a single facility)\n",
    "    for li in ls_li:\n",
    "\n",
    "        # Send the request for the PDF report\n",
    "        pdf_url = li.find('a').get('href')\n",
    "        pdf = requests.get('https://fortress.wa.gov' + pdf_url)\n",
    "        \n",
    "        # Obtain some metadata from the report\n",
    "        pdf_name = pdf_url.split(\"/\")[-1]\n",
    "        rep_type = re.search('\\d{2}\\/\\d{4}\\s-\\s(.*)$', li.find('a').contents[0]).groups()[0]\n",
    "        rep_date = re.search('(\\d{2}\\/\\d{4})', li.find('a').contents[0]).groups()[0]\n",
    "\n",
    "        # We will not download fire inspection reports this time.\n",
    "        if 'fire' not in rep_type.lower():\n",
    "            # Save down the PDF and name it using 'pdf_name_new' \n",
    "            open(pdf_downld_path + pdf_name, 'wb').write(pdf.content)\n",
    "            # Save the report's metadata in 'df_reports'\n",
    "            new_record = {'facility_name':row['facility_name'], \n",
    "                          'fac_instance_id':row['fac_instance_id'], \n",
    "                          'location_number':row['location_number'], \n",
    "                          'license_number':row['license_number'], \n",
    "                          'contract':row['contract'],\n",
    "                          'pdf_name':pdf_name, \n",
    "                          'rep_type':rep_type, \n",
    "                          'rep_date':rep_date, \n",
    "                          'download_record':time.ctime()}\n",
    "            df_reports = df_reports.append(new_record, ignore_index=True)\n",
    "            del(new_record)\n",
    "        del(pdf_url, pdf, pdf_name, rep_type, rep_date)\n",
    "        time.sleep(3)\n",
    "\n",
    "    del(page, soup, table, ls_li)"
   ]
  },
  {
   "cell_type": "code",
   "execution_count": null,
   "metadata": {},
   "outputs": [],
   "source": [
    "df_reports.to_csv('../output_data/reports_metadata/reports_metadata_alf.csv', index=False)"
   ]
  }
 ],
 "metadata": {
  "kernelspec": {
   "display_name": "Python 3",
   "language": "python",
   "name": "python3"
  },
  "language_info": {
   "codemirror_mode": {
    "name": "ipython",
    "version": 3
   },
   "file_extension": ".py",
   "mimetype": "text/x-python",
   "name": "python",
   "nbconvert_exporter": "python",
   "pygments_lexer": "ipython3",
   "version": "3.7.7"
  }
 },
 "nbformat": 4,
 "nbformat_minor": 4
}
