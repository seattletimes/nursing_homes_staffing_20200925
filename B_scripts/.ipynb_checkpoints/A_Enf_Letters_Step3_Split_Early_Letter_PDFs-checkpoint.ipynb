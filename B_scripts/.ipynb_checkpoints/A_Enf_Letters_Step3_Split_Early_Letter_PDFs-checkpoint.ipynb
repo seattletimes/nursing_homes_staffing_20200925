{
 "cells": [
  {
   "cell_type": "markdown",
   "metadata": {},
   "source": [
    "# What this script does"
   ]
  },
  {
   "cell_type": "markdown",
   "metadata": {},
   "source": [
    "We process 61 of the earliest enforcement letters, corresponsing to January-February of 2017.\n",
    "\n",
    "These letters were not available in the Department of Social and Health Services's [Nursing Home Facilities Locator](https://fortress.wa.gov/dshs/adsaapps/lookup/NHPubLookup.aspx) when we first downloaded them in bulk, because that site only publishes the letters from the previous 3 years, and we ran the download in March 2020. \n",
    "\n",
    "We requested directly to the DSHS for those letters, and they provided them to us. But instead of sending us 61 different PDFs, they sent us all those letters merged into a single massive PDF, which needed to be processed separately from the ones we downloaded. Hence this separate script."
   ]
  },
  {
   "cell_type": "markdown",
   "metadata": {},
   "source": [
    "# Settings"
   ]
  },
  {
   "cell_type": "code",
   "execution_count": 1,
   "metadata": {},
   "outputs": [],
   "source": [
    "import pdfplumber\n",
    "from PyPDF2 import PdfFileWriter, PdfFileReader\n",
    "import pandas as pd\n",
    "import os\n",
    "import re\n",
    "from shutil import copyfile\n",
    "\n",
    "pd.set_option('display.max_columns', None)"
   ]
  },
  {
   "cell_type": "markdown",
   "metadata": {},
   "source": [
    "# Creating single enforcement letters"
   ]
  },
  {
   "cell_type": "markdown",
   "metadata": {},
   "source": [
    "### Find out where each letter begins and where it ends"
   ]
  },
  {
   "cell_type": "markdown",
   "metadata": {},
   "source": [
    "Identify which of the pages in the large PDF file are the cover pages of each individual enforcement letter."
   ]
  },
  {
   "cell_type": "code",
   "execution_count": 2,
   "metadata": {},
   "outputs": [],
   "source": [
    "path = '/Volumes/files/COVID19/Manuel_RCF_Data/State_DSHS/ALTSA_reports/NH_2020_Jan-Feb/'\n",
    "mega_pdf = '202006 PRR 249_Jan-Feb 2017 Nursing Home enforcement letters.pdf'"
   ]
  },
  {
   "cell_type": "code",
   "execution_count": 3,
   "metadata": {},
   "outputs": [],
   "source": [
    "pdf_plum = pdfplumber.open(path + mega_pdf)\n",
    "\n",
    "first_pages = []\n",
    "\n",
    "# This loop will create a list with the index number of the first pages of each letter\n",
    "for pg in pdf_plum.pages:\n",
    "    if 'aging and long-term support administration' in pg.extract_text().lower():\n",
    "        first_pages.append(pg.page_number)"
   ]
  },
  {
   "cell_type": "code",
   "execution_count": 4,
   "metadata": {},
   "outputs": [
    {
     "name": "stdout",
     "output_type": "stream",
     "text": [
      "The large PDF contains 61 enforcement letters.\n",
      " The following list show the index number for the first page of each of those letters:\n",
      "\n",
      "[1, 6, 11, 15, 16, 21, 26, 30, 35, 39, 43, 51, 55, 60, 64, 68, 73, 74, 78, 83, 87, 92, 97, 101, 106, 111, 116, 120, 124, 129, 133, 137, 142, 144, 149, 150, 154, 162, 167, 171, 175, 180, 182, 189, 193, 198, 202, 207, 213, 218, 222, 226, 230, 234, 239, 244, 248, 254, 258, 265, 271]\n"
     ]
    }
   ],
   "source": [
    "print('The large PDF contains', len(first_pages), 'enforcement letters.\\n',\n",
    "     'The following list show the index number for the first page of each of those letters:\\n')\n",
    "print(first_pages)"
   ]
  },
  {
   "cell_type": "markdown",
   "metadata": {},
   "source": [
    "### Break down into individual letters"
   ]
  },
  {
   "cell_type": "markdown",
   "metadata": {},
   "source": [
    "Split the large PDF into several smaller PDFs, each corresponding to a different enforcement letter."
   ]
  },
  {
   "cell_type": "code",
   "execution_count": 5,
   "metadata": {},
   "outputs": [],
   "source": [
    "pdf_reader = PdfFileReader(open(path + mega_pdf, 'rb'))\n",
    "\n",
    "for j in range(len(first_pages)):\n",
    "    output = PdfFileWriter()\n",
    "    \n",
    "    # Was not intelligent enough to deal with the last list item, so took the primitive\n",
    "    # approach and inseted a crude if statement:\n",
    "    if j == len(first_pages)-1: # 60\n",
    "        page_range = range(270,272)\n",
    "    else:\n",
    "        page_range = range(first_pages[j]-1, first_pages[j+1]-1)\n",
    "\n",
    "    # Create a new PDF for each enforcement letter and save it down\n",
    "    for i in page_range:\n",
    "        output.addPage(pdf_reader.getPage(i))\n",
    "    letter =  open(path + 'individual_letters/letter_%s.pdf' % j, 'wb')\n",
    "    output.write(letter)\n",
    "    \n",
    "# Build a list of all the PDFs we created\n",
    "letters = os.listdir(path + 'individual_letters/')\n",
    "letters = [l for l in letters if re.match('.*pdf$', l)]\n",
    "\n",
    "# Consistency test: Confirm we have the number of letters we expected\n",
    "assert len(letters) == len(first_pages)"
   ]
  },
  {
   "cell_type": "markdown",
   "metadata": {},
   "source": [
    "### Rename the letters"
   ]
  },
  {
   "cell_type": "markdown",
   "metadata": {},
   "source": [
    "Rename each enforcement letter, embedding the facility name and the letter date in the PDF title."
   ]
  },
  {
   "cell_type": "code",
   "execution_count": 6,
   "metadata": {},
   "outputs": [
    {
     "data": {
      "text/plain": [
       "'/Volumes/files/COVID19/Manuel_RCF_Data/State_DSHS/ALTSA_reports/NH_2020_Jan-Feb/individual_letters/last_letter.pdf'"
      ]
     },
     "execution_count": 6,
     "metadata": {},
     "output_type": "execute_result"
    }
   ],
   "source": [
    "# For some reason, the last letter ('letter_60.pdf') always ends up corrupted.\n",
    "# We take the primitive approach: We delete it and rebuild/save it down manually from the large PDF.\n",
    "# We named it 'last_letter.pdf'\n",
    "os.remove(path + 'individual_letters/letter_60.pdf')\n",
    "copyfile(path + 'last_letter.pdf', \n",
    "         path + 'individual_letters/last_letter.pdf')"
   ]
  },
  {
   "cell_type": "code",
   "execution_count": 7,
   "metadata": {},
   "outputs": [
    {
     "name": "stdout",
     "output_type": "stream",
     "text": [
      "61\n"
     ]
    }
   ],
   "source": [
    "# Consistency test: Confirm we still have the number of letters we expected\n",
    "del(letters)\n",
    "letters = os.listdir(path + 'individual_letters/')\n",
    "letters = [l for l in letters if re.match('.*pdf$', l)]\n",
    "\n",
    "print(len(letters))\n",
    "assert len(letters) == len(first_pages)"
   ]
  },
  {
   "cell_type": "code",
   "execution_count": 8,
   "metadata": {
    "scrolled": false
   },
   "outputs": [
    {
     "name": "stdout",
     "output_type": "stream",
     "text": [
      "last_letter.pdf | Willapa_Harbor_Health_and_Rehab_February_14_2017.pdf\n",
      "letter_0.pdf | Alaska_Gardens_Health_and_Rehabilitation_Center_February_6_2017.pdf\n",
      "letter_1.pdf | Avamere_Rehabilitation_of_Cascade_Park_February_28_2017.pdf\n",
      "letter_10.pdf | Emerald_Hills_Rehabilitation_March_10_2017.pdf\n",
      "letter_11.pdf | Everett_Center_March_6_2017.pdf\n",
      "letter_12.pdf | Fir_Lane_Health_and_Rehab_February_21_2017.pdf\n",
      "letter_13.pdf | Grays_Harbor_Health_and_Rehabilitation_Center_March_6_2017.pdf\n",
      "letter_14.pdf | Heartwood_Extended_Health_Care_February_27_2017.pdf\n",
      "letter_15.pdf | Highland_Health_and_Rehabilitation_January_5_2017.pdf\n",
      "letter_16.pdf | Josephine_Sunset_Home_March_3_2017.pdf\n",
      "letter_17.pdf | Josephine_Sunset_Home_March_1_2017.pdf\n",
      "letter_18.pdf | Josephine_Sunset_Home_February_2_2017.pdf\n",
      "letter_19.pdf | Josephine_Sunset_Home_January_9_2017.pdf\n",
      "letter_2.pdf | Bremerton_Convalescent_and_Rehabilitation_Center_January_20_2017.pdf\n",
      "letter_20.pdf | Kindred_Transitional_Care_-_Lakewood_February_27_2017.pdf\n",
      "letter_21.pdf | Kindred_Nursing_and_Rehabilitation_-_Arden_March_10_2017.pdf\n",
      "letter_22.pdf | Lakeland_Village_Nursing_Facility_February_7_2017.pdf\n",
      "letter_23.pdf | Landmark_Care_and_Rehabilitation_February_7_2017.pdf\n",
      "letter_24.pdf | Life_Care_Center_of_Mount_Vernon_February_21_2017.pdf\n",
      "letter_25.pdf | Life_Care_of_Kennewick_January_27_2017.pdf\n",
      "letter_26.pdf | Manor_Care_Health_Services_(Gig_Harbor)_January_24_2017.pdf\n",
      "letter_27.pdf | Manor_Care_Health_Services_–_Lynnwood_February_14_2017.pdf\n",
      "letter_28.pdf | Manorcare_Health_Services-_Lacey_February_27_2017.pdf\n",
      "letter_29.pdf | Mirabella_January_23_2017.pdf\n",
      "letter_3.pdf | Bremerton_Convalescent_and_Rehabilitation_Center_January_20_2017.pdf\n",
      "letter_30.pdf | Montesano_Health_and_Rehabilitation_March_7_2017.pdf\n",
      "letter_31.pdf | North_Auburn_Rehab_and_Health_Center_February_9_2017.pdf\n",
      "letter_32.pdf | North_Central_Care_and_Rehabilitation_February_8_2017.pdf\n",
      "letter_33.pdf | Olympia_Transitional_Care_February_10_2017.pdf\n",
      "letter_34.pdf | Pacific_Specialty_and_Rehabilitative_Care_January_23_2017.pdf\n",
      "letter_35.pdf | Panorama_City_Convalescent_and_Rehab_Center_February_16_2017.pdf\n",
      "letter_36.pdf | Paramount_Rehabilitation_and_Nursing_February_23_2017.pdf\n",
      "letter_37.pdf | Prestige_Post_Acute_Care_-_Edmonds_February_1_2017.pdf\n",
      "letter_38.pdf | Prestige_Post_Acute_Care_-_Edmonds_February_27_2017.pdf\n",
      "letter_39.pdf | Providence_Marianwood_February_9_2017.pdf\n",
      "letter_4.pdf | Burien_Nursing_and_Rehabilitation_March_9_2017.pdf\n",
      "letter_40.pdf | Providence_St_Joseph_Care_Center_February_27_2017.pdf\n",
      "letter_41.pdf | Regency_Everett_Rehabilitation_and_Nursing_Services_February_17_2017.pdf\n",
      "letter_42.pdf | Regency_Everett_Rehabilitation_and_Nursing_Services_January_13_2017.pdf\n",
      "letter_43.pdf | Riverside_Nursing_and_Rehabilitation_Center_February_24_2017.pdf\n",
      "letter_44.pdf | Riverside_Nursing_and_Rehabilitation_Center_January_27_2017.pdf\n",
      "letter_45.pdf | Roo-Lan_Healthcare_Center_February_17_2017.pdf\n",
      "letter_46.pdf | Sea_Mar_Community_Care_Center_February_2_2017.pdf\n",
      "letter_47.pdf | Shuksan_Healthcare_Center_March_8_2017.pdf\n",
      "letter_48.pdf | The_Springs_at_Pacific_Regent_February_9_2017.pdf\n",
      "letter_49.pdf | Tekoa_Care_Center_January_13_2017.pdf\n",
      "letter_5.pdf | Colonial_Vista_Post_Acute_and_Rehabilitation_Center_March_2_2017.pdf\n",
      "letter_50.pdf | Tekoa_Care_Center_January_13_2017.pdf\n",
      "letter_51.pdf | Toppenish_Nursing_and_Rehab_Center_February_13_2017.pdf\n",
      "letter_52.pdf | Toppenish_Nursing_and_Rehab_Center_February_27_2017.pdf\n",
      "letter_53.pdf | University_Place_Care_Center_January_30_2017.pdf\n",
      "letter_54.pdf | University_Place_Care_Center_February_17_2017.pdf\n",
      "letter_55.pdf | Washington_Veterans_Home_-_Retsil_February_10_2017.pdf\n",
      "letter_56.pdf | Warm_Beach_Care_Center_February_21_2017.pdf\n",
      "letter_57.pdf | Warm_Beach_Care_Center_December_30_2016.pdf\n",
      "letter_58.pdf | Willapa_Harbor_Health_and_Rehab_February_13_2017.pdf\n",
      "letter_59.pdf | Willapa_Harbor_Health_and_Rehab_February_3_2017.pdf\n",
      "letter_6.pdf | Colville_Tribal_Convalescent_Center_January_12_2017.pdf\n",
      "letter_7.pdf | Colville_Tribal_Convalescent_Center_February_10_2017.pdf\n",
      "letter_8.pdf | Crescent_Health_Care,_Inc._February_15_2017.pdf\n",
      "letter_9.pdf | Emerald_Care_March_8_2017.pdf\n"
     ]
    }
   ],
   "source": [
    "# For each enforcement letter, obtain its date and the nursing home name.\n",
    "# Use both items to rename the letter.\n",
    "for pdf_name in letters: \n",
    "\n",
    "    pdf = pdfplumber.open(path + 'individual_letters/' + pdf_name)\n",
    "    \n",
    "    # Exctract the text from the first page\n",
    "    pg_txt = pdf.pages[0].extract_text()\n",
    "    lines = pg_txt.split('\\n')\n",
    "    lines = [l.strip() for l in lines]\n",
    "\n",
    "    # Obtain the letter date\n",
    "    pattern = '^[A-Za-z]+\\s?\\d{1,2},\\s?\\d{4}'\n",
    "    date = [line for line in lines if re.match(pattern, line.strip())]\n",
    "    date = date[0].replace(',','').replace(' ','_')\n",
    "    \n",
    "    # Obtain the facility name\n",
    "    facility = lines[lines.index('Administrator')+1]\n",
    "    facility = facility.replace(' ','_')\n",
    "\n",
    "    print(pdf_name, '|', facility + '_' + date + '.pdf')\n",
    "    os.rename(path + 'individual_letters/' + pdf_name,\n",
    "              path + 'individual_letters/' + facility + '_' + date + '_' + pdf_name)"
   ]
  },
  {
   "cell_type": "code",
   "execution_count": 9,
   "metadata": {},
   "outputs": [
    {
     "name": "stdout",
     "output_type": "stream",
     "text": [
      "61\n"
     ]
    }
   ],
   "source": [
    "# Consistency test: One last time, confirm we still have the number of letters we expected\n",
    "del(letters)\n",
    "letters = os.listdir(path + 'individual_letters/')\n",
    "letters = [l for l in letters if re.match('.*pdf$', l)]\n",
    "\n",
    "print(len(letters))\n",
    "assert len(letters) == len(first_pages)"
   ]
  },
  {
   "cell_type": "code",
   "execution_count": null,
   "metadata": {},
   "outputs": [],
   "source": []
  }
 ],
 "metadata": {
  "kernelspec": {
   "display_name": "Python 3",
   "language": "python",
   "name": "python3"
  },
  "language_info": {
   "codemirror_mode": {
    "name": "ipython",
    "version": 3
   },
   "file_extension": ".py",
   "mimetype": "text/x-python",
   "name": "python",
   "nbconvert_exporter": "python",
   "pygments_lexer": "ipython3",
   "version": "3.7.7"
  }
 },
 "nbformat": 4,
 "nbformat_minor": 4
}
