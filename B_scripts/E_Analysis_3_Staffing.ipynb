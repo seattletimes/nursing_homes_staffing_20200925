{
 "cells": [
  {
   "cell_type": "markdown",
   "metadata": {},
   "source": [
    "# What this script does"
   ]
  },
  {
   "cell_type": "markdown",
   "metadata": {},
   "source": []
  },
  {
   "cell_type": "markdown",
   "metadata": {},
   "source": [
    "# I. SETTINGS"
   ]
  },
  {
   "cell_type": "code",
   "execution_count": 1,
   "metadata": {},
   "outputs": [],
   "source": [
    "import pandas as pd\n",
    "import numpy as np\n",
    "pd.set_option('display.max_colwidth', None)\n",
    "pd.set_option('display.max_columns', None)"
   ]
  },
  {
   "cell_type": "markdown",
   "metadata": {},
   "source": [
    "# II. DATA"
   ]
  },
  {
   "cell_type": "markdown",
   "metadata": {},
   "source": [
    "### Import"
   ]
  },
  {
   "cell_type": "code",
   "execution_count": 2,
   "metadata": {},
   "outputs": [],
   "source": [
    "# Deficiencies (from CMS database)\n",
    "df_sod_orig = pd.read_csv('../C_output_data/sod_wa.csv', \n",
    "                             dtype='object', parse_dates=['inspection_dt'])\n",
    "\n",
    "# Penalties (scraped from the enforcement letter PDFs)\n",
    "df_cmp_orig = pd.read_csv('../C_output_data/scraped_data_v2.csv', \n",
    "                              parse_dates=['letter_dt', 'survey_dt'])\n",
    "\n",
    "# WAC code details\n",
    "df_wac = pd.read_csv('../C_output_data/wac_codes_df_t338c97.csv')\n",
    "\n",
    "# Hours per resident per day\n",
    "df_hprd_orig = pd.read_excel('../A_source_data/DSHS/3.4 HPRD - PBJ Data - Starting Q3 2018 - CURRENT - with federal provider numbers.xlsx',\n",
    "                              sheet_name='PBJ 3.4 HPRD', header=11, usecols='A:M',\n",
    "                              dtype={'Vendor #':np.int32})\n",
    "\n",
    "# COVID Outbreaks\n",
    "df_ob_orig = pd.read_csv('../C_output_data/outbreaks.csv')"
   ]
  },
  {
   "cell_type": "markdown",
   "metadata": {},
   "source": [
    "### Create working copies"
   ]
  },
  {
   "cell_type": "code",
   "execution_count": 3,
   "metadata": {},
   "outputs": [],
   "source": [
    "df_sod = df_sod_orig.copy()\n",
    "df_cmp = df_cmp_orig.copy()\n",
    "df_ob = df_ob_orig.copy()"
   ]
  },
  {
   "cell_type": "markdown",
   "metadata": {},
   "source": [
    "The **df_hprd_orig** dataframe needs a bit of extra work. We will process them later."
   ]
  },
  {
   "cell_type": "markdown",
   "metadata": {},
   "source": [
    "### Facilities mapping table"
   ]
  },
  {
   "cell_type": "code",
   "execution_count": 4,
   "metadata": {},
   "outputs": [
    {
     "data": {
      "text/html": [
       "<div>\n",
       "<style scoped>\n",
       "    .dataframe tbody tr th:only-of-type {\n",
       "        vertical-align: middle;\n",
       "    }\n",
       "\n",
       "    .dataframe tbody tr th {\n",
       "        vertical-align: top;\n",
       "    }\n",
       "\n",
       "    .dataframe thead th {\n",
       "        text-align: right;\n",
       "    }\n",
       "</style>\n",
       "<table border=\"1\" class=\"dataframe\">\n",
       "  <thead>\n",
       "    <tr style=\"text-align: right;\">\n",
       "      <th></th>\n",
       "      <th>facility_name</th>\n",
       "    </tr>\n",
       "    <tr>\n",
       "      <th>facility_id</th>\n",
       "      <th></th>\n",
       "    </tr>\n",
       "  </thead>\n",
       "  <tbody>\n",
       "    <tr>\n",
       "      <th>505004</th>\n",
       "      <td>ISSAQUAH NURSING AND REHABILITATION CENTER</td>\n",
       "    </tr>\n",
       "    <tr>\n",
       "      <th>505009</th>\n",
       "      <td>PARK RIDGE CARE CENTER</td>\n",
       "    </tr>\n",
       "    <tr>\n",
       "      <th>505010</th>\n",
       "      <td>GARDEN VILLAGE</td>\n",
       "    </tr>\n",
       "    <tr>\n",
       "      <th>505016</th>\n",
       "      <td>GRAYS HARBOR HEALTH &amp; REHABILITATION CENTER</td>\n",
       "    </tr>\n",
       "    <tr>\n",
       "      <th>505017</th>\n",
       "      <td>WASHINGTON CARE CENTER</td>\n",
       "    </tr>\n",
       "    <tr>\n",
       "      <th>...</th>\n",
       "      <td>...</td>\n",
       "    </tr>\n",
       "    <tr>\n",
       "      <th>505466</th>\n",
       "      <td>KENNEY, THE</td>\n",
       "    </tr>\n",
       "    <tr>\n",
       "      <th>50A273</th>\n",
       "      <td>WASHINGTON STATE WALLA WALLA VETERANS HOME</td>\n",
       "    </tr>\n",
       "    <tr>\n",
       "      <th>505381</th>\n",
       "      <td>SAN JUAN REHAB AND CARE CENTER</td>\n",
       "    </tr>\n",
       "    <tr>\n",
       "      <th>505332</th>\n",
       "      <td>LIFE CARE CENTER OF THE SAN JUAN ISLANDS</td>\n",
       "    </tr>\n",
       "    <tr>\n",
       "      <th>505521</th>\n",
       "      <td>KINDRED SEATTLE - NORTHGATE</td>\n",
       "    </tr>\n",
       "  </tbody>\n",
       "</table>\n",
       "<p>226 rows × 1 columns</p>\n",
       "</div>"
      ],
      "text/plain": [
       "                                           facility_name\n",
       "facility_id                                             \n",
       "505004        ISSAQUAH NURSING AND REHABILITATION CENTER\n",
       "505009                            PARK RIDGE CARE CENTER\n",
       "505010                                    GARDEN VILLAGE\n",
       "505016       GRAYS HARBOR HEALTH & REHABILITATION CENTER\n",
       "505017                            WASHINGTON CARE CENTER\n",
       "...                                                  ...\n",
       "505466                                       KENNEY, THE\n",
       "50A273        WASHINGTON STATE WALLA WALLA VETERANS HOME\n",
       "505381                    SAN JUAN REHAB AND CARE CENTER\n",
       "505332          LIFE CARE CENTER OF THE SAN JUAN ISLANDS\n",
       "505521                       KINDRED SEATTLE - NORTHGATE\n",
       "\n",
       "[226 rows x 1 columns]"
      ]
     },
     "execution_count": 4,
     "metadata": {},
     "output_type": "execute_result"
    }
   ],
   "source": [
    "df_fac_map = df_sod[['facility_id','facility_name']]\n",
    "df_fac_map = df_fac_map.drop_duplicates().set_index('facility_id')\n",
    "df_fac_map"
   ]
  },
  {
   "cell_type": "markdown",
   "metadata": {},
   "source": [
    "# III. The two aspects: Nurse staffing & HPRD"
   ]
  },
  {
   "cell_type": "markdown",
   "metadata": {},
   "source": [
    "## III.1. Nurse staffing"
   ]
  },
  {
   "cell_type": "markdown",
   "metadata": {},
   "source": [
    "### Deficiencies"
   ]
  },
  {
   "cell_type": "markdown",
   "metadata": {},
   "source": [
    "From the [CMS federal tag list](https://www.cms.gov/Medicare/Provider-Enrollment-and-Certification/GuidanceforLawsAndRegulations/Downloads/List-of-Revised-FTags.pdf), we identified the federal tags that are related to staffing:"
   ]
  },
  {
   "cell_type": "code",
   "execution_count": 5,
   "metadata": {},
   "outputs": [
    {
     "data": {
      "text/html": [
       "<div>\n",
       "<style scoped>\n",
       "    .dataframe tbody tr th:only-of-type {\n",
       "        vertical-align: middle;\n",
       "    }\n",
       "\n",
       "    .dataframe tbody tr th {\n",
       "        vertical-align: top;\n",
       "    }\n",
       "\n",
       "    .dataframe thead th {\n",
       "        text-align: right;\n",
       "    }\n",
       "</style>\n",
       "<table border=\"1\" class=\"dataframe\">\n",
       "  <thead>\n",
       "    <tr style=\"text-align: right;\">\n",
       "      <th></th>\n",
       "      <th>tag</th>\n",
       "      <th>tag_desc</th>\n",
       "    </tr>\n",
       "  </thead>\n",
       "  <tbody>\n",
       "    <tr>\n",
       "      <th>0</th>\n",
       "      <td>725</td>\n",
       "      <td>Sufficient Nursing Staff</td>\n",
       "    </tr>\n",
       "    <tr>\n",
       "      <th>1</th>\n",
       "      <td>726</td>\n",
       "      <td>Competent Nursing Staff</td>\n",
       "    </tr>\n",
       "  </tbody>\n",
       "</table>\n",
       "</div>"
      ],
      "text/plain": [
       "   tag                  tag_desc\n",
       "0  725  Sufficient Nursing Staff\n",
       "1  726   Competent Nursing Staff"
      ]
     },
     "execution_count": 5,
     "metadata": {},
     "output_type": "execute_result"
    }
   ],
   "source": [
    "staff_tags = pd.DataFrame([['725', 'Sufficient Nursing Staff'],\n",
    "                           ['726', 'Competent Nursing Staff']],\n",
    "                          columns=['tag', 'tag_desc'])\n",
    "staff_tags"
   ]
  },
  {
   "cell_type": "code",
   "execution_count": 6,
   "metadata": {},
   "outputs": [],
   "source": [
    "# Reduce to only staff-related deficiency tags\n",
    "df_sod_staff = df_sod[df_sod['tag'].isin(staff_tags['tag'])]\n",
    "\n",
    "# Add the tag descriptions\n",
    "df_sod_staff = df_sod_staff.join(staff_tags.set_index('tag'), on='tag', how='left')\n",
    "\n",
    "df_sod_staff = df_sod_staff.reset_index(drop=True)"
   ]
  },
  {
   "cell_type": "code",
   "execution_count": 7,
   "metadata": {},
   "outputs": [
    {
     "name": "stdout",
     "output_type": "stream",
     "text": [
      "(229, 13)\n",
      "2017-12-12 00:00:00\n",
      "2020-02-26 00:00:00\n",
      "\n",
      "\n",
      "Sufficient Nursing Staff    154\n",
      "Competent Nursing Staff      75\n",
      "Name: tag_desc, dtype: int64\n"
     ]
    }
   ],
   "source": [
    "print(df_sod_staff.shape)\n",
    "print(df_sod_staff['inspection_dt'].min())\n",
    "print(df_sod_staff['inspection_dt'].max())\n",
    "print('\\n')\n",
    "print(df_sod_staff['tag_desc'].value_counts(dropna=False))"
   ]
  },
  {
   "cell_type": "markdown",
   "metadata": {},
   "source": [
    "### Penalties"
   ]
  },
  {
   "cell_type": "markdown",
   "metadata": {},
   "source": [
    "Reduce **df_cmp** to only penalties related to staffing deficiencies ([WAC code 388-97-1080](https://apps.leg.wa.gov/wac/default.aspx?cite=388-97-1080))"
   ]
  },
  {
   "cell_type": "code",
   "execution_count": 8,
   "metadata": {},
   "outputs": [],
   "source": [
    "df_cmp_staff = df_cmp[df_cmp['wac_short']=='388-97-1080']\n",
    "df_cmp_staff = df_cmp_staff.reset_index(drop=True)"
   ]
  },
  {
   "cell_type": "code",
   "execution_count": 9,
   "metadata": {},
   "outputs": [
    {
     "name": "stdout",
     "output_type": "stream",
     "text": [
      "(18, 18)\n",
      "2017-02-07 00:00:00\n",
      "2020-03-16 00:00:00\n"
     ]
    }
   ],
   "source": [
    "print(df_cmp_staff.shape)\n",
    "print(df_cmp_staff['survey_dt'].min())\n",
    "print(df_cmp_staff['survey_dt'].max())"
   ]
  },
  {
   "cell_type": "markdown",
   "metadata": {},
   "source": [
    "The time frame for the penalties data is larger than the one or the deficiencies data. We need to syncronize them."
   ]
  },
  {
   "cell_type": "code",
   "execution_count": 10,
   "metadata": {},
   "outputs": [],
   "source": [
    "start_dt = df_sod_staff['inspection_dt'].min()\n",
    "end_dt = df_sod_staff['inspection_dt'].max()\n",
    "\n",
    "df_cmp_staff = df_cmp_staff[df_cmp_staff['survey_dt']>=start_dt]\n",
    "df_cmp_staff = df_cmp_staff[df_cmp_staff['survey_dt']<=end_dt]"
   ]
  },
  {
   "cell_type": "code",
   "execution_count": 11,
   "metadata": {},
   "outputs": [
    {
     "name": "stdout",
     "output_type": "stream",
     "text": [
      "(11, 18)\n",
      "2018-04-12 00:00:00\n",
      "2020-01-27 00:00:00\n"
     ]
    }
   ],
   "source": [
    "print(df_cmp_staff.shape)\n",
    "print(df_cmp_staff['survey_dt'].min())\n",
    "print(df_cmp_staff['survey_dt'].max())"
   ]
  },
  {
   "cell_type": "markdown",
   "metadata": {},
   "source": [
    "## III.2. HPRD"
   ]
  },
  {
   "cell_type": "markdown",
   "metadata": {},
   "source": [
    "### Deficiencies"
   ]
  },
  {
   "cell_type": "code",
   "execution_count": 12,
   "metadata": {},
   "outputs": [],
   "source": [
    "df_hprd = df_hprd_orig.copy()\n",
    "\n",
    "# # Clean column names\n",
    "df_hprd.columns = df_hprd.columns.str.lower().str.replace(' ','_').str.replace('#','num').str.replace('_total', '')\n",
    "df_hprd.columns = df_hprd.columns.str.replace('_no_don_for_providers_>=61_beds','')\n",
    "\n",
    "# Create a proper quarter date variable\n",
    "df_hprd['year_q'] = pd.to_datetime(df_hprd['year'].astype(str) + 'Q' + df_hprd['quarter'].astype(str)) \n",
    "df_hprd['year_q'] = df_hprd['year_q'] + pd.offsets.QuarterEnd(0)\n",
    "\n",
    "# Data for 2020 is still incomplete, so we leave it out\n",
    "# df_hprd = df_hprd[df_hprd['year_q']>='2018-07-01']\n",
    "df_hprd = df_hprd[df_hprd['year_q']<='2019-12-31']\n",
    "\n",
    "# Drop unnecesary columns\n",
    "df_hprd = df_hprd.drop(['year','quarter','ln','aides','census','behav','num_of_beds','don_hprd'], axis=1)\n",
    "\n",
    "# Save the index to use later, for a consistency test\n",
    "i = df_hprd.index\n",
    "\n",
    "# Divide the datset into two: Before/after 2019-Q3 (The HPRD column changes after that date)\n",
    "df_hprd1 = df_hprd[df_hprd['year_q'] < '2019-09-30']\n",
    "df_hprd2 = df_hprd[df_hprd['year_q'] >= '2019-09-30']\n",
    "\n",
    "# In each dataset, leave only the appropriate HPRD column and rename it\n",
    "df_hprd1 = df_hprd1.drop(['hprd_q_(hb1564)'], axis=1)\n",
    "df_hprd1 = df_hprd1.rename(columns={'hprd_q':'hprd'})\n",
    "\n",
    "df_hprd2 = df_hprd2.drop(['hprd_q'], axis=1)\n",
    "df_hprd2 = df_hprd2.rename(columns={'hprd_q_(hb1564)':'hprd'})\n",
    "\n",
    "# Join back\n",
    "del(df_hprd)\n",
    "df_hprd = pd.concat([df_hprd1,df_hprd2])\n",
    "\n",
    "assert (df_hprd.index == i).all()\n",
    "\n",
    "# 'hprd' is a string series; convert to float\n",
    "df_hprd['hprd'] = df_hprd['hprd'].replace('x', np.nan)\n",
    "df_hprd['hprd'] = df_hprd['hprd'].astype(np.float64)\n",
    "\n",
    "# Build a variable that identifies if a facility went below the minimum number of hours of service\n",
    "df_hprd['below_state'] =  df_hprd['hprd'] < 3.4\n",
    "df_hprd['below_fed'] =  df_hprd['hprd'] < 4.1"
   ]
  },
  {
   "cell_type": "markdown",
   "metadata": {},
   "source": [
    "### Penalties"
   ]
  },
  {
   "cell_type": "markdown",
   "metadata": {},
   "source": [
    "Reduce **df_cmp** to only penalties related to deficiencies in the number of hours per patiet per day ([WAC code 388-97-1090](https://apps.leg.wa.gov/wac/default.aspx?cite=388-97-1090))"
   ]
  },
  {
   "cell_type": "code",
   "execution_count": 13,
   "metadata": {},
   "outputs": [],
   "source": [
    "# Reduce df_cmp to only WACs related to direct care hours\n",
    "df_cmp_hprd = df_cmp[df_cmp['wac_short']=='388-97-1090']\n",
    "\n",
    "# Reduce to dates that are inside 2018Q3-2019Q4\n",
    "df_cmp_hprd = df_cmp_hprd[df_cmp_hprd['survey_dt']>='2018-07-01']\n",
    "df_cmp_hprd = df_cmp_hprd[df_cmp_hprd['survey_dt']<='2019-12-31']\n",
    "\n",
    "df_cmp_hprd = df_cmp_hprd.reset_index(drop=True)"
   ]
  },
  {
   "cell_type": "code",
   "execution_count": 14,
   "metadata": {},
   "outputs": [
    {
     "name": "stdout",
     "output_type": "stream",
     "text": [
      "(13, 18)\n",
      "2019-07-09 00:00:00\n",
      "2019-11-26 00:00:00\n",
      "\n",
      "\n",
      "2019-07-17 00:00:00\n",
      "2020-01-16 00:00:00\n"
     ]
    }
   ],
   "source": [
    "print(df_cmp_hprd.shape)\n",
    "\n",
    "print(df_cmp_hprd['survey_dt'].min())\n",
    "print(df_cmp_hprd['survey_dt'].max())\n",
    "print('\\n')\n",
    "print(df_cmp_hprd['letter_dt'].min())\n",
    "print(df_cmp_hprd['letter_dt'].max())"
   ]
  },
  {
   "cell_type": "markdown",
   "metadata": {},
   "source": [
    "# IV. ANALYSIS"
   ]
  },
  {
   "cell_type": "markdown",
   "metadata": {},
   "source": [
    " "
   ]
  },
  {
   "cell_type": "markdown",
   "metadata": {},
   "source": [
    "## IV.1. HPRD"
   ]
  },
  {
   "cell_type": "markdown",
   "metadata": {},
   "source": [
    "### Deficiencies"
   ]
  },
  {
   "cell_type": "markdown",
   "metadata": {},
   "source": [
    "We have data that shows how many hours per client per day each facility provided each quarter.\n",
    "\n",
    "First, let's find out the number of facilities that provided less than the required minimum number of hours each quarter."
   ]
  },
  {
   "cell_type": "code",
   "execution_count": 15,
   "metadata": {},
   "outputs": [
    {
     "name": "stdout",
     "output_type": "stream",
     "text": [
      "There were 20 individual facilities that fell below that minimum in at least one quarter.\n",
      "\n"
     ]
    },
    {
     "data": {
      "text/plain": [
       "<matplotlib.axes._subplots.AxesSubplot at 0x11ee66950>"
      ]
     },
     "execution_count": 15,
     "metadata": {},
     "output_type": "execute_result"
    },
    {
     "data": {
      "image/png": "[encoded data removed]",
      "text/plain": [
       "<Figure size 432x288 with 1 Axes>"
      ]
     },
     "metadata": {
      "needs_background": "light"
     },
     "output_type": "display_data"
    }
   ],
   "source": [
    "temp = df_hprd[['year_q', 'below_state']]\n",
    "temp = temp.groupby('year_q').sum()\n",
    "\n",
    "print('There were', df_hprd[df_hprd['below_state']]['federal_provider_number'].nunique(),\n",
    "     'individual facilities that fell below that minimum in at least one quarter.\\n')\n",
    "\n",
    "temp.plot(kind='bar', title='Number of facilities below 3.4 HPRD')"
   ]
  },
  {
   "cell_type": "code",
   "execution_count": 16,
   "metadata": {},
   "outputs": [
    {
     "name": "stdout",
     "output_type": "stream",
     "text": [
      "There were 153 individual facilities that fell below that minimum in at least one quarter.\n",
      "\n"
     ]
    },
    {
     "data": {
      "text/plain": [
       "<matplotlib.axes._subplots.AxesSubplot at 0x11e0b3e10>"
      ]
     },
     "execution_count": 16,
     "metadata": {},
     "output_type": "execute_result"
    },
    {
     "data": {
      "image/png": "[encoded data removed]",
      "text/plain": [
       "<Figure size 432x288 with 1 Axes>"
      ]
     },
     "metadata": {
      "needs_background": "light"
     },
     "output_type": "display_data"
    }
   ],
   "source": [
    "temp = df_hprd[['year_q', 'below_fed']]\n",
    "temp = temp.groupby('year_q').sum()\n",
    "\n",
    "print('There were', df_hprd[df_hprd['below_fed']]['federal_provider_number'].nunique(),\n",
    "     'individual facilities that fell below that minimum in at least one quarter.\\n')\n",
    "\n",
    "temp.plot(kind='bar', title='Number of facilities below 4.1 HPRD')"
   ]
  },
  {
   "cell_type": "markdown",
   "metadata": {},
   "source": [
    "### Penalties"
   ]
  },
  {
   "cell_type": "code",
   "execution_count": 17,
   "metadata": {},
   "outputs": [
    {
     "name": "stdout",
     "output_type": "stream",
     "text": [
      "Between 2019-07-17 00:00:00 and 2020-01-16 00:00:00 \n",
      "the DSHS fined 8 facilities a total of $ 0.4 MM for deficiencies related to direct care hours\n",
      "\r\n"
     ]
    },
    {
     "data": {
      "text/plain": [
       "<matplotlib.axes._subplots.AxesSubplot at 0x11e1b9150>"
      ]
     },
     "execution_count": 17,
     "metadata": {},
     "output_type": "execute_result"
    },
    {
     "data": {
      "image/png": "[encoded data removed]",
      "text/plain": [
       "<Figure size 432x288 with 1 Axes>"
      ]
     },
     "metadata": {
      "needs_background": "light"
     },
     "output_type": "display_data"
    }
   ],
   "source": [
    "print('Between', df_cmp_hprd['letter_dt'].min(), 'and', df_cmp_hprd['letter_dt'].max(),\n",
    "      '\\nthe DSHS fined', df_cmp_hprd['manual_cms_number'].nunique(), 'facilities a total of $',\n",
    "      round(df_cmp_hprd['cmp_item'].sum()/1e6,1),'MM',\n",
    "     'for deficiencies related to direct care hours')\n",
    "print('\\r')\n",
    "\n",
    "piv = df_cmp_hprd.pivot_table(index='letter_dt', values='cmp_item', aggfunc='sum', fill_value = 0).resample('M').sum()\n",
    "\n",
    "piv.plot(kind='bar', \n",
    "         title='Penalties for Direct Service Hours Deficiencies (Total = $' + str(df_cmp_hprd['cmp_item'].sum()) + ')')"
   ]
  },
  {
   "cell_type": "markdown",
   "metadata": {},
   "source": [
    "### Facilities"
   ]
  },
  {
   "cell_type": "code",
   "execution_count": 18,
   "metadata": {},
   "outputs": [
    {
     "name": "stdout",
     "output_type": "stream",
     "text": [
      "448888.3599999999\n"
     ]
    },
    {
     "data": {
      "text/html": [
       "<div>\n",
       "<style scoped>\n",
       "    .dataframe tbody tr th:only-of-type {\n",
       "        vertical-align: middle;\n",
       "    }\n",
       "\n",
       "    .dataframe tbody tr th {\n",
       "        vertical-align: top;\n",
       "    }\n",
       "\n",
       "    .dataframe thead th {\n",
       "        text-align: right;\n",
       "    }\n",
       "</style>\n",
       "<table border=\"1\" class=\"dataframe\">\n",
       "  <thead>\n",
       "    <tr style=\"text-align: right;\">\n",
       "      <th></th>\n",
       "      <th>facility_name</th>\n",
       "      <th>num_deficiencies</th>\n",
       "      <th>cmp_item</th>\n",
       "    </tr>\n",
       "  </thead>\n",
       "  <tbody>\n",
       "    <tr>\n",
       "      <th>505240</th>\n",
       "      <td>FOREST RIDGE HEALTH &amp; REHAB</td>\n",
       "      <td>5</td>\n",
       "      <td>238931.59</td>\n",
       "    </tr>\n",
       "    <tr>\n",
       "      <th>505185</th>\n",
       "      <td>CRESTWOOD HEALTH AND REHABILITATION CENTER</td>\n",
       "      <td>4</td>\n",
       "      <td>17707.46</td>\n",
       "    </tr>\n",
       "    <tr>\n",
       "      <th>505151</th>\n",
       "      <td>CASHMERE CARE CENTER</td>\n",
       "      <td>3</td>\n",
       "      <td>2173.25</td>\n",
       "    </tr>\n",
       "    <tr>\n",
       "      <th>505232</th>\n",
       "      <td>WOODLAND CONVALESCENT CENTER</td>\n",
       "      <td>2</td>\n",
       "      <td>96909.62</td>\n",
       "    </tr>\n",
       "    <tr>\n",
       "      <th>505361</th>\n",
       "      <td>AMERICANA HEALTH &amp; REHAB CTR</td>\n",
       "      <td>2</td>\n",
       "      <td>13140.91</td>\n",
       "    </tr>\n",
       "    <tr>\n",
       "      <th>505390</th>\n",
       "      <td>MCKAY HEALTHCARE &amp; REHAB CTR</td>\n",
       "      <td>2</td>\n",
       "      <td>10206.88</td>\n",
       "    </tr>\n",
       "    <tr>\n",
       "      <th>505230</th>\n",
       "      <td>FIR LANE HEALTH AND REHAB CTR</td>\n",
       "      <td>2</td>\n",
       "      <td>NaN</td>\n",
       "    </tr>\n",
       "    <tr>\n",
       "      <th>505503</th>\n",
       "      <td>MONTESANO HEALTH &amp; REHABILITATION</td>\n",
       "      <td>2</td>\n",
       "      <td>NaN</td>\n",
       "    </tr>\n",
       "    <tr>\n",
       "      <th>505306</th>\n",
       "      <td>LIFE CARE CENTER OF PORT TOWNSEND</td>\n",
       "      <td>1</td>\n",
       "      <td>69282.25</td>\n",
       "    </tr>\n",
       "    <tr>\n",
       "      <th>505378</th>\n",
       "      <td>PRESTIGE CARE &amp; REHABILITATION - BURLINGTON</td>\n",
       "      <td>1</td>\n",
       "      <td>536.40</td>\n",
       "    </tr>\n",
       "    <tr>\n",
       "      <th>505085</th>\n",
       "      <td>CRESCENT HEALTH CARE, INC</td>\n",
       "      <td>1</td>\n",
       "      <td>NaN</td>\n",
       "    </tr>\n",
       "    <tr>\n",
       "      <th>505114</th>\n",
       "      <td>GARDENS ON UNIVERSITY, THE</td>\n",
       "      <td>1</td>\n",
       "      <td>NaN</td>\n",
       "    </tr>\n",
       "    <tr>\n",
       "      <th>505140</th>\n",
       "      <td>HIGHLAND HEALTH AND REHABILITATION</td>\n",
       "      <td>1</td>\n",
       "      <td>NaN</td>\n",
       "    </tr>\n",
       "    <tr>\n",
       "      <th>505154</th>\n",
       "      <td>TACOMA NURSING AND REHABILITATION CENTER</td>\n",
       "      <td>1</td>\n",
       "      <td>NaN</td>\n",
       "    </tr>\n",
       "    <tr>\n",
       "      <th>505236</th>\n",
       "      <td>ALDERCREST HEALTH &amp; REHAB CENTER</td>\n",
       "      <td>1</td>\n",
       "      <td>NaN</td>\n",
       "    </tr>\n",
       "    <tr>\n",
       "      <th>505288</th>\n",
       "      <td>PARK ROYAL HEALTH &amp; REHAB CENTER</td>\n",
       "      <td>1</td>\n",
       "      <td>NaN</td>\n",
       "    </tr>\n",
       "    <tr>\n",
       "      <th>505291</th>\n",
       "      <td>RIVERVIEW LUTHERAN RETIREMENT COMMUNITY OF SPOKANE</td>\n",
       "      <td>1</td>\n",
       "      <td>NaN</td>\n",
       "    </tr>\n",
       "    <tr>\n",
       "      <th>505325</th>\n",
       "      <td>BAINBRIDGE ISLAND HEALTH &amp; REHAB CENTER</td>\n",
       "      <td>1</td>\n",
       "      <td>NaN</td>\n",
       "    </tr>\n",
       "    <tr>\n",
       "      <th>505358</th>\n",
       "      <td>RIVERSIDE NURSING &amp; REHAB CTR</td>\n",
       "      <td>1</td>\n",
       "      <td>NaN</td>\n",
       "    </tr>\n",
       "    <tr>\n",
       "      <th>505519</th>\n",
       "      <td>BENSON HEIGHTS REHABILITATION CENTER</td>\n",
       "      <td>1</td>\n",
       "      <td>NaN</td>\n",
       "    </tr>\n",
       "  </tbody>\n",
       "</table>\n",
       "</div>"
      ],
      "text/plain": [
       "                                             facility_name  num_deficiencies  \\\n",
       "505240                         FOREST RIDGE HEALTH & REHAB                 5   \n",
       "505185          CRESTWOOD HEALTH AND REHABILITATION CENTER                 4   \n",
       "505151                                CASHMERE CARE CENTER                 3   \n",
       "505232                        WOODLAND CONVALESCENT CENTER                 2   \n",
       "505361                        AMERICANA HEALTH & REHAB CTR                 2   \n",
       "505390                        MCKAY HEALTHCARE & REHAB CTR                 2   \n",
       "505230                       FIR LANE HEALTH AND REHAB CTR                 2   \n",
       "505503                   MONTESANO HEALTH & REHABILITATION                 2   \n",
       "505306                   LIFE CARE CENTER OF PORT TOWNSEND                 1   \n",
       "505378         PRESTIGE CARE & REHABILITATION - BURLINGTON                 1   \n",
       "505085                           CRESCENT HEALTH CARE, INC                 1   \n",
       "505114                          GARDENS ON UNIVERSITY, THE                 1   \n",
       "505140                  HIGHLAND HEALTH AND REHABILITATION                 1   \n",
       "505154            TACOMA NURSING AND REHABILITATION CENTER                 1   \n",
       "505236                    ALDERCREST HEALTH & REHAB CENTER                 1   \n",
       "505288                    PARK ROYAL HEALTH & REHAB CENTER                 1   \n",
       "505291  RIVERVIEW LUTHERAN RETIREMENT COMMUNITY OF SPOKANE                 1   \n",
       "505325             BAINBRIDGE ISLAND HEALTH & REHAB CENTER                 1   \n",
       "505358                       RIVERSIDE NURSING & REHAB CTR                 1   \n",
       "505519                BENSON HEIGHTS REHABILITATION CENTER                 1   \n",
       "\n",
       "         cmp_item  \n",
       "505240  238931.59  \n",
       "505185   17707.46  \n",
       "505151    2173.25  \n",
       "505232   96909.62  \n",
       "505361   13140.91  \n",
       "505390   10206.88  \n",
       "505230        NaN  \n",
       "505503        NaN  \n",
       "505306   69282.25  \n",
       "505378     536.40  \n",
       "505085        NaN  \n",
       "505114        NaN  \n",
       "505140        NaN  \n",
       "505154        NaN  \n",
       "505236        NaN  \n",
       "505288        NaN  \n",
       "505291        NaN  \n",
       "505325        NaN  \n",
       "505358        NaN  \n",
       "505519        NaN  "
      ]
     },
     "execution_count": 18,
     "metadata": {},
     "output_type": "execute_result"
    }
   ],
   "source": [
    "# Total number of deficiencies per facility federal number\n",
    "temp = df_hprd[df_hprd['below_state']]\n",
    "temp = pd.DataFrame(temp['federal_provider_number'].value_counts(dropna=False))\n",
    "temp.columns = ['num_deficiencies']\n",
    "\n",
    "# Total 1090 fines per facility federal number\n",
    "temp2 = df_cmp_hprd[df_cmp_hprd['survey_dt'] >= '2018-01-01']\n",
    "temp2 = temp2[['manual_cms_number','cmp_item']]\n",
    "temp2 = temp2.groupby(['manual_cms_number']).sum()\n",
    "\n",
    "# Join\n",
    "df_summ_hprd = temp.join(temp2, how='outer')\n",
    "df_summ_hprd = df_summ_hprd.join(df_fac_map, how='left')\n",
    "df_summ_hprd = df_summ_hprd[['facility_name','num_deficiencies','cmp_item']]\n",
    "df_summ_hprd = df_summ_hprd.sort_values(['num_deficiencies','cmp_item'], ascending=False)\n",
    "\n",
    "del(temp, temp2)\n",
    "\n",
    "# Consistency test\n",
    "assert round(df_summ_hprd['cmp_item'].sum()) == round(df_cmp_hprd['cmp_item'].sum())\n",
    "\n",
    "print(df_summ_hprd['cmp_item'].sum())\n",
    "\n",
    "df_summ_hprd"
   ]
  },
  {
   "cell_type": "markdown",
   "metadata": {},
   "source": [
    "## IV.2. Staffing"
   ]
  },
  {
   "cell_type": "markdown",
   "metadata": {},
   "source": [
    "### Deficiencies"
   ]
  },
  {
   "cell_type": "code",
   "execution_count": 19,
   "metadata": {},
   "outputs": [
    {
     "name": "stdout",
     "output_type": "stream",
     "text": [
      "1474\n",
      "217\n"
     ]
    }
   ],
   "source": [
    "temp = df_sod[(df_sod['inspection_dt'] >= df_sod_staff['inspection_dt'].min()) &\n",
    "              (df_sod['inspection_dt'] <= df_sod_staff['inspection_dt'].max())]\n",
    "print(temp['eventid'].nunique())\n",
    "print(temp['facility_id'].nunique())"
   ]
  },
  {
   "cell_type": "code",
   "execution_count": 20,
   "metadata": {},
   "outputs": [
    {
     "name": "stdout",
     "output_type": "stream",
     "text": [
      "Between 2017-12-12 00:00:00 and 2020-02-26 00:00:00 \n",
      "there were 229 CMS staff-related deficiencies found across 118 facilities.\n",
      "\n",
      "Sufficient Nursing Staff    154\n",
      "Competent Nursing Staff      75\n",
      "Name: tag_desc, dtype: int64\n"
     ]
    },
    {
     "data": {
      "text/plain": [
       "<matplotlib.axes._subplots.AxesSubplot at 0x11e198290>"
      ]
     },
     "execution_count": 20,
     "metadata": {},
     "output_type": "execute_result"
    },
    {
     "data": {
      "image/png": "[encoded data removed]",
      "text/plain": [
       "<Figure size 432x288 with 1 Axes>"
      ]
     },
     "metadata": {
      "needs_background": "light"
     },
     "output_type": "display_data"
    }
   ],
   "source": [
    "print('Between', df_sod_staff['inspection_dt'].min(), \n",
    "      'and', df_sod_staff['inspection_dt'].max(),\n",
    "      '\\nthere were', len(df_sod_staff), 'CMS staff-related deficiencies found across', \n",
    "      df_sod_staff['facility_id'].nunique(), 'facilities.\\n')\n",
    "\n",
    "print(df_sod_staff['tag_desc'].value_counts(dropna=False))\n",
    "\n",
    "piv = df_sod_staff.pivot_table(index='inspection_dt', columns='tag_desc', values='facility_id', aggfunc='count', fill_value = 0).resample('M').sum()\n",
    "piv.to_csv('/Users/mvilla/Downloads/deficiencies_timeline_1080.csv')\n",
    "piv.plot(title='Number of Monthly Staff-Related Deficiencies (Total ='+str(len(df_sod_staff))+')')"
   ]
  },
  {
   "cell_type": "markdown",
   "metadata": {},
   "source": [
    "### Penalties"
   ]
  },
  {
   "cell_type": "code",
   "execution_count": 21,
   "metadata": {},
   "outputs": [
    {
     "name": "stdout",
     "output_type": "stream",
     "text": [
      "Between 2018-04-12 00:00:00 and 2020-01-27 00:00:00 \n",
      "the DSHS fined 9 facilities a total of 11500.0 for deficiencies related to nursing services, which include staffing.\n",
      "\r\n"
     ]
    },
    {
     "data": {
      "text/plain": [
       "<matplotlib.axes._subplots.AxesSubplot at 0x1213e0e90>"
      ]
     },
     "execution_count": 21,
     "metadata": {},
     "output_type": "execute_result"
    },
    {
     "data": {
      "image/png": "[encoded data removed]",
      "text/plain": [
       "<Figure size 432x288 with 1 Axes>"
      ]
     },
     "metadata": {
      "needs_background": "light"
     },
     "output_type": "display_data"
    }
   ],
   "source": [
    "print('Between', df_cmp_staff['survey_dt'].min(), 'and', df_cmp_staff['survey_dt'].max(),\n",
    "      '\\nthe DSHS fined', df_cmp_staff['manual_cms_number'].nunique(), 'facilities a total of',\n",
    "      df_cmp_staff['cmp_item'].sum(),\n",
    "     'for deficiencies related to nursing services, which include staffing.')\n",
    "print('\\r')\n",
    "\n",
    "piv = df_cmp_staff.pivot_table(index='letter_dt', values='cmp_item', aggfunc='sum', fill_value = 0).resample('M').sum()\n",
    "piv.to_csv('/Users/mvilla/Downloads/penalties_timeline_1080.csv')\n",
    "piv.plot(kind='bar', \n",
    "         title='Penalties for Direct Service Hours Deficiencies (Total = $' + str(df_cmp_staff['cmp_item'].sum()) + ')')\n",
    "\n"
   ]
  },
  {
   "cell_type": "code",
   "execution_count": 22,
   "metadata": {},
   "outputs": [
    {
     "data": {
      "text/html": [
       "<div>\n",
       "<style scoped>\n",
       "    .dataframe tbody tr th:only-of-type {\n",
       "        vertical-align: middle;\n",
       "    }\n",
       "\n",
       "    .dataframe tbody tr th {\n",
       "        vertical-align: top;\n",
       "    }\n",
       "\n",
       "    .dataframe thead th {\n",
       "        text-align: right;\n",
       "    }\n",
       "</style>\n",
       "<table border=\"1\" class=\"dataframe\">\n",
       "  <thead>\n",
       "    <tr style=\"text-align: right;\">\n",
       "      <th></th>\n",
       "      <th>cmp_item</th>\n",
       "      <th>cmp_agg</th>\n",
       "    </tr>\n",
       "    <tr>\n",
       "      <th>wac_long</th>\n",
       "      <th></th>\n",
       "      <th></th>\n",
       "    </tr>\n",
       "  </thead>\n",
       "  <tbody>\n",
       "    <tr>\n",
       "      <th>388-97-1080(1)</th>\n",
       "      <td>3000.0</td>\n",
       "      <td>0.0</td>\n",
       "    </tr>\n",
       "    <tr>\n",
       "      <th>388-97-1080(3)</th>\n",
       "      <td>5000.0</td>\n",
       "      <td>0.0</td>\n",
       "    </tr>\n",
       "    <tr>\n",
       "      <th>388-97-1080(3)(b)</th>\n",
       "      <td>1000.0</td>\n",
       "      <td>0.0</td>\n",
       "    </tr>\n",
       "    <tr>\n",
       "      <th>388-97-1080(3)(g)</th>\n",
       "      <td>1000.0</td>\n",
       "      <td>0.0</td>\n",
       "    </tr>\n",
       "    <tr>\n",
       "      <th>388-97-1080(8)</th>\n",
       "      <td>1500.0</td>\n",
       "      <td>0.0</td>\n",
       "    </tr>\n",
       "  </tbody>\n",
       "</table>\n",
       "</div>"
      ],
      "text/plain": [
       "                   cmp_item  cmp_agg\n",
       "wac_long                            \n",
       "388-97-1080(1)       3000.0      0.0\n",
       "388-97-1080(3)       5000.0      0.0\n",
       "388-97-1080(3)(b)    1000.0      0.0\n",
       "388-97-1080(3)(g)    1000.0      0.0\n",
       "388-97-1080(8)       1500.0      0.0"
      ]
     },
     "execution_count": 22,
     "metadata": {},
     "output_type": "execute_result"
    }
   ],
   "source": [
    "df_cmp_staff.groupby(['wac_long']).sum()"
   ]
  },
  {
   "cell_type": "code",
   "execution_count": 23,
   "metadata": {},
   "outputs": [
    {
     "data": {
      "text/html": [
       "<div>\n",
       "<style scoped>\n",
       "    .dataframe tbody tr th:only-of-type {\n",
       "        vertical-align: middle;\n",
       "    }\n",
       "\n",
       "    .dataframe tbody tr th {\n",
       "        vertical-align: top;\n",
       "    }\n",
       "\n",
       "    .dataframe thead th {\n",
       "        text-align: right;\n",
       "    }\n",
       "</style>\n",
       "<table border=\"1\" class=\"dataframe\">\n",
       "  <thead>\n",
       "    <tr style=\"text-align: right;\">\n",
       "      <th></th>\n",
       "      <th>facility_name</th>\n",
       "      <th>letter_dt</th>\n",
       "      <th>cmp_item</th>\n",
       "    </tr>\n",
       "  </thead>\n",
       "  <tbody>\n",
       "    <tr>\n",
       "      <th>0</th>\n",
       "      <td>AVALON HEALTH &amp; REHABILITATION CENTER - PASCO</td>\n",
       "      <td>2018-08-16</td>\n",
       "      <td>1000.0</td>\n",
       "    </tr>\n",
       "    <tr>\n",
       "      <th>2</th>\n",
       "      <td>AVAMERE TRANSITIONAL CARE OF PUGET SOUND</td>\n",
       "      <td>2019-03-08</td>\n",
       "      <td>500.0</td>\n",
       "    </tr>\n",
       "    <tr>\n",
       "      <th>1</th>\n",
       "      <td>AVAMERE TRANSITIONAL CARE OF PUGET SOUND</td>\n",
       "      <td>2019-05-03</td>\n",
       "      <td>1000.0</td>\n",
       "    </tr>\n",
       "    <tr>\n",
       "      <th>3</th>\n",
       "      <td>BREMERTON CONVALESCENT &amp; REHABILITATION CENTER</td>\n",
       "      <td>2020-02-04</td>\n",
       "      <td>1000.0</td>\n",
       "    </tr>\n",
       "    <tr>\n",
       "      <th>6</th>\n",
       "      <td>LIFE CARE CENTER OF KENNEWICK</td>\n",
       "      <td>2018-04-26</td>\n",
       "      <td>2000.0</td>\n",
       "    </tr>\n",
       "    <tr>\n",
       "      <th>8</th>\n",
       "      <td>REGENCY CARE CENTER AT MONROE</td>\n",
       "      <td>2018-12-04</td>\n",
       "      <td>500.0</td>\n",
       "    </tr>\n",
       "    <tr>\n",
       "      <th>10</th>\n",
       "      <td>TACOMA NURSING AND REHABILITATION CENTER</td>\n",
       "      <td>2019-12-10</td>\n",
       "      <td>1500.0</td>\n",
       "    </tr>\n",
       "    <tr>\n",
       "      <th>9</th>\n",
       "      <td>TACOMA NURSING AND REHABILITATION CENTER</td>\n",
       "      <td>2020-01-29</td>\n",
       "      <td>1500.0</td>\n",
       "    </tr>\n",
       "    <tr>\n",
       "      <th>11</th>\n",
       "      <td>VIEW RIDGE CARE CENTER</td>\n",
       "      <td>2020-01-29</td>\n",
       "      <td>500.0</td>\n",
       "    </tr>\n",
       "    <tr>\n",
       "      <th>12</th>\n",
       "      <td>WASHINGTON VETERAN HOME-RETSIL</td>\n",
       "      <td>2019-06-24</td>\n",
       "      <td>1000.0</td>\n",
       "    </tr>\n",
       "    <tr>\n",
       "      <th>13</th>\n",
       "      <td>WESLEY HOMES HEALTH CENTER</td>\n",
       "      <td>2019-11-06</td>\n",
       "      <td>1000.0</td>\n",
       "    </tr>\n",
       "  </tbody>\n",
       "</table>\n",
       "</div>"
      ],
      "text/plain": [
       "                                     facility_name  letter_dt  cmp_item\n",
       "0    AVALON HEALTH & REHABILITATION CENTER - PASCO 2018-08-16    1000.0\n",
       "2         AVAMERE TRANSITIONAL CARE OF PUGET SOUND 2019-03-08     500.0\n",
       "1         AVAMERE TRANSITIONAL CARE OF PUGET SOUND 2019-05-03    1000.0\n",
       "3   BREMERTON CONVALESCENT & REHABILITATION CENTER 2020-02-04    1000.0\n",
       "6                    LIFE CARE CENTER OF KENNEWICK 2018-04-26    2000.0\n",
       "8                    REGENCY CARE CENTER AT MONROE 2018-12-04     500.0\n",
       "10        TACOMA NURSING AND REHABILITATION CENTER 2019-12-10    1500.0\n",
       "9         TACOMA NURSING AND REHABILITATION CENTER 2020-01-29    1500.0\n",
       "11                          VIEW RIDGE CARE CENTER 2020-01-29     500.0\n",
       "12                  WASHINGTON VETERAN HOME-RETSIL 2019-06-24    1000.0\n",
       "13                      WESLEY HOMES HEALTH CENTER 2019-11-06    1000.0"
      ]
     },
     "execution_count": 23,
     "metadata": {},
     "output_type": "execute_result"
    }
   ],
   "source": [
    "temp = df_cmp_staff[df_cmp_staff['letter_dt'] >= '2018-01-01']\n",
    "temp = temp[~temp['cmp_item'].isna()][['facility_name', 'letter_dt', 'cmp_item']]\n",
    "temp.sort_values(['facility_name', 'letter_dt'])"
   ]
  },
  {
   "cell_type": "markdown",
   "metadata": {},
   "source": [
    "### Facilities"
   ]
  },
  {
   "cell_type": "code",
   "execution_count": 24,
   "metadata": {},
   "outputs": [
    {
     "name": "stdout",
     "output_type": "stream",
     "text": [
      "2020-02-26 00:00:00\n",
      "2020-01-27 00:00:00\n"
     ]
    }
   ],
   "source": [
    "# Total number of deficiencies per facility federal number\n",
    "temp = df_sod_staff[df_sod_staff['inspection_dt'] >= '2018-01-01']\n",
    "print(temp['inspection_dt'].max())\n",
    "temp = pd.DataFrame(temp['facility_id'].value_counts(dropna=False))\n",
    "temp.columns = ['num_deficiencies']\n",
    "\n",
    "# Total 1080 fines per facility federal number\n",
    "temp2 = df_cmp_staff[df_cmp_staff['survey_dt'] >= '2018-01-01']\n",
    "print(temp2['survey_dt'].max())\n",
    "temp2 = temp2[['manual_cms_number','cmp_item']]\n",
    "temp2 = temp2.groupby(['manual_cms_number']).sum()\n",
    "\n",
    "# Join\n",
    "df_summ_1080 = temp.join(temp2, how='outer')\n",
    "df_summ_1080 = df_summ_1080.join(df_fac_map, how='left')\n",
    "df_summ_1080 = df_summ_1080[['facility_name','num_deficiencies','cmp_item']]\n",
    "df_summ_1080 = df_summ_1080.sort_values(['num_deficiencies'], ascending=False)\n",
    "\n",
    "del(temp, temp2)"
   ]
  },
  {
   "cell_type": "code",
   "execution_count": 25,
   "metadata": {},
   "outputs": [
    {
     "name": "stdout",
     "output_type": "stream",
     "text": [
      "11500.0\n"
     ]
    },
    {
     "data": {
      "text/html": [
       "<div>\n",
       "<style scoped>\n",
       "    .dataframe tbody tr th:only-of-type {\n",
       "        vertical-align: middle;\n",
       "    }\n",
       "\n",
       "    .dataframe tbody tr th {\n",
       "        vertical-align: top;\n",
       "    }\n",
       "\n",
       "    .dataframe thead th {\n",
       "        text-align: right;\n",
       "    }\n",
       "</style>\n",
       "<table border=\"1\" class=\"dataframe\">\n",
       "  <thead>\n",
       "    <tr style=\"text-align: right;\">\n",
       "      <th></th>\n",
       "      <th>facility_name</th>\n",
       "      <th>num_deficiencies</th>\n",
       "      <th>cmp_item</th>\n",
       "    </tr>\n",
       "  </thead>\n",
       "  <tbody>\n",
       "    <tr>\n",
       "      <th>505386</th>\n",
       "      <td>MARYSVILLE CARE CENTER</td>\n",
       "      <td>6.0</td>\n",
       "      <td>NaN</td>\n",
       "    </tr>\n",
       "    <tr>\n",
       "      <th>505185</th>\n",
       "      <td>CRESTWOOD HEALTH AND REHABILITATION CENTER</td>\n",
       "      <td>6.0</td>\n",
       "      <td>NaN</td>\n",
       "    </tr>\n",
       "    <tr>\n",
       "      <th>505507</th>\n",
       "      <td>SHELTON HEALTH &amp; REHAB CENTER</td>\n",
       "      <td>5.0</td>\n",
       "      <td>NaN</td>\n",
       "    </tr>\n",
       "    <tr>\n",
       "      <th>505511</th>\n",
       "      <td>PARAMOUNT REHABILITATION AND NURSING</td>\n",
       "      <td>4.0</td>\n",
       "      <td>NaN</td>\n",
       "    </tr>\n",
       "    <tr>\n",
       "      <th>505230</th>\n",
       "      <td>FIR LANE HEALTH AND REHAB CTR</td>\n",
       "      <td>4.0</td>\n",
       "      <td>NaN</td>\n",
       "    </tr>\n",
       "    <tr>\n",
       "      <th>505473</th>\n",
       "      <td>UNIVERSITY PLACE REHABILITATION CENTER</td>\n",
       "      <td>4.0</td>\n",
       "      <td>NaN</td>\n",
       "    </tr>\n",
       "    <tr>\n",
       "      <th>505276</th>\n",
       "      <td>FRONTIER REHAB &amp; EXTENDED CARE</td>\n",
       "      <td>4.0</td>\n",
       "      <td>NaN</td>\n",
       "    </tr>\n",
       "    <tr>\n",
       "      <th>505491</th>\n",
       "      <td>EVERETT CENTER</td>\n",
       "      <td>4.0</td>\n",
       "      <td>NaN</td>\n",
       "    </tr>\n",
       "    <tr>\n",
       "      <th>505269</th>\n",
       "      <td>VANCOUVER SPECIALTY AND REHAB CARE</td>\n",
       "      <td>3.0</td>\n",
       "      <td>NaN</td>\n",
       "    </tr>\n",
       "    <tr>\n",
       "      <th>505223</th>\n",
       "      <td>AVAMERE BELLINGHAM HEALTH CARE &amp; REHAB SERVICES</td>\n",
       "      <td>3.0</td>\n",
       "      <td>NaN</td>\n",
       "    </tr>\n",
       "    <tr>\n",
       "      <th>505236</th>\n",
       "      <td>ALDERCREST HEALTH &amp; REHAB CENTER</td>\n",
       "      <td>3.0</td>\n",
       "      <td>NaN</td>\n",
       "    </tr>\n",
       "    <tr>\n",
       "      <th>505257</th>\n",
       "      <td>ALDERWOOD MANOR</td>\n",
       "      <td>3.0</td>\n",
       "      <td>NaN</td>\n",
       "    </tr>\n",
       "    <tr>\n",
       "      <th>505260</th>\n",
       "      <td>FORT VANCOUVER POST ACUTE</td>\n",
       "      <td>3.0</td>\n",
       "      <td>NaN</td>\n",
       "    </tr>\n",
       "    <tr>\n",
       "      <th>505262</th>\n",
       "      <td>SHORELINE HEALTH AND REHABILITATION</td>\n",
       "      <td>3.0</td>\n",
       "      <td>NaN</td>\n",
       "    </tr>\n",
       "    <tr>\n",
       "      <th>505496</th>\n",
       "      <td>AVALON CARE CENTER AT NORTHPOINTE</td>\n",
       "      <td>3.0</td>\n",
       "      <td>NaN</td>\n",
       "    </tr>\n",
       "    <tr>\n",
       "      <th>505272</th>\n",
       "      <td>LIFE CARE CENTER OF MOUNT VERNON</td>\n",
       "      <td>3.0</td>\n",
       "      <td>NaN</td>\n",
       "    </tr>\n",
       "    <tr>\n",
       "      <th>505202</th>\n",
       "      <td>TALBOT CENTER FOR REHAB &amp; HEALTHCARE</td>\n",
       "      <td>3.0</td>\n",
       "      <td>NaN</td>\n",
       "    </tr>\n",
       "    <tr>\n",
       "      <th>505488</th>\n",
       "      <td>RICHMOND BEACH REHAB</td>\n",
       "      <td>3.0</td>\n",
       "      <td>NaN</td>\n",
       "    </tr>\n",
       "    <tr>\n",
       "      <th>505483</th>\n",
       "      <td>ALASKA GARDENS HEALTH AND REHABILITATION</td>\n",
       "      <td>3.0</td>\n",
       "      <td>NaN</td>\n",
       "    </tr>\n",
       "    <tr>\n",
       "      <th>505339</th>\n",
       "      <td>REGENCY NORTH BEND REHAB &amp; NURSING CENTER</td>\n",
       "      <td>3.0</td>\n",
       "      <td>NaN</td>\n",
       "    </tr>\n",
       "  </tbody>\n",
       "</table>\n",
       "</div>"
      ],
      "text/plain": [
       "                                          facility_name  num_deficiencies  \\\n",
       "505386                           MARYSVILLE CARE CENTER               6.0   \n",
       "505185       CRESTWOOD HEALTH AND REHABILITATION CENTER               6.0   \n",
       "505507                    SHELTON HEALTH & REHAB CENTER               5.0   \n",
       "505511             PARAMOUNT REHABILITATION AND NURSING               4.0   \n",
       "505230                    FIR LANE HEALTH AND REHAB CTR               4.0   \n",
       "505473           UNIVERSITY PLACE REHABILITATION CENTER               4.0   \n",
       "505276                   FRONTIER REHAB & EXTENDED CARE               4.0   \n",
       "505491                                   EVERETT CENTER               4.0   \n",
       "505269               VANCOUVER SPECIALTY AND REHAB CARE               3.0   \n",
       "505223  AVAMERE BELLINGHAM HEALTH CARE & REHAB SERVICES               3.0   \n",
       "505236                 ALDERCREST HEALTH & REHAB CENTER               3.0   \n",
       "505257                                  ALDERWOOD MANOR               3.0   \n",
       "505260                        FORT VANCOUVER POST ACUTE               3.0   \n",
       "505262              SHORELINE HEALTH AND REHABILITATION               3.0   \n",
       "505496                AVALON CARE CENTER AT NORTHPOINTE               3.0   \n",
       "505272                 LIFE CARE CENTER OF MOUNT VERNON               3.0   \n",
       "505202             TALBOT CENTER FOR REHAB & HEALTHCARE               3.0   \n",
       "505488                             RICHMOND BEACH REHAB               3.0   \n",
       "505483         ALASKA GARDENS HEALTH AND REHABILITATION               3.0   \n",
       "505339        REGENCY NORTH BEND REHAB & NURSING CENTER               3.0   \n",
       "\n",
       "        cmp_item  \n",
       "505386       NaN  \n",
       "505185       NaN  \n",
       "505507       NaN  \n",
       "505511       NaN  \n",
       "505230       NaN  \n",
       "505473       NaN  \n",
       "505276       NaN  \n",
       "505491       NaN  \n",
       "505269       NaN  \n",
       "505223       NaN  \n",
       "505236       NaN  \n",
       "505257       NaN  \n",
       "505260       NaN  \n",
       "505262       NaN  \n",
       "505496       NaN  \n",
       "505272       NaN  \n",
       "505202       NaN  \n",
       "505488       NaN  \n",
       "505483       NaN  \n",
       "505339       NaN  "
      ]
     },
     "execution_count": 25,
     "metadata": {},
     "output_type": "execute_result"
    }
   ],
   "source": [
    "print(df_summ_1080['cmp_item'].sum())\n",
    "df_summ_1080.head(20)"
   ]
  },
  {
   "cell_type": "markdown",
   "metadata": {},
   "source": [
    "Confirm if any of the facilities mentioned in the article were fined during the period 2018Q3-2019Q4"
   ]
  },
  {
   "cell_type": "code",
   "execution_count": 26,
   "metadata": {},
   "outputs": [],
   "source": [
    "mentioned_homes = 'everet|genesis|forest bay|marysville'"
   ]
  },
  {
   "cell_type": "code",
   "execution_count": 27,
   "metadata": {},
   "outputs": [
    {
     "data": {
      "text/html": [
       "<div>\n",
       "<style scoped>\n",
       "    .dataframe tbody tr th:only-of-type {\n",
       "        vertical-align: middle;\n",
       "    }\n",
       "\n",
       "    .dataframe tbody tr th {\n",
       "        vertical-align: top;\n",
       "    }\n",
       "\n",
       "    .dataframe thead th {\n",
       "        text-align: right;\n",
       "    }\n",
       "</style>\n",
       "<table border=\"1\" class=\"dataframe\">\n",
       "  <thead>\n",
       "    <tr style=\"text-align: right;\">\n",
       "      <th></th>\n",
       "      <th>facility_name</th>\n",
       "      <th>num_deficiencies</th>\n",
       "      <th>cmp_item</th>\n",
       "    </tr>\n",
       "  </thead>\n",
       "  <tbody>\n",
       "    <tr>\n",
       "      <th>505386</th>\n",
       "      <td>MARYSVILLE CARE CENTER</td>\n",
       "      <td>6.0</td>\n",
       "      <td>NaN</td>\n",
       "    </tr>\n",
       "    <tr>\n",
       "      <th>505491</th>\n",
       "      <td>EVERETT CENTER</td>\n",
       "      <td>4.0</td>\n",
       "      <td>NaN</td>\n",
       "    </tr>\n",
       "    <tr>\n",
       "      <th>505214</th>\n",
       "      <td>THE OAKS AT FOREST BAY</td>\n",
       "      <td>2.0</td>\n",
       "      <td>NaN</td>\n",
       "    </tr>\n",
       "  </tbody>\n",
       "</table>\n",
       "</div>"
      ],
      "text/plain": [
       "                 facility_name  num_deficiencies  cmp_item\n",
       "505386  MARYSVILLE CARE CENTER               6.0       NaN\n",
       "505491          EVERETT CENTER               4.0       NaN\n",
       "505214  THE OAKS AT FOREST BAY               2.0       NaN"
      ]
     },
     "execution_count": 27,
     "metadata": {},
     "output_type": "execute_result"
    }
   ],
   "source": [
    "df_summ_1080[df_summ_1080['facility_name'].str.lower().str.contains(mentioned_homes)]"
   ]
  },
  {
   "cell_type": "code",
   "execution_count": 28,
   "metadata": {},
   "outputs": [
    {
     "data": {
      "text/plain": [
       "False"
      ]
     },
     "execution_count": 28,
     "metadata": {},
     "output_type": "execute_result"
    }
   ],
   "source": [
    "df_cmp_staff['facility_name'].str.lower().str.contains(mentioned_homes).any()"
   ]
  },
  {
   "cell_type": "code",
   "execution_count": 29,
   "metadata": {},
   "outputs": [
    {
     "data": {
      "text/plain": [
       "False"
      ]
     },
     "execution_count": 29,
     "metadata": {},
     "output_type": "execute_result"
    }
   ],
   "source": [
    "df_cmp_hprd['facility_name'].str.lower().str.contains(mentioned_homes).any()"
   ]
  },
  {
   "cell_type": "code",
   "execution_count": 30,
   "metadata": {},
   "outputs": [
    {
     "data": {
      "text/html": [
       "<div>\n",
       "<style scoped>\n",
       "    .dataframe tbody tr th:only-of-type {\n",
       "        vertical-align: middle;\n",
       "    }\n",
       "\n",
       "    .dataframe tbody tr th {\n",
       "        vertical-align: top;\n",
       "    }\n",
       "\n",
       "    .dataframe thead th {\n",
       "        text-align: right;\n",
       "    }\n",
       "</style>\n",
       "<table border=\"1\" class=\"dataframe\">\n",
       "  <thead>\n",
       "    <tr style=\"text-align: right;\">\n",
       "      <th></th>\n",
       "      <th>facility_name</th>\n",
       "      <th>num_deficiencies</th>\n",
       "      <th>cmp_item</th>\n",
       "    </tr>\n",
       "  </thead>\n",
       "  <tbody>\n",
       "    <tr>\n",
       "      <th>505126</th>\n",
       "      <td>AVALON HEALTH &amp; REHABILITATION CENTER - PASCO</td>\n",
       "      <td>3.0</td>\n",
       "      <td>1000.0</td>\n",
       "    </tr>\n",
       "    <tr>\n",
       "      <th>505362</th>\n",
       "      <td>VIEW RIDGE CARE CENTER</td>\n",
       "      <td>2.0</td>\n",
       "      <td>500.0</td>\n",
       "    </tr>\n",
       "    <tr>\n",
       "      <th>505123</th>\n",
       "      <td>BREMERTON CONVALESCENT &amp; REHABILITATION CENTER</td>\n",
       "      <td>2.0</td>\n",
       "      <td>1000.0</td>\n",
       "    </tr>\n",
       "    <tr>\n",
       "      <th>505154</th>\n",
       "      <td>TACOMA NURSING AND REHABILITATION CENTER</td>\n",
       "      <td>2.0</td>\n",
       "      <td>3000.0</td>\n",
       "    </tr>\n",
       "    <tr>\n",
       "      <th>505517</th>\n",
       "      <td>WASHINGTON VETERAN HOME-RETSIL</td>\n",
       "      <td>1.0</td>\n",
       "      <td>1000.0</td>\n",
       "    </tr>\n",
       "    <tr>\n",
       "      <th>505080</th>\n",
       "      <td>LIFE CARE CENTER OF KENNEWICK</td>\n",
       "      <td>1.0</td>\n",
       "      <td>2000.0</td>\n",
       "    </tr>\n",
       "    <tr>\n",
       "      <th>505350</th>\n",
       "      <td>REGENCY CARE CENTER AT MONROE</td>\n",
       "      <td>1.0</td>\n",
       "      <td>500.0</td>\n",
       "    </tr>\n",
       "    <tr>\n",
       "      <th>505475</th>\n",
       "      <td>WESLEY HOMES HEALTH CENTER</td>\n",
       "      <td>NaN</td>\n",
       "      <td>1000.0</td>\n",
       "    </tr>\n",
       "    <tr>\n",
       "      <th>505529</th>\n",
       "      <td>AVAMERE TRANSITIONAL CARE OF PUGET SOUND</td>\n",
       "      <td>NaN</td>\n",
       "      <td>1500.0</td>\n",
       "    </tr>\n",
       "  </tbody>\n",
       "</table>\n",
       "</div>"
      ],
      "text/plain": [
       "                                         facility_name  num_deficiencies  \\\n",
       "505126   AVALON HEALTH & REHABILITATION CENTER - PASCO               3.0   \n",
       "505362                          VIEW RIDGE CARE CENTER               2.0   \n",
       "505123  BREMERTON CONVALESCENT & REHABILITATION CENTER               2.0   \n",
       "505154        TACOMA NURSING AND REHABILITATION CENTER               2.0   \n",
       "505517                  WASHINGTON VETERAN HOME-RETSIL               1.0   \n",
       "505080                   LIFE CARE CENTER OF KENNEWICK               1.0   \n",
       "505350                   REGENCY CARE CENTER AT MONROE               1.0   \n",
       "505475                      WESLEY HOMES HEALTH CENTER               NaN   \n",
       "505529        AVAMERE TRANSITIONAL CARE OF PUGET SOUND               NaN   \n",
       "\n",
       "        cmp_item  \n",
       "505126    1000.0  \n",
       "505362     500.0  \n",
       "505123    1000.0  \n",
       "505154    3000.0  \n",
       "505517    1000.0  \n",
       "505080    2000.0  \n",
       "505350     500.0  \n",
       "505475    1000.0  \n",
       "505529    1500.0  "
      ]
     },
     "execution_count": 30,
     "metadata": {},
     "output_type": "execute_result"
    }
   ],
   "source": [
    "df_summ_1080[~df_summ_1080['cmp_item'].isna()]"
   ]
  },
  {
   "cell_type": "markdown",
   "metadata": {},
   "source": [
    "# IV. Outbreaks"
   ]
  },
  {
   "cell_type": "code",
   "execution_count": 31,
   "metadata": {},
   "outputs": [
    {
     "data": {
      "text/html": [
       "<div>\n",
       "<style scoped>\n",
       "    .dataframe tbody tr th:only-of-type {\n",
       "        vertical-align: middle;\n",
       "    }\n",
       "\n",
       "    .dataframe tbody tr th {\n",
       "        vertical-align: top;\n",
       "    }\n",
       "\n",
       "    .dataframe thead th {\n",
       "        text-align: right;\n",
       "    }\n",
       "</style>\n",
       "<table border=\"1\" class=\"dataframe\">\n",
       "  <thead>\n",
       "    <tr style=\"text-align: right;\">\n",
       "      <th></th>\n",
       "      <th>federal_num</th>\n",
       "      <th>facility_name</th>\n",
       "      <th>beds</th>\n",
       "      <th>cases</th>\n",
       "      <th>deaths</th>\n",
       "      <th>case_rate</th>\n",
       "      <th>death_rate</th>\n",
       "    </tr>\n",
       "  </thead>\n",
       "  <tbody>\n",
       "    <tr>\n",
       "      <th>171</th>\n",
       "      <td>NaN</td>\n",
       "      <td>Sunrise Haven</td>\n",
       "      <td>8</td>\n",
       "      <td>0</td>\n",
       "      <td>0</td>\n",
       "      <td>0.0</td>\n",
       "      <td>0.0</td>\n",
       "    </tr>\n",
       "    <tr>\n",
       "      <th>200</th>\n",
       "      <td>NaN</td>\n",
       "      <td>Franke Tobey Jones</td>\n",
       "      <td>43</td>\n",
       "      <td>0</td>\n",
       "      <td>0</td>\n",
       "      <td>0.0</td>\n",
       "      <td>0.0</td>\n",
       "    </tr>\n",
       "  </tbody>\n",
       "</table>\n",
       "</div>"
      ],
      "text/plain": [
       "    federal_num       facility_name  beds  cases  deaths  case_rate  \\\n",
       "171         NaN       Sunrise Haven     8      0       0        0.0   \n",
       "200         NaN  Franke Tobey Jones    43      0       0        0.0   \n",
       "\n",
       "     death_rate  \n",
       "171         0.0  \n",
       "200         0.0  "
      ]
     },
     "execution_count": 31,
     "metadata": {},
     "output_type": "execute_result"
    }
   ],
   "source": [
    "df_ob[df_ob['federal_num'].isna()]"
   ]
  },
  {
   "cell_type": "code",
   "execution_count": 32,
   "metadata": {},
   "outputs": [
    {
     "data": {
      "text/html": [
       "<div>\n",
       "<style scoped>\n",
       "    .dataframe tbody tr th:only-of-type {\n",
       "        vertical-align: middle;\n",
       "    }\n",
       "\n",
       "    .dataframe tbody tr th {\n",
       "        vertical-align: top;\n",
       "    }\n",
       "\n",
       "    .dataframe thead th {\n",
       "        text-align: right;\n",
       "    }\n",
       "</style>\n",
       "<table border=\"1\" class=\"dataframe\">\n",
       "  <thead>\n",
       "    <tr style=\"text-align: right;\">\n",
       "      <th></th>\n",
       "      <th>facility_name</th>\n",
       "      <th>beds</th>\n",
       "      <th>cases</th>\n",
       "      <th>deaths</th>\n",
       "      <th>case_rate</th>\n",
       "      <th>death_rate</th>\n",
       "    </tr>\n",
       "    <tr>\n",
       "      <th>federal_num</th>\n",
       "      <th></th>\n",
       "      <th></th>\n",
       "      <th></th>\n",
       "      <th></th>\n",
       "      <th></th>\n",
       "      <th></th>\n",
       "    </tr>\n",
       "  </thead>\n",
       "  <tbody>\n",
       "    <tr>\n",
       "      <th>505098</th>\n",
       "      <td>Shuksan Rehabilitation And Health Care</td>\n",
       "      <td>52</td>\n",
       "      <td>74</td>\n",
       "      <td>15</td>\n",
       "      <td>1.423077</td>\n",
       "      <td>0.288462</td>\n",
       "    </tr>\n",
       "    <tr>\n",
       "      <th>505263</th>\n",
       "      <td>Prestige Post-Acute And Rehab Center - Kittitas</td>\n",
       "      <td>74</td>\n",
       "      <td>102</td>\n",
       "      <td>15</td>\n",
       "      <td>1.378378</td>\n",
       "      <td>0.202703</td>\n",
       "    </tr>\n",
       "    <tr>\n",
       "      <th>505463</th>\n",
       "      <td>Sunrise View Convalescent Center</td>\n",
       "      <td>59</td>\n",
       "      <td>79</td>\n",
       "      <td>15</td>\n",
       "      <td>1.338983</td>\n",
       "      <td>0.254237</td>\n",
       "    </tr>\n",
       "    <tr>\n",
       "      <th>505265</th>\n",
       "      <td>Emerald Care</td>\n",
       "      <td>82</td>\n",
       "      <td>99</td>\n",
       "      <td>5</td>\n",
       "      <td>1.207317</td>\n",
       "      <td>0.060976</td>\n",
       "    </tr>\n",
       "    <tr>\n",
       "      <th>505010</th>\n",
       "      <td>Garden Village</td>\n",
       "      <td>101</td>\n",
       "      <td>119</td>\n",
       "      <td>16</td>\n",
       "      <td>1.178218</td>\n",
       "      <td>0.158416</td>\n",
       "    </tr>\n",
       "    <tr>\n",
       "      <th>...</th>\n",
       "      <td>...</td>\n",
       "      <td>...</td>\n",
       "      <td>...</td>\n",
       "      <td>...</td>\n",
       "      <td>...</td>\n",
       "      <td>...</td>\n",
       "    </tr>\n",
       "    <tr>\n",
       "      <th>505531</th>\n",
       "      <td>Heron'S Key</td>\n",
       "      <td>30</td>\n",
       "      <td>0</td>\n",
       "      <td>0</td>\n",
       "      <td>0.000000</td>\n",
       "      <td>0.000000</td>\n",
       "    </tr>\n",
       "    <tr>\n",
       "      <th>50A263</th>\n",
       "      <td>Lakeland Village Nursing Facility</td>\n",
       "      <td>93</td>\n",
       "      <td>0</td>\n",
       "      <td>0</td>\n",
       "      <td>0.000000</td>\n",
       "      <td>0.000000</td>\n",
       "    </tr>\n",
       "    <tr>\n",
       "      <th>505306</th>\n",
       "      <td>Life Care Center Of Port Townsend</td>\n",
       "      <td>94</td>\n",
       "      <td>0</td>\n",
       "      <td>0</td>\n",
       "      <td>0.000000</td>\n",
       "      <td>0.000000</td>\n",
       "    </tr>\n",
       "    <tr>\n",
       "      <th>505525</th>\n",
       "      <td>Manor Care Health Services - Lacey</td>\n",
       "      <td>120</td>\n",
       "      <td>0</td>\n",
       "      <td>0</td>\n",
       "      <td>0.000000</td>\n",
       "      <td>0.000000</td>\n",
       "    </tr>\n",
       "    <tr>\n",
       "      <th>50A261</th>\n",
       "      <td>Yakima Valley School</td>\n",
       "      <td>160</td>\n",
       "      <td>0</td>\n",
       "      <td>0</td>\n",
       "      <td>0.000000</td>\n",
       "      <td>0.000000</td>\n",
       "    </tr>\n",
       "  </tbody>\n",
       "</table>\n",
       "<p>209 rows × 6 columns</p>\n",
       "</div>"
      ],
      "text/plain": [
       "                                               facility_name  beds  cases  \\\n",
       "federal_num                                                                 \n",
       "505098                Shuksan Rehabilitation And Health Care    52     74   \n",
       "505263       Prestige Post-Acute And Rehab Center - Kittitas    74    102   \n",
       "505463                      Sunrise View Convalescent Center    59     79   \n",
       "505265                                          Emerald Care    82     99   \n",
       "505010                                        Garden Village   101    119   \n",
       "...                                                      ...   ...    ...   \n",
       "505531                                           Heron'S Key    30      0   \n",
       "50A263                     Lakeland Village Nursing Facility    93      0   \n",
       "505306                     Life Care Center Of Port Townsend    94      0   \n",
       "505525                    Manor Care Health Services - Lacey   120      0   \n",
       "50A261                                  Yakima Valley School   160      0   \n",
       "\n",
       "             deaths  case_rate  death_rate  \n",
       "federal_num                                 \n",
       "505098           15   1.423077    0.288462  \n",
       "505263           15   1.378378    0.202703  \n",
       "505463           15   1.338983    0.254237  \n",
       "505265            5   1.207317    0.060976  \n",
       "505010           16   1.178218    0.158416  \n",
       "...             ...        ...         ...  \n",
       "505531            0   0.000000    0.000000  \n",
       "50A263            0   0.000000    0.000000  \n",
       "505306            0   0.000000    0.000000  \n",
       "505525            0   0.000000    0.000000  \n",
       "50A261            0   0.000000    0.000000  \n",
       "\n",
       "[209 rows x 6 columns]"
      ]
     },
     "execution_count": 32,
     "metadata": {},
     "output_type": "execute_result"
    }
   ],
   "source": [
    "df_ob = df_ob.set_index(['federal_num'])\n",
    "df_ob"
   ]
  },
  {
   "cell_type": "code",
   "execution_count": 33,
   "metadata": {},
   "outputs": [
    {
     "data": {
      "text/html": [
       "<div>\n",
       "<style scoped>\n",
       "    .dataframe tbody tr th:only-of-type {\n",
       "        vertical-align: middle;\n",
       "    }\n",
       "\n",
       "    .dataframe tbody tr th {\n",
       "        vertical-align: top;\n",
       "    }\n",
       "\n",
       "    .dataframe thead th {\n",
       "        text-align: right;\n",
       "    }\n",
       "</style>\n",
       "<table border=\"1\" class=\"dataframe\">\n",
       "  <thead>\n",
       "    <tr style=\"text-align: right;\">\n",
       "      <th></th>\n",
       "      <th>facility_name_staff</th>\n",
       "      <th>num_deficiencies</th>\n",
       "      <th>cmp_item</th>\n",
       "      <th>facility_name_out</th>\n",
       "      <th>beds</th>\n",
       "      <th>cases</th>\n",
       "      <th>deaths</th>\n",
       "      <th>case_rate</th>\n",
       "      <th>death_rate</th>\n",
       "    </tr>\n",
       "  </thead>\n",
       "  <tbody>\n",
       "    <tr>\n",
       "      <th>505004</th>\n",
       "      <td>NaN</td>\n",
       "      <td>NaN</td>\n",
       "      <td>NaN</td>\n",
       "      <td>Issaquah Nursing &amp; Rehabilitation Center</td>\n",
       "      <td>140.0</td>\n",
       "      <td>96.0</td>\n",
       "      <td>19.0</td>\n",
       "      <td>0.685714</td>\n",
       "      <td>0.135714</td>\n",
       "    </tr>\n",
       "    <tr>\n",
       "      <th>505009</th>\n",
       "      <td>NaN</td>\n",
       "      <td>NaN</td>\n",
       "      <td>NaN</td>\n",
       "      <td>Park Ridge Care Center</td>\n",
       "      <td>115.0</td>\n",
       "      <td>92.0</td>\n",
       "      <td>20.0</td>\n",
       "      <td>0.800000</td>\n",
       "      <td>0.173913</td>\n",
       "    </tr>\n",
       "    <tr>\n",
       "      <th>505010</th>\n",
       "      <td>GARDEN VILLAGE</td>\n",
       "      <td>1.0</td>\n",
       "      <td>NaN</td>\n",
       "      <td>Garden Village</td>\n",
       "      <td>101.0</td>\n",
       "      <td>119.0</td>\n",
       "      <td>16.0</td>\n",
       "      <td>1.178218</td>\n",
       "      <td>0.158416</td>\n",
       "    </tr>\n",
       "    <tr>\n",
       "      <th>505016</th>\n",
       "      <td>NaN</td>\n",
       "      <td>NaN</td>\n",
       "      <td>NaN</td>\n",
       "      <td>Grays Harbor Health &amp; Rehabilitation Center</td>\n",
       "      <td>105.0</td>\n",
       "      <td>0.0</td>\n",
       "      <td>0.0</td>\n",
       "      <td>0.000000</td>\n",
       "      <td>0.000000</td>\n",
       "    </tr>\n",
       "    <tr>\n",
       "      <th>505017</th>\n",
       "      <td>WASHINGTON CENTER FOR COMPREHE</td>\n",
       "      <td>1.0</td>\n",
       "      <td>NaN</td>\n",
       "      <td>Washington Care Center</td>\n",
       "      <td>165.0</td>\n",
       "      <td>74.0</td>\n",
       "      <td>14.0</td>\n",
       "      <td>0.448485</td>\n",
       "      <td>0.084848</td>\n",
       "    </tr>\n",
       "    <tr>\n",
       "      <th>...</th>\n",
       "      <td>...</td>\n",
       "      <td>...</td>\n",
       "      <td>...</td>\n",
       "      <td>...</td>\n",
       "      <td>...</td>\n",
       "      <td>...</td>\n",
       "      <td>...</td>\n",
       "      <td>...</td>\n",
       "      <td>...</td>\n",
       "    </tr>\n",
       "    <tr>\n",
       "      <th>50A260</th>\n",
       "      <td>NaN</td>\n",
       "      <td>NaN</td>\n",
       "      <td>NaN</td>\n",
       "      <td>Fircrest School Pat N</td>\n",
       "      <td>92.0</td>\n",
       "      <td>0.0</td>\n",
       "      <td>0.0</td>\n",
       "      <td>0.000000</td>\n",
       "      <td>0.000000</td>\n",
       "    </tr>\n",
       "    <tr>\n",
       "      <th>50A261</th>\n",
       "      <td>YAKIMA VALLEY SCHOOL</td>\n",
       "      <td>1.0</td>\n",
       "      <td>NaN</td>\n",
       "      <td>Yakima Valley School</td>\n",
       "      <td>160.0</td>\n",
       "      <td>0.0</td>\n",
       "      <td>0.0</td>\n",
       "      <td>0.000000</td>\n",
       "      <td>0.000000</td>\n",
       "    </tr>\n",
       "    <tr>\n",
       "      <th>50A263</th>\n",
       "      <td>NaN</td>\n",
       "      <td>NaN</td>\n",
       "      <td>NaN</td>\n",
       "      <td>Lakeland Village Nursing Facility</td>\n",
       "      <td>93.0</td>\n",
       "      <td>0.0</td>\n",
       "      <td>0.0</td>\n",
       "      <td>0.000000</td>\n",
       "      <td>0.000000</td>\n",
       "    </tr>\n",
       "    <tr>\n",
       "      <th>NaN</th>\n",
       "      <td>NaN</td>\n",
       "      <td>NaN</td>\n",
       "      <td>NaN</td>\n",
       "      <td>Sunrise Haven</td>\n",
       "      <td>8.0</td>\n",
       "      <td>0.0</td>\n",
       "      <td>0.0</td>\n",
       "      <td>0.000000</td>\n",
       "      <td>0.000000</td>\n",
       "    </tr>\n",
       "    <tr>\n",
       "      <th>NaN</th>\n",
       "      <td>NaN</td>\n",
       "      <td>NaN</td>\n",
       "      <td>NaN</td>\n",
       "      <td>Franke Tobey Jones</td>\n",
       "      <td>43.0</td>\n",
       "      <td>0.0</td>\n",
       "      <td>0.0</td>\n",
       "      <td>0.000000</td>\n",
       "      <td>0.000000</td>\n",
       "    </tr>\n",
       "  </tbody>\n",
       "</table>\n",
       "<p>212 rows × 9 columns</p>\n",
       "</div>"
      ],
      "text/plain": [
       "                   facility_name_staff  num_deficiencies  cmp_item  \\\n",
       "505004                             NaN               NaN       NaN   \n",
       "505009                             NaN               NaN       NaN   \n",
       "505010                  GARDEN VILLAGE               1.0       NaN   \n",
       "505016                             NaN               NaN       NaN   \n",
       "505017  WASHINGTON CENTER FOR COMPREHE               1.0       NaN   \n",
       "...                                ...               ...       ...   \n",
       "50A260                             NaN               NaN       NaN   \n",
       "50A261            YAKIMA VALLEY SCHOOL               1.0       NaN   \n",
       "50A263                             NaN               NaN       NaN   \n",
       "NaN                                NaN               NaN       NaN   \n",
       "NaN                                NaN               NaN       NaN   \n",
       "\n",
       "                                  facility_name_out   beds  cases  deaths  \\\n",
       "505004     Issaquah Nursing & Rehabilitation Center  140.0   96.0    19.0   \n",
       "505009                       Park Ridge Care Center  115.0   92.0    20.0   \n",
       "505010                               Garden Village  101.0  119.0    16.0   \n",
       "505016  Grays Harbor Health & Rehabilitation Center  105.0    0.0     0.0   \n",
       "505017                       Washington Care Center  165.0   74.0    14.0   \n",
       "...                                             ...    ...    ...     ...   \n",
       "50A260                        Fircrest School Pat N   92.0    0.0     0.0   \n",
       "50A261                         Yakima Valley School  160.0    0.0     0.0   \n",
       "50A263            Lakeland Village Nursing Facility   93.0    0.0     0.0   \n",
       "NaN                                   Sunrise Haven    8.0    0.0     0.0   \n",
       "NaN                              Franke Tobey Jones   43.0    0.0     0.0   \n",
       "\n",
       "        case_rate  death_rate  \n",
       "505004   0.685714    0.135714  \n",
       "505009   0.800000    0.173913  \n",
       "505010   1.178218    0.158416  \n",
       "505016   0.000000    0.000000  \n",
       "505017   0.448485    0.084848  \n",
       "...           ...         ...  \n",
       "50A260   0.000000    0.000000  \n",
       "50A261   0.000000    0.000000  \n",
       "50A263   0.000000    0.000000  \n",
       "NaN      0.000000    0.000000  \n",
       "NaN      0.000000    0.000000  \n",
       "\n",
       "[212 rows x 9 columns]"
      ]
     },
     "execution_count": 33,
     "metadata": {},
     "output_type": "execute_result"
    }
   ],
   "source": [
    "staff_v_ob = df_summ_1080.join(df_ob, how='outer', lsuffix='_staff', rsuffix='_out')\n",
    "staff_v_ob.to_csv('/Users/mvilla/Downloads/oubtreaks_vs_1080.csv')\n",
    "staff_v_ob"
   ]
  },
  {
   "cell_type": "code",
   "execution_count": 34,
   "metadata": {},
   "outputs": [
    {
     "data": {
      "text/html": [
       "<div>\n",
       "<style scoped>\n",
       "    .dataframe tbody tr th:only-of-type {\n",
       "        vertical-align: middle;\n",
       "    }\n",
       "\n",
       "    .dataframe tbody tr th {\n",
       "        vertical-align: top;\n",
       "    }\n",
       "\n",
       "    .dataframe thead th {\n",
       "        text-align: right;\n",
       "    }\n",
       "</style>\n",
       "<table border=\"1\" class=\"dataframe\">\n",
       "  <thead>\n",
       "    <tr style=\"text-align: right;\">\n",
       "      <th></th>\n",
       "      <th>facility_name_staff</th>\n",
       "      <th>num_deficiencies</th>\n",
       "      <th>cmp_item</th>\n",
       "      <th>facility_name_out</th>\n",
       "      <th>beds</th>\n",
       "      <th>cases</th>\n",
       "      <th>deaths</th>\n",
       "      <th>case_rate</th>\n",
       "      <th>death_rate</th>\n",
       "    </tr>\n",
       "  </thead>\n",
       "  <tbody>\n",
       "    <tr>\n",
       "      <th>505004</th>\n",
       "      <td>NaN</td>\n",
       "      <td>NaN</td>\n",
       "      <td>NaN</td>\n",
       "      <td>Issaquah Nursing &amp; Rehabilitation Center</td>\n",
       "      <td>140.0</td>\n",
       "      <td>96.0</td>\n",
       "      <td>19.0</td>\n",
       "      <td>0.685714</td>\n",
       "      <td>0.135714</td>\n",
       "    </tr>\n",
       "    <tr>\n",
       "      <th>505009</th>\n",
       "      <td>NaN</td>\n",
       "      <td>NaN</td>\n",
       "      <td>NaN</td>\n",
       "      <td>Park Ridge Care Center</td>\n",
       "      <td>115.0</td>\n",
       "      <td>92.0</td>\n",
       "      <td>20.0</td>\n",
       "      <td>0.800000</td>\n",
       "      <td>0.173913</td>\n",
       "    </tr>\n",
       "    <tr>\n",
       "      <th>505010</th>\n",
       "      <td>NaN</td>\n",
       "      <td>NaN</td>\n",
       "      <td>NaN</td>\n",
       "      <td>Garden Village</td>\n",
       "      <td>101.0</td>\n",
       "      <td>119.0</td>\n",
       "      <td>16.0</td>\n",
       "      <td>1.178218</td>\n",
       "      <td>0.158416</td>\n",
       "    </tr>\n",
       "    <tr>\n",
       "      <th>505016</th>\n",
       "      <td>NaN</td>\n",
       "      <td>NaN</td>\n",
       "      <td>NaN</td>\n",
       "      <td>Grays Harbor Health &amp; Rehabilitation Center</td>\n",
       "      <td>105.0</td>\n",
       "      <td>0.0</td>\n",
       "      <td>0.0</td>\n",
       "      <td>0.000000</td>\n",
       "      <td>0.000000</td>\n",
       "    </tr>\n",
       "    <tr>\n",
       "      <th>505017</th>\n",
       "      <td>NaN</td>\n",
       "      <td>NaN</td>\n",
       "      <td>NaN</td>\n",
       "      <td>Washington Care Center</td>\n",
       "      <td>165.0</td>\n",
       "      <td>74.0</td>\n",
       "      <td>14.0</td>\n",
       "      <td>0.448485</td>\n",
       "      <td>0.084848</td>\n",
       "    </tr>\n",
       "    <tr>\n",
       "      <th>...</th>\n",
       "      <td>...</td>\n",
       "      <td>...</td>\n",
       "      <td>...</td>\n",
       "      <td>...</td>\n",
       "      <td>...</td>\n",
       "      <td>...</td>\n",
       "      <td>...</td>\n",
       "      <td>...</td>\n",
       "      <td>...</td>\n",
       "    </tr>\n",
       "    <tr>\n",
       "      <th>50A260</th>\n",
       "      <td>NaN</td>\n",
       "      <td>NaN</td>\n",
       "      <td>NaN</td>\n",
       "      <td>Fircrest School Pat N</td>\n",
       "      <td>92.0</td>\n",
       "      <td>0.0</td>\n",
       "      <td>0.0</td>\n",
       "      <td>0.000000</td>\n",
       "      <td>0.000000</td>\n",
       "    </tr>\n",
       "    <tr>\n",
       "      <th>50A261</th>\n",
       "      <td>NaN</td>\n",
       "      <td>NaN</td>\n",
       "      <td>NaN</td>\n",
       "      <td>Yakima Valley School</td>\n",
       "      <td>160.0</td>\n",
       "      <td>0.0</td>\n",
       "      <td>0.0</td>\n",
       "      <td>0.000000</td>\n",
       "      <td>0.000000</td>\n",
       "    </tr>\n",
       "    <tr>\n",
       "      <th>50A263</th>\n",
       "      <td>NaN</td>\n",
       "      <td>NaN</td>\n",
       "      <td>NaN</td>\n",
       "      <td>Lakeland Village Nursing Facility</td>\n",
       "      <td>93.0</td>\n",
       "      <td>0.0</td>\n",
       "      <td>0.0</td>\n",
       "      <td>0.000000</td>\n",
       "      <td>0.000000</td>\n",
       "    </tr>\n",
       "    <tr>\n",
       "      <th>NaN</th>\n",
       "      <td>NaN</td>\n",
       "      <td>NaN</td>\n",
       "      <td>NaN</td>\n",
       "      <td>Sunrise Haven</td>\n",
       "      <td>8.0</td>\n",
       "      <td>0.0</td>\n",
       "      <td>0.0</td>\n",
       "      <td>0.000000</td>\n",
       "      <td>0.000000</td>\n",
       "    </tr>\n",
       "    <tr>\n",
       "      <th>NaN</th>\n",
       "      <td>NaN</td>\n",
       "      <td>NaN</td>\n",
       "      <td>NaN</td>\n",
       "      <td>Franke Tobey Jones</td>\n",
       "      <td>43.0</td>\n",
       "      <td>0.0</td>\n",
       "      <td>0.0</td>\n",
       "      <td>0.000000</td>\n",
       "      <td>0.000000</td>\n",
       "    </tr>\n",
       "  </tbody>\n",
       "</table>\n",
       "<p>210 rows × 9 columns</p>\n",
       "</div>"
      ],
      "text/plain": [
       "       facility_name_staff  num_deficiencies  cmp_item  \\\n",
       "505004                 NaN               NaN       NaN   \n",
       "505009                 NaN               NaN       NaN   \n",
       "505010                 NaN               NaN       NaN   \n",
       "505016                 NaN               NaN       NaN   \n",
       "505017                 NaN               NaN       NaN   \n",
       "...                    ...               ...       ...   \n",
       "50A260                 NaN               NaN       NaN   \n",
       "50A261                 NaN               NaN       NaN   \n",
       "50A263                 NaN               NaN       NaN   \n",
       "NaN                    NaN               NaN       NaN   \n",
       "NaN                    NaN               NaN       NaN   \n",
       "\n",
       "                                  facility_name_out   beds  cases  deaths  \\\n",
       "505004     Issaquah Nursing & Rehabilitation Center  140.0   96.0    19.0   \n",
       "505009                       Park Ridge Care Center  115.0   92.0    20.0   \n",
       "505010                               Garden Village  101.0  119.0    16.0   \n",
       "505016  Grays Harbor Health & Rehabilitation Center  105.0    0.0     0.0   \n",
       "505017                       Washington Care Center  165.0   74.0    14.0   \n",
       "...                                             ...    ...    ...     ...   \n",
       "50A260                        Fircrest School Pat N   92.0    0.0     0.0   \n",
       "50A261                         Yakima Valley School  160.0    0.0     0.0   \n",
       "50A263            Lakeland Village Nursing Facility   93.0    0.0     0.0   \n",
       "NaN                                   Sunrise Haven    8.0    0.0     0.0   \n",
       "NaN                              Franke Tobey Jones   43.0    0.0     0.0   \n",
       "\n",
       "        case_rate  death_rate  \n",
       "505004   0.685714    0.135714  \n",
       "505009   0.800000    0.173913  \n",
       "505010   1.178218    0.158416  \n",
       "505016   0.000000    0.000000  \n",
       "505017   0.448485    0.084848  \n",
       "...           ...         ...  \n",
       "50A260   0.000000    0.000000  \n",
       "50A261   0.000000    0.000000  \n",
       "50A263   0.000000    0.000000  \n",
       "NaN      0.000000    0.000000  \n",
       "NaN      0.000000    0.000000  \n",
       "\n",
       "[210 rows x 9 columns]"
      ]
     },
     "execution_count": 34,
     "metadata": {},
     "output_type": "execute_result"
    }
   ],
   "source": [
    "hprd_v_ob = df_summ_hprd.join(df_ob, how='outer', lsuffix='_staff', rsuffix='_out')\n",
    "hprd_v_ob.to_csv('/Users/mvilla/Downloads/oubtreaks_vs_1090.csv')\n",
    "hprd_v_ob"
   ]
  },
  {
   "cell_type": "code",
   "execution_count": null,
   "metadata": {},
   "outputs": [],
   "source": []
  },
  {
   "cell_type": "code",
   "execution_count": null,
   "metadata": {},
   "outputs": [],
   "source": []
  },
  {
   "cell_type": "code",
   "execution_count": null,
   "metadata": {},
   "outputs": [],
   "source": []
  },
  {
   "cell_type": "code",
   "execution_count": null,
   "metadata": {},
   "outputs": [],
   "source": []
  },
  {
   "cell_type": "code",
   "execution_count": null,
   "metadata": {},
   "outputs": [],
   "source": []
  },
  {
   "cell_type": "code",
   "execution_count": 36,
   "metadata": {},
   "outputs": [],
   "source": [
    "df_cmp_staff.to_csv('/Users/mvilla/Downloads/df_cmp_staff.csv', index=False)\n",
    "df_cmp_hprd.to_csv('/Users/mvilla/Downloads/df_cmp_hprd.csv', index=False)\n",
    "df_sod_staff.to_csv('/Users/mvilla/Downloads/df_sod_staff.csv', index=False)\n",
    "df_hprd.to_csv('/Users/mvilla/Downloads/df_hprd.csv', index=False)"
   ]
  },
  {
   "cell_type": "code",
   "execution_count": null,
   "metadata": {},
   "outputs": [],
   "source": []
  }
 ],
 "metadata": {
  "kernelspec": {
   "display_name": "Python 3",
   "language": "python",
   "name": "python3"
  },
  "language_info": {
   "codemirror_mode": {
    "name": "ipython",
    "version": 3
   },
   "file_extension": ".py",
   "mimetype": "text/x-python",
   "name": "python",
   "nbconvert_exporter": "python",
   "pygments_lexer": "ipython3",
   "version": "3.7.7"
  }
 },
 "nbformat": 4,
 "nbformat_minor": 4
}
