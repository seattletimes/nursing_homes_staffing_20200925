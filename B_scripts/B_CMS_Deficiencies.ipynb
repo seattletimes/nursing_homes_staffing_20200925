{
 "cells": [
  {
   "cell_type": "markdown",
   "metadata": {},
   "source": [
    "# What this script does"
   ]
  },
  {
   "cell_type": "markdown",
   "metadata": {},
   "source": [
    "We create a dataset of all deficiencies committed by WA-based nursing homes from 2017."
   ]
  },
  {
   "cell_type": "markdown",
   "metadata": {},
   "source": [
    "# I. SETTINGS"
   ]
  },
  {
   "cell_type": "code",
   "execution_count": 1,
   "metadata": {},
   "outputs": [],
   "source": [
    "import pandas as pd\n",
    "from os import listdir\n",
    "import re"
   ]
  },
  {
   "cell_type": "markdown",
   "metadata": {},
   "source": [
    "# II. IMPORT DATA"
   ]
  },
  {
   "cell_type": "markdown",
   "metadata": {},
   "source": [
    "## Deficienies (CMS)"
   ]
  },
  {
   "cell_type": "code",
   "execution_count": 3,
   "metadata": {},
   "outputs": [
    {
     "name": "stdout",
     "output_type": "stream",
     "text": [
      "text2567_20200701_cms_reg6.xlsx\n",
      "text2567_20200701_cms_reg7.xlsx\n",
      "text2567_20200701_cms_reg10.xlsx\n",
      "text2567_20200701_cms_reg5a.xlsx\n",
      "text2567_20200701_cms_reg1.xlsx\n",
      "text2567_20200701_cms_reg2.xlsx\n",
      "text2567_20200701_cms_reg3.xlsx\n",
      "text2567_20200701_cms_reg5b.xlsx\n",
      "text2567_20200701_cms_reg8.xlsx\n",
      "text2567_20200701_cms_reg4.xlsx\n",
      "text2567_20200701_cms_reg9.xlsx\n"
     ]
    }
   ],
   "source": [
    "# Obtain a list of all the downloaded adult family PDF reports\n",
    "source_path = '../../covid19_nursing_homes_big_data/Full-Statement-of-Deficiencies-July-2020/'\n",
    "file_list = listdir(source_path)\n",
    "\n",
    "# Weed out any files in the folder that are not PDFs\n",
    "file_list = [file for file in file_list if re.search('\\.xlsx$', file)]\n",
    "file_list = pd.Series(file_list)\n",
    "\n",
    "df_sod_orig = pd.DataFrame()\n",
    "\n",
    "for file in file_list:\n",
    "    print(file)\n",
    "    df_temp = pd.read_excel(source_path + file,\n",
    "                            header=0, \n",
    "                            usecols=range(0,13), \n",
    "                            dtype={'facility_id':object, 'zip':object, 'deficiency_tag':object})\n",
    "    df_sod_orig = pd.concat([df_sod_orig, df_temp])\n",
    "    del(df_temp)\n",
    "\n",
    "df_sod_orig = df_sod_orig.reset_index(drop=True)\n",
    "\n",
    "# Save down a CSV version\n",
    "df_sod_orig.to_csv('../../covid19_nursing_homes_big_data/cms_sod_txt.csv', index=False)"
   ]
  },
  {
   "cell_type": "code",
   "execution_count": 4,
   "metadata": {},
   "outputs": [],
   "source": [
    "df_sod_wa = pd.read_csv('/Users/mvilla/Documents/repos/covid19_nursing_homes_big_data/cms_WA/cms_WA.csv')"
   ]
  },
  {
   "cell_type": "code",
   "execution_count": 6,
   "metadata": {},
   "outputs": [
    {
     "data": {
      "text/html": [
       "<div>\n",
       "<style scoped>\n",
       "    .dataframe tbody tr th:only-of-type {\n",
       "        vertical-align: middle;\n",
       "    }\n",
       "\n",
       "    .dataframe tbody tr th {\n",
       "        vertical-align: top;\n",
       "    }\n",
       "\n",
       "    .dataframe thead th {\n",
       "        text-align: right;\n",
       "    }\n",
       "</style>\n",
       "<table border=\"1\" class=\"dataframe\">\n",
       "  <thead>\n",
       "    <tr style=\"text-align: right;\">\n",
       "      <th></th>\n",
       "      <th>facility_name</th>\n",
       "      <th>facility_id</th>\n",
       "      <th>address</th>\n",
       "      <th>city</th>\n",
       "      <th>state</th>\n",
       "      <th>zip</th>\n",
       "      <th>inspection_date</th>\n",
       "      <th>deficiency_tag</th>\n",
       "      <th>scope_severity</th>\n",
       "      <th>complaint</th>\n",
       "      <th>standard</th>\n",
       "      <th>eventid</th>\n",
       "      <th>inspection_text</th>\n",
       "    </tr>\n",
       "  </thead>\n",
       "  <tbody>\n",
       "    <tr>\n",
       "      <th>0</th>\n",
       "      <td>ROGERS HEALTH AND REHABILITATION CENTER</td>\n",
       "      <td>045070</td>\n",
       "      <td>1149 W NEW HOPE RD</td>\n",
       "      <td>ROGERS</td>\n",
       "      <td>AR</td>\n",
       "      <td>72758</td>\n",
       "      <td>04/25/2018</td>\n",
       "      <td>0677</td>\n",
       "      <td>D</td>\n",
       "      <td>1</td>\n",
       "      <td>0</td>\n",
       "      <td>RHC611</td>\n",
       "      <td>**NOTE- TERMS IN BRACKETS HAVE BEEN EDITED TO ...</td>\n",
       "    </tr>\n",
       "    <tr>\n",
       "      <th>1</th>\n",
       "      <td>ROGERS HEALTH AND REHABILITATION CENTER</td>\n",
       "      <td>045070</td>\n",
       "      <td>1149 W NEW HOPE RD</td>\n",
       "      <td>ROGERS</td>\n",
       "      <td>AR</td>\n",
       "      <td>72758</td>\n",
       "      <td>04/25/2018</td>\n",
       "      <td>0688</td>\n",
       "      <td>D</td>\n",
       "      <td>1</td>\n",
       "      <td>0</td>\n",
       "      <td>RHC611</td>\n",
       "      <td>**NOTE- TERMS IN BRACKETS HAVE BEEN EDITED TO ...</td>\n",
       "    </tr>\n",
       "    <tr>\n",
       "      <th>2</th>\n",
       "      <td>ROGERS HEALTH AND REHABILITATION CENTER</td>\n",
       "      <td>045070</td>\n",
       "      <td>1149 W NEW HOPE RD</td>\n",
       "      <td>ROGERS</td>\n",
       "      <td>AR</td>\n",
       "      <td>72758</td>\n",
       "      <td>04/25/2018</td>\n",
       "      <td>0791</td>\n",
       "      <td>D</td>\n",
       "      <td>1</td>\n",
       "      <td>0</td>\n",
       "      <td>RHC611</td>\n",
       "      <td>**NOTE- TERMS IN BRACKETS HAVE BEEN EDITED TO ...</td>\n",
       "    </tr>\n",
       "    <tr>\n",
       "      <th>3</th>\n",
       "      <td>ROGERS HEALTH AND REHABILITATION CENTER</td>\n",
       "      <td>045070</td>\n",
       "      <td>1149 W NEW HOPE RD</td>\n",
       "      <td>ROGERS</td>\n",
       "      <td>AR</td>\n",
       "      <td>72758</td>\n",
       "      <td>05/05/2017</td>\n",
       "      <td>0333</td>\n",
       "      <td>J</td>\n",
       "      <td>1</td>\n",
       "      <td>0</td>\n",
       "      <td>193I11</td>\n",
       "      <td>**NOTE- TERMS IN BRACKETS HAVE BEEN EDITED TO ...</td>\n",
       "    </tr>\n",
       "    <tr>\n",
       "      <th>4</th>\n",
       "      <td>ROGERS HEALTH AND REHABILITATION CENTER</td>\n",
       "      <td>045070</td>\n",
       "      <td>1149 W NEW HOPE RD</td>\n",
       "      <td>ROGERS</td>\n",
       "      <td>AR</td>\n",
       "      <td>72758</td>\n",
       "      <td>06/28/2017</td>\n",
       "      <td>0153</td>\n",
       "      <td>B</td>\n",
       "      <td>1</td>\n",
       "      <td>0</td>\n",
       "      <td>NKZK11</td>\n",
       "      <td>**NOTE- TERMS IN BRACKETS HAVE BEEN EDITED TO ...</td>\n",
       "    </tr>\n",
       "  </tbody>\n",
       "</table>\n",
       "</div>"
      ],
      "text/plain": [
       "                             facility_name facility_id             address  \\\n",
       "0  ROGERS HEALTH AND REHABILITATION CENTER      045070  1149 W NEW HOPE RD   \n",
       "1  ROGERS HEALTH AND REHABILITATION CENTER      045070  1149 W NEW HOPE RD   \n",
       "2  ROGERS HEALTH AND REHABILITATION CENTER      045070  1149 W NEW HOPE RD   \n",
       "3  ROGERS HEALTH AND REHABILITATION CENTER      045070  1149 W NEW HOPE RD   \n",
       "4  ROGERS HEALTH AND REHABILITATION CENTER      045070  1149 W NEW HOPE RD   \n",
       "\n",
       "     city state    zip inspection_date deficiency_tag scope_severity  \\\n",
       "0  ROGERS    AR  72758      04/25/2018           0677              D   \n",
       "1  ROGERS    AR  72758      04/25/2018           0688              D   \n",
       "2  ROGERS    AR  72758      04/25/2018           0791              D   \n",
       "3  ROGERS    AR  72758      05/05/2017           0333              J   \n",
       "4  ROGERS    AR  72758      06/28/2017           0153              B   \n",
       "\n",
       "   complaint  standard eventid  \\\n",
       "0          1         0  RHC611   \n",
       "1          1         0  RHC611   \n",
       "2          1         0  RHC611   \n",
       "3          1         0  193I11   \n",
       "4          1         0  NKZK11   \n",
       "\n",
       "                                     inspection_text  \n",
       "0  **NOTE- TERMS IN BRACKETS HAVE BEEN EDITED TO ...  \n",
       "1  **NOTE- TERMS IN BRACKETS HAVE BEEN EDITED TO ...  \n",
       "2  **NOTE- TERMS IN BRACKETS HAVE BEEN EDITED TO ...  \n",
       "3  **NOTE- TERMS IN BRACKETS HAVE BEEN EDITED TO ...  \n",
       "4  **NOTE- TERMS IN BRACKETS HAVE BEEN EDITED TO ...  "
      ]
     },
     "execution_count": 6,
     "metadata": {},
     "output_type": "execute_result"
    }
   ],
   "source": [
    "df_sod_orig.head()"
   ]
  },
  {
   "cell_type": "code",
   "execution_count": 5,
   "metadata": {},
   "outputs": [
    {
     "data": {
      "text/html": [
       "<div>\n",
       "<style scoped>\n",
       "    .dataframe tbody tr th:only-of-type {\n",
       "        vertical-align: middle;\n",
       "    }\n",
       "\n",
       "    .dataframe tbody tr th {\n",
       "        vertical-align: top;\n",
       "    }\n",
       "\n",
       "    .dataframe thead th {\n",
       "        text-align: right;\n",
       "    }\n",
       "</style>\n",
       "<table border=\"1\" class=\"dataframe\">\n",
       "  <thead>\n",
       "    <tr style=\"text-align: right;\">\n",
       "      <th></th>\n",
       "      <th>facility_name</th>\n",
       "      <th>facility_id</th>\n",
       "      <th>address</th>\n",
       "      <th>city</th>\n",
       "      <th>state</th>\n",
       "      <th>zip</th>\n",
       "      <th>inspection_date</th>\n",
       "      <th>deficiency_tag</th>\n",
       "      <th>scope_severity</th>\n",
       "      <th>complaint</th>\n",
       "      <th>standard</th>\n",
       "      <th>eventid</th>\n",
       "      <th>inspection_text</th>\n",
       "      <th>filedate</th>\n",
       "      <th>cms_region</th>\n",
       "    </tr>\n",
       "  </thead>\n",
       "  <tbody>\n",
       "    <tr>\n",
       "      <th>0</th>\n",
       "      <td>ISSAQUAH NURSING AND REHABILITATION CENTER</td>\n",
       "      <td>505004</td>\n",
       "      <td>805 FRONT STREET</td>\n",
       "      <td>ISSAQUAH</td>\n",
       "      <td>WA</td>\n",
       "      <td>98027</td>\n",
       "      <td>2017-04-26</td>\n",
       "      <td>514</td>\n",
       "      <td>D</td>\n",
       "      <td>1.0</td>\n",
       "      <td>0.0</td>\n",
       "      <td>DY4R11</td>\n",
       "      <td>**NOTE- TERMS IN BRACKETS HAVE BEEN EDITED TO ...</td>\n",
       "      <td>2020-06-01</td>\n",
       "      <td>10</td>\n",
       "    </tr>\n",
       "    <tr>\n",
       "      <th>1</th>\n",
       "      <td>ISSAQUAH NURSING AND REHABILITATION CENTER</td>\n",
       "      <td>505004</td>\n",
       "      <td>805 FRONT STREET</td>\n",
       "      <td>ISSAQUAH</td>\n",
       "      <td>WA</td>\n",
       "      <td>98027</td>\n",
       "      <td>2017-08-29</td>\n",
       "      <td>253</td>\n",
       "      <td>E</td>\n",
       "      <td>0.0</td>\n",
       "      <td>1.0</td>\n",
       "      <td>PWON11</td>\n",
       "      <td>&lt;BR/&gt;Based on observation and interview, the f...</td>\n",
       "      <td>2020-06-01</td>\n",
       "      <td>10</td>\n",
       "    </tr>\n",
       "    <tr>\n",
       "      <th>2</th>\n",
       "      <td>ISSAQUAH NURSING AND REHABILITATION CENTER</td>\n",
       "      <td>505004</td>\n",
       "      <td>805 FRONT STREET</td>\n",
       "      <td>ISSAQUAH</td>\n",
       "      <td>WA</td>\n",
       "      <td>98027</td>\n",
       "      <td>2017-08-29</td>\n",
       "      <td>279</td>\n",
       "      <td>D</td>\n",
       "      <td>0.0</td>\n",
       "      <td>1.0</td>\n",
       "      <td>PWON11</td>\n",
       "      <td>**NOTE- TERMS IN BRACKETS HAVE BEEN EDITED TO ...</td>\n",
       "      <td>2020-06-01</td>\n",
       "      <td>10</td>\n",
       "    </tr>\n",
       "    <tr>\n",
       "      <th>3</th>\n",
       "      <td>ISSAQUAH NURSING AND REHABILITATION CENTER</td>\n",
       "      <td>505004</td>\n",
       "      <td>805 FRONT STREET</td>\n",
       "      <td>ISSAQUAH</td>\n",
       "      <td>WA</td>\n",
       "      <td>98027</td>\n",
       "      <td>2017-08-29</td>\n",
       "      <td>328</td>\n",
       "      <td>D</td>\n",
       "      <td>0.0</td>\n",
       "      <td>1.0</td>\n",
       "      <td>PWON11</td>\n",
       "      <td>**NOTE- TERMS IN BRACKETS HAVE BEEN EDITED TO ...</td>\n",
       "      <td>2020-06-01</td>\n",
       "      <td>10</td>\n",
       "    </tr>\n",
       "    <tr>\n",
       "      <th>4</th>\n",
       "      <td>ISSAQUAH NURSING AND REHABILITATION CENTER</td>\n",
       "      <td>505004</td>\n",
       "      <td>805 FRONT STREET</td>\n",
       "      <td>ISSAQUAH</td>\n",
       "      <td>WA</td>\n",
       "      <td>98027</td>\n",
       "      <td>2017-08-29</td>\n",
       "      <td>329</td>\n",
       "      <td>D</td>\n",
       "      <td>0.0</td>\n",
       "      <td>1.0</td>\n",
       "      <td>PWON11</td>\n",
       "      <td>**NOTE- TERMS IN BRACKETS HAVE BEEN EDITED TO ...</td>\n",
       "      <td>2020-06-01</td>\n",
       "      <td>10</td>\n",
       "    </tr>\n",
       "  </tbody>\n",
       "</table>\n",
       "</div>"
      ],
      "text/plain": [
       "                                facility_name facility_id           address  \\\n",
       "0  ISSAQUAH NURSING AND REHABILITATION CENTER      505004  805 FRONT STREET   \n",
       "1  ISSAQUAH NURSING AND REHABILITATION CENTER      505004  805 FRONT STREET   \n",
       "2  ISSAQUAH NURSING AND REHABILITATION CENTER      505004  805 FRONT STREET   \n",
       "3  ISSAQUAH NURSING AND REHABILITATION CENTER      505004  805 FRONT STREET   \n",
       "4  ISSAQUAH NURSING AND REHABILITATION CENTER      505004  805 FRONT STREET   \n",
       "\n",
       "       city state    zip inspection_date  deficiency_tag scope_severity  \\\n",
       "0  ISSAQUAH    WA  98027      2017-04-26             514              D   \n",
       "1  ISSAQUAH    WA  98027      2017-08-29             253              E   \n",
       "2  ISSAQUAH    WA  98027      2017-08-29             279              D   \n",
       "3  ISSAQUAH    WA  98027      2017-08-29             328              D   \n",
       "4  ISSAQUAH    WA  98027      2017-08-29             329              D   \n",
       "\n",
       "   complaint  standard eventid  \\\n",
       "0        1.0       0.0  DY4R11   \n",
       "1        0.0       1.0  PWON11   \n",
       "2        0.0       1.0  PWON11   \n",
       "3        0.0       1.0  PWON11   \n",
       "4        0.0       1.0  PWON11   \n",
       "\n",
       "                                     inspection_text    filedate  cms_region  \n",
       "0  **NOTE- TERMS IN BRACKETS HAVE BEEN EDITED TO ...  2020-06-01          10  \n",
       "1  <BR/>Based on observation and interview, the f...  2020-06-01          10  \n",
       "2  **NOTE- TERMS IN BRACKETS HAVE BEEN EDITED TO ...  2020-06-01          10  \n",
       "3  **NOTE- TERMS IN BRACKETS HAVE BEEN EDITED TO ...  2020-06-01          10  \n",
       "4  **NOTE- TERMS IN BRACKETS HAVE BEEN EDITED TO ...  2020-06-01          10  "
      ]
     },
     "execution_count": 5,
     "metadata": {},
     "output_type": "execute_result"
    }
   ],
   "source": [
    "df_sod_wa.head()"
   ]
  },
  {
   "cell_type": "markdown",
   "metadata": {},
   "source": [
    "## F-Tags (CMS)"
   ]
  },
  {
   "cell_type": "markdown",
   "metadata": {},
   "source": [
    "The SOD dataframe above contains tha tag code for each defficiency recorded, but it doesn't contain the general group that each of those tag belongs to. The information is containd in [this list of the revised F-tags](https://www.cms.gov/Medicare/Provider-Enrollment-and-Certification/GuidanceforLawsAndRegulations/Downloads/List-of-Revised-FTags.pdf). \n",
    "\n",
    "A version is in this [F-Tag crosswalk Excel file](https://www.cms.gov/Medicare/Provider-Enrollment-and-Certification/GuidanceforLawsAndRegulations/Downloads/F-Tag-Crosswalk.xlsx). This is the data we are importing now and that will be adding to the SOD dataset later in the script:"
   ]
  },
  {
   "cell_type": "code",
   "execution_count": null,
   "metadata": {},
   "outputs": [],
   "source": [
    "df_tags_orig = pd.read_excel('../A_source_data/CMS/LTC FTags_Phase 2_Crosswalk.xlsx',\n",
    "                             sheet_name='Sortable by Tags', usecols='A:H')\n",
    "df_tags_orig.columns = ['tag', 'sqc_tag?', 'tag_title', 'cfr', 'tag_group', 'phase3', 'tag_old', 'moved_text']"
   ]
  },
  {
   "cell_type": "markdown",
   "metadata": {},
   "source": [
    "So now we have a data frame that contains all the deficiencies found in all surveys carried out, and another dataframe that contains detailed information about the tags used to classify those deficiencies. We need to join both dataframes."
   ]
  },
  {
   "cell_type": "code",
   "execution_count": null,
   "metadata": {},
   "outputs": [],
   "source": [
    "df_sod_orig.columns"
   ]
  },
  {
   "cell_type": "markdown",
   "metadata": {},
   "source": [
    "## Severity code descriptions"
   ]
  },
  {
   "cell_type": "markdown",
   "metadata": {},
   "source": [
    "The SOD dataframe also contains codes for the severity of each deficiency, but not a description of the severity level of each of those codes. Those descriptions can be found in the docment [Design for Nursing Home Compare\n",
    "Five-Star Quality Rating System:\n",
    "Technical Users’ Guide](https://www.cms.gov/Medicare/Provider-Enrollment-and-Certification/CertificationandComplianc/downloads/usersguide.pdf). The following mapping is based on that document:"
   ]
  },
  {
   "cell_type": "code",
   "execution_count": null,
   "metadata": {},
   "outputs": [],
   "source": [
    "severity = [['A', 'No actual harm with potential for minimal harm - Isolated'],\n",
    "            ['B', 'No actual harm with potential for minimal harm - Pattern'],\n",
    "            ['C', 'No actual harm with potential for minimal harm - Widespread'],\n",
    "            ['D', 'No actual harm with potential for more than minimal harm that is not immediate jeopardy - Isolated'],\n",
    "            ['E', 'No actual harm with potential for more than minimal harm that is not immediate jeopardy - Pattern'],\n",
    "            ['F', 'No actual harm with potential for more than minimal harm that is not immediate jeopardy - Widespread'],\n",
    "            ['G', 'Actual harm that is not immediate jeopardy - Isolated'],\n",
    "            ['H', 'Actual harm that is not immediate jeopardy - Pattern'],\n",
    "            ['I', 'Actual harm that is not immediate jeopardy - Widespread'],\n",
    "            ['J', 'Immediate jeopardy to resident health or safety - Isolated'],\n",
    "            ['K', 'Immediate jeopardy to resident health or safety - Pattern'],\n",
    "            ['L', 'Immediate jeopardy to resident health or safety - Widespread']]\n",
    "\n",
    "severity = pd.DataFrame(severity, columns=['scope_severity', 'severity_desc'])\n",
    "severity\n",
    "\n",
    "# Consitency test\n",
    "assert set(df_sod_orig['scope_severity']).issubset(set(severity['scope_severity']))"
   ]
  },
  {
   "cell_type": "markdown",
   "metadata": {},
   "source": [
    "# III. REDUCING: WA STATE"
   ]
  },
  {
   "cell_type": "code",
   "execution_count": null,
   "metadata": {},
   "outputs": [],
   "source": [
    "# del(df_sod_wa)\n",
    "df_sod_wa = df_sod_orig.copy()\n",
    "print(df_sod_wa.shape)\n",
    "\n",
    "# Reduce to only WA homes\n",
    "df_sod_wa = df_sod_wa[df_sod_wa['state'] == 'WA']\n",
    "print(df_sod_wa.shape)\n",
    "\n",
    "# Add the severity descriptions\n",
    "df_sod_wa = df_sod_wa.join(severity.set_index('scope_severity'), on='scope_severity', how='left')\n",
    "\n",
    "# Create a proper date column\n",
    "df_sod_wa['inspection_dt'] = pd.to_datetime(df_sod_wa['inspection_date'])\n",
    "\n",
    "# Eliminate unnecesary fields and reset index\n",
    "df_sod_wa = df_sod_wa.drop(['address', 'city', 'state', 'zip', 'inspection_date', 'inspection_text'], axis=1)\n",
    "df_sod_wa = df_sod_wa.drop_duplicates().reset_index(drop=True)\n",
    "\n",
    "# Change some column names into something easier to use\n",
    "df_sod_wa = df_sod_wa.rename(columns={'deficiency_tag':'tag', \n",
    "                                      'scope_severity':'severity_code'})\n",
    "\n",
    "print(df_sod_wa.shape)"
   ]
  },
  {
   "cell_type": "code",
   "execution_count": null,
   "metadata": {},
   "outputs": [],
   "source": [
    "df_sod_wa"
   ]
  },
  {
   "cell_type": "markdown",
   "metadata": {},
   "source": [
    "#### What does each row this dataframe represent?"
   ]
  },
  {
   "cell_type": "markdown",
   "metadata": {},
   "source": [
    "Question: Is each of the 11438 rows a unique combination of facility/survey/deficiency?"
   ]
  },
  {
   "cell_type": "code",
   "execution_count": null,
   "metadata": {},
   "outputs": [],
   "source": [
    "temp = df_sod_wa[['facility_id', 'eventid', 'tag']]\n",
    "assert len(temp.drop_duplicates()) == len(df_sod_wa)\n",
    "del(temp)"
   ]
  },
  {
   "cell_type": "markdown",
   "metadata": {},
   "source": [
    "That is indeed the case. So each row seem to represent:\n",
    "- a single deficiency\n",
    "- found at a particular facility\n",
    "- during a particular event (i.e., inspection or investigation)"
   ]
  },
  {
   "cell_type": "code",
   "execution_count": null,
   "metadata": {},
   "outputs": [],
   "source": [
    "df_sod_wa.nunique()"
   ]
  },
  {
   "cell_type": "markdown",
   "metadata": {},
   "source": [
    "#### What is the tiime period covered by the dataset?"
   ]
  },
  {
   "cell_type": "code",
   "execution_count": null,
   "metadata": {},
   "outputs": [],
   "source": [
    "print(df_sod_wa['inspection_dt'].min())\n",
    "print(df_sod_wa['inspection_dt'].max())"
   ]
  },
  {
   "cell_type": "markdown",
   "metadata": {},
   "source": [
    "# IV. JOINING BOTH DATAFAMES"
   ]
  },
  {
   "cell_type": "code",
   "execution_count": null,
   "metadata": {},
   "outputs": [],
   "source": [
    "df_tags = df_tags_orig.copy()"
   ]
  },
  {
   "cell_type": "code",
   "execution_count": null,
   "metadata": {},
   "outputs": [],
   "source": [
    "# df_sod_wa\n",
    "print('There are', df_sod_wa['tag'].nunique(), 'different tags in df_sod_wa\\n')\n",
    "\n",
    "# df_tags\n",
    "print('There are', df_tags['tag'].nunique(), 'different NEW tags in df_tags')\n",
    "print('There are', df_tags['tag_old'].nunique(), 'different OLD tags in df_tags')"
   ]
  },
  {
   "cell_type": "markdown",
   "metadata": {},
   "source": [
    "## Building a mapping table via tag numbers"
   ]
  },
  {
   "cell_type": "markdown",
   "metadata": {},
   "source": [
    "First of all, based on a comparison of the two documents mentioned earlier ([the list of the revised F-tags](https://www.cms.gov/Medicare/Provider-Enrollment-and-Certification/GuidanceforLawsAndRegulations/Downloads/List-of-Revised-FTags.pdf) and the [F-Tag crosswalk spreadsheet](https://www.cms.gov/Medicare/Provider-Enrollment-and-Certification/GuidanceforLawsAndRegulations/Downloads/F-Tag-Crosswalk.xlsx)) there are a few adjustments that need to be made."
   ]
  },
  {
   "cell_type": "code",
   "execution_count": null,
   "metadata": {},
   "outputs": [],
   "source": [
    "df_tags['tag_group'] = df_tags['tag_group'].str.replace('483.20  Resident Assessments\\n483.70  Administration', '483.70  Administration')\n",
    "df_tags['tag_group'] = df_tags['tag_group'].str.replace('483.10 Resident Rights\\n483.12  Freedom from Abuse, Neglect, and Exploitation', '483.12  Freedom from Abuse, Neglect, and Exploitation')\n",
    "df_tags['tag_group'] = df_tags['tag_group'].str.replace('483.10 Resident Rights\\n483.90  Physical Environment', '483.90  Physical Environment')"
   ]
  },
  {
   "cell_type": "markdown",
   "metadata": {},
   "source": [
    "Now we split the tag group numbers and names."
   ]
  },
  {
   "cell_type": "code",
   "execution_count": null,
   "metadata": {},
   "outputs": [],
   "source": [
    "df_tags['tag_group_num'] = df_tags['tag_group'].str.extract('(\\d+\\.\\d+)')\n",
    "df_tags['tag_group_name'] = df_tags['tag_group'].str.replace('\\d+\\.\\d+', '').str.strip()"
   ]
  },
  {
   "cell_type": "code",
   "execution_count": null,
   "metadata": {},
   "outputs": [],
   "source": [
    "df_tags"
   ]
  },
  {
   "cell_type": "code",
   "execution_count": null,
   "metadata": {},
   "outputs": [],
   "source": [
    "# New tags\n",
    "df_tags_new = pd.DataFrame(df_tags[['tag', 'tag_group_num', 'tag_group_name']])\n",
    "df_tags_new['tag_old_new'] = 'New'\n",
    "\n",
    "# Old tags\n",
    "df_tags_old = pd.DataFrame(df_tags[['tag_old', 'tag_group_num', 'tag_group_name']])\n",
    "df_tags_old = df_tags_old.rename(columns={'tag_old':'tag'})\n",
    "df_tags_old['tag_old_new'] = 'Old'\n",
    "\n",
    "# Old and new together\n",
    "df_tag_map = pd.concat([df_tags_new, df_tags_old], axis=0)\n",
    "\n",
    "# Reduce and tidy up\n",
    "df_tag_map = df_tag_map.dropna(axis=0, how='any')\n",
    "df_tag_map = df_tag_map.drop_duplicates()\n",
    "df_tag_map = df_tag_map.sort_values(['tag', 'tag_group_num'], ascending=True)\n",
    "df_tag_map = df_tag_map.reset_index(drop=True)"
   ]
  },
  {
   "cell_type": "code",
   "execution_count": null,
   "metadata": {},
   "outputs": [],
   "source": [
    "df_tag_map"
   ]
  },
  {
   "cell_type": "code",
   "execution_count": null,
   "metadata": {},
   "outputs": [],
   "source": [
    "df_tag_map['tag_group_name'].value_counts()"
   ]
  },
  {
   "cell_type": "markdown",
   "metadata": {},
   "source": [
    "#### Check and adjust for double classifications"
   ]
  },
  {
   "cell_type": "markdown",
   "metadata": {},
   "source": [
    "Back in 2018, some tags were renamed and/or reclassified. The mapping table below addressses that reclassification, except for one situation: When a tag is not fully \"transported\" into another section, but broken down into components and then those components being moved around. \n",
    "\n",
    "For example, the old tag F309 was belonged to the *Quality of Life* regulatory grouping. When F309 was reviewed, it got broken down into components and one of them was reclassified into the *Behavioral Health Services* group. So now when we do the mapping from old to new tags, each instance of F309 produces two records that are copies of each other, except for the grouping. In other words, we are double counting.\n",
    "\n",
    "Here we adjust to correct that."
   ]
  },
  {
   "cell_type": "code",
   "execution_count": null,
   "metadata": {},
   "outputs": [],
   "source": [
    "# If a tag show up more than once in the mapping table, \n",
    "# it means it was wrongly assigned more than tag group. Let's find those.\n",
    "double_count = df_tag_map['tag'].value_counts()\n",
    "double_count = double_count[double_count > 1].reset_index()\n",
    "double_count = df_tag_map[df_tag_map['tag'].isin(double_count['index'])]\n",
    "\n",
    "double_count"
   ]
  },
  {
   "cell_type": "markdown",
   "metadata": {},
   "source": [
    "We found [an old CMS document](https://www.cms.gov/Regulations-and-Guidance/Guidance/Transmittals/downloads/R5SOM.pdf), that sheds light into the previous grouping of the old codes. The following adjustments are made based on that document:"
   ]
  },
  {
   "cell_type": "code",
   "execution_count": null,
   "metadata": {},
   "outputs": [],
   "source": [
    "df_tag_map.loc[df_tag_map['tag']=='F155', ['tag_group_num','tag_group_name']] = ['483.10','Resident Rights']\n",
    "df_tag_map.loc[df_tag_map['tag']=='F164', ['tag_group_num','tag_group_name']] = ['483.10','Resident Rights']\n",
    "df_tag_map.loc[df_tag_map['tag']=='F280', ['tag_group_num','tag_group_name']] = ['483.10','Resident Rights']\n",
    "df_tag_map.loc[df_tag_map['tag']=='F226', ['tag_group_num','tag_group_name']] = ['483.12','Freedom from Abuse, Neglect, and Exploitation']\n",
    "df_tag_map.loc[df_tag_map['tag']=='F279', ['tag_group_num','tag_group_name']] = ['483.21','Comprehensive Resident Centered Care Plans']\n",
    "df_tag_map.loc[df_tag_map['tag']=='F309', ['tag_group_num','tag_group_name']] = ['483.25','Quality of Care']\n",
    "df_tag_map.loc[df_tag_map['tag']=='F461', ['tag_group_num','tag_group_name']] = ['483.90','Physical Environment']\n",
    "df_tag_map.loc[df_tag_map['tag']=='F498', ['tag_group_num','tag_group_name']] = ['483.35','Nursing Services']\n",
    "\n",
    "df_tag_map = df_tag_map.drop_duplicates().reset_index(drop=True)"
   ]
  },
  {
   "cell_type": "code",
   "execution_count": null,
   "metadata": {},
   "outputs": [],
   "source": [
    "df_tag_map"
   ]
  },
  {
   "cell_type": "code",
   "execution_count": null,
   "metadata": {},
   "outputs": [],
   "source": [
    "# After our reclassification, let's see if there remain any tags that are assigned to more than group.\n",
    "double_count = df_tag_map['tag'].value_counts()\n",
    "double_count = double_count[double_count > 1].reset_index()\n",
    "double_count = df_tag_map[df_tag_map['tag'].isin(double_count['index'])]\n",
    "double_count = double_count.drop_duplicates()\n",
    "\n",
    "double_count"
   ]
  },
  {
   "cell_type": "markdown",
   "metadata": {},
   "source": [
    "Just one. We checked, and it is not present in the ***df_sod_wa***, so we let it be."
   ]
  },
  {
   "cell_type": "markdown",
   "metadata": {},
   "source": [
    "Now we standardize some of the names of the tag_group_name, to make them consistent with the way they are named in the WA state regulation"
   ]
  },
  {
   "cell_type": "code",
   "execution_count": null,
   "metadata": {},
   "outputs": [],
   "source": [
    "df_tag_map['tag_group_name'] = df_tag_map['tag_group_name'].str.replace('Resident Rights.*', 'Resident Rights')\n",
    "df_tag_map['tag_group_name'] = df_tag_map['tag_group_name'].str.replace('Admission, Transfer, and Discharge', 'Admission, Transfer and Discharge')\n",
    "df_tag_map['tag_group_name'] = df_tag_map['tag_group_name'].str.replace('Resident Assessments.*', 'Resident Assessment and Plan of Care')\n",
    "df_tag_map['tag_group_name'] = df_tag_map['tag_group_name'].str.replace('Specialized Rehabilitative Services', 'Specialized Habilitative and Rehabilitative Services')\n",
    "df_tag_map['tag_group_name'] = df_tag_map['tag_group_name'].str.replace('Food and Nutrition Services', 'Food Services Areas')\n",
    "\n",
    "# Reduce and tidy up\n",
    "df_tag_map = df_tag_map.drop_duplicates().reset_index(drop=True)"
   ]
  },
  {
   "cell_type": "code",
   "execution_count": null,
   "metadata": {},
   "outputs": [],
   "source": [
    "df_tag_map"
   ]
  },
  {
   "cell_type": "code",
   "execution_count": null,
   "metadata": {},
   "outputs": [],
   "source": [
    "df_tag_map['tag_group_name'].value_counts(dropna=False)"
   ]
  },
  {
   "cell_type": "markdown",
   "metadata": {},
   "source": [
    "## Joining"
   ]
  },
  {
   "cell_type": "markdown",
   "metadata": {},
   "source": [
    "We now have a mapping table ready.\n",
    "Now let's make sure that the tag number columns in each of the two datasets we will join have consistent values."
   ]
  },
  {
   "cell_type": "code",
   "execution_count": null,
   "metadata": {},
   "outputs": [],
   "source": [
    "print('Unique tags in df_sod_wa =', df_sod_wa['tag'].nunique())\n",
    "print(df_sod_wa['tag'].unique())\n",
    "print('\\r')\n",
    "\n",
    "print('Unique tags in df_tag_map =', df_tag_map['tag'].nunique())\n",
    "print(df_tag_map['tag'].unique())"
   ]
  },
  {
   "cell_type": "markdown",
   "metadata": {},
   "source": [
    "In *df_sod_wa*, instead of an 'F', the tags start with a '0'. Here we make them compatible."
   ]
  },
  {
   "cell_type": "code",
   "execution_count": null,
   "metadata": {},
   "outputs": [],
   "source": [
    "df_tag_map['tag'] = df_tag_map['tag'].str.replace('F', '0')\n",
    "df_tag_map['tag'] = df_tag_map['tag'].str.replace('\\n', '')\n",
    "\n",
    "print(len(set(df_sod_wa['tag']).intersection(set(df_tag_map['tag']))))"
   ]
  },
  {
   "cell_type": "markdown",
   "metadata": {},
   "source": [
    "Before"
   ]
  },
  {
   "cell_type": "code",
   "execution_count": null,
   "metadata": {},
   "outputs": [],
   "source": [
    "df_sod_wa"
   ]
  },
  {
   "cell_type": "code",
   "execution_count": null,
   "metadata": {},
   "outputs": [],
   "source": [
    "df_sod_wa = df_sod_wa.join(df_tag_map.set_index('tag'), on='tag', how='left')"
   ]
  },
  {
   "cell_type": "markdown",
   "metadata": {},
   "source": [
    "After"
   ]
  },
  {
   "cell_type": "code",
   "execution_count": null,
   "metadata": {},
   "outputs": [],
   "source": [
    "df_sod_wa"
   ]
  },
  {
   "cell_type": "markdown",
   "metadata": {},
   "source": [
    "Reorder columns"
   ]
  },
  {
   "cell_type": "code",
   "execution_count": null,
   "metadata": {},
   "outputs": [],
   "source": [
    "df_sod_wa = df_sod_wa[['facility_name', 'facility_id',\n",
    "                       'eventid', 'inspection_dt', \n",
    "                       'tag', 'tag_group_num', 'tag_group_name', 'tag_old_new', \n",
    "                       'severity_code', 'severity_desc',\n",
    "                       'complaint', 'standard']]"
   ]
  },
  {
   "cell_type": "markdown",
   "metadata": {},
   "source": [
    "# V. EXPORTING RESULTS"
   ]
  },
  {
   "cell_type": "code",
   "execution_count": null,
   "metadata": {},
   "outputs": [],
   "source": [
    "df_sod_wa.to_csv('../C_output_data/sod_wa.csv', index=False)"
   ]
  }
 ],
 "metadata": {
  "kernelspec": {
   "display_name": "Python 3",
   "language": "python",
   "name": "python3"
  },
  "language_info": {
   "codemirror_mode": {
    "name": "ipython",
    "version": 3
   },
   "file_extension": ".py",
   "mimetype": "text/x-python",
   "name": "python",
   "nbconvert_exporter": "python",
   "pygments_lexer": "ipython3",
   "version": "3.7.7"
  }
 },
 "nbformat": 4,
 "nbformat_minor": 4
}
